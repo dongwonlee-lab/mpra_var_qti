{
 "cells": [
  {
   "cell_type": "markdown",
   "id": "854988f0-07af-496c-a476-cde9290b4ee3",
   "metadata": {},
   "source": [
    "# MPRAnalyze Merge Allelic Comparison Results"
   ]
  },
  {
   "cell_type": "code",
   "execution_count": 1,
   "id": "e25eb91e-ed1b-40c5-a3d7-293a1a89a935",
   "metadata": {
    "execution": {
     "iopub.execute_input": "2025-03-21T00:46:27.519160Z",
     "iopub.status.busy": "2025-03-21T00:46:27.515552Z",
     "iopub.status.idle": "2025-03-21T00:46:28.661194Z",
     "shell.execute_reply": "2025-03-21T00:46:28.657561Z"
    }
   },
   "outputs": [
    {
     "name": "stderr",
     "output_type": "stream",
     "text": [
      "── \u001b[1mAttaching core tidyverse packages\u001b[22m ──────────────────────── tidyverse 2.0.0 ──\n",
      "\u001b[32m✔\u001b[39m \u001b[34mdplyr    \u001b[39m 1.1.4     \u001b[32m✔\u001b[39m \u001b[34mreadr    \u001b[39m 2.1.5\n",
      "\u001b[32m✔\u001b[39m \u001b[34mforcats  \u001b[39m 1.0.0     \u001b[32m✔\u001b[39m \u001b[34mstringr  \u001b[39m 1.5.1\n",
      "\u001b[32m✔\u001b[39m \u001b[34mggplot2  \u001b[39m 3.5.1     \u001b[32m✔\u001b[39m \u001b[34mtibble   \u001b[39m 3.2.1\n",
      "\u001b[32m✔\u001b[39m \u001b[34mlubridate\u001b[39m 1.9.3     \u001b[32m✔\u001b[39m \u001b[34mtidyr    \u001b[39m 1.3.1\n",
      "\u001b[32m✔\u001b[39m \u001b[34mpurrr    \u001b[39m 1.0.2     \n",
      "── \u001b[1mConflicts\u001b[22m ────────────────────────────────────────── tidyverse_conflicts() ──\n",
      "\u001b[31m✖\u001b[39m \u001b[34mdplyr\u001b[39m::\u001b[32mfilter()\u001b[39m masks \u001b[34mstats\u001b[39m::filter()\n",
      "\u001b[31m✖\u001b[39m \u001b[34mdplyr\u001b[39m::\u001b[32mlag()\u001b[39m    masks \u001b[34mstats\u001b[39m::lag()\n",
      "\u001b[36mℹ\u001b[39m Use the conflicted package (\u001b[3m\u001b[34m<http://conflicted.r-lib.org/>\u001b[39m\u001b[23m) to force all conflicts to become errors\n"
     ]
    }
   ],
   "source": [
    "library(tidyverse)"
   ]
  },
  {
   "cell_type": "markdown",
   "id": "726f965b-6949-429b-b783-6d9b95ba86db",
   "metadata": {},
   "source": [
    "## Pool1"
   ]
  },
  {
   "cell_type": "code",
   "execution_count": 2,
   "id": "de0ac6d5-963a-4747-bc24-0be27d49b2f1",
   "metadata": {
    "execution": {
     "iopub.execute_input": "2025-03-21T00:46:28.703876Z",
     "iopub.status.busy": "2025-03-21T00:46:28.664287Z",
     "iopub.status.idle": "2025-03-21T00:46:28.729423Z",
     "shell.execute_reply": "2025-03-21T00:46:28.727357Z"
    }
   },
   "outputs": [],
   "source": [
    "# find all merged files for pool 1\n",
    "list_results <- list.files(path = \"../results/pool1\", recursive = FALSE,\n",
    "                            pattern = \"pool1_mpranalyze_allelic_results_[0-9]\", \n",
    "                            full.names = TRUE)"
   ]
  },
  {
   "cell_type": "code",
   "execution_count": 3,
   "id": "d93a6369-1432-4499-bd9a-0f8876225fe4",
   "metadata": {
    "execution": {
     "iopub.execute_input": "2025-03-21T00:46:28.734022Z",
     "iopub.status.busy": "2025-03-21T00:46:28.732415Z",
     "iopub.status.idle": "2025-03-21T00:46:28.762513Z",
     "shell.execute_reply": "2025-03-21T00:46:28.760804Z"
    }
   },
   "outputs": [
    {
     "data": {
      "text/html": [
       "<style>\n",
       ".list-inline {list-style: none; margin:0; padding: 0}\n",
       ".list-inline>li {display: inline-block}\n",
       ".list-inline>li:not(:last-child)::after {content: \"\\00b7\"; padding: 0 .5ex}\n",
       "</style>\n",
       "<ol class=list-inline><li>'../results/pool1/pool1_mpranalyze_allelic_results_1-10.txt'</li><li>'../results/pool1/pool1_mpranalyze_allelic_results_101-110.txt'</li><li>'../results/pool1/pool1_mpranalyze_allelic_results_11-20.txt'</li><li>'../results/pool1/pool1_mpranalyze_allelic_results_111-120.txt'</li><li>'../results/pool1/pool1_mpranalyze_allelic_results_121-130.txt'</li><li>'../results/pool1/pool1_mpranalyze_allelic_results_131-140.txt'</li><li>'../results/pool1/pool1_mpranalyze_allelic_results_141-150.txt'</li><li>'../results/pool1/pool1_mpranalyze_allelic_results_151-160.txt'</li><li>'../results/pool1/pool1_mpranalyze_allelic_results_161-170.txt'</li><li>'../results/pool1/pool1_mpranalyze_allelic_results_171-180.txt'</li><li>'../results/pool1/pool1_mpranalyze_allelic_results_181-190.txt'</li><li>'../results/pool1/pool1_mpranalyze_allelic_results_191-200.txt'</li><li>'../results/pool1/pool1_mpranalyze_allelic_results_201-210.txt'</li><li>'../results/pool1/pool1_mpranalyze_allelic_results_21-30.txt'</li><li>'../results/pool1/pool1_mpranalyze_allelic_results_211-220.txt'</li><li>'../results/pool1/pool1_mpranalyze_allelic_results_221-230.txt'</li><li>'../results/pool1/pool1_mpranalyze_allelic_results_231-240.txt'</li><li>'../results/pool1/pool1_mpranalyze_allelic_results_241-250.txt'</li><li>'../results/pool1/pool1_mpranalyze_allelic_results_251-260.txt'</li><li>'../results/pool1/pool1_mpranalyze_allelic_results_261-270.txt'</li><li>'../results/pool1/pool1_mpranalyze_allelic_results_271-280.txt'</li><li>'../results/pool1/pool1_mpranalyze_allelic_results_281-290.txt'</li><li>'../results/pool1/pool1_mpranalyze_allelic_results_291-300.txt'</li><li>'../results/pool1/pool1_mpranalyze_allelic_results_301-310.txt'</li><li>'../results/pool1/pool1_mpranalyze_allelic_results_31-40.txt'</li><li>'../results/pool1/pool1_mpranalyze_allelic_results_311-320.txt'</li><li>'../results/pool1/pool1_mpranalyze_allelic_results_321-330.txt'</li><li>'../results/pool1/pool1_mpranalyze_allelic_results_331-340.txt'</li><li>'../results/pool1/pool1_mpranalyze_allelic_results_341-350.txt'</li><li>'../results/pool1/pool1_mpranalyze_allelic_results_351-360.txt'</li><li>'../results/pool1/pool1_mpranalyze_allelic_results_361-370.txt'</li><li>'../results/pool1/pool1_mpranalyze_allelic_results_371-380.txt'</li><li>'../results/pool1/pool1_mpranalyze_allelic_results_381-390.txt'</li><li>'../results/pool1/pool1_mpranalyze_allelic_results_391-400.txt'</li><li>'../results/pool1/pool1_mpranalyze_allelic_results_401-410.txt'</li><li>'../results/pool1/pool1_mpranalyze_allelic_results_41-50.txt'</li><li>'../results/pool1/pool1_mpranalyze_allelic_results_411-420.txt'</li><li>'../results/pool1/pool1_mpranalyze_allelic_results_421-430.txt'</li><li>'../results/pool1/pool1_mpranalyze_allelic_results_431-440.txt'</li><li>'../results/pool1/pool1_mpranalyze_allelic_results_441-450.txt'</li><li>'../results/pool1/pool1_mpranalyze_allelic_results_451-460.txt'</li><li>'../results/pool1/pool1_mpranalyze_allelic_results_461-470.txt'</li><li>'../results/pool1/pool1_mpranalyze_allelic_results_471-480.txt'</li><li>'../results/pool1/pool1_mpranalyze_allelic_results_481-490.txt'</li><li>'../results/pool1/pool1_mpranalyze_allelic_results_491-500.txt'</li><li>'../results/pool1/pool1_mpranalyze_allelic_results_501-509.txt'</li><li>'../results/pool1/pool1_mpranalyze_allelic_results_51-60.txt'</li><li>'../results/pool1/pool1_mpranalyze_allelic_results_61-70.txt'</li><li>'../results/pool1/pool1_mpranalyze_allelic_results_71-80.txt'</li><li>'../results/pool1/pool1_mpranalyze_allelic_results_81-90.txt'</li><li>'../results/pool1/pool1_mpranalyze_allelic_results_91-100.txt'</li></ol>\n"
      ],
      "text/latex": [
       "\\begin{enumerate*}\n",
       "\\item '../results/pool1/pool1\\_mpranalyze\\_allelic\\_results\\_1-10.txt'\n",
       "\\item '../results/pool1/pool1\\_mpranalyze\\_allelic\\_results\\_101-110.txt'\n",
       "\\item '../results/pool1/pool1\\_mpranalyze\\_allelic\\_results\\_11-20.txt'\n",
       "\\item '../results/pool1/pool1\\_mpranalyze\\_allelic\\_results\\_111-120.txt'\n",
       "\\item '../results/pool1/pool1\\_mpranalyze\\_allelic\\_results\\_121-130.txt'\n",
       "\\item '../results/pool1/pool1\\_mpranalyze\\_allelic\\_results\\_131-140.txt'\n",
       "\\item '../results/pool1/pool1\\_mpranalyze\\_allelic\\_results\\_141-150.txt'\n",
       "\\item '../results/pool1/pool1\\_mpranalyze\\_allelic\\_results\\_151-160.txt'\n",
       "\\item '../results/pool1/pool1\\_mpranalyze\\_allelic\\_results\\_161-170.txt'\n",
       "\\item '../results/pool1/pool1\\_mpranalyze\\_allelic\\_results\\_171-180.txt'\n",
       "\\item '../results/pool1/pool1\\_mpranalyze\\_allelic\\_results\\_181-190.txt'\n",
       "\\item '../results/pool1/pool1\\_mpranalyze\\_allelic\\_results\\_191-200.txt'\n",
       "\\item '../results/pool1/pool1\\_mpranalyze\\_allelic\\_results\\_201-210.txt'\n",
       "\\item '../results/pool1/pool1\\_mpranalyze\\_allelic\\_results\\_21-30.txt'\n",
       "\\item '../results/pool1/pool1\\_mpranalyze\\_allelic\\_results\\_211-220.txt'\n",
       "\\item '../results/pool1/pool1\\_mpranalyze\\_allelic\\_results\\_221-230.txt'\n",
       "\\item '../results/pool1/pool1\\_mpranalyze\\_allelic\\_results\\_231-240.txt'\n",
       "\\item '../results/pool1/pool1\\_mpranalyze\\_allelic\\_results\\_241-250.txt'\n",
       "\\item '../results/pool1/pool1\\_mpranalyze\\_allelic\\_results\\_251-260.txt'\n",
       "\\item '../results/pool1/pool1\\_mpranalyze\\_allelic\\_results\\_261-270.txt'\n",
       "\\item '../results/pool1/pool1\\_mpranalyze\\_allelic\\_results\\_271-280.txt'\n",
       "\\item '../results/pool1/pool1\\_mpranalyze\\_allelic\\_results\\_281-290.txt'\n",
       "\\item '../results/pool1/pool1\\_mpranalyze\\_allelic\\_results\\_291-300.txt'\n",
       "\\item '../results/pool1/pool1\\_mpranalyze\\_allelic\\_results\\_301-310.txt'\n",
       "\\item '../results/pool1/pool1\\_mpranalyze\\_allelic\\_results\\_31-40.txt'\n",
       "\\item '../results/pool1/pool1\\_mpranalyze\\_allelic\\_results\\_311-320.txt'\n",
       "\\item '../results/pool1/pool1\\_mpranalyze\\_allelic\\_results\\_321-330.txt'\n",
       "\\item '../results/pool1/pool1\\_mpranalyze\\_allelic\\_results\\_331-340.txt'\n",
       "\\item '../results/pool1/pool1\\_mpranalyze\\_allelic\\_results\\_341-350.txt'\n",
       "\\item '../results/pool1/pool1\\_mpranalyze\\_allelic\\_results\\_351-360.txt'\n",
       "\\item '../results/pool1/pool1\\_mpranalyze\\_allelic\\_results\\_361-370.txt'\n",
       "\\item '../results/pool1/pool1\\_mpranalyze\\_allelic\\_results\\_371-380.txt'\n",
       "\\item '../results/pool1/pool1\\_mpranalyze\\_allelic\\_results\\_381-390.txt'\n",
       "\\item '../results/pool1/pool1\\_mpranalyze\\_allelic\\_results\\_391-400.txt'\n",
       "\\item '../results/pool1/pool1\\_mpranalyze\\_allelic\\_results\\_401-410.txt'\n",
       "\\item '../results/pool1/pool1\\_mpranalyze\\_allelic\\_results\\_41-50.txt'\n",
       "\\item '../results/pool1/pool1\\_mpranalyze\\_allelic\\_results\\_411-420.txt'\n",
       "\\item '../results/pool1/pool1\\_mpranalyze\\_allelic\\_results\\_421-430.txt'\n",
       "\\item '../results/pool1/pool1\\_mpranalyze\\_allelic\\_results\\_431-440.txt'\n",
       "\\item '../results/pool1/pool1\\_mpranalyze\\_allelic\\_results\\_441-450.txt'\n",
       "\\item '../results/pool1/pool1\\_mpranalyze\\_allelic\\_results\\_451-460.txt'\n",
       "\\item '../results/pool1/pool1\\_mpranalyze\\_allelic\\_results\\_461-470.txt'\n",
       "\\item '../results/pool1/pool1\\_mpranalyze\\_allelic\\_results\\_471-480.txt'\n",
       "\\item '../results/pool1/pool1\\_mpranalyze\\_allelic\\_results\\_481-490.txt'\n",
       "\\item '../results/pool1/pool1\\_mpranalyze\\_allelic\\_results\\_491-500.txt'\n",
       "\\item '../results/pool1/pool1\\_mpranalyze\\_allelic\\_results\\_501-509.txt'\n",
       "\\item '../results/pool1/pool1\\_mpranalyze\\_allelic\\_results\\_51-60.txt'\n",
       "\\item '../results/pool1/pool1\\_mpranalyze\\_allelic\\_results\\_61-70.txt'\n",
       "\\item '../results/pool1/pool1\\_mpranalyze\\_allelic\\_results\\_71-80.txt'\n",
       "\\item '../results/pool1/pool1\\_mpranalyze\\_allelic\\_results\\_81-90.txt'\n",
       "\\item '../results/pool1/pool1\\_mpranalyze\\_allelic\\_results\\_91-100.txt'\n",
       "\\end{enumerate*}\n"
      ],
      "text/markdown": [
       "1. '../results/pool1/pool1_mpranalyze_allelic_results_1-10.txt'\n",
       "2. '../results/pool1/pool1_mpranalyze_allelic_results_101-110.txt'\n",
       "3. '../results/pool1/pool1_mpranalyze_allelic_results_11-20.txt'\n",
       "4. '../results/pool1/pool1_mpranalyze_allelic_results_111-120.txt'\n",
       "5. '../results/pool1/pool1_mpranalyze_allelic_results_121-130.txt'\n",
       "6. '../results/pool1/pool1_mpranalyze_allelic_results_131-140.txt'\n",
       "7. '../results/pool1/pool1_mpranalyze_allelic_results_141-150.txt'\n",
       "8. '../results/pool1/pool1_mpranalyze_allelic_results_151-160.txt'\n",
       "9. '../results/pool1/pool1_mpranalyze_allelic_results_161-170.txt'\n",
       "10. '../results/pool1/pool1_mpranalyze_allelic_results_171-180.txt'\n",
       "11. '../results/pool1/pool1_mpranalyze_allelic_results_181-190.txt'\n",
       "12. '../results/pool1/pool1_mpranalyze_allelic_results_191-200.txt'\n",
       "13. '../results/pool1/pool1_mpranalyze_allelic_results_201-210.txt'\n",
       "14. '../results/pool1/pool1_mpranalyze_allelic_results_21-30.txt'\n",
       "15. '../results/pool1/pool1_mpranalyze_allelic_results_211-220.txt'\n",
       "16. '../results/pool1/pool1_mpranalyze_allelic_results_221-230.txt'\n",
       "17. '../results/pool1/pool1_mpranalyze_allelic_results_231-240.txt'\n",
       "18. '../results/pool1/pool1_mpranalyze_allelic_results_241-250.txt'\n",
       "19. '../results/pool1/pool1_mpranalyze_allelic_results_251-260.txt'\n",
       "20. '../results/pool1/pool1_mpranalyze_allelic_results_261-270.txt'\n",
       "21. '../results/pool1/pool1_mpranalyze_allelic_results_271-280.txt'\n",
       "22. '../results/pool1/pool1_mpranalyze_allelic_results_281-290.txt'\n",
       "23. '../results/pool1/pool1_mpranalyze_allelic_results_291-300.txt'\n",
       "24. '../results/pool1/pool1_mpranalyze_allelic_results_301-310.txt'\n",
       "25. '../results/pool1/pool1_mpranalyze_allelic_results_31-40.txt'\n",
       "26. '../results/pool1/pool1_mpranalyze_allelic_results_311-320.txt'\n",
       "27. '../results/pool1/pool1_mpranalyze_allelic_results_321-330.txt'\n",
       "28. '../results/pool1/pool1_mpranalyze_allelic_results_331-340.txt'\n",
       "29. '../results/pool1/pool1_mpranalyze_allelic_results_341-350.txt'\n",
       "30. '../results/pool1/pool1_mpranalyze_allelic_results_351-360.txt'\n",
       "31. '../results/pool1/pool1_mpranalyze_allelic_results_361-370.txt'\n",
       "32. '../results/pool1/pool1_mpranalyze_allelic_results_371-380.txt'\n",
       "33. '../results/pool1/pool1_mpranalyze_allelic_results_381-390.txt'\n",
       "34. '../results/pool1/pool1_mpranalyze_allelic_results_391-400.txt'\n",
       "35. '../results/pool1/pool1_mpranalyze_allelic_results_401-410.txt'\n",
       "36. '../results/pool1/pool1_mpranalyze_allelic_results_41-50.txt'\n",
       "37. '../results/pool1/pool1_mpranalyze_allelic_results_411-420.txt'\n",
       "38. '../results/pool1/pool1_mpranalyze_allelic_results_421-430.txt'\n",
       "39. '../results/pool1/pool1_mpranalyze_allelic_results_431-440.txt'\n",
       "40. '../results/pool1/pool1_mpranalyze_allelic_results_441-450.txt'\n",
       "41. '../results/pool1/pool1_mpranalyze_allelic_results_451-460.txt'\n",
       "42. '../results/pool1/pool1_mpranalyze_allelic_results_461-470.txt'\n",
       "43. '../results/pool1/pool1_mpranalyze_allelic_results_471-480.txt'\n",
       "44. '../results/pool1/pool1_mpranalyze_allelic_results_481-490.txt'\n",
       "45. '../results/pool1/pool1_mpranalyze_allelic_results_491-500.txt'\n",
       "46. '../results/pool1/pool1_mpranalyze_allelic_results_501-509.txt'\n",
       "47. '../results/pool1/pool1_mpranalyze_allelic_results_51-60.txt'\n",
       "48. '../results/pool1/pool1_mpranalyze_allelic_results_61-70.txt'\n",
       "49. '../results/pool1/pool1_mpranalyze_allelic_results_71-80.txt'\n",
       "50. '../results/pool1/pool1_mpranalyze_allelic_results_81-90.txt'\n",
       "51. '../results/pool1/pool1_mpranalyze_allelic_results_91-100.txt'\n",
       "\n",
       "\n"
      ],
      "text/plain": [
       " [1] \"../results/pool1/pool1_mpranalyze_allelic_results_1-10.txt\"   \n",
       " [2] \"../results/pool1/pool1_mpranalyze_allelic_results_101-110.txt\"\n",
       " [3] \"../results/pool1/pool1_mpranalyze_allelic_results_11-20.txt\"  \n",
       " [4] \"../results/pool1/pool1_mpranalyze_allelic_results_111-120.txt\"\n",
       " [5] \"../results/pool1/pool1_mpranalyze_allelic_results_121-130.txt\"\n",
       " [6] \"../results/pool1/pool1_mpranalyze_allelic_results_131-140.txt\"\n",
       " [7] \"../results/pool1/pool1_mpranalyze_allelic_results_141-150.txt\"\n",
       " [8] \"../results/pool1/pool1_mpranalyze_allelic_results_151-160.txt\"\n",
       " [9] \"../results/pool1/pool1_mpranalyze_allelic_results_161-170.txt\"\n",
       "[10] \"../results/pool1/pool1_mpranalyze_allelic_results_171-180.txt\"\n",
       "[11] \"../results/pool1/pool1_mpranalyze_allelic_results_181-190.txt\"\n",
       "[12] \"../results/pool1/pool1_mpranalyze_allelic_results_191-200.txt\"\n",
       "[13] \"../results/pool1/pool1_mpranalyze_allelic_results_201-210.txt\"\n",
       "[14] \"../results/pool1/pool1_mpranalyze_allelic_results_21-30.txt\"  \n",
       "[15] \"../results/pool1/pool1_mpranalyze_allelic_results_211-220.txt\"\n",
       "[16] \"../results/pool1/pool1_mpranalyze_allelic_results_221-230.txt\"\n",
       "[17] \"../results/pool1/pool1_mpranalyze_allelic_results_231-240.txt\"\n",
       "[18] \"../results/pool1/pool1_mpranalyze_allelic_results_241-250.txt\"\n",
       "[19] \"../results/pool1/pool1_mpranalyze_allelic_results_251-260.txt\"\n",
       "[20] \"../results/pool1/pool1_mpranalyze_allelic_results_261-270.txt\"\n",
       "[21] \"../results/pool1/pool1_mpranalyze_allelic_results_271-280.txt\"\n",
       "[22] \"../results/pool1/pool1_mpranalyze_allelic_results_281-290.txt\"\n",
       "[23] \"../results/pool1/pool1_mpranalyze_allelic_results_291-300.txt\"\n",
       "[24] \"../results/pool1/pool1_mpranalyze_allelic_results_301-310.txt\"\n",
       "[25] \"../results/pool1/pool1_mpranalyze_allelic_results_31-40.txt\"  \n",
       "[26] \"../results/pool1/pool1_mpranalyze_allelic_results_311-320.txt\"\n",
       "[27] \"../results/pool1/pool1_mpranalyze_allelic_results_321-330.txt\"\n",
       "[28] \"../results/pool1/pool1_mpranalyze_allelic_results_331-340.txt\"\n",
       "[29] \"../results/pool1/pool1_mpranalyze_allelic_results_341-350.txt\"\n",
       "[30] \"../results/pool1/pool1_mpranalyze_allelic_results_351-360.txt\"\n",
       "[31] \"../results/pool1/pool1_mpranalyze_allelic_results_361-370.txt\"\n",
       "[32] \"../results/pool1/pool1_mpranalyze_allelic_results_371-380.txt\"\n",
       "[33] \"../results/pool1/pool1_mpranalyze_allelic_results_381-390.txt\"\n",
       "[34] \"../results/pool1/pool1_mpranalyze_allelic_results_391-400.txt\"\n",
       "[35] \"../results/pool1/pool1_mpranalyze_allelic_results_401-410.txt\"\n",
       "[36] \"../results/pool1/pool1_mpranalyze_allelic_results_41-50.txt\"  \n",
       "[37] \"../results/pool1/pool1_mpranalyze_allelic_results_411-420.txt\"\n",
       "[38] \"../results/pool1/pool1_mpranalyze_allelic_results_421-430.txt\"\n",
       "[39] \"../results/pool1/pool1_mpranalyze_allelic_results_431-440.txt\"\n",
       "[40] \"../results/pool1/pool1_mpranalyze_allelic_results_441-450.txt\"\n",
       "[41] \"../results/pool1/pool1_mpranalyze_allelic_results_451-460.txt\"\n",
       "[42] \"../results/pool1/pool1_mpranalyze_allelic_results_461-470.txt\"\n",
       "[43] \"../results/pool1/pool1_mpranalyze_allelic_results_471-480.txt\"\n",
       "[44] \"../results/pool1/pool1_mpranalyze_allelic_results_481-490.txt\"\n",
       "[45] \"../results/pool1/pool1_mpranalyze_allelic_results_491-500.txt\"\n",
       "[46] \"../results/pool1/pool1_mpranalyze_allelic_results_501-509.txt\"\n",
       "[47] \"../results/pool1/pool1_mpranalyze_allelic_results_51-60.txt\"  \n",
       "[48] \"../results/pool1/pool1_mpranalyze_allelic_results_61-70.txt\"  \n",
       "[49] \"../results/pool1/pool1_mpranalyze_allelic_results_71-80.txt\"  \n",
       "[50] \"../results/pool1/pool1_mpranalyze_allelic_results_81-90.txt\"  \n",
       "[51] \"../results/pool1/pool1_mpranalyze_allelic_results_91-100.txt\" "
      ]
     },
     "metadata": {},
     "output_type": "display_data"
    }
   ],
   "source": [
    "# check file names\n",
    "list_results"
   ]
  },
  {
   "cell_type": "code",
   "execution_count": 4,
   "id": "9275eddb-9165-4eb4-9668-c1e959138536",
   "metadata": {
    "execution": {
     "iopub.execute_input": "2025-03-21T00:46:28.766501Z",
     "iopub.status.busy": "2025-03-21T00:46:28.765132Z",
     "iopub.status.idle": "2025-03-21T00:46:28.782112Z",
     "shell.execute_reply": "2025-03-21T00:46:28.780227Z"
    }
   },
   "outputs": [
    {
     "data": {
      "text/html": [
       "51"
      ],
      "text/latex": [
       "51"
      ],
      "text/markdown": [
       "51"
      ],
      "text/plain": [
       "[1] 51"
      ]
     },
     "metadata": {},
     "output_type": "display_data"
    }
   ],
   "source": [
    "# check that number of merged files matches number of array tasks\n",
    "length(list_results)"
   ]
  },
  {
   "cell_type": "code",
   "execution_count": 5,
   "id": "17bf20fe-d09b-45c9-a4eb-1db434a2ba80",
   "metadata": {
    "execution": {
     "iopub.execute_input": "2025-03-21T00:46:28.786671Z",
     "iopub.status.busy": "2025-03-21T00:46:28.785106Z",
     "iopub.status.idle": "2025-03-21T00:46:28.984737Z",
     "shell.execute_reply": "2025-03-21T00:46:28.981414Z"
    }
   },
   "outputs": [],
   "source": [
    "# read contents of all merged files into list\n",
    "allelic_results_df <- lapply(list_results, function(x) {read.table(file = x, \n",
    "                                                                   header = T, \n",
    "                                                                   sep=\" \")})"
   ]
  },
  {
   "cell_type": "code",
   "execution_count": 6,
   "id": "66f2f558-170e-4884-8fbf-0b0f54b91aaa",
   "metadata": {
    "execution": {
     "iopub.execute_input": "2025-03-21T00:46:28.991380Z",
     "iopub.status.busy": "2025-03-21T00:46:28.990168Z",
     "iopub.status.idle": "2025-03-21T00:46:29.014384Z",
     "shell.execute_reply": "2025-03-21T00:46:29.013029Z"
    }
   },
   "outputs": [],
   "source": [
    "# combine all rows into one dataframe\n",
    "merged_r_allelic <- bind_rows(allelic_results_df, .id = \"column_label\") %>% select(-c(\"column_label\"))"
   ]
  },
  {
   "cell_type": "code",
   "execution_count": 7,
   "id": "4e082509-9f44-42c3-b660-12ce7b9fca5e",
   "metadata": {
    "execution": {
     "iopub.execute_input": "2025-03-21T00:46:29.017972Z",
     "iopub.status.busy": "2025-03-21T00:46:29.016850Z",
     "iopub.status.idle": "2025-03-21T00:46:29.029551Z",
     "shell.execute_reply": "2025-03-21T00:46:29.028279Z"
    }
   },
   "outputs": [
    {
     "data": {
      "text/html": [
       "<style>\n",
       ".list-inline {list-style: none; margin:0; padding: 0}\n",
       ".list-inline>li {display: inline-block}\n",
       ".list-inline>li:not(:last-child)::after {content: \"\\00b7\"; padding: 0 .5ex}\n",
       "</style>\n",
       "<ol class=list-inline><li>509</li><li>4</li></ol>\n"
      ],
      "text/latex": [
       "\\begin{enumerate*}\n",
       "\\item 509\n",
       "\\item 4\n",
       "\\end{enumerate*}\n"
      ],
      "text/markdown": [
       "1. 509\n",
       "2. 4\n",
       "\n",
       "\n"
      ],
      "text/plain": [
       "[1] 509   4"
      ]
     },
     "metadata": {},
     "output_type": "display_data"
    }
   ],
   "source": [
    "# check dimensions of combined results\n",
    "dim(merged_r_allelic)"
   ]
  },
  {
   "cell_type": "code",
   "execution_count": 8,
   "id": "7d2c5bf5-d092-4d88-bb5d-9869eb611069",
   "metadata": {
    "execution": {
     "iopub.execute_input": "2025-03-21T00:46:29.032981Z",
     "iopub.status.busy": "2025-03-21T00:46:29.031956Z",
     "iopub.status.idle": "2025-03-21T00:46:29.041954Z",
     "shell.execute_reply": "2025-03-21T00:46:29.040688Z"
    }
   },
   "outputs": [],
   "source": [
    "# add row indices as row names\n",
    "rownames(merged_r_allelic)<-c(1:dim(merged_r_allelic)[1])"
   ]
  },
  {
   "cell_type": "code",
   "execution_count": 9,
   "id": "68ade985-4bc4-42ed-9ce9-b368d6613ca5",
   "metadata": {
    "execution": {
     "iopub.execute_input": "2025-03-21T00:46:29.045390Z",
     "iopub.status.busy": "2025-03-21T00:46:29.044364Z",
     "iopub.status.idle": "2025-03-21T00:46:29.064974Z",
     "shell.execute_reply": "2025-03-21T00:46:29.063702Z"
    }
   },
   "outputs": [
    {
     "data": {
      "text/html": [
       "<table class=\"dataframe\">\n",
       "<caption>A data.frame: 6 × 4</caption>\n",
       "<thead>\n",
       "\t<tr><th></th><th scope=col>snp</th><th scope=col>logFC</th><th scope=col>lrt_pval</th><th scope=col>lrt_nlog10_pval</th></tr>\n",
       "\t<tr><th></th><th scope=col>&lt;chr&gt;</th><th scope=col>&lt;dbl&gt;</th><th scope=col>&lt;dbl&gt;</th><th scope=col>&lt;dbl&gt;</th></tr>\n",
       "</thead>\n",
       "<tbody>\n",
       "\t<tr><th scope=row>1</th><td>rs11583631</td><td>-0.04727376</td><td>6.748780e-01</td><td> 0.1707748</td></tr>\n",
       "\t<tr><th scope=row>2</th><td>rs11584419</td><td> 0.04456964</td><td>6.565204e-01</td><td> 0.1827518</td></tr>\n",
       "\t<tr><th scope=row>3</th><td>rs749435  </td><td>-0.06529871</td><td>8.405816e-02</td><td> 1.0754201</td></tr>\n",
       "\t<tr><th scope=row>4</th><td>rs3789524 </td><td> 0.04192126</td><td>1.242780e-03</td><td> 2.9056058</td></tr>\n",
       "\t<tr><th scope=row>5</th><td>rs3789522 </td><td>-0.16202368</td><td>2.199461e-19</td><td>18.6576837</td></tr>\n",
       "\t<tr><th scope=row>6</th><td>rs11121478</td><td>-0.17450039</td><td>3.369730e-02</td><td> 1.4724049</td></tr>\n",
       "</tbody>\n",
       "</table>\n"
      ],
      "text/latex": [
       "A data.frame: 6 × 4\n",
       "\\begin{tabular}{r|llll}\n",
       "  & snp & logFC & lrt\\_pval & lrt\\_nlog10\\_pval\\\\\n",
       "  & <chr> & <dbl> & <dbl> & <dbl>\\\\\n",
       "\\hline\n",
       "\t1 & rs11583631 & -0.04727376 & 6.748780e-01 &  0.1707748\\\\\n",
       "\t2 & rs11584419 &  0.04456964 & 6.565204e-01 &  0.1827518\\\\\n",
       "\t3 & rs749435   & -0.06529871 & 8.405816e-02 &  1.0754201\\\\\n",
       "\t4 & rs3789524  &  0.04192126 & 1.242780e-03 &  2.9056058\\\\\n",
       "\t5 & rs3789522  & -0.16202368 & 2.199461e-19 & 18.6576837\\\\\n",
       "\t6 & rs11121478 & -0.17450039 & 3.369730e-02 &  1.4724049\\\\\n",
       "\\end{tabular}\n"
      ],
      "text/markdown": [
       "\n",
       "A data.frame: 6 × 4\n",
       "\n",
       "| <!--/--> | snp &lt;chr&gt; | logFC &lt;dbl&gt; | lrt_pval &lt;dbl&gt; | lrt_nlog10_pval &lt;dbl&gt; |\n",
       "|---|---|---|---|---|\n",
       "| 1 | rs11583631 | -0.04727376 | 6.748780e-01 |  0.1707748 |\n",
       "| 2 | rs11584419 |  0.04456964 | 6.565204e-01 |  0.1827518 |\n",
       "| 3 | rs749435   | -0.06529871 | 8.405816e-02 |  1.0754201 |\n",
       "| 4 | rs3789524  |  0.04192126 | 1.242780e-03 |  2.9056058 |\n",
       "| 5 | rs3789522  | -0.16202368 | 2.199461e-19 | 18.6576837 |\n",
       "| 6 | rs11121478 | -0.17450039 | 3.369730e-02 |  1.4724049 |\n",
       "\n"
      ],
      "text/plain": [
       "  snp        logFC       lrt_pval     lrt_nlog10_pval\n",
       "1 rs11583631 -0.04727376 6.748780e-01  0.1707748     \n",
       "2 rs11584419  0.04456964 6.565204e-01  0.1827518     \n",
       "3 rs749435   -0.06529871 8.405816e-02  1.0754201     \n",
       "4 rs3789524   0.04192126 1.242780e-03  2.9056058     \n",
       "5 rs3789522  -0.16202368 2.199461e-19 18.6576837     \n",
       "6 rs11121478 -0.17450039 3.369730e-02  1.4724049     "
      ]
     },
     "metadata": {},
     "output_type": "display_data"
    }
   ],
   "source": [
    "head(merged_r_allelic)"
   ]
  },
  {
   "cell_type": "code",
   "execution_count": 10,
   "id": "2ea76f83-9a6f-4684-bd79-93fd6b1ccb9f",
   "metadata": {
    "execution": {
     "iopub.execute_input": "2025-03-21T00:46:29.068465Z",
     "iopub.status.busy": "2025-03-21T00:46:29.067421Z",
     "iopub.status.idle": "2025-03-21T00:46:29.083575Z",
     "shell.execute_reply": "2025-03-21T00:46:29.082333Z"
    }
   },
   "outputs": [
    {
     "data": {
      "text/html": [
       "<style>\n",
       ".list-inline {list-style: none; margin:0; padding: 0}\n",
       ".list-inline>li {display: inline-block}\n",
       ".list-inline>li:not(:last-child)::after {content: \"\\00b7\"; padding: 0 .5ex}\n",
       "</style>\n",
       "<ol class=list-inline><li>'snp'</li><li>'logFC'</li><li>'lrt_pval'</li><li>'lrt_nlog10_pval'</li></ol>\n"
      ],
      "text/latex": [
       "\\begin{enumerate*}\n",
       "\\item 'snp'\n",
       "\\item 'logFC'\n",
       "\\item 'lrt\\_pval'\n",
       "\\item 'lrt\\_nlog10\\_pval'\n",
       "\\end{enumerate*}\n"
      ],
      "text/markdown": [
       "1. 'snp'\n",
       "2. 'logFC'\n",
       "3. 'lrt_pval'\n",
       "4. 'lrt_nlog10_pval'\n",
       "\n",
       "\n"
      ],
      "text/plain": [
       "[1] \"snp\"             \"logFC\"           \"lrt_pval\"        \"lrt_nlog10_pval\""
      ]
     },
     "metadata": {},
     "output_type": "display_data"
    }
   ],
   "source": [
    "colnames(merged_r_allelic)"
   ]
  },
  {
   "cell_type": "code",
   "execution_count": 11,
   "id": "a38b244d-e4f1-4c94-8cf3-3a6278743688",
   "metadata": {
    "execution": {
     "iopub.execute_input": "2025-03-21T00:46:29.087101Z",
     "iopub.status.busy": "2025-03-21T00:46:29.086020Z",
     "iopub.status.idle": "2025-03-21T00:46:29.102695Z",
     "shell.execute_reply": "2025-03-21T00:46:29.101423Z"
    }
   },
   "outputs": [],
   "source": [
    "# save merged results as text file\n",
    "write.table(merged_r_allelic, \"../results/pool1_mpranalyze_allelic_results_merged.txt\")"
   ]
  },
  {
   "cell_type": "markdown",
   "id": "b0933ca8-b725-4132-b9ba-1202f273daae",
   "metadata": {},
   "source": [
    "## Pool2"
   ]
  },
  {
   "cell_type": "code",
   "execution_count": 12,
   "id": "30a41298-9ca6-4858-8be9-2dafc70157d5",
   "metadata": {
    "execution": {
     "iopub.execute_input": "2025-03-21T00:46:29.106240Z",
     "iopub.status.busy": "2025-03-21T00:46:29.105203Z",
     "iopub.status.idle": "2025-03-21T00:46:29.124198Z",
     "shell.execute_reply": "2025-03-21T00:46:29.122776Z"
    }
   },
   "outputs": [],
   "source": [
    "# find all merged files for pool 2\n",
    "list_results <- list.files(path = \"../results/pool2\", recursive = FALSE,\n",
    "                            pattern = \"pool2_mpranalyze_allelic_results_[0-9]\", \n",
    "                            full.names = TRUE)"
   ]
  },
  {
   "cell_type": "code",
   "execution_count": 13,
   "id": "b81abbd3-5eb3-470a-9699-a49f00659a81",
   "metadata": {
    "execution": {
     "iopub.execute_input": "2025-03-21T00:46:29.128097Z",
     "iopub.status.busy": "2025-03-21T00:46:29.126915Z",
     "iopub.status.idle": "2025-03-21T00:46:29.141330Z",
     "shell.execute_reply": "2025-03-21T00:46:29.140051Z"
    }
   },
   "outputs": [
    {
     "data": {
      "text/html": [
       "<style>\n",
       ".list-inline {list-style: none; margin:0; padding: 0}\n",
       ".list-inline>li {display: inline-block}\n",
       ".list-inline>li:not(:last-child)::after {content: \"\\00b7\"; padding: 0 .5ex}\n",
       "</style>\n",
       "<ol class=list-inline><li>'../results/pool2/pool2_mpranalyze_allelic_results_1-10.txt'</li><li>'../results/pool2/pool2_mpranalyze_allelic_results_101-110.txt'</li><li>'../results/pool2/pool2_mpranalyze_allelic_results_11-20.txt'</li><li>'../results/pool2/pool2_mpranalyze_allelic_results_111-120.txt'</li><li>'../results/pool2/pool2_mpranalyze_allelic_results_121-130.txt'</li><li>'../results/pool2/pool2_mpranalyze_allelic_results_131-140.txt'</li><li>'../results/pool2/pool2_mpranalyze_allelic_results_141-150.txt'</li><li>'../results/pool2/pool2_mpranalyze_allelic_results_151-160.txt'</li><li>'../results/pool2/pool2_mpranalyze_allelic_results_161-170.txt'</li><li>'../results/pool2/pool2_mpranalyze_allelic_results_171-180.txt'</li><li>'../results/pool2/pool2_mpranalyze_allelic_results_181-190.txt'</li><li>'../results/pool2/pool2_mpranalyze_allelic_results_191-200.txt'</li><li>'../results/pool2/pool2_mpranalyze_allelic_results_201-210.txt'</li><li>'../results/pool2/pool2_mpranalyze_allelic_results_21-30.txt'</li><li>'../results/pool2/pool2_mpranalyze_allelic_results_211-220.txt'</li><li>'../results/pool2/pool2_mpranalyze_allelic_results_221-230.txt'</li><li>'../results/pool2/pool2_mpranalyze_allelic_results_231-240.txt'</li><li>'../results/pool2/pool2_mpranalyze_allelic_results_241-250.txt'</li><li>'../results/pool2/pool2_mpranalyze_allelic_results_251-260.txt'</li><li>'../results/pool2/pool2_mpranalyze_allelic_results_261-270.txt'</li><li>'../results/pool2/pool2_mpranalyze_allelic_results_271-280.txt'</li><li>'../results/pool2/pool2_mpranalyze_allelic_results_281-290.txt'</li><li>'../results/pool2/pool2_mpranalyze_allelic_results_291-300.txt'</li><li>'../results/pool2/pool2_mpranalyze_allelic_results_301-310.txt'</li><li>'../results/pool2/pool2_mpranalyze_allelic_results_31-40.txt'</li><li>'../results/pool2/pool2_mpranalyze_allelic_results_311-320.txt'</li><li>'../results/pool2/pool2_mpranalyze_allelic_results_321-330.txt'</li><li>'../results/pool2/pool2_mpranalyze_allelic_results_331-340.txt'</li><li>'../results/pool2/pool2_mpranalyze_allelic_results_341-350.txt'</li><li>'../results/pool2/pool2_mpranalyze_allelic_results_351-360.txt'</li><li>'../results/pool2/pool2_mpranalyze_allelic_results_361-370.txt'</li><li>'../results/pool2/pool2_mpranalyze_allelic_results_371-380.txt'</li><li>'../results/pool2/pool2_mpranalyze_allelic_results_381-390.txt'</li><li>'../results/pool2/pool2_mpranalyze_allelic_results_391-400.txt'</li><li>'../results/pool2/pool2_mpranalyze_allelic_results_401-410.txt'</li><li>'../results/pool2/pool2_mpranalyze_allelic_results_41-50.txt'</li><li>'../results/pool2/pool2_mpranalyze_allelic_results_411-420.txt'</li><li>'../results/pool2/pool2_mpranalyze_allelic_results_421-430.txt'</li><li>'../results/pool2/pool2_mpranalyze_allelic_results_431-440.txt'</li><li>'../results/pool2/pool2_mpranalyze_allelic_results_441-450.txt'</li><li>'../results/pool2/pool2_mpranalyze_allelic_results_451-460.txt'</li><li>'../results/pool2/pool2_mpranalyze_allelic_results_461-470.txt'</li><li>'../results/pool2/pool2_mpranalyze_allelic_results_471-480.txt'</li><li>'../results/pool2/pool2_mpranalyze_allelic_results_481-490.txt'</li><li>'../results/pool2/pool2_mpranalyze_allelic_results_491-500.txt'</li><li>'../results/pool2/pool2_mpranalyze_allelic_results_501-509.txt'</li><li>'../results/pool2/pool2_mpranalyze_allelic_results_51-60.txt'</li><li>'../results/pool2/pool2_mpranalyze_allelic_results_61-70.txt'</li><li>'../results/pool2/pool2_mpranalyze_allelic_results_71-80.txt'</li><li>'../results/pool2/pool2_mpranalyze_allelic_results_81-90.txt'</li><li>'../results/pool2/pool2_mpranalyze_allelic_results_91-100.txt'</li></ol>\n"
      ],
      "text/latex": [
       "\\begin{enumerate*}\n",
       "\\item '../results/pool2/pool2\\_mpranalyze\\_allelic\\_results\\_1-10.txt'\n",
       "\\item '../results/pool2/pool2\\_mpranalyze\\_allelic\\_results\\_101-110.txt'\n",
       "\\item '../results/pool2/pool2\\_mpranalyze\\_allelic\\_results\\_11-20.txt'\n",
       "\\item '../results/pool2/pool2\\_mpranalyze\\_allelic\\_results\\_111-120.txt'\n",
       "\\item '../results/pool2/pool2\\_mpranalyze\\_allelic\\_results\\_121-130.txt'\n",
       "\\item '../results/pool2/pool2\\_mpranalyze\\_allelic\\_results\\_131-140.txt'\n",
       "\\item '../results/pool2/pool2\\_mpranalyze\\_allelic\\_results\\_141-150.txt'\n",
       "\\item '../results/pool2/pool2\\_mpranalyze\\_allelic\\_results\\_151-160.txt'\n",
       "\\item '../results/pool2/pool2\\_mpranalyze\\_allelic\\_results\\_161-170.txt'\n",
       "\\item '../results/pool2/pool2\\_mpranalyze\\_allelic\\_results\\_171-180.txt'\n",
       "\\item '../results/pool2/pool2\\_mpranalyze\\_allelic\\_results\\_181-190.txt'\n",
       "\\item '../results/pool2/pool2\\_mpranalyze\\_allelic\\_results\\_191-200.txt'\n",
       "\\item '../results/pool2/pool2\\_mpranalyze\\_allelic\\_results\\_201-210.txt'\n",
       "\\item '../results/pool2/pool2\\_mpranalyze\\_allelic\\_results\\_21-30.txt'\n",
       "\\item '../results/pool2/pool2\\_mpranalyze\\_allelic\\_results\\_211-220.txt'\n",
       "\\item '../results/pool2/pool2\\_mpranalyze\\_allelic\\_results\\_221-230.txt'\n",
       "\\item '../results/pool2/pool2\\_mpranalyze\\_allelic\\_results\\_231-240.txt'\n",
       "\\item '../results/pool2/pool2\\_mpranalyze\\_allelic\\_results\\_241-250.txt'\n",
       "\\item '../results/pool2/pool2\\_mpranalyze\\_allelic\\_results\\_251-260.txt'\n",
       "\\item '../results/pool2/pool2\\_mpranalyze\\_allelic\\_results\\_261-270.txt'\n",
       "\\item '../results/pool2/pool2\\_mpranalyze\\_allelic\\_results\\_271-280.txt'\n",
       "\\item '../results/pool2/pool2\\_mpranalyze\\_allelic\\_results\\_281-290.txt'\n",
       "\\item '../results/pool2/pool2\\_mpranalyze\\_allelic\\_results\\_291-300.txt'\n",
       "\\item '../results/pool2/pool2\\_mpranalyze\\_allelic\\_results\\_301-310.txt'\n",
       "\\item '../results/pool2/pool2\\_mpranalyze\\_allelic\\_results\\_31-40.txt'\n",
       "\\item '../results/pool2/pool2\\_mpranalyze\\_allelic\\_results\\_311-320.txt'\n",
       "\\item '../results/pool2/pool2\\_mpranalyze\\_allelic\\_results\\_321-330.txt'\n",
       "\\item '../results/pool2/pool2\\_mpranalyze\\_allelic\\_results\\_331-340.txt'\n",
       "\\item '../results/pool2/pool2\\_mpranalyze\\_allelic\\_results\\_341-350.txt'\n",
       "\\item '../results/pool2/pool2\\_mpranalyze\\_allelic\\_results\\_351-360.txt'\n",
       "\\item '../results/pool2/pool2\\_mpranalyze\\_allelic\\_results\\_361-370.txt'\n",
       "\\item '../results/pool2/pool2\\_mpranalyze\\_allelic\\_results\\_371-380.txt'\n",
       "\\item '../results/pool2/pool2\\_mpranalyze\\_allelic\\_results\\_381-390.txt'\n",
       "\\item '../results/pool2/pool2\\_mpranalyze\\_allelic\\_results\\_391-400.txt'\n",
       "\\item '../results/pool2/pool2\\_mpranalyze\\_allelic\\_results\\_401-410.txt'\n",
       "\\item '../results/pool2/pool2\\_mpranalyze\\_allelic\\_results\\_41-50.txt'\n",
       "\\item '../results/pool2/pool2\\_mpranalyze\\_allelic\\_results\\_411-420.txt'\n",
       "\\item '../results/pool2/pool2\\_mpranalyze\\_allelic\\_results\\_421-430.txt'\n",
       "\\item '../results/pool2/pool2\\_mpranalyze\\_allelic\\_results\\_431-440.txt'\n",
       "\\item '../results/pool2/pool2\\_mpranalyze\\_allelic\\_results\\_441-450.txt'\n",
       "\\item '../results/pool2/pool2\\_mpranalyze\\_allelic\\_results\\_451-460.txt'\n",
       "\\item '../results/pool2/pool2\\_mpranalyze\\_allelic\\_results\\_461-470.txt'\n",
       "\\item '../results/pool2/pool2\\_mpranalyze\\_allelic\\_results\\_471-480.txt'\n",
       "\\item '../results/pool2/pool2\\_mpranalyze\\_allelic\\_results\\_481-490.txt'\n",
       "\\item '../results/pool2/pool2\\_mpranalyze\\_allelic\\_results\\_491-500.txt'\n",
       "\\item '../results/pool2/pool2\\_mpranalyze\\_allelic\\_results\\_501-509.txt'\n",
       "\\item '../results/pool2/pool2\\_mpranalyze\\_allelic\\_results\\_51-60.txt'\n",
       "\\item '../results/pool2/pool2\\_mpranalyze\\_allelic\\_results\\_61-70.txt'\n",
       "\\item '../results/pool2/pool2\\_mpranalyze\\_allelic\\_results\\_71-80.txt'\n",
       "\\item '../results/pool2/pool2\\_mpranalyze\\_allelic\\_results\\_81-90.txt'\n",
       "\\item '../results/pool2/pool2\\_mpranalyze\\_allelic\\_results\\_91-100.txt'\n",
       "\\end{enumerate*}\n"
      ],
      "text/markdown": [
       "1. '../results/pool2/pool2_mpranalyze_allelic_results_1-10.txt'\n",
       "2. '../results/pool2/pool2_mpranalyze_allelic_results_101-110.txt'\n",
       "3. '../results/pool2/pool2_mpranalyze_allelic_results_11-20.txt'\n",
       "4. '../results/pool2/pool2_mpranalyze_allelic_results_111-120.txt'\n",
       "5. '../results/pool2/pool2_mpranalyze_allelic_results_121-130.txt'\n",
       "6. '../results/pool2/pool2_mpranalyze_allelic_results_131-140.txt'\n",
       "7. '../results/pool2/pool2_mpranalyze_allelic_results_141-150.txt'\n",
       "8. '../results/pool2/pool2_mpranalyze_allelic_results_151-160.txt'\n",
       "9. '../results/pool2/pool2_mpranalyze_allelic_results_161-170.txt'\n",
       "10. '../results/pool2/pool2_mpranalyze_allelic_results_171-180.txt'\n",
       "11. '../results/pool2/pool2_mpranalyze_allelic_results_181-190.txt'\n",
       "12. '../results/pool2/pool2_mpranalyze_allelic_results_191-200.txt'\n",
       "13. '../results/pool2/pool2_mpranalyze_allelic_results_201-210.txt'\n",
       "14. '../results/pool2/pool2_mpranalyze_allelic_results_21-30.txt'\n",
       "15. '../results/pool2/pool2_mpranalyze_allelic_results_211-220.txt'\n",
       "16. '../results/pool2/pool2_mpranalyze_allelic_results_221-230.txt'\n",
       "17. '../results/pool2/pool2_mpranalyze_allelic_results_231-240.txt'\n",
       "18. '../results/pool2/pool2_mpranalyze_allelic_results_241-250.txt'\n",
       "19. '../results/pool2/pool2_mpranalyze_allelic_results_251-260.txt'\n",
       "20. '../results/pool2/pool2_mpranalyze_allelic_results_261-270.txt'\n",
       "21. '../results/pool2/pool2_mpranalyze_allelic_results_271-280.txt'\n",
       "22. '../results/pool2/pool2_mpranalyze_allelic_results_281-290.txt'\n",
       "23. '../results/pool2/pool2_mpranalyze_allelic_results_291-300.txt'\n",
       "24. '../results/pool2/pool2_mpranalyze_allelic_results_301-310.txt'\n",
       "25. '../results/pool2/pool2_mpranalyze_allelic_results_31-40.txt'\n",
       "26. '../results/pool2/pool2_mpranalyze_allelic_results_311-320.txt'\n",
       "27. '../results/pool2/pool2_mpranalyze_allelic_results_321-330.txt'\n",
       "28. '../results/pool2/pool2_mpranalyze_allelic_results_331-340.txt'\n",
       "29. '../results/pool2/pool2_mpranalyze_allelic_results_341-350.txt'\n",
       "30. '../results/pool2/pool2_mpranalyze_allelic_results_351-360.txt'\n",
       "31. '../results/pool2/pool2_mpranalyze_allelic_results_361-370.txt'\n",
       "32. '../results/pool2/pool2_mpranalyze_allelic_results_371-380.txt'\n",
       "33. '../results/pool2/pool2_mpranalyze_allelic_results_381-390.txt'\n",
       "34. '../results/pool2/pool2_mpranalyze_allelic_results_391-400.txt'\n",
       "35. '../results/pool2/pool2_mpranalyze_allelic_results_401-410.txt'\n",
       "36. '../results/pool2/pool2_mpranalyze_allelic_results_41-50.txt'\n",
       "37. '../results/pool2/pool2_mpranalyze_allelic_results_411-420.txt'\n",
       "38. '../results/pool2/pool2_mpranalyze_allelic_results_421-430.txt'\n",
       "39. '../results/pool2/pool2_mpranalyze_allelic_results_431-440.txt'\n",
       "40. '../results/pool2/pool2_mpranalyze_allelic_results_441-450.txt'\n",
       "41. '../results/pool2/pool2_mpranalyze_allelic_results_451-460.txt'\n",
       "42. '../results/pool2/pool2_mpranalyze_allelic_results_461-470.txt'\n",
       "43. '../results/pool2/pool2_mpranalyze_allelic_results_471-480.txt'\n",
       "44. '../results/pool2/pool2_mpranalyze_allelic_results_481-490.txt'\n",
       "45. '../results/pool2/pool2_mpranalyze_allelic_results_491-500.txt'\n",
       "46. '../results/pool2/pool2_mpranalyze_allelic_results_501-509.txt'\n",
       "47. '../results/pool2/pool2_mpranalyze_allelic_results_51-60.txt'\n",
       "48. '../results/pool2/pool2_mpranalyze_allelic_results_61-70.txt'\n",
       "49. '../results/pool2/pool2_mpranalyze_allelic_results_71-80.txt'\n",
       "50. '../results/pool2/pool2_mpranalyze_allelic_results_81-90.txt'\n",
       "51. '../results/pool2/pool2_mpranalyze_allelic_results_91-100.txt'\n",
       "\n",
       "\n"
      ],
      "text/plain": [
       " [1] \"../results/pool2/pool2_mpranalyze_allelic_results_1-10.txt\"   \n",
       " [2] \"../results/pool2/pool2_mpranalyze_allelic_results_101-110.txt\"\n",
       " [3] \"../results/pool2/pool2_mpranalyze_allelic_results_11-20.txt\"  \n",
       " [4] \"../results/pool2/pool2_mpranalyze_allelic_results_111-120.txt\"\n",
       " [5] \"../results/pool2/pool2_mpranalyze_allelic_results_121-130.txt\"\n",
       " [6] \"../results/pool2/pool2_mpranalyze_allelic_results_131-140.txt\"\n",
       " [7] \"../results/pool2/pool2_mpranalyze_allelic_results_141-150.txt\"\n",
       " [8] \"../results/pool2/pool2_mpranalyze_allelic_results_151-160.txt\"\n",
       " [9] \"../results/pool2/pool2_mpranalyze_allelic_results_161-170.txt\"\n",
       "[10] \"../results/pool2/pool2_mpranalyze_allelic_results_171-180.txt\"\n",
       "[11] \"../results/pool2/pool2_mpranalyze_allelic_results_181-190.txt\"\n",
       "[12] \"../results/pool2/pool2_mpranalyze_allelic_results_191-200.txt\"\n",
       "[13] \"../results/pool2/pool2_mpranalyze_allelic_results_201-210.txt\"\n",
       "[14] \"../results/pool2/pool2_mpranalyze_allelic_results_21-30.txt\"  \n",
       "[15] \"../results/pool2/pool2_mpranalyze_allelic_results_211-220.txt\"\n",
       "[16] \"../results/pool2/pool2_mpranalyze_allelic_results_221-230.txt\"\n",
       "[17] \"../results/pool2/pool2_mpranalyze_allelic_results_231-240.txt\"\n",
       "[18] \"../results/pool2/pool2_mpranalyze_allelic_results_241-250.txt\"\n",
       "[19] \"../results/pool2/pool2_mpranalyze_allelic_results_251-260.txt\"\n",
       "[20] \"../results/pool2/pool2_mpranalyze_allelic_results_261-270.txt\"\n",
       "[21] \"../results/pool2/pool2_mpranalyze_allelic_results_271-280.txt\"\n",
       "[22] \"../results/pool2/pool2_mpranalyze_allelic_results_281-290.txt\"\n",
       "[23] \"../results/pool2/pool2_mpranalyze_allelic_results_291-300.txt\"\n",
       "[24] \"../results/pool2/pool2_mpranalyze_allelic_results_301-310.txt\"\n",
       "[25] \"../results/pool2/pool2_mpranalyze_allelic_results_31-40.txt\"  \n",
       "[26] \"../results/pool2/pool2_mpranalyze_allelic_results_311-320.txt\"\n",
       "[27] \"../results/pool2/pool2_mpranalyze_allelic_results_321-330.txt\"\n",
       "[28] \"../results/pool2/pool2_mpranalyze_allelic_results_331-340.txt\"\n",
       "[29] \"../results/pool2/pool2_mpranalyze_allelic_results_341-350.txt\"\n",
       "[30] \"../results/pool2/pool2_mpranalyze_allelic_results_351-360.txt\"\n",
       "[31] \"../results/pool2/pool2_mpranalyze_allelic_results_361-370.txt\"\n",
       "[32] \"../results/pool2/pool2_mpranalyze_allelic_results_371-380.txt\"\n",
       "[33] \"../results/pool2/pool2_mpranalyze_allelic_results_381-390.txt\"\n",
       "[34] \"../results/pool2/pool2_mpranalyze_allelic_results_391-400.txt\"\n",
       "[35] \"../results/pool2/pool2_mpranalyze_allelic_results_401-410.txt\"\n",
       "[36] \"../results/pool2/pool2_mpranalyze_allelic_results_41-50.txt\"  \n",
       "[37] \"../results/pool2/pool2_mpranalyze_allelic_results_411-420.txt\"\n",
       "[38] \"../results/pool2/pool2_mpranalyze_allelic_results_421-430.txt\"\n",
       "[39] \"../results/pool2/pool2_mpranalyze_allelic_results_431-440.txt\"\n",
       "[40] \"../results/pool2/pool2_mpranalyze_allelic_results_441-450.txt\"\n",
       "[41] \"../results/pool2/pool2_mpranalyze_allelic_results_451-460.txt\"\n",
       "[42] \"../results/pool2/pool2_mpranalyze_allelic_results_461-470.txt\"\n",
       "[43] \"../results/pool2/pool2_mpranalyze_allelic_results_471-480.txt\"\n",
       "[44] \"../results/pool2/pool2_mpranalyze_allelic_results_481-490.txt\"\n",
       "[45] \"../results/pool2/pool2_mpranalyze_allelic_results_491-500.txt\"\n",
       "[46] \"../results/pool2/pool2_mpranalyze_allelic_results_501-509.txt\"\n",
       "[47] \"../results/pool2/pool2_mpranalyze_allelic_results_51-60.txt\"  \n",
       "[48] \"../results/pool2/pool2_mpranalyze_allelic_results_61-70.txt\"  \n",
       "[49] \"../results/pool2/pool2_mpranalyze_allelic_results_71-80.txt\"  \n",
       "[50] \"../results/pool2/pool2_mpranalyze_allelic_results_81-90.txt\"  \n",
       "[51] \"../results/pool2/pool2_mpranalyze_allelic_results_91-100.txt\" "
      ]
     },
     "metadata": {},
     "output_type": "display_data"
    }
   ],
   "source": [
    "# check file names\n",
    "list_results"
   ]
  },
  {
   "cell_type": "code",
   "execution_count": 14,
   "id": "95d168f2-a2ef-44d9-9b7c-372bf9057d67",
   "metadata": {
    "execution": {
     "iopub.execute_input": "2025-03-21T00:46:29.144849Z",
     "iopub.status.busy": "2025-03-21T00:46:29.143778Z",
     "iopub.status.idle": "2025-03-21T00:46:29.156136Z",
     "shell.execute_reply": "2025-03-21T00:46:29.154860Z"
    }
   },
   "outputs": [
    {
     "data": {
      "text/html": [
       "51"
      ],
      "text/latex": [
       "51"
      ],
      "text/markdown": [
       "51"
      ],
      "text/plain": [
       "[1] 51"
      ]
     },
     "metadata": {},
     "output_type": "display_data"
    }
   ],
   "source": [
    "# check that number of merged files matches number of array tasks\n",
    "length(list_results)"
   ]
  },
  {
   "cell_type": "code",
   "execution_count": 15,
   "id": "ab94a6de-4550-4b46-9b11-ebb8bbac2397",
   "metadata": {
    "execution": {
     "iopub.execute_input": "2025-03-21T00:46:29.163641Z",
     "iopub.status.busy": "2025-03-21T00:46:29.162637Z",
     "iopub.status.idle": "2025-03-21T00:46:29.377099Z",
     "shell.execute_reply": "2025-03-21T00:46:29.373755Z"
    }
   },
   "outputs": [],
   "source": [
    "# read contents of all merged files into list\n",
    "allelic_results_df <- lapply(list_results, function(x) {read.table(file = x, \n",
    "                                                                   header = T, \n",
    "                                                                   sep=\" \")})"
   ]
  },
  {
   "cell_type": "code",
   "execution_count": 16,
   "id": "cdeac7f6-327f-4cb9-9ed9-db0ab96f9d81",
   "metadata": {
    "execution": {
     "iopub.execute_input": "2025-03-21T00:46:29.384805Z",
     "iopub.status.busy": "2025-03-21T00:46:29.382556Z",
     "iopub.status.idle": "2025-03-21T00:46:29.397683Z",
     "shell.execute_reply": "2025-03-21T00:46:29.396357Z"
    }
   },
   "outputs": [],
   "source": [
    "# combine all rows into one dataframe\n",
    "merged_r_allelic <- bind_rows(allelic_results_df, .id = \"column_label\") %>% select(-c(\"column_label\"))"
   ]
  },
  {
   "cell_type": "code",
   "execution_count": 17,
   "id": "1682ae37-d1df-4178-b563-2b47b531c986",
   "metadata": {
    "execution": {
     "iopub.execute_input": "2025-03-21T00:46:29.401257Z",
     "iopub.status.busy": "2025-03-21T00:46:29.400191Z",
     "iopub.status.idle": "2025-03-21T00:46:29.417716Z",
     "shell.execute_reply": "2025-03-21T00:46:29.411859Z"
    }
   },
   "outputs": [
    {
     "data": {
      "text/html": [
       "<style>\n",
       ".list-inline {list-style: none; margin:0; padding: 0}\n",
       ".list-inline>li {display: inline-block}\n",
       ".list-inline>li:not(:last-child)::after {content: \"\\00b7\"; padding: 0 .5ex}\n",
       "</style>\n",
       "<ol class=list-inline><li>509</li><li>4</li></ol>\n"
      ],
      "text/latex": [
       "\\begin{enumerate*}\n",
       "\\item 509\n",
       "\\item 4\n",
       "\\end{enumerate*}\n"
      ],
      "text/markdown": [
       "1. 509\n",
       "2. 4\n",
       "\n",
       "\n"
      ],
      "text/plain": [
       "[1] 509   4"
      ]
     },
     "metadata": {},
     "output_type": "display_data"
    }
   ],
   "source": [
    "# check dimensions of combined results\n",
    "dim(merged_r_allelic)"
   ]
  },
  {
   "cell_type": "code",
   "execution_count": 18,
   "id": "77a013df-6e7f-4697-a463-8eae150c08b0",
   "metadata": {
    "execution": {
     "iopub.execute_input": "2025-03-21T00:46:29.421171Z",
     "iopub.status.busy": "2025-03-21T00:46:29.420143Z",
     "iopub.status.idle": "2025-03-21T00:46:29.430051Z",
     "shell.execute_reply": "2025-03-21T00:46:29.428782Z"
    }
   },
   "outputs": [],
   "source": [
    "# add row indices as row names\n",
    "rownames(merged_r_allelic)<-c(1:dim(merged_r_allelic)[1])"
   ]
  },
  {
   "cell_type": "code",
   "execution_count": 19,
   "id": "2981b9b8-ecc8-4b92-97f3-5a5cbd3a0d9e",
   "metadata": {
    "execution": {
     "iopub.execute_input": "2025-03-21T00:46:29.433513Z",
     "iopub.status.busy": "2025-03-21T00:46:29.432473Z",
     "iopub.status.idle": "2025-03-21T00:46:29.450911Z",
     "shell.execute_reply": "2025-03-21T00:46:29.449658Z"
    }
   },
   "outputs": [
    {
     "data": {
      "text/html": [
       "<table class=\"dataframe\">\n",
       "<caption>A data.frame: 6 × 4</caption>\n",
       "<thead>\n",
       "\t<tr><th></th><th scope=col>snp</th><th scope=col>logFC</th><th scope=col>lrt_pval</th><th scope=col>lrt_nlog10_pval</th></tr>\n",
       "\t<tr><th></th><th scope=col>&lt;chr&gt;</th><th scope=col>&lt;dbl&gt;</th><th scope=col>&lt;dbl&gt;</th><th scope=col>&lt;dbl&gt;</th></tr>\n",
       "</thead>\n",
       "<tbody>\n",
       "\t<tr><th scope=row>1</th><td>rs67190025 </td><td> 0.0433978350</td><td>6.931219e-01</td><td> 0.15919041</td></tr>\n",
       "\t<tr><th scope=row>2</th><td>rs7580924  </td><td>-0.0920718548</td><td>1.678202e-01</td><td> 0.77515582</td></tr>\n",
       "\t<tr><th scope=row>3</th><td>rs13028959 </td><td> 0.0006139366</td><td>8.018869e-01</td><td> 0.09588687</td></tr>\n",
       "\t<tr><th scope=row>4</th><td>rs112467613</td><td> 0.1170404404</td><td>2.861114e-29</td><td>28.54346476</td></tr>\n",
       "\t<tr><th scope=row>5</th><td>rs196378   </td><td>-0.0951442512</td><td>1.688483e-01</td><td> 0.77250318</td></tr>\n",
       "\t<tr><th scope=row>6</th><td>rs169046   </td><td> 0.3165248123</td><td>2.197575e-06</td><td> 5.65805630</td></tr>\n",
       "</tbody>\n",
       "</table>\n"
      ],
      "text/latex": [
       "A data.frame: 6 × 4\n",
       "\\begin{tabular}{r|llll}\n",
       "  & snp & logFC & lrt\\_pval & lrt\\_nlog10\\_pval\\\\\n",
       "  & <chr> & <dbl> & <dbl> & <dbl>\\\\\n",
       "\\hline\n",
       "\t1 & rs67190025  &  0.0433978350 & 6.931219e-01 &  0.15919041\\\\\n",
       "\t2 & rs7580924   & -0.0920718548 & 1.678202e-01 &  0.77515582\\\\\n",
       "\t3 & rs13028959  &  0.0006139366 & 8.018869e-01 &  0.09588687\\\\\n",
       "\t4 & rs112467613 &  0.1170404404 & 2.861114e-29 & 28.54346476\\\\\n",
       "\t5 & rs196378    & -0.0951442512 & 1.688483e-01 &  0.77250318\\\\\n",
       "\t6 & rs169046    &  0.3165248123 & 2.197575e-06 &  5.65805630\\\\\n",
       "\\end{tabular}\n"
      ],
      "text/markdown": [
       "\n",
       "A data.frame: 6 × 4\n",
       "\n",
       "| <!--/--> | snp &lt;chr&gt; | logFC &lt;dbl&gt; | lrt_pval &lt;dbl&gt; | lrt_nlog10_pval &lt;dbl&gt; |\n",
       "|---|---|---|---|---|\n",
       "| 1 | rs67190025  |  0.0433978350 | 6.931219e-01 |  0.15919041 |\n",
       "| 2 | rs7580924   | -0.0920718548 | 1.678202e-01 |  0.77515582 |\n",
       "| 3 | rs13028959  |  0.0006139366 | 8.018869e-01 |  0.09588687 |\n",
       "| 4 | rs112467613 |  0.1170404404 | 2.861114e-29 | 28.54346476 |\n",
       "| 5 | rs196378    | -0.0951442512 | 1.688483e-01 |  0.77250318 |\n",
       "| 6 | rs169046    |  0.3165248123 | 2.197575e-06 |  5.65805630 |\n",
       "\n"
      ],
      "text/plain": [
       "  snp         logFC         lrt_pval     lrt_nlog10_pval\n",
       "1 rs67190025   0.0433978350 6.931219e-01  0.15919041    \n",
       "2 rs7580924   -0.0920718548 1.678202e-01  0.77515582    \n",
       "3 rs13028959   0.0006139366 8.018869e-01  0.09588687    \n",
       "4 rs112467613  0.1170404404 2.861114e-29 28.54346476    \n",
       "5 rs196378    -0.0951442512 1.688483e-01  0.77250318    \n",
       "6 rs169046     0.3165248123 2.197575e-06  5.65805630    "
      ]
     },
     "metadata": {},
     "output_type": "display_data"
    }
   ],
   "source": [
    "head(merged_r_allelic)"
   ]
  },
  {
   "cell_type": "code",
   "execution_count": 20,
   "id": "a860bab9-1e16-48a6-9c9b-923b15f64acc",
   "metadata": {
    "execution": {
     "iopub.execute_input": "2025-03-21T00:46:29.454386Z",
     "iopub.status.busy": "2025-03-21T00:46:29.453335Z",
     "iopub.status.idle": "2025-03-21T00:46:29.465365Z",
     "shell.execute_reply": "2025-03-21T00:46:29.464063Z"
    }
   },
   "outputs": [
    {
     "data": {
      "text/html": [
       "<style>\n",
       ".list-inline {list-style: none; margin:0; padding: 0}\n",
       ".list-inline>li {display: inline-block}\n",
       ".list-inline>li:not(:last-child)::after {content: \"\\00b7\"; padding: 0 .5ex}\n",
       "</style>\n",
       "<ol class=list-inline><li>'snp'</li><li>'logFC'</li><li>'lrt_pval'</li><li>'lrt_nlog10_pval'</li></ol>\n"
      ],
      "text/latex": [
       "\\begin{enumerate*}\n",
       "\\item 'snp'\n",
       "\\item 'logFC'\n",
       "\\item 'lrt\\_pval'\n",
       "\\item 'lrt\\_nlog10\\_pval'\n",
       "\\end{enumerate*}\n"
      ],
      "text/markdown": [
       "1. 'snp'\n",
       "2. 'logFC'\n",
       "3. 'lrt_pval'\n",
       "4. 'lrt_nlog10_pval'\n",
       "\n",
       "\n"
      ],
      "text/plain": [
       "[1] \"snp\"             \"logFC\"           \"lrt_pval\"        \"lrt_nlog10_pval\""
      ]
     },
     "metadata": {},
     "output_type": "display_data"
    }
   ],
   "source": [
    "colnames(merged_r_allelic)"
   ]
  },
  {
   "cell_type": "code",
   "execution_count": 21,
   "id": "ec1af9d7-d080-40ae-beb5-942c6cac2e42",
   "metadata": {
    "execution": {
     "iopub.execute_input": "2025-03-21T00:46:29.468852Z",
     "iopub.status.busy": "2025-03-21T00:46:29.467795Z",
     "iopub.status.idle": "2025-03-21T00:46:29.515893Z",
     "shell.execute_reply": "2025-03-21T00:46:29.482984Z"
    }
   },
   "outputs": [],
   "source": [
    "# save merged results as text file\n",
    "write.table(merged_r_allelic, \"../results/pool2_mpranalyze_allelic_results_merged.txt\")"
   ]
  },
  {
   "cell_type": "code",
   "execution_count": null,
   "id": "d3274fb0-0d32-42f5-aede-b383fb2f073b",
   "metadata": {},
   "outputs": [],
   "source": []
  }
 ],
 "metadata": {
  "kernelspec": {
   "display_name": "R",
   "language": "R",
   "name": "ir"
  },
  "language_info": {
   "codemirror_mode": "r",
   "file_extension": ".r",
   "mimetype": "text/x-r-source",
   "name": "R",
   "pygments_lexer": "r",
   "version": "4.3.3"
  }
 },
 "nbformat": 4,
 "nbformat_minor": 5
}
