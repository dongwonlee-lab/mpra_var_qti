{
 "cells": [
  {
   "cell_type": "markdown",
   "id": "bc78e263-0540-40eb-ae27-f1e41849db24",
   "metadata": {},
   "source": [
    "# MPRA Calculate and Filter for CPM"
   ]
  },
  {
   "cell_type": "code",
   "execution_count": 1,
   "id": "0cd3322b-d28d-4093-b617-3ae9a060e28c",
   "metadata": {
    "execution": {
     "iopub.execute_input": "2025-03-21T00:46:48.053185Z",
     "iopub.status.busy": "2025-03-21T00:46:48.049650Z",
     "iopub.status.idle": "2025-03-21T00:46:49.358149Z",
     "shell.execute_reply": "2025-03-21T00:46:49.355934Z"
    }
   },
   "outputs": [
    {
     "name": "stderr",
     "output_type": "stream",
     "text": [
      "── \u001b[1mAttaching core tidyverse packages\u001b[22m ──────────────────────── tidyverse 2.0.0 ──\n",
      "\u001b[32m✔\u001b[39m \u001b[34mdplyr    \u001b[39m 1.1.4     \u001b[32m✔\u001b[39m \u001b[34mreadr    \u001b[39m 2.1.5\n",
      "\u001b[32m✔\u001b[39m \u001b[34mforcats  \u001b[39m 1.0.0     \u001b[32m✔\u001b[39m \u001b[34mstringr  \u001b[39m 1.5.1\n",
      "\u001b[32m✔\u001b[39m \u001b[34mggplot2  \u001b[39m 3.5.1     \u001b[32m✔\u001b[39m \u001b[34mtibble   \u001b[39m 3.2.1\n",
      "\u001b[32m✔\u001b[39m \u001b[34mlubridate\u001b[39m 1.9.3     \u001b[32m✔\u001b[39m \u001b[34mtidyr    \u001b[39m 1.3.1\n",
      "\u001b[32m✔\u001b[39m \u001b[34mpurrr    \u001b[39m 1.0.2     \n",
      "── \u001b[1mConflicts\u001b[22m ────────────────────────────────────────── tidyverse_conflicts() ──\n",
      "\u001b[31m✖\u001b[39m \u001b[34mdplyr\u001b[39m::\u001b[32mfilter()\u001b[39m masks \u001b[34mstats\u001b[39m::filter()\n",
      "\u001b[31m✖\u001b[39m \u001b[34mdplyr\u001b[39m::\u001b[32mlag()\u001b[39m    masks \u001b[34mstats\u001b[39m::lag()\n",
      "\u001b[36mℹ\u001b[39m Use the conflicted package (\u001b[3m\u001b[34m<http://conflicted.r-lib.org/>\u001b[39m\u001b[23m) to force all conflicts to become errors\n"
     ]
    }
   ],
   "source": [
    "library(tidyverse)"
   ]
  },
  {
   "cell_type": "markdown",
   "id": "288058ca-325d-4cad-9c99-8164b567a9f8",
   "metadata": {},
   "source": [
    "## Pool1"
   ]
  },
  {
   "cell_type": "code",
   "execution_count": 2,
   "id": "4f851efd-7e55-46ae-b01d-25e2fa68cd7c",
   "metadata": {
    "execution": {
     "iopub.execute_input": "2025-03-21T00:46:49.397114Z",
     "iopub.status.busy": "2025-03-21T00:46:49.361243Z",
     "iopub.status.idle": "2025-03-21T00:46:49.483806Z",
     "shell.execute_reply": "2025-03-21T00:46:49.482297Z"
    }
   },
   "outputs": [],
   "source": [
    "# import DNA counts for Pool 1\n",
    "dna_counts_pool <- read.table(\"../data/pool1_dna_counts_allelic.txt\", header=TRUE)"
   ]
  },
  {
   "cell_type": "code",
   "execution_count": 3,
   "id": "28ee85cd-1c5b-49ed-9f60-4a1df9f8388d",
   "metadata": {
    "execution": {
     "iopub.execute_input": "2025-03-21T00:46:49.487663Z",
     "iopub.status.busy": "2025-03-21T00:46:49.486552Z",
     "iopub.status.idle": "2025-03-21T00:46:49.688114Z",
     "shell.execute_reply": "2025-03-21T00:46:49.686626Z"
    }
   },
   "outputs": [
    {
     "data": {
      "text/html": [
       "<table class=\"dataframe\">\n",
       "<caption>A data.frame: 6 × 600</caption>\n",
       "<thead>\n",
       "\t<tr><th></th><th scope=col>V1.dna.r1_1_ref</th><th scope=col>V1.dna.r1_1_alt</th><th scope=col>V1.dna.r1_2_ref</th><th scope=col>V1.dna.r1_2_alt</th><th scope=col>V1.dna.r1_3_ref</th><th scope=col>V1.dna.r1_3_alt</th><th scope=col>V1.dna.r1_4_ref</th><th scope=col>V1.dna.r1_4_alt</th><th scope=col>V1.dna.r1_5_ref</th><th scope=col>V1.dna.r1_5_alt</th><th scope=col>⋯</th><th scope=col>V2.dna.r3_46_ref</th><th scope=col>V2.dna.r3_46_alt</th><th scope=col>V2.dna.r3_47_ref</th><th scope=col>V2.dna.r3_47_alt</th><th scope=col>V2.dna.r3_48_ref</th><th scope=col>V2.dna.r3_48_alt</th><th scope=col>V2.dna.r3_49_ref</th><th scope=col>V2.dna.r3_49_alt</th><th scope=col>V2.dna.r3_50_ref</th><th scope=col>V2.dna.r3_50_alt</th></tr>\n",
       "\t<tr><th></th><th scope=col>&lt;int&gt;</th><th scope=col>&lt;int&gt;</th><th scope=col>&lt;int&gt;</th><th scope=col>&lt;int&gt;</th><th scope=col>&lt;int&gt;</th><th scope=col>&lt;int&gt;</th><th scope=col>&lt;int&gt;</th><th scope=col>&lt;int&gt;</th><th scope=col>&lt;int&gt;</th><th scope=col>&lt;int&gt;</th><th scope=col>⋯</th><th scope=col>&lt;int&gt;</th><th scope=col>&lt;int&gt;</th><th scope=col>&lt;int&gt;</th><th scope=col>&lt;int&gt;</th><th scope=col>&lt;int&gt;</th><th scope=col>&lt;int&gt;</th><th scope=col>&lt;int&gt;</th><th scope=col>&lt;int&gt;</th><th scope=col>&lt;int&gt;</th><th scope=col>&lt;int&gt;</th></tr>\n",
       "</thead>\n",
       "<tbody>\n",
       "\t<tr><th scope=row>chr1_6147297_rs11583631_C_T</th><td> 0</td><td>  0</td><td>  1</td><td>  0</td><td> 0</td><td> 0</td><td> 0</td><td> 0</td><td>  0</td><td>  0</td><td>⋯</td><td>  0</td><td>  0</td><td> 12</td><td>  2</td><td>  0</td><td> 11</td><td>  2</td><td>  0</td><td>  0</td><td>  0</td></tr>\n",
       "\t<tr><th scope=row>chr1_6147340_rs11584419_A_C</th><td> 0</td><td>  2</td><td>  0</td><td>  0</td><td> 0</td><td> 0</td><td> 0</td><td> 0</td><td>  1</td><td>  0</td><td>⋯</td><td>  0</td><td>  0</td><td>  0</td><td>  0</td><td>  0</td><td>  0</td><td>  0</td><td>  0</td><td>  0</td><td>  0</td></tr>\n",
       "\t<tr><th scope=row>chr1_6157296_rs749435_T_C</th><td> 0</td><td>  7</td><td> 22</td><td> 10</td><td> 5</td><td> 2</td><td> 5</td><td> 1</td><td>  2</td><td> 38</td><td>⋯</td><td> 41</td><td> 15</td><td>222</td><td>  8</td><td>  0</td><td>  5</td><td> 40</td><td> 17</td><td> 47</td><td> 15</td></tr>\n",
       "\t<tr><th scope=row>chr1_6258793_rs3789524_A_G</th><td>68</td><td>106</td><td>148</td><td>111</td><td>10</td><td>32</td><td>67</td><td>90</td><td>119</td><td>183</td><td>⋯</td><td>355</td><td> 73</td><td>259</td><td>304</td><td>305</td><td>723</td><td>190</td><td>336</td><td>376</td><td>611</td></tr>\n",
       "\t<tr><th scope=row>chr1_6259024_rs3789522_C_T</th><td> 1</td><td> 34</td><td> 12</td><td> 26</td><td>28</td><td>22</td><td>12</td><td>17</td><td> 52</td><td> 62</td><td>⋯</td><td>529</td><td>187</td><td> 76</td><td>132</td><td>116</td><td>743</td><td>341</td><td>218</td><td>544</td><td>157</td></tr>\n",
       "\t<tr><th scope=row>chr1_6260662_rs11121478_A_C</th><td> 0</td><td>  1</td><td>  0</td><td>  1</td><td> 1</td><td> 0</td><td> 0</td><td> 0</td><td>  0</td><td>  0</td><td>⋯</td><td>  0</td><td>  4</td><td>  0</td><td>  0</td><td>  0</td><td>  0</td><td>  0</td><td>  0</td><td> 13</td><td>  3</td></tr>\n",
       "</tbody>\n",
       "</table>\n"
      ],
      "text/latex": [
       "A data.frame: 6 × 600\n",
       "\\begin{tabular}{r|lllllllllllllllllllll}\n",
       "  & V1.dna.r1\\_1\\_ref & V1.dna.r1\\_1\\_alt & V1.dna.r1\\_2\\_ref & V1.dna.r1\\_2\\_alt & V1.dna.r1\\_3\\_ref & V1.dna.r1\\_3\\_alt & V1.dna.r1\\_4\\_ref & V1.dna.r1\\_4\\_alt & V1.dna.r1\\_5\\_ref & V1.dna.r1\\_5\\_alt & ⋯ & V2.dna.r3\\_46\\_ref & V2.dna.r3\\_46\\_alt & V2.dna.r3\\_47\\_ref & V2.dna.r3\\_47\\_alt & V2.dna.r3\\_48\\_ref & V2.dna.r3\\_48\\_alt & V2.dna.r3\\_49\\_ref & V2.dna.r3\\_49\\_alt & V2.dna.r3\\_50\\_ref & V2.dna.r3\\_50\\_alt\\\\\n",
       "  & <int> & <int> & <int> & <int> & <int> & <int> & <int> & <int> & <int> & <int> & ⋯ & <int> & <int> & <int> & <int> & <int> & <int> & <int> & <int> & <int> & <int>\\\\\n",
       "\\hline\n",
       "\tchr1\\_6147297\\_rs11583631\\_C\\_T &  0 &   0 &   1 &   0 &  0 &  0 &  0 &  0 &   0 &   0 & ⋯ &   0 &   0 &  12 &   2 &   0 &  11 &   2 &   0 &   0 &   0\\\\\n",
       "\tchr1\\_6147340\\_rs11584419\\_A\\_C &  0 &   2 &   0 &   0 &  0 &  0 &  0 &  0 &   1 &   0 & ⋯ &   0 &   0 &   0 &   0 &   0 &   0 &   0 &   0 &   0 &   0\\\\\n",
       "\tchr1\\_6157296\\_rs749435\\_T\\_C &  0 &   7 &  22 &  10 &  5 &  2 &  5 &  1 &   2 &  38 & ⋯ &  41 &  15 & 222 &   8 &   0 &   5 &  40 &  17 &  47 &  15\\\\\n",
       "\tchr1\\_6258793\\_rs3789524\\_A\\_G & 68 & 106 & 148 & 111 & 10 & 32 & 67 & 90 & 119 & 183 & ⋯ & 355 &  73 & 259 & 304 & 305 & 723 & 190 & 336 & 376 & 611\\\\\n",
       "\tchr1\\_6259024\\_rs3789522\\_C\\_T &  1 &  34 &  12 &  26 & 28 & 22 & 12 & 17 &  52 &  62 & ⋯ & 529 & 187 &  76 & 132 & 116 & 743 & 341 & 218 & 544 & 157\\\\\n",
       "\tchr1\\_6260662\\_rs11121478\\_A\\_C &  0 &   1 &   0 &   1 &  1 &  0 &  0 &  0 &   0 &   0 & ⋯ &   0 &   4 &   0 &   0 &   0 &   0 &   0 &   0 &  13 &   3\\\\\n",
       "\\end{tabular}\n"
      ],
      "text/markdown": [
       "\n",
       "A data.frame: 6 × 600\n",
       "\n",
       "| <!--/--> | V1.dna.r1_1_ref &lt;int&gt; | V1.dna.r1_1_alt &lt;int&gt; | V1.dna.r1_2_ref &lt;int&gt; | V1.dna.r1_2_alt &lt;int&gt; | V1.dna.r1_3_ref &lt;int&gt; | V1.dna.r1_3_alt &lt;int&gt; | V1.dna.r1_4_ref &lt;int&gt; | V1.dna.r1_4_alt &lt;int&gt; | V1.dna.r1_5_ref &lt;int&gt; | V1.dna.r1_5_alt &lt;int&gt; | ⋯ ⋯ | V2.dna.r3_46_ref &lt;int&gt; | V2.dna.r3_46_alt &lt;int&gt; | V2.dna.r3_47_ref &lt;int&gt; | V2.dna.r3_47_alt &lt;int&gt; | V2.dna.r3_48_ref &lt;int&gt; | V2.dna.r3_48_alt &lt;int&gt; | V2.dna.r3_49_ref &lt;int&gt; | V2.dna.r3_49_alt &lt;int&gt; | V2.dna.r3_50_ref &lt;int&gt; | V2.dna.r3_50_alt &lt;int&gt; |\n",
       "|---|---|---|---|---|---|---|---|---|---|---|---|---|---|---|---|---|---|---|---|---|---|\n",
       "| chr1_6147297_rs11583631_C_T |  0 |   0 |   1 |   0 |  0 |  0 |  0 |  0 |   0 |   0 | ⋯ |   0 |   0 |  12 |   2 |   0 |  11 |   2 |   0 |   0 |   0 |\n",
       "| chr1_6147340_rs11584419_A_C |  0 |   2 |   0 |   0 |  0 |  0 |  0 |  0 |   1 |   0 | ⋯ |   0 |   0 |   0 |   0 |   0 |   0 |   0 |   0 |   0 |   0 |\n",
       "| chr1_6157296_rs749435_T_C |  0 |   7 |  22 |  10 |  5 |  2 |  5 |  1 |   2 |  38 | ⋯ |  41 |  15 | 222 |   8 |   0 |   5 |  40 |  17 |  47 |  15 |\n",
       "| chr1_6258793_rs3789524_A_G | 68 | 106 | 148 | 111 | 10 | 32 | 67 | 90 | 119 | 183 | ⋯ | 355 |  73 | 259 | 304 | 305 | 723 | 190 | 336 | 376 | 611 |\n",
       "| chr1_6259024_rs3789522_C_T |  1 |  34 |  12 |  26 | 28 | 22 | 12 | 17 |  52 |  62 | ⋯ | 529 | 187 |  76 | 132 | 116 | 743 | 341 | 218 | 544 | 157 |\n",
       "| chr1_6260662_rs11121478_A_C |  0 |   1 |   0 |   1 |  1 |  0 |  0 |  0 |   0 |   0 | ⋯ |   0 |   4 |   0 |   0 |   0 |   0 |   0 |   0 |  13 |   3 |\n",
       "\n"
      ],
      "text/plain": [
       "                            V1.dna.r1_1_ref V1.dna.r1_1_alt V1.dna.r1_2_ref\n",
       "chr1_6147297_rs11583631_C_T  0                0               1            \n",
       "chr1_6147340_rs11584419_A_C  0                2               0            \n",
       "chr1_6157296_rs749435_T_C    0                7              22            \n",
       "chr1_6258793_rs3789524_A_G  68              106             148            \n",
       "chr1_6259024_rs3789522_C_T   1               34              12            \n",
       "chr1_6260662_rs11121478_A_C  0                1               0            \n",
       "                            V1.dna.r1_2_alt V1.dna.r1_3_ref V1.dna.r1_3_alt\n",
       "chr1_6147297_rs11583631_C_T   0              0               0             \n",
       "chr1_6147340_rs11584419_A_C   0              0               0             \n",
       "chr1_6157296_rs749435_T_C    10              5               2             \n",
       "chr1_6258793_rs3789524_A_G  111             10              32             \n",
       "chr1_6259024_rs3789522_C_T   26             28              22             \n",
       "chr1_6260662_rs11121478_A_C   1              1               0             \n",
       "                            V1.dna.r1_4_ref V1.dna.r1_4_alt V1.dna.r1_5_ref\n",
       "chr1_6147297_rs11583631_C_T  0               0                0            \n",
       "chr1_6147340_rs11584419_A_C  0               0                1            \n",
       "chr1_6157296_rs749435_T_C    5               1                2            \n",
       "chr1_6258793_rs3789524_A_G  67              90              119            \n",
       "chr1_6259024_rs3789522_C_T  12              17               52            \n",
       "chr1_6260662_rs11121478_A_C  0               0                0            \n",
       "                            V1.dna.r1_5_alt ⋯ V2.dna.r3_46_ref V2.dna.r3_46_alt\n",
       "chr1_6147297_rs11583631_C_T   0             ⋯   0                0             \n",
       "chr1_6147340_rs11584419_A_C   0             ⋯   0                0             \n",
       "chr1_6157296_rs749435_T_C    38             ⋯  41               15             \n",
       "chr1_6258793_rs3789524_A_G  183             ⋯ 355               73             \n",
       "chr1_6259024_rs3789522_C_T   62             ⋯ 529              187             \n",
       "chr1_6260662_rs11121478_A_C   0             ⋯   0                4             \n",
       "                            V2.dna.r3_47_ref V2.dna.r3_47_alt V2.dna.r3_48_ref\n",
       "chr1_6147297_rs11583631_C_T  12                2                0             \n",
       "chr1_6147340_rs11584419_A_C   0                0                0             \n",
       "chr1_6157296_rs749435_T_C   222                8                0             \n",
       "chr1_6258793_rs3789524_A_G  259              304              305             \n",
       "chr1_6259024_rs3789522_C_T   76              132              116             \n",
       "chr1_6260662_rs11121478_A_C   0                0                0             \n",
       "                            V2.dna.r3_48_alt V2.dna.r3_49_ref V2.dna.r3_49_alt\n",
       "chr1_6147297_rs11583631_C_T  11                2                0             \n",
       "chr1_6147340_rs11584419_A_C   0                0                0             \n",
       "chr1_6157296_rs749435_T_C     5               40               17             \n",
       "chr1_6258793_rs3789524_A_G  723              190              336             \n",
       "chr1_6259024_rs3789522_C_T  743              341              218             \n",
       "chr1_6260662_rs11121478_A_C   0                0                0             \n",
       "                            V2.dna.r3_50_ref V2.dna.r3_50_alt\n",
       "chr1_6147297_rs11583631_C_T   0                0             \n",
       "chr1_6147340_rs11584419_A_C   0                0             \n",
       "chr1_6157296_rs749435_T_C    47               15             \n",
       "chr1_6258793_rs3789524_A_G  376              611             \n",
       "chr1_6259024_rs3789522_C_T  544              157             \n",
       "chr1_6260662_rs11121478_A_C  13                3             "
      ]
     },
     "metadata": {},
     "output_type": "display_data"
    }
   ],
   "source": [
    "head(dna_counts_pool)"
   ]
  },
  {
   "cell_type": "code",
   "execution_count": 4,
   "id": "eee942e5-e303-465f-8c19-815781734b11",
   "metadata": {
    "execution": {
     "iopub.execute_input": "2025-03-21T00:46:49.691865Z",
     "iopub.status.busy": "2025-03-21T00:46:49.690777Z",
     "iopub.status.idle": "2025-03-21T00:46:49.814019Z",
     "shell.execute_reply": "2025-03-21T00:46:49.812489Z"
    }
   },
   "outputs": [],
   "source": [
    "# aggregate DNA counts\n",
    "master_pool <- dna_counts_pool %>%  \n",
    "    mutate(V1_DNA_ref_count = rowSums(select(., starts_with(\"V1\") & ends_with(\"ref\")))) %>% \n",
    "    mutate(V1_DNA_alt_count = rowSums(select(., starts_with(\"V1\") & ends_with(\"alt\")))) %>% \n",
    "    mutate(V2_DNA_ref_count = rowSums(select(., starts_with(\"V2\") & ends_with(\"ref\")))) %>% \n",
    "    mutate(V2_DNA_alt_count = rowSums(select(., starts_with(\"V2\") & ends_with(\"alt\")))) %>% \n",
    "    mutate(V1_DNA_ref_CPM = (V1_DNA_ref_count / (sum(V1_DNA_ref_count) + sum(V1_DNA_alt_count))) * 1000000) %>%\n",
    "    mutate(V1_DNA_alt_CPM = (V1_DNA_alt_count / (sum(V1_DNA_ref_count) + sum(V1_DNA_alt_count))) * 1000000) %>%\n",
    "    mutate(V2_DNA_ref_CPM = (V2_DNA_ref_count / (sum(V2_DNA_ref_count) + sum(V2_DNA_alt_count))) * 1000000) %>%\n",
    "    mutate(V2_DNA_alt_CPM = (V2_DNA_alt_count / (sum(V2_DNA_ref_count) + sum(V2_DNA_alt_count))) * 1000000) %>%\n",
    "    mutate(DNA_CPM_QC = ifelse((V1_DNA_ref_CPM>=8 & V1_DNA_alt_CPM>=8) | \n",
    "                                 (V2_DNA_ref_CPM>=8 & V2_DNA_alt_CPM>=8), TRUE, FALSE)) %>%\n",
    "    select(V1_DNA_ref_count, V1_DNA_alt_count, V2_DNA_ref_count, V2_DNA_alt_count, V1_DNA_ref_CPM, \n",
    "           V1_DNA_alt_CPM, V2_DNA_ref_CPM, V2_DNA_alt_CPM, DNA_CPM_QC) %>% \n",
    "           rownames_to_column(\"testcre\")"
   ]
  },
  {
   "cell_type": "code",
   "execution_count": 5,
   "id": "79cc31d4-2dfe-45ba-9096-b55faa94bbc6",
   "metadata": {
    "execution": {
     "iopub.execute_input": "2025-03-21T00:46:49.817971Z",
     "iopub.status.busy": "2025-03-21T00:46:49.816850Z",
     "iopub.status.idle": "2025-03-21T00:46:49.839314Z",
     "shell.execute_reply": "2025-03-21T00:46:49.837992Z"
    }
   },
   "outputs": [
    {
     "data": {
      "text/html": [
       "<table class=\"dataframe\">\n",
       "<caption>A data.frame: 6 × 10</caption>\n",
       "<thead>\n",
       "\t<tr><th></th><th scope=col>testcre</th><th scope=col>V1_DNA_ref_count</th><th scope=col>V1_DNA_alt_count</th><th scope=col>V2_DNA_ref_count</th><th scope=col>V2_DNA_alt_count</th><th scope=col>V1_DNA_ref_CPM</th><th scope=col>V1_DNA_alt_CPM</th><th scope=col>V2_DNA_ref_CPM</th><th scope=col>V2_DNA_alt_CPM</th><th scope=col>DNA_CPM_QC</th></tr>\n",
       "\t<tr><th></th><th scope=col>&lt;chr&gt;</th><th scope=col>&lt;dbl&gt;</th><th scope=col>&lt;dbl&gt;</th><th scope=col>&lt;dbl&gt;</th><th scope=col>&lt;dbl&gt;</th><th scope=col>&lt;dbl&gt;</th><th scope=col>&lt;dbl&gt;</th><th scope=col>&lt;dbl&gt;</th><th scope=col>&lt;dbl&gt;</th><th scope=col>&lt;lgl&gt;</th></tr>\n",
       "</thead>\n",
       "<tbody>\n",
       "\t<tr><th scope=row>1</th><td>chr1_6147297_rs11583631_C_T</td><td>  39</td><td>   36</td><td>  193</td><td>  234</td><td>   5.812979</td><td>   5.365827</td><td>   6.337149</td><td>   7.683383</td><td>FALSE</td></tr>\n",
       "\t<tr><th scope=row>2</th><td>chr1_6147340_rs11584419_A_C</td><td>  29</td><td>   43</td><td>  191</td><td>  368</td><td>   4.322472</td><td>   6.409182</td><td>   6.271479</td><td>  12.083269</td><td>FALSE</td></tr>\n",
       "\t<tr><th scope=row>3</th><td>chr1_6157296_rs749435_T_C  </td><td> 870</td><td>  899</td><td> 5367</td><td> 4969</td><td> 129.674157</td><td> 133.996629</td><td> 176.225288</td><td> 163.156969</td><td> TRUE</td></tr>\n",
       "\t<tr><th scope=row>4</th><td>chr1_6258793_rs3789524_A_G </td><td>9743</td><td>14828</td><td>46568</td><td>70300</td><td>1452.201509</td><td>2210.124600</td><td>1529.058916</td><td>2308.298441</td><td> TRUE</td></tr>\n",
       "\t<tr><th scope=row>5</th><td>chr1_6259024_rs3789522_C_T </td><td>7689</td><td> 6910</td><td>35203</td><td>29103</td><td>1146.051258</td><td>1029.940720</td><td>1155.889474</td><td> 955.596153</td><td> TRUE</td></tr>\n",
       "\t<tr><th scope=row>6</th><td>chr1_6260662_rs11121478_A_C</td><td> 128</td><td>   43</td><td>  952</td><td>  499</td><td>  19.078497</td><td>   6.409182</td><td>  31.258892</td><td>  16.384650</td><td> TRUE</td></tr>\n",
       "</tbody>\n",
       "</table>\n"
      ],
      "text/latex": [
       "A data.frame: 6 × 10\n",
       "\\begin{tabular}{r|llllllllll}\n",
       "  & testcre & V1\\_DNA\\_ref\\_count & V1\\_DNA\\_alt\\_count & V2\\_DNA\\_ref\\_count & V2\\_DNA\\_alt\\_count & V1\\_DNA\\_ref\\_CPM & V1\\_DNA\\_alt\\_CPM & V2\\_DNA\\_ref\\_CPM & V2\\_DNA\\_alt\\_CPM & DNA\\_CPM\\_QC\\\\\n",
       "  & <chr> & <dbl> & <dbl> & <dbl> & <dbl> & <dbl> & <dbl> & <dbl> & <dbl> & <lgl>\\\\\n",
       "\\hline\n",
       "\t1 & chr1\\_6147297\\_rs11583631\\_C\\_T &   39 &    36 &   193 &   234 &    5.812979 &    5.365827 &    6.337149 &    7.683383 & FALSE\\\\\n",
       "\t2 & chr1\\_6147340\\_rs11584419\\_A\\_C &   29 &    43 &   191 &   368 &    4.322472 &    6.409182 &    6.271479 &   12.083269 & FALSE\\\\\n",
       "\t3 & chr1\\_6157296\\_rs749435\\_T\\_C   &  870 &   899 &  5367 &  4969 &  129.674157 &  133.996629 &  176.225288 &  163.156969 &  TRUE\\\\\n",
       "\t4 & chr1\\_6258793\\_rs3789524\\_A\\_G  & 9743 & 14828 & 46568 & 70300 & 1452.201509 & 2210.124600 & 1529.058916 & 2308.298441 &  TRUE\\\\\n",
       "\t5 & chr1\\_6259024\\_rs3789522\\_C\\_T  & 7689 &  6910 & 35203 & 29103 & 1146.051258 & 1029.940720 & 1155.889474 &  955.596153 &  TRUE\\\\\n",
       "\t6 & chr1\\_6260662\\_rs11121478\\_A\\_C &  128 &    43 &   952 &   499 &   19.078497 &    6.409182 &   31.258892 &   16.384650 &  TRUE\\\\\n",
       "\\end{tabular}\n"
      ],
      "text/markdown": [
       "\n",
       "A data.frame: 6 × 10\n",
       "\n",
       "| <!--/--> | testcre &lt;chr&gt; | V1_DNA_ref_count &lt;dbl&gt; | V1_DNA_alt_count &lt;dbl&gt; | V2_DNA_ref_count &lt;dbl&gt; | V2_DNA_alt_count &lt;dbl&gt; | V1_DNA_ref_CPM &lt;dbl&gt; | V1_DNA_alt_CPM &lt;dbl&gt; | V2_DNA_ref_CPM &lt;dbl&gt; | V2_DNA_alt_CPM &lt;dbl&gt; | DNA_CPM_QC &lt;lgl&gt; |\n",
       "|---|---|---|---|---|---|---|---|---|---|---|\n",
       "| 1 | chr1_6147297_rs11583631_C_T |   39 |    36 |   193 |   234 |    5.812979 |    5.365827 |    6.337149 |    7.683383 | FALSE |\n",
       "| 2 | chr1_6147340_rs11584419_A_C |   29 |    43 |   191 |   368 |    4.322472 |    6.409182 |    6.271479 |   12.083269 | FALSE |\n",
       "| 3 | chr1_6157296_rs749435_T_C   |  870 |   899 |  5367 |  4969 |  129.674157 |  133.996629 |  176.225288 |  163.156969 |  TRUE |\n",
       "| 4 | chr1_6258793_rs3789524_A_G  | 9743 | 14828 | 46568 | 70300 | 1452.201509 | 2210.124600 | 1529.058916 | 2308.298441 |  TRUE |\n",
       "| 5 | chr1_6259024_rs3789522_C_T  | 7689 |  6910 | 35203 | 29103 | 1146.051258 | 1029.940720 | 1155.889474 |  955.596153 |  TRUE |\n",
       "| 6 | chr1_6260662_rs11121478_A_C |  128 |    43 |   952 |   499 |   19.078497 |    6.409182 |   31.258892 |   16.384650 |  TRUE |\n",
       "\n"
      ],
      "text/plain": [
       "  testcre                     V1_DNA_ref_count V1_DNA_alt_count\n",
       "1 chr1_6147297_rs11583631_C_T   39                36           \n",
       "2 chr1_6147340_rs11584419_A_C   29                43           \n",
       "3 chr1_6157296_rs749435_T_C    870               899           \n",
       "4 chr1_6258793_rs3789524_A_G  9743             14828           \n",
       "5 chr1_6259024_rs3789522_C_T  7689              6910           \n",
       "6 chr1_6260662_rs11121478_A_C  128                43           \n",
       "  V2_DNA_ref_count V2_DNA_alt_count V1_DNA_ref_CPM V1_DNA_alt_CPM\n",
       "1   193              234               5.812979       5.365827   \n",
       "2   191              368               4.322472       6.409182   \n",
       "3  5367             4969             129.674157     133.996629   \n",
       "4 46568            70300            1452.201509    2210.124600   \n",
       "5 35203            29103            1146.051258    1029.940720   \n",
       "6   952              499              19.078497       6.409182   \n",
       "  V2_DNA_ref_CPM V2_DNA_alt_CPM DNA_CPM_QC\n",
       "1    6.337149       7.683383    FALSE     \n",
       "2    6.271479      12.083269    FALSE     \n",
       "3  176.225288     163.156969     TRUE     \n",
       "4 1529.058916    2308.298441     TRUE     \n",
       "5 1155.889474     955.596153     TRUE     \n",
       "6   31.258892      16.384650     TRUE     "
      ]
     },
     "metadata": {},
     "output_type": "display_data"
    }
   ],
   "source": [
    "head(master_pool)"
   ]
  },
  {
   "cell_type": "code",
   "execution_count": 6,
   "id": "9fe9b75f-f9ee-49f9-b526-faced7f40b73",
   "metadata": {
    "execution": {
     "iopub.execute_input": "2025-03-21T00:46:49.842949Z",
     "iopub.status.busy": "2025-03-21T00:46:49.841905Z",
     "iopub.status.idle": "2025-03-21T00:46:49.854395Z",
     "shell.execute_reply": "2025-03-21T00:46:49.853126Z"
    }
   },
   "outputs": [],
   "source": [
    "# split DNA count row names into enhancer information\n",
    "pool_names <- data.frame(do.call(rbind, strsplit(master_pool$testcre, \"_\")))\n",
    "colnames(pool_names) <- c(\"chrom\", \"hg19_pos\", \"snp\", \"allele\", \"mutation\")"
   ]
  },
  {
   "cell_type": "code",
   "execution_count": 7,
   "id": "a1b5f08a-954c-4a38-8ef4-9b1b3228dbb8",
   "metadata": {
    "execution": {
     "iopub.execute_input": "2025-03-21T00:46:49.857895Z",
     "iopub.status.busy": "2025-03-21T00:46:49.856833Z",
     "iopub.status.idle": "2025-03-21T00:46:49.871221Z",
     "shell.execute_reply": "2025-03-21T00:46:49.869909Z"
    }
   },
   "outputs": [],
   "source": [
    "# add enhancer information to master table\n",
    "master_pool <- cbind(pool_names, master_pool)"
   ]
  },
  {
   "cell_type": "code",
   "execution_count": 8,
   "id": "bb0bf820-a486-4573-8bb7-8da7bd26cfa3",
   "metadata": {
    "execution": {
     "iopub.execute_input": "2025-03-21T00:46:49.874757Z",
     "iopub.status.busy": "2025-03-21T00:46:49.873694Z",
     "iopub.status.idle": "2025-03-21T00:46:49.897843Z",
     "shell.execute_reply": "2025-03-21T00:46:49.896571Z"
    }
   },
   "outputs": [
    {
     "data": {
      "text/html": [
       "<table class=\"dataframe\">\n",
       "<caption>A data.frame: 6 × 15</caption>\n",
       "<thead>\n",
       "\t<tr><th></th><th scope=col>chrom</th><th scope=col>hg19_pos</th><th scope=col>snp</th><th scope=col>allele</th><th scope=col>mutation</th><th scope=col>testcre</th><th scope=col>V1_DNA_ref_count</th><th scope=col>V1_DNA_alt_count</th><th scope=col>V2_DNA_ref_count</th><th scope=col>V2_DNA_alt_count</th><th scope=col>V1_DNA_ref_CPM</th><th scope=col>V1_DNA_alt_CPM</th><th scope=col>V2_DNA_ref_CPM</th><th scope=col>V2_DNA_alt_CPM</th><th scope=col>DNA_CPM_QC</th></tr>\n",
       "\t<tr><th></th><th scope=col>&lt;chr&gt;</th><th scope=col>&lt;chr&gt;</th><th scope=col>&lt;chr&gt;</th><th scope=col>&lt;chr&gt;</th><th scope=col>&lt;chr&gt;</th><th scope=col>&lt;chr&gt;</th><th scope=col>&lt;dbl&gt;</th><th scope=col>&lt;dbl&gt;</th><th scope=col>&lt;dbl&gt;</th><th scope=col>&lt;dbl&gt;</th><th scope=col>&lt;dbl&gt;</th><th scope=col>&lt;dbl&gt;</th><th scope=col>&lt;dbl&gt;</th><th scope=col>&lt;dbl&gt;</th><th scope=col>&lt;lgl&gt;</th></tr>\n",
       "</thead>\n",
       "<tbody>\n",
       "\t<tr><th scope=row>1</th><td>chr1</td><td>6147297</td><td>rs11583631</td><td>C</td><td>T</td><td>chr1_6147297_rs11583631_C_T</td><td>  39</td><td>   36</td><td>  193</td><td>  234</td><td>   5.812979</td><td>   5.365827</td><td>   6.337149</td><td>   7.683383</td><td>FALSE</td></tr>\n",
       "\t<tr><th scope=row>2</th><td>chr1</td><td>6147340</td><td>rs11584419</td><td>A</td><td>C</td><td>chr1_6147340_rs11584419_A_C</td><td>  29</td><td>   43</td><td>  191</td><td>  368</td><td>   4.322472</td><td>   6.409182</td><td>   6.271479</td><td>  12.083269</td><td>FALSE</td></tr>\n",
       "\t<tr><th scope=row>3</th><td>chr1</td><td>6157296</td><td>rs749435  </td><td>T</td><td>C</td><td>chr1_6157296_rs749435_T_C  </td><td> 870</td><td>  899</td><td> 5367</td><td> 4969</td><td> 129.674157</td><td> 133.996629</td><td> 176.225288</td><td> 163.156969</td><td> TRUE</td></tr>\n",
       "\t<tr><th scope=row>4</th><td>chr1</td><td>6258793</td><td>rs3789524 </td><td>A</td><td>G</td><td>chr1_6258793_rs3789524_A_G </td><td>9743</td><td>14828</td><td>46568</td><td>70300</td><td>1452.201509</td><td>2210.124600</td><td>1529.058916</td><td>2308.298441</td><td> TRUE</td></tr>\n",
       "\t<tr><th scope=row>5</th><td>chr1</td><td>6259024</td><td>rs3789522 </td><td>C</td><td>T</td><td>chr1_6259024_rs3789522_C_T </td><td>7689</td><td> 6910</td><td>35203</td><td>29103</td><td>1146.051258</td><td>1029.940720</td><td>1155.889474</td><td> 955.596153</td><td> TRUE</td></tr>\n",
       "\t<tr><th scope=row>6</th><td>chr1</td><td>6260662</td><td>rs11121478</td><td>A</td><td>C</td><td>chr1_6260662_rs11121478_A_C</td><td> 128</td><td>   43</td><td>  952</td><td>  499</td><td>  19.078497</td><td>   6.409182</td><td>  31.258892</td><td>  16.384650</td><td> TRUE</td></tr>\n",
       "</tbody>\n",
       "</table>\n"
      ],
      "text/latex": [
       "A data.frame: 6 × 15\n",
       "\\begin{tabular}{r|lllllllllllllll}\n",
       "  & chrom & hg19\\_pos & snp & allele & mutation & testcre & V1\\_DNA\\_ref\\_count & V1\\_DNA\\_alt\\_count & V2\\_DNA\\_ref\\_count & V2\\_DNA\\_alt\\_count & V1\\_DNA\\_ref\\_CPM & V1\\_DNA\\_alt\\_CPM & V2\\_DNA\\_ref\\_CPM & V2\\_DNA\\_alt\\_CPM & DNA\\_CPM\\_QC\\\\\n",
       "  & <chr> & <chr> & <chr> & <chr> & <chr> & <chr> & <dbl> & <dbl> & <dbl> & <dbl> & <dbl> & <dbl> & <dbl> & <dbl> & <lgl>\\\\\n",
       "\\hline\n",
       "\t1 & chr1 & 6147297 & rs11583631 & C & T & chr1\\_6147297\\_rs11583631\\_C\\_T &   39 &    36 &   193 &   234 &    5.812979 &    5.365827 &    6.337149 &    7.683383 & FALSE\\\\\n",
       "\t2 & chr1 & 6147340 & rs11584419 & A & C & chr1\\_6147340\\_rs11584419\\_A\\_C &   29 &    43 &   191 &   368 &    4.322472 &    6.409182 &    6.271479 &   12.083269 & FALSE\\\\\n",
       "\t3 & chr1 & 6157296 & rs749435   & T & C & chr1\\_6157296\\_rs749435\\_T\\_C   &  870 &   899 &  5367 &  4969 &  129.674157 &  133.996629 &  176.225288 &  163.156969 &  TRUE\\\\\n",
       "\t4 & chr1 & 6258793 & rs3789524  & A & G & chr1\\_6258793\\_rs3789524\\_A\\_G  & 9743 & 14828 & 46568 & 70300 & 1452.201509 & 2210.124600 & 1529.058916 & 2308.298441 &  TRUE\\\\\n",
       "\t5 & chr1 & 6259024 & rs3789522  & C & T & chr1\\_6259024\\_rs3789522\\_C\\_T  & 7689 &  6910 & 35203 & 29103 & 1146.051258 & 1029.940720 & 1155.889474 &  955.596153 &  TRUE\\\\\n",
       "\t6 & chr1 & 6260662 & rs11121478 & A & C & chr1\\_6260662\\_rs11121478\\_A\\_C &  128 &    43 &   952 &   499 &   19.078497 &    6.409182 &   31.258892 &   16.384650 &  TRUE\\\\\n",
       "\\end{tabular}\n"
      ],
      "text/markdown": [
       "\n",
       "A data.frame: 6 × 15\n",
       "\n",
       "| <!--/--> | chrom &lt;chr&gt; | hg19_pos &lt;chr&gt; | snp &lt;chr&gt; | allele &lt;chr&gt; | mutation &lt;chr&gt; | testcre &lt;chr&gt; | V1_DNA_ref_count &lt;dbl&gt; | V1_DNA_alt_count &lt;dbl&gt; | V2_DNA_ref_count &lt;dbl&gt; | V2_DNA_alt_count &lt;dbl&gt; | V1_DNA_ref_CPM &lt;dbl&gt; | V1_DNA_alt_CPM &lt;dbl&gt; | V2_DNA_ref_CPM &lt;dbl&gt; | V2_DNA_alt_CPM &lt;dbl&gt; | DNA_CPM_QC &lt;lgl&gt; |\n",
       "|---|---|---|---|---|---|---|---|---|---|---|---|---|---|---|---|\n",
       "| 1 | chr1 | 6147297 | rs11583631 | C | T | chr1_6147297_rs11583631_C_T |   39 |    36 |   193 |   234 |    5.812979 |    5.365827 |    6.337149 |    7.683383 | FALSE |\n",
       "| 2 | chr1 | 6147340 | rs11584419 | A | C | chr1_6147340_rs11584419_A_C |   29 |    43 |   191 |   368 |    4.322472 |    6.409182 |    6.271479 |   12.083269 | FALSE |\n",
       "| 3 | chr1 | 6157296 | rs749435   | T | C | chr1_6157296_rs749435_T_C   |  870 |   899 |  5367 |  4969 |  129.674157 |  133.996629 |  176.225288 |  163.156969 |  TRUE |\n",
       "| 4 | chr1 | 6258793 | rs3789524  | A | G | chr1_6258793_rs3789524_A_G  | 9743 | 14828 | 46568 | 70300 | 1452.201509 | 2210.124600 | 1529.058916 | 2308.298441 |  TRUE |\n",
       "| 5 | chr1 | 6259024 | rs3789522  | C | T | chr1_6259024_rs3789522_C_T  | 7689 |  6910 | 35203 | 29103 | 1146.051258 | 1029.940720 | 1155.889474 |  955.596153 |  TRUE |\n",
       "| 6 | chr1 | 6260662 | rs11121478 | A | C | chr1_6260662_rs11121478_A_C |  128 |    43 |   952 |   499 |   19.078497 |    6.409182 |   31.258892 |   16.384650 |  TRUE |\n",
       "\n"
      ],
      "text/plain": [
       "  chrom hg19_pos snp        allele mutation testcre                    \n",
       "1 chr1  6147297  rs11583631 C      T        chr1_6147297_rs11583631_C_T\n",
       "2 chr1  6147340  rs11584419 A      C        chr1_6147340_rs11584419_A_C\n",
       "3 chr1  6157296  rs749435   T      C        chr1_6157296_rs749435_T_C  \n",
       "4 chr1  6258793  rs3789524  A      G        chr1_6258793_rs3789524_A_G \n",
       "5 chr1  6259024  rs3789522  C      T        chr1_6259024_rs3789522_C_T \n",
       "6 chr1  6260662  rs11121478 A      C        chr1_6260662_rs11121478_A_C\n",
       "  V1_DNA_ref_count V1_DNA_alt_count V2_DNA_ref_count V2_DNA_alt_count\n",
       "1   39                36              193              234           \n",
       "2   29                43              191              368           \n",
       "3  870               899             5367             4969           \n",
       "4 9743             14828            46568            70300           \n",
       "5 7689              6910            35203            29103           \n",
       "6  128                43              952              499           \n",
       "  V1_DNA_ref_CPM V1_DNA_alt_CPM V2_DNA_ref_CPM V2_DNA_alt_CPM DNA_CPM_QC\n",
       "1    5.812979       5.365827       6.337149       7.683383    FALSE     \n",
       "2    4.322472       6.409182       6.271479      12.083269    FALSE     \n",
       "3  129.674157     133.996629     176.225288     163.156969     TRUE     \n",
       "4 1452.201509    2210.124600    1529.058916    2308.298441     TRUE     \n",
       "5 1146.051258    1029.940720    1155.889474     955.596153     TRUE     \n",
       "6   19.078497       6.409182      31.258892      16.384650     TRUE     "
      ]
     },
     "metadata": {},
     "output_type": "display_data"
    }
   ],
   "source": [
    "head(master_pool)"
   ]
  },
  {
   "cell_type": "code",
   "execution_count": 9,
   "id": "04016a08-8903-47f6-8030-6dbc02cc977b",
   "metadata": {
    "execution": {
     "iopub.execute_input": "2025-03-21T00:46:49.901254Z",
     "iopub.status.busy": "2025-03-21T00:46:49.900233Z",
     "iopub.status.idle": "2025-03-21T00:46:49.911333Z",
     "shell.execute_reply": "2025-03-21T00:46:49.910077Z"
    }
   },
   "outputs": [],
   "source": [
    "# make position 1-based\n",
    "master_pool <- master_pool %>% mutate(hg19_pos = as.numeric(hg19_pos) + 1)"
   ]
  },
  {
   "cell_type": "code",
   "execution_count": 10,
   "id": "36fa2c7e-43b0-4178-8e6b-b5ee3f7b50d1",
   "metadata": {
    "execution": {
     "iopub.execute_input": "2025-03-21T00:46:49.914740Z",
     "iopub.status.busy": "2025-03-21T00:46:49.913708Z",
     "iopub.status.idle": "2025-03-21T00:46:49.941847Z",
     "shell.execute_reply": "2025-03-21T00:46:49.940441Z"
    },
    "scrolled": true
   },
   "outputs": [
    {
     "data": {
      "text/html": [
       "<table class=\"dataframe\">\n",
       "<caption>A data.frame: 6 × 15</caption>\n",
       "<thead>\n",
       "\t<tr><th></th><th scope=col>chrom</th><th scope=col>hg19_pos</th><th scope=col>snp</th><th scope=col>allele</th><th scope=col>mutation</th><th scope=col>testcre</th><th scope=col>V1_DNA_ref_count</th><th scope=col>V1_DNA_alt_count</th><th scope=col>V2_DNA_ref_count</th><th scope=col>V2_DNA_alt_count</th><th scope=col>V1_DNA_ref_CPM</th><th scope=col>V1_DNA_alt_CPM</th><th scope=col>V2_DNA_ref_CPM</th><th scope=col>V2_DNA_alt_CPM</th><th scope=col>DNA_CPM_QC</th></tr>\n",
       "\t<tr><th></th><th scope=col>&lt;chr&gt;</th><th scope=col>&lt;dbl&gt;</th><th scope=col>&lt;chr&gt;</th><th scope=col>&lt;chr&gt;</th><th scope=col>&lt;chr&gt;</th><th scope=col>&lt;chr&gt;</th><th scope=col>&lt;dbl&gt;</th><th scope=col>&lt;dbl&gt;</th><th scope=col>&lt;dbl&gt;</th><th scope=col>&lt;dbl&gt;</th><th scope=col>&lt;dbl&gt;</th><th scope=col>&lt;dbl&gt;</th><th scope=col>&lt;dbl&gt;</th><th scope=col>&lt;dbl&gt;</th><th scope=col>&lt;lgl&gt;</th></tr>\n",
       "</thead>\n",
       "<tbody>\n",
       "\t<tr><th scope=row>1</th><td>chr1</td><td>6147298</td><td>rs11583631</td><td>C</td><td>T</td><td>chr1_6147297_rs11583631_C_T</td><td>  39</td><td>   36</td><td>  193</td><td>  234</td><td>   5.812979</td><td>   5.365827</td><td>   6.337149</td><td>   7.683383</td><td>FALSE</td></tr>\n",
       "\t<tr><th scope=row>2</th><td>chr1</td><td>6147341</td><td>rs11584419</td><td>A</td><td>C</td><td>chr1_6147340_rs11584419_A_C</td><td>  29</td><td>   43</td><td>  191</td><td>  368</td><td>   4.322472</td><td>   6.409182</td><td>   6.271479</td><td>  12.083269</td><td>FALSE</td></tr>\n",
       "\t<tr><th scope=row>3</th><td>chr1</td><td>6157297</td><td>rs749435  </td><td>T</td><td>C</td><td>chr1_6157296_rs749435_T_C  </td><td> 870</td><td>  899</td><td> 5367</td><td> 4969</td><td> 129.674157</td><td> 133.996629</td><td> 176.225288</td><td> 163.156969</td><td> TRUE</td></tr>\n",
       "\t<tr><th scope=row>4</th><td>chr1</td><td>6258794</td><td>rs3789524 </td><td>A</td><td>G</td><td>chr1_6258793_rs3789524_A_G </td><td>9743</td><td>14828</td><td>46568</td><td>70300</td><td>1452.201509</td><td>2210.124600</td><td>1529.058916</td><td>2308.298441</td><td> TRUE</td></tr>\n",
       "\t<tr><th scope=row>5</th><td>chr1</td><td>6259025</td><td>rs3789522 </td><td>C</td><td>T</td><td>chr1_6259024_rs3789522_C_T </td><td>7689</td><td> 6910</td><td>35203</td><td>29103</td><td>1146.051258</td><td>1029.940720</td><td>1155.889474</td><td> 955.596153</td><td> TRUE</td></tr>\n",
       "\t<tr><th scope=row>6</th><td>chr1</td><td>6260663</td><td>rs11121478</td><td>A</td><td>C</td><td>chr1_6260662_rs11121478_A_C</td><td> 128</td><td>   43</td><td>  952</td><td>  499</td><td>  19.078497</td><td>   6.409182</td><td>  31.258892</td><td>  16.384650</td><td> TRUE</td></tr>\n",
       "</tbody>\n",
       "</table>\n"
      ],
      "text/latex": [
       "A data.frame: 6 × 15\n",
       "\\begin{tabular}{r|lllllllllllllll}\n",
       "  & chrom & hg19\\_pos & snp & allele & mutation & testcre & V1\\_DNA\\_ref\\_count & V1\\_DNA\\_alt\\_count & V2\\_DNA\\_ref\\_count & V2\\_DNA\\_alt\\_count & V1\\_DNA\\_ref\\_CPM & V1\\_DNA\\_alt\\_CPM & V2\\_DNA\\_ref\\_CPM & V2\\_DNA\\_alt\\_CPM & DNA\\_CPM\\_QC\\\\\n",
       "  & <chr> & <dbl> & <chr> & <chr> & <chr> & <chr> & <dbl> & <dbl> & <dbl> & <dbl> & <dbl> & <dbl> & <dbl> & <dbl> & <lgl>\\\\\n",
       "\\hline\n",
       "\t1 & chr1 & 6147298 & rs11583631 & C & T & chr1\\_6147297\\_rs11583631\\_C\\_T &   39 &    36 &   193 &   234 &    5.812979 &    5.365827 &    6.337149 &    7.683383 & FALSE\\\\\n",
       "\t2 & chr1 & 6147341 & rs11584419 & A & C & chr1\\_6147340\\_rs11584419\\_A\\_C &   29 &    43 &   191 &   368 &    4.322472 &    6.409182 &    6.271479 &   12.083269 & FALSE\\\\\n",
       "\t3 & chr1 & 6157297 & rs749435   & T & C & chr1\\_6157296\\_rs749435\\_T\\_C   &  870 &   899 &  5367 &  4969 &  129.674157 &  133.996629 &  176.225288 &  163.156969 &  TRUE\\\\\n",
       "\t4 & chr1 & 6258794 & rs3789524  & A & G & chr1\\_6258793\\_rs3789524\\_A\\_G  & 9743 & 14828 & 46568 & 70300 & 1452.201509 & 2210.124600 & 1529.058916 & 2308.298441 &  TRUE\\\\\n",
       "\t5 & chr1 & 6259025 & rs3789522  & C & T & chr1\\_6259024\\_rs3789522\\_C\\_T  & 7689 &  6910 & 35203 & 29103 & 1146.051258 & 1029.940720 & 1155.889474 &  955.596153 &  TRUE\\\\\n",
       "\t6 & chr1 & 6260663 & rs11121478 & A & C & chr1\\_6260662\\_rs11121478\\_A\\_C &  128 &    43 &   952 &   499 &   19.078497 &    6.409182 &   31.258892 &   16.384650 &  TRUE\\\\\n",
       "\\end{tabular}\n"
      ],
      "text/markdown": [
       "\n",
       "A data.frame: 6 × 15\n",
       "\n",
       "| <!--/--> | chrom &lt;chr&gt; | hg19_pos &lt;dbl&gt; | snp &lt;chr&gt; | allele &lt;chr&gt; | mutation &lt;chr&gt; | testcre &lt;chr&gt; | V1_DNA_ref_count &lt;dbl&gt; | V1_DNA_alt_count &lt;dbl&gt; | V2_DNA_ref_count &lt;dbl&gt; | V2_DNA_alt_count &lt;dbl&gt; | V1_DNA_ref_CPM &lt;dbl&gt; | V1_DNA_alt_CPM &lt;dbl&gt; | V2_DNA_ref_CPM &lt;dbl&gt; | V2_DNA_alt_CPM &lt;dbl&gt; | DNA_CPM_QC &lt;lgl&gt; |\n",
       "|---|---|---|---|---|---|---|---|---|---|---|---|---|---|---|---|\n",
       "| 1 | chr1 | 6147298 | rs11583631 | C | T | chr1_6147297_rs11583631_C_T |   39 |    36 |   193 |   234 |    5.812979 |    5.365827 |    6.337149 |    7.683383 | FALSE |\n",
       "| 2 | chr1 | 6147341 | rs11584419 | A | C | chr1_6147340_rs11584419_A_C |   29 |    43 |   191 |   368 |    4.322472 |    6.409182 |    6.271479 |   12.083269 | FALSE |\n",
       "| 3 | chr1 | 6157297 | rs749435   | T | C | chr1_6157296_rs749435_T_C   |  870 |   899 |  5367 |  4969 |  129.674157 |  133.996629 |  176.225288 |  163.156969 |  TRUE |\n",
       "| 4 | chr1 | 6258794 | rs3789524  | A | G | chr1_6258793_rs3789524_A_G  | 9743 | 14828 | 46568 | 70300 | 1452.201509 | 2210.124600 | 1529.058916 | 2308.298441 |  TRUE |\n",
       "| 5 | chr1 | 6259025 | rs3789522  | C | T | chr1_6259024_rs3789522_C_T  | 7689 |  6910 | 35203 | 29103 | 1146.051258 | 1029.940720 | 1155.889474 |  955.596153 |  TRUE |\n",
       "| 6 | chr1 | 6260663 | rs11121478 | A | C | chr1_6260662_rs11121478_A_C |  128 |    43 |   952 |   499 |   19.078497 |    6.409182 |   31.258892 |   16.384650 |  TRUE |\n",
       "\n"
      ],
      "text/plain": [
       "  chrom hg19_pos snp        allele mutation testcre                    \n",
       "1 chr1  6147298  rs11583631 C      T        chr1_6147297_rs11583631_C_T\n",
       "2 chr1  6147341  rs11584419 A      C        chr1_6147340_rs11584419_A_C\n",
       "3 chr1  6157297  rs749435   T      C        chr1_6157296_rs749435_T_C  \n",
       "4 chr1  6258794  rs3789524  A      G        chr1_6258793_rs3789524_A_G \n",
       "5 chr1  6259025  rs3789522  C      T        chr1_6259024_rs3789522_C_T \n",
       "6 chr1  6260663  rs11121478 A      C        chr1_6260662_rs11121478_A_C\n",
       "  V1_DNA_ref_count V1_DNA_alt_count V2_DNA_ref_count V2_DNA_alt_count\n",
       "1   39                36              193              234           \n",
       "2   29                43              191              368           \n",
       "3  870               899             5367             4969           \n",
       "4 9743             14828            46568            70300           \n",
       "5 7689              6910            35203            29103           \n",
       "6  128                43              952              499           \n",
       "  V1_DNA_ref_CPM V1_DNA_alt_CPM V2_DNA_ref_CPM V2_DNA_alt_CPM DNA_CPM_QC\n",
       "1    5.812979       5.365827       6.337149       7.683383    FALSE     \n",
       "2    4.322472       6.409182       6.271479      12.083269    FALSE     \n",
       "3  129.674157     133.996629     176.225288     163.156969     TRUE     \n",
       "4 1452.201509    2210.124600    1529.058916    2308.298441     TRUE     \n",
       "5 1146.051258    1029.940720    1155.889474     955.596153     TRUE     \n",
       "6   19.078497       6.409182      31.258892      16.384650     TRUE     "
      ]
     },
     "metadata": {},
     "output_type": "display_data"
    }
   ],
   "source": [
    "head(master_pool)"
   ]
  },
  {
   "cell_type": "code",
   "execution_count": 11,
   "id": "6b39526d-3ba1-45f4-af7c-51b075928d7b",
   "metadata": {
    "execution": {
     "iopub.execute_input": "2025-03-21T00:46:49.945304Z",
     "iopub.status.busy": "2025-03-21T00:46:49.944262Z",
     "iopub.status.idle": "2025-03-21T00:46:49.971530Z",
     "shell.execute_reply": "2025-03-21T00:46:49.970245Z"
    }
   },
   "outputs": [],
   "source": [
    "# save counts and CPM values for Pool\n",
    "write.table(master_pool, \"../results/pool1_dna_counts_cpm.txt\")"
   ]
  },
  {
   "cell_type": "markdown",
   "id": "3a174dd6-c87e-41b2-a456-1428be21381e",
   "metadata": {},
   "source": [
    "## Pool2"
   ]
  },
  {
   "cell_type": "code",
   "execution_count": 12,
   "id": "127654e7-e5ff-4f3f-9904-0cc8add20cec",
   "metadata": {
    "execution": {
     "iopub.execute_input": "2025-03-21T00:46:49.974965Z",
     "iopub.status.busy": "2025-03-21T00:46:49.973918Z",
     "iopub.status.idle": "2025-03-21T00:46:50.058732Z",
     "shell.execute_reply": "2025-03-21T00:46:50.057236Z"
    }
   },
   "outputs": [],
   "source": [
    "# import DNA counts for Pool 1\n",
    "dna_counts_pool <- read.table(\"../data/pool2_dna_counts_allelic.txt\", header=TRUE)"
   ]
  },
  {
   "cell_type": "code",
   "execution_count": 13,
   "id": "f9870cf9-3b7c-46ad-b252-f753574ef005",
   "metadata": {
    "execution": {
     "iopub.execute_input": "2025-03-21T00:46:50.062530Z",
     "iopub.status.busy": "2025-03-21T00:46:50.061421Z",
     "iopub.status.idle": "2025-03-21T00:46:50.263017Z",
     "shell.execute_reply": "2025-03-21T00:46:50.261480Z"
    }
   },
   "outputs": [
    {
     "data": {
      "text/html": [
       "<table class=\"dataframe\">\n",
       "<caption>A data.frame: 6 × 600</caption>\n",
       "<thead>\n",
       "\t<tr><th></th><th scope=col>V1.dna.r1_1_ref</th><th scope=col>V1.dna.r1_1_alt</th><th scope=col>V1.dna.r1_2_ref</th><th scope=col>V1.dna.r1_2_alt</th><th scope=col>V1.dna.r1_3_ref</th><th scope=col>V1.dna.r1_3_alt</th><th scope=col>V1.dna.r1_4_ref</th><th scope=col>V1.dna.r1_4_alt</th><th scope=col>V1.dna.r1_5_ref</th><th scope=col>V1.dna.r1_5_alt</th><th scope=col>⋯</th><th scope=col>V2.dna.r3_46_ref</th><th scope=col>V2.dna.r3_46_alt</th><th scope=col>V2.dna.r3_47_ref</th><th scope=col>V2.dna.r3_47_alt</th><th scope=col>V2.dna.r3_48_ref</th><th scope=col>V2.dna.r3_48_alt</th><th scope=col>V2.dna.r3_49_ref</th><th scope=col>V2.dna.r3_49_alt</th><th scope=col>V2.dna.r3_50_ref</th><th scope=col>V2.dna.r3_50_alt</th></tr>\n",
       "\t<tr><th></th><th scope=col>&lt;int&gt;</th><th scope=col>&lt;int&gt;</th><th scope=col>&lt;int&gt;</th><th scope=col>&lt;int&gt;</th><th scope=col>&lt;int&gt;</th><th scope=col>&lt;int&gt;</th><th scope=col>&lt;int&gt;</th><th scope=col>&lt;int&gt;</th><th scope=col>&lt;int&gt;</th><th scope=col>&lt;int&gt;</th><th scope=col>⋯</th><th scope=col>&lt;int&gt;</th><th scope=col>&lt;int&gt;</th><th scope=col>&lt;int&gt;</th><th scope=col>&lt;int&gt;</th><th scope=col>&lt;int&gt;</th><th scope=col>&lt;int&gt;</th><th scope=col>&lt;int&gt;</th><th scope=col>&lt;int&gt;</th><th scope=col>&lt;int&gt;</th><th scope=col>&lt;int&gt;</th></tr>\n",
       "</thead>\n",
       "<tbody>\n",
       "\t<tr><th scope=row>chr2_201172085_rs67190025_C_T</th><td>  0</td><td> 0</td><td>  3</td><td>  0</td><td>  0</td><td> 0</td><td>  0</td><td>  0</td><td> 0</td><td>  0</td><td>⋯</td><td>  0</td><td>  0</td><td>  7</td><td>  0</td><td>  0</td><td>  9</td><td>  4</td><td>  0</td><td>  9</td><td>  0</td></tr>\n",
       "\t<tr><th scope=row>chr2_201172627_rs7580924_G_C</th><td>  0</td><td> 0</td><td>  0</td><td>  6</td><td>  0</td><td> 0</td><td>  6</td><td>  0</td><td> 1</td><td>  0</td><td>⋯</td><td> 24</td><td> 13</td><td>  2</td><td>  4</td><td>  9</td><td>  1</td><td> 10</td><td>  1</td><td>  0</td><td>  0</td></tr>\n",
       "\t<tr><th scope=row>chr2_201185918_rs13028959_C_A</th><td> 47</td><td>21</td><td> 64</td><td> 39</td><td> 34</td><td>29</td><td> 52</td><td>  8</td><td>21</td><td> 14</td><td>⋯</td><td>170</td><td>106</td><td>299</td><td>270</td><td> 85</td><td> 98</td><td>661</td><td> 59</td><td> 34</td><td>191</td></tr>\n",
       "\t<tr><th scope=row>chr2_201194503_rs112467613_C_CAA</th><td>106</td><td>61</td><td>161</td><td>138</td><td>176</td><td>66</td><td>105</td><td>125</td><td>57</td><td>133</td><td>⋯</td><td>613</td><td>209</td><td>233</td><td>202</td><td>918</td><td>320</td><td>437</td><td>228</td><td>557</td><td>300</td></tr>\n",
       "\t<tr><th scope=row>chr3_38417344_rs196378_G_C</th><td>  0</td><td> 0</td><td>  1</td><td>  0</td><td>  0</td><td> 1</td><td>  0</td><td>  0</td><td> 0</td><td>  2</td><td>⋯</td><td>  0</td><td>  0</td><td>  0</td><td> 14</td><td>  0</td><td> 35</td><td>  5</td><td>  4</td><td>  3</td><td>  0</td></tr>\n",
       "\t<tr><th scope=row>chr3_38417366_rs169046_T_C</th><td>  2</td><td> 4</td><td>  0</td><td>  1</td><td>  0</td><td> 1</td><td>  0</td><td>  0</td><td> 0</td><td>  0</td><td>⋯</td><td>  2</td><td>  0</td><td>  7</td><td>  7</td><td>  1</td><td>  4</td><td> 14</td><td>  8</td><td>  0</td><td>  4</td></tr>\n",
       "</tbody>\n",
       "</table>\n"
      ],
      "text/latex": [
       "A data.frame: 6 × 600\n",
       "\\begin{tabular}{r|lllllllllllllllllllll}\n",
       "  & V1.dna.r1\\_1\\_ref & V1.dna.r1\\_1\\_alt & V1.dna.r1\\_2\\_ref & V1.dna.r1\\_2\\_alt & V1.dna.r1\\_3\\_ref & V1.dna.r1\\_3\\_alt & V1.dna.r1\\_4\\_ref & V1.dna.r1\\_4\\_alt & V1.dna.r1\\_5\\_ref & V1.dna.r1\\_5\\_alt & ⋯ & V2.dna.r3\\_46\\_ref & V2.dna.r3\\_46\\_alt & V2.dna.r3\\_47\\_ref & V2.dna.r3\\_47\\_alt & V2.dna.r3\\_48\\_ref & V2.dna.r3\\_48\\_alt & V2.dna.r3\\_49\\_ref & V2.dna.r3\\_49\\_alt & V2.dna.r3\\_50\\_ref & V2.dna.r3\\_50\\_alt\\\\\n",
       "  & <int> & <int> & <int> & <int> & <int> & <int> & <int> & <int> & <int> & <int> & ⋯ & <int> & <int> & <int> & <int> & <int> & <int> & <int> & <int> & <int> & <int>\\\\\n",
       "\\hline\n",
       "\tchr2\\_201172085\\_rs67190025\\_C\\_T &   0 &  0 &   3 &   0 &   0 &  0 &   0 &   0 &  0 &   0 & ⋯ &   0 &   0 &   7 &   0 &   0 &   9 &   4 &   0 &   9 &   0\\\\\n",
       "\tchr2\\_201172627\\_rs7580924\\_G\\_C &   0 &  0 &   0 &   6 &   0 &  0 &   6 &   0 &  1 &   0 & ⋯ &  24 &  13 &   2 &   4 &   9 &   1 &  10 &   1 &   0 &   0\\\\\n",
       "\tchr2\\_201185918\\_rs13028959\\_C\\_A &  47 & 21 &  64 &  39 &  34 & 29 &  52 &   8 & 21 &  14 & ⋯ & 170 & 106 & 299 & 270 &  85 &  98 & 661 &  59 &  34 & 191\\\\\n",
       "\tchr2\\_201194503\\_rs112467613\\_C\\_CAA & 106 & 61 & 161 & 138 & 176 & 66 & 105 & 125 & 57 & 133 & ⋯ & 613 & 209 & 233 & 202 & 918 & 320 & 437 & 228 & 557 & 300\\\\\n",
       "\tchr3\\_38417344\\_rs196378\\_G\\_C &   0 &  0 &   1 &   0 &   0 &  1 &   0 &   0 &  0 &   2 & ⋯ &   0 &   0 &   0 &  14 &   0 &  35 &   5 &   4 &   3 &   0\\\\\n",
       "\tchr3\\_38417366\\_rs169046\\_T\\_C &   2 &  4 &   0 &   1 &   0 &  1 &   0 &   0 &  0 &   0 & ⋯ &   2 &   0 &   7 &   7 &   1 &   4 &  14 &   8 &   0 &   4\\\\\n",
       "\\end{tabular}\n"
      ],
      "text/markdown": [
       "\n",
       "A data.frame: 6 × 600\n",
       "\n",
       "| <!--/--> | V1.dna.r1_1_ref &lt;int&gt; | V1.dna.r1_1_alt &lt;int&gt; | V1.dna.r1_2_ref &lt;int&gt; | V1.dna.r1_2_alt &lt;int&gt; | V1.dna.r1_3_ref &lt;int&gt; | V1.dna.r1_3_alt &lt;int&gt; | V1.dna.r1_4_ref &lt;int&gt; | V1.dna.r1_4_alt &lt;int&gt; | V1.dna.r1_5_ref &lt;int&gt; | V1.dna.r1_5_alt &lt;int&gt; | ⋯ ⋯ | V2.dna.r3_46_ref &lt;int&gt; | V2.dna.r3_46_alt &lt;int&gt; | V2.dna.r3_47_ref &lt;int&gt; | V2.dna.r3_47_alt &lt;int&gt; | V2.dna.r3_48_ref &lt;int&gt; | V2.dna.r3_48_alt &lt;int&gt; | V2.dna.r3_49_ref &lt;int&gt; | V2.dna.r3_49_alt &lt;int&gt; | V2.dna.r3_50_ref &lt;int&gt; | V2.dna.r3_50_alt &lt;int&gt; |\n",
       "|---|---|---|---|---|---|---|---|---|---|---|---|---|---|---|---|---|---|---|---|---|---|\n",
       "| chr2_201172085_rs67190025_C_T |   0 |  0 |   3 |   0 |   0 |  0 |   0 |   0 |  0 |   0 | ⋯ |   0 |   0 |   7 |   0 |   0 |   9 |   4 |   0 |   9 |   0 |\n",
       "| chr2_201172627_rs7580924_G_C |   0 |  0 |   0 |   6 |   0 |  0 |   6 |   0 |  1 |   0 | ⋯ |  24 |  13 |   2 |   4 |   9 |   1 |  10 |   1 |   0 |   0 |\n",
       "| chr2_201185918_rs13028959_C_A |  47 | 21 |  64 |  39 |  34 | 29 |  52 |   8 | 21 |  14 | ⋯ | 170 | 106 | 299 | 270 |  85 |  98 | 661 |  59 |  34 | 191 |\n",
       "| chr2_201194503_rs112467613_C_CAA | 106 | 61 | 161 | 138 | 176 | 66 | 105 | 125 | 57 | 133 | ⋯ | 613 | 209 | 233 | 202 | 918 | 320 | 437 | 228 | 557 | 300 |\n",
       "| chr3_38417344_rs196378_G_C |   0 |  0 |   1 |   0 |   0 |  1 |   0 |   0 |  0 |   2 | ⋯ |   0 |   0 |   0 |  14 |   0 |  35 |   5 |   4 |   3 |   0 |\n",
       "| chr3_38417366_rs169046_T_C |   2 |  4 |   0 |   1 |   0 |  1 |   0 |   0 |  0 |   0 | ⋯ |   2 |   0 |   7 |   7 |   1 |   4 |  14 |   8 |   0 |   4 |\n",
       "\n"
      ],
      "text/plain": [
       "                                 V1.dna.r1_1_ref V1.dna.r1_1_alt\n",
       "chr2_201172085_rs67190025_C_T      0              0             \n",
       "chr2_201172627_rs7580924_G_C       0              0             \n",
       "chr2_201185918_rs13028959_C_A     47             21             \n",
       "chr2_201194503_rs112467613_C_CAA 106             61             \n",
       "chr3_38417344_rs196378_G_C         0              0             \n",
       "chr3_38417366_rs169046_T_C         2              4             \n",
       "                                 V1.dna.r1_2_ref V1.dna.r1_2_alt\n",
       "chr2_201172085_rs67190025_C_T      3               0            \n",
       "chr2_201172627_rs7580924_G_C       0               6            \n",
       "chr2_201185918_rs13028959_C_A     64              39            \n",
       "chr2_201194503_rs112467613_C_CAA 161             138            \n",
       "chr3_38417344_rs196378_G_C         1               0            \n",
       "chr3_38417366_rs169046_T_C         0               1            \n",
       "                                 V1.dna.r1_3_ref V1.dna.r1_3_alt\n",
       "chr2_201172085_rs67190025_C_T      0              0             \n",
       "chr2_201172627_rs7580924_G_C       0              0             \n",
       "chr2_201185918_rs13028959_C_A     34             29             \n",
       "chr2_201194503_rs112467613_C_CAA 176             66             \n",
       "chr3_38417344_rs196378_G_C         0              1             \n",
       "chr3_38417366_rs169046_T_C         0              1             \n",
       "                                 V1.dna.r1_4_ref V1.dna.r1_4_alt\n",
       "chr2_201172085_rs67190025_C_T      0               0            \n",
       "chr2_201172627_rs7580924_G_C       6               0            \n",
       "chr2_201185918_rs13028959_C_A     52               8            \n",
       "chr2_201194503_rs112467613_C_CAA 105             125            \n",
       "chr3_38417344_rs196378_G_C         0               0            \n",
       "chr3_38417366_rs169046_T_C         0               0            \n",
       "                                 V1.dna.r1_5_ref V1.dna.r1_5_alt ⋯\n",
       "chr2_201172085_rs67190025_C_T     0                0             ⋯\n",
       "chr2_201172627_rs7580924_G_C      1                0             ⋯\n",
       "chr2_201185918_rs13028959_C_A    21               14             ⋯\n",
       "chr2_201194503_rs112467613_C_CAA 57              133             ⋯\n",
       "chr3_38417344_rs196378_G_C        0                2             ⋯\n",
       "chr3_38417366_rs169046_T_C        0                0             ⋯\n",
       "                                 V2.dna.r3_46_ref V2.dna.r3_46_alt\n",
       "chr2_201172085_rs67190025_C_T      0                0             \n",
       "chr2_201172627_rs7580924_G_C      24               13             \n",
       "chr2_201185918_rs13028959_C_A    170              106             \n",
       "chr2_201194503_rs112467613_C_CAA 613              209             \n",
       "chr3_38417344_rs196378_G_C         0                0             \n",
       "chr3_38417366_rs169046_T_C         2                0             \n",
       "                                 V2.dna.r3_47_ref V2.dna.r3_47_alt\n",
       "chr2_201172085_rs67190025_C_T      7                0             \n",
       "chr2_201172627_rs7580924_G_C       2                4             \n",
       "chr2_201185918_rs13028959_C_A    299              270             \n",
       "chr2_201194503_rs112467613_C_CAA 233              202             \n",
       "chr3_38417344_rs196378_G_C         0               14             \n",
       "chr3_38417366_rs169046_T_C         7                7             \n",
       "                                 V2.dna.r3_48_ref V2.dna.r3_48_alt\n",
       "chr2_201172085_rs67190025_C_T      0                9             \n",
       "chr2_201172627_rs7580924_G_C       9                1             \n",
       "chr2_201185918_rs13028959_C_A     85               98             \n",
       "chr2_201194503_rs112467613_C_CAA 918              320             \n",
       "chr3_38417344_rs196378_G_C         0               35             \n",
       "chr3_38417366_rs169046_T_C         1                4             \n",
       "                                 V2.dna.r3_49_ref V2.dna.r3_49_alt\n",
       "chr2_201172085_rs67190025_C_T      4                0             \n",
       "chr2_201172627_rs7580924_G_C      10                1             \n",
       "chr2_201185918_rs13028959_C_A    661               59             \n",
       "chr2_201194503_rs112467613_C_CAA 437              228             \n",
       "chr3_38417344_rs196378_G_C         5                4             \n",
       "chr3_38417366_rs169046_T_C        14                8             \n",
       "                                 V2.dna.r3_50_ref V2.dna.r3_50_alt\n",
       "chr2_201172085_rs67190025_C_T      9                0             \n",
       "chr2_201172627_rs7580924_G_C       0                0             \n",
       "chr2_201185918_rs13028959_C_A     34              191             \n",
       "chr2_201194503_rs112467613_C_CAA 557              300             \n",
       "chr3_38417344_rs196378_G_C         3                0             \n",
       "chr3_38417366_rs169046_T_C         0                4             "
      ]
     },
     "metadata": {},
     "output_type": "display_data"
    }
   ],
   "source": [
    "head(dna_counts_pool)"
   ]
  },
  {
   "cell_type": "code",
   "execution_count": 14,
   "id": "c9c3e8b0-7f55-42f5-8869-7d7c1877f493",
   "metadata": {
    "execution": {
     "iopub.execute_input": "2025-03-21T00:46:50.266633Z",
     "iopub.status.busy": "2025-03-21T00:46:50.265560Z",
     "iopub.status.idle": "2025-03-21T00:46:50.350073Z",
     "shell.execute_reply": "2025-03-21T00:46:50.348618Z"
    }
   },
   "outputs": [],
   "source": [
    "# aggregate DNA counts\n",
    "master_pool <- dna_counts_pool %>%  \n",
    "    mutate(V1_DNA_ref_count = rowSums(select(., starts_with(\"V1\") & ends_with(\"ref\")))) %>% \n",
    "    mutate(V1_DNA_alt_count = rowSums(select(., starts_with(\"V1\") & ends_with(\"alt\")))) %>% \n",
    "    mutate(V2_DNA_ref_count = rowSums(select(., starts_with(\"V2\") & ends_with(\"ref\")))) %>% \n",
    "    mutate(V2_DNA_alt_count = rowSums(select(., starts_with(\"V2\") & ends_with(\"alt\")))) %>% \n",
    "    mutate(V1_DNA_ref_CPM = (V1_DNA_ref_count / (sum(V1_DNA_ref_count) + sum(V1_DNA_alt_count))) * 1000000) %>%\n",
    "    mutate(V1_DNA_alt_CPM = (V1_DNA_alt_count / (sum(V1_DNA_ref_count) + sum(V1_DNA_alt_count))) * 1000000) %>%\n",
    "    mutate(V2_DNA_ref_CPM = (V2_DNA_ref_count / (sum(V2_DNA_ref_count) + sum(V2_DNA_alt_count))) * 1000000) %>%\n",
    "    mutate(V2_DNA_alt_CPM = (V2_DNA_alt_count / (sum(V2_DNA_ref_count) + sum(V2_DNA_alt_count))) * 1000000) %>%\n",
    "    mutate(DNA_CPM_QC = ifelse((V1_DNA_ref_CPM>=8 & V1_DNA_alt_CPM>=8) | \n",
    "                                 (V2_DNA_ref_CPM>=8 & V2_DNA_alt_CPM>=8), TRUE, FALSE)) %>%\n",
    "    select(V1_DNA_ref_count, V1_DNA_alt_count, V2_DNA_ref_count, V2_DNA_alt_count, V1_DNA_ref_CPM, \n",
    "           V1_DNA_alt_CPM, V2_DNA_ref_CPM, V2_DNA_alt_CPM, DNA_CPM_QC) %>% \n",
    "           rownames_to_column(\"testcre\")"
   ]
  },
  {
   "cell_type": "code",
   "execution_count": 15,
   "id": "969eeb6f-305f-48c9-a541-4aa3615c8108",
   "metadata": {
    "execution": {
     "iopub.execute_input": "2025-03-21T00:46:50.353831Z",
     "iopub.status.busy": "2025-03-21T00:46:50.352752Z",
     "iopub.status.idle": "2025-03-21T00:46:50.379270Z",
     "shell.execute_reply": "2025-03-21T00:46:50.377953Z"
    }
   },
   "outputs": [
    {
     "data": {
      "text/html": [
       "<table class=\"dataframe\">\n",
       "<caption>A data.frame: 6 × 10</caption>\n",
       "<thead>\n",
       "\t<tr><th></th><th scope=col>testcre</th><th scope=col>V1_DNA_ref_count</th><th scope=col>V1_DNA_alt_count</th><th scope=col>V2_DNA_ref_count</th><th scope=col>V2_DNA_alt_count</th><th scope=col>V1_DNA_ref_CPM</th><th scope=col>V1_DNA_alt_CPM</th><th scope=col>V2_DNA_ref_CPM</th><th scope=col>V2_DNA_alt_CPM</th><th scope=col>DNA_CPM_QC</th></tr>\n",
       "\t<tr><th></th><th scope=col>&lt;chr&gt;</th><th scope=col>&lt;dbl&gt;</th><th scope=col>&lt;dbl&gt;</th><th scope=col>&lt;dbl&gt;</th><th scope=col>&lt;dbl&gt;</th><th scope=col>&lt;dbl&gt;</th><th scope=col>&lt;dbl&gt;</th><th scope=col>&lt;dbl&gt;</th><th scope=col>&lt;dbl&gt;</th><th scope=col>&lt;lgl&gt;</th></tr>\n",
       "</thead>\n",
       "<tbody>\n",
       "\t<tr><th scope=row>1</th><td>chr2_201172085_rs67190025_C_T   </td><td>   21</td><td>   36</td><td>  307</td><td>  295</td><td>   2.920649</td><td>   5.006827</td><td>   9.546576</td><td>   9.17342</td><td>TRUE</td></tr>\n",
       "\t<tr><th scope=row>2</th><td>chr2_201172627_rs7580924_G_C    </td><td>  245</td><td>  263</td><td>  868</td><td> 1119</td><td>  34.074242</td><td>  36.577655</td><td>  26.991623</td><td>  34.79680</td><td>TRUE</td></tr>\n",
       "\t<tr><th scope=row>3</th><td>chr2_201185918_rs13028959_C_A   </td><td> 5321</td><td> 4688</td><td>19770</td><td>16641</td><td> 740.036900</td><td> 652.000186</td><td> 614.774649</td><td> 517.47420</td><td>TRUE</td></tr>\n",
       "\t<tr><th scope=row>4</th><td>chr2_201194503_rs112467613_C_CAA</td><td>21922</td><td>17420</td><td>79508</td><td>68046</td><td>3048.879708</td><td>2422.748131</td><td>2472.407829</td><td>2115.98158</td><td>TRUE</td></tr>\n",
       "\t<tr><th scope=row>5</th><td>chr3_38417344_rs196378_G_C      </td><td>  155</td><td>  138</td><td> 1087</td><td>  667</td><td>  21.557173</td><td>  19.192838</td><td>  33.801722</td><td>  20.74126</td><td>TRUE</td></tr>\n",
       "\t<tr><th scope=row>6</th><td>chr3_38417366_rs169046_T_C      </td><td>  277</td><td>  188</td><td> 1586</td><td> 1383</td><td>  38.524755</td><td>  26.146765</td><td>  49.318796</td><td>  43.00624</td><td>TRUE</td></tr>\n",
       "</tbody>\n",
       "</table>\n"
      ],
      "text/latex": [
       "A data.frame: 6 × 10\n",
       "\\begin{tabular}{r|llllllllll}\n",
       "  & testcre & V1\\_DNA\\_ref\\_count & V1\\_DNA\\_alt\\_count & V2\\_DNA\\_ref\\_count & V2\\_DNA\\_alt\\_count & V1\\_DNA\\_ref\\_CPM & V1\\_DNA\\_alt\\_CPM & V2\\_DNA\\_ref\\_CPM & V2\\_DNA\\_alt\\_CPM & DNA\\_CPM\\_QC\\\\\n",
       "  & <chr> & <dbl> & <dbl> & <dbl> & <dbl> & <dbl> & <dbl> & <dbl> & <dbl> & <lgl>\\\\\n",
       "\\hline\n",
       "\t1 & chr2\\_201172085\\_rs67190025\\_C\\_T    &    21 &    36 &   307 &   295 &    2.920649 &    5.006827 &    9.546576 &    9.17342 & TRUE\\\\\n",
       "\t2 & chr2\\_201172627\\_rs7580924\\_G\\_C     &   245 &   263 &   868 &  1119 &   34.074242 &   36.577655 &   26.991623 &   34.79680 & TRUE\\\\\n",
       "\t3 & chr2\\_201185918\\_rs13028959\\_C\\_A    &  5321 &  4688 & 19770 & 16641 &  740.036900 &  652.000186 &  614.774649 &  517.47420 & TRUE\\\\\n",
       "\t4 & chr2\\_201194503\\_rs112467613\\_C\\_CAA & 21922 & 17420 & 79508 & 68046 & 3048.879708 & 2422.748131 & 2472.407829 & 2115.98158 & TRUE\\\\\n",
       "\t5 & chr3\\_38417344\\_rs196378\\_G\\_C       &   155 &   138 &  1087 &   667 &   21.557173 &   19.192838 &   33.801722 &   20.74126 & TRUE\\\\\n",
       "\t6 & chr3\\_38417366\\_rs169046\\_T\\_C       &   277 &   188 &  1586 &  1383 &   38.524755 &   26.146765 &   49.318796 &   43.00624 & TRUE\\\\\n",
       "\\end{tabular}\n"
      ],
      "text/markdown": [
       "\n",
       "A data.frame: 6 × 10\n",
       "\n",
       "| <!--/--> | testcre &lt;chr&gt; | V1_DNA_ref_count &lt;dbl&gt; | V1_DNA_alt_count &lt;dbl&gt; | V2_DNA_ref_count &lt;dbl&gt; | V2_DNA_alt_count &lt;dbl&gt; | V1_DNA_ref_CPM &lt;dbl&gt; | V1_DNA_alt_CPM &lt;dbl&gt; | V2_DNA_ref_CPM &lt;dbl&gt; | V2_DNA_alt_CPM &lt;dbl&gt; | DNA_CPM_QC &lt;lgl&gt; |\n",
       "|---|---|---|---|---|---|---|---|---|---|---|\n",
       "| 1 | chr2_201172085_rs67190025_C_T    |    21 |    36 |   307 |   295 |    2.920649 |    5.006827 |    9.546576 |    9.17342 | TRUE |\n",
       "| 2 | chr2_201172627_rs7580924_G_C     |   245 |   263 |   868 |  1119 |   34.074242 |   36.577655 |   26.991623 |   34.79680 | TRUE |\n",
       "| 3 | chr2_201185918_rs13028959_C_A    |  5321 |  4688 | 19770 | 16641 |  740.036900 |  652.000186 |  614.774649 |  517.47420 | TRUE |\n",
       "| 4 | chr2_201194503_rs112467613_C_CAA | 21922 | 17420 | 79508 | 68046 | 3048.879708 | 2422.748131 | 2472.407829 | 2115.98158 | TRUE |\n",
       "| 5 | chr3_38417344_rs196378_G_C       |   155 |   138 |  1087 |   667 |   21.557173 |   19.192838 |   33.801722 |   20.74126 | TRUE |\n",
       "| 6 | chr3_38417366_rs169046_T_C       |   277 |   188 |  1586 |  1383 |   38.524755 |   26.146765 |   49.318796 |   43.00624 | TRUE |\n",
       "\n"
      ],
      "text/plain": [
       "  testcre                          V1_DNA_ref_count V1_DNA_alt_count\n",
       "1 chr2_201172085_rs67190025_C_T       21               36           \n",
       "2 chr2_201172627_rs7580924_G_C       245              263           \n",
       "3 chr2_201185918_rs13028959_C_A     5321             4688           \n",
       "4 chr2_201194503_rs112467613_C_CAA 21922            17420           \n",
       "5 chr3_38417344_rs196378_G_C         155              138           \n",
       "6 chr3_38417366_rs169046_T_C         277              188           \n",
       "  V2_DNA_ref_count V2_DNA_alt_count V1_DNA_ref_CPM V1_DNA_alt_CPM\n",
       "1   307              295               2.920649       5.006827   \n",
       "2   868             1119              34.074242      36.577655   \n",
       "3 19770            16641             740.036900     652.000186   \n",
       "4 79508            68046            3048.879708    2422.748131   \n",
       "5  1087              667              21.557173      19.192838   \n",
       "6  1586             1383              38.524755      26.146765   \n",
       "  V2_DNA_ref_CPM V2_DNA_alt_CPM DNA_CPM_QC\n",
       "1    9.546576       9.17342     TRUE      \n",
       "2   26.991623      34.79680     TRUE      \n",
       "3  614.774649     517.47420     TRUE      \n",
       "4 2472.407829    2115.98158     TRUE      \n",
       "5   33.801722      20.74126     TRUE      \n",
       "6   49.318796      43.00624     TRUE      "
      ]
     },
     "metadata": {},
     "output_type": "display_data"
    }
   ],
   "source": [
    "head(master_pool)"
   ]
  },
  {
   "cell_type": "code",
   "execution_count": 16,
   "id": "2df8bb25-a5f2-4598-b0ec-cfbb3fa161d6",
   "metadata": {
    "execution": {
     "iopub.execute_input": "2025-03-21T00:46:50.382779Z",
     "iopub.status.busy": "2025-03-21T00:46:50.381733Z",
     "iopub.status.idle": "2025-03-21T00:46:50.394351Z",
     "shell.execute_reply": "2025-03-21T00:46:50.393076Z"
    }
   },
   "outputs": [],
   "source": [
    "# split DNA count row names into enhancer information\n",
    "pool_names <- data.frame(do.call(rbind, strsplit(master_pool$testcre, \"_\")))\n",
    "colnames(pool_names) <- c(\"chrom\", \"hg19_pos\", \"snp\", \"allele\", \"mutation\")"
   ]
  },
  {
   "cell_type": "code",
   "execution_count": 17,
   "id": "49f5face-99d2-4004-a4a3-eab90318e181",
   "metadata": {
    "execution": {
     "iopub.execute_input": "2025-03-21T00:46:50.397958Z",
     "iopub.status.busy": "2025-03-21T00:46:50.396770Z",
     "iopub.status.idle": "2025-03-21T00:46:50.406692Z",
     "shell.execute_reply": "2025-03-21T00:46:50.405431Z"
    }
   },
   "outputs": [],
   "source": [
    "# add enhancer information to master table\n",
    "master_pool <- cbind(pool_names, master_pool)"
   ]
  },
  {
   "cell_type": "code",
   "execution_count": 18,
   "id": "5b48e0b4-1331-4113-b619-8327bcacc587",
   "metadata": {
    "execution": {
     "iopub.execute_input": "2025-03-21T00:46:50.410166Z",
     "iopub.status.busy": "2025-03-21T00:46:50.409121Z",
     "iopub.status.idle": "2025-03-21T00:46:50.437901Z",
     "shell.execute_reply": "2025-03-21T00:46:50.436594Z"
    }
   },
   "outputs": [
    {
     "data": {
      "text/html": [
       "<table class=\"dataframe\">\n",
       "<caption>A data.frame: 6 × 15</caption>\n",
       "<thead>\n",
       "\t<tr><th></th><th scope=col>chrom</th><th scope=col>hg19_pos</th><th scope=col>snp</th><th scope=col>allele</th><th scope=col>mutation</th><th scope=col>testcre</th><th scope=col>V1_DNA_ref_count</th><th scope=col>V1_DNA_alt_count</th><th scope=col>V2_DNA_ref_count</th><th scope=col>V2_DNA_alt_count</th><th scope=col>V1_DNA_ref_CPM</th><th scope=col>V1_DNA_alt_CPM</th><th scope=col>V2_DNA_ref_CPM</th><th scope=col>V2_DNA_alt_CPM</th><th scope=col>DNA_CPM_QC</th></tr>\n",
       "\t<tr><th></th><th scope=col>&lt;chr&gt;</th><th scope=col>&lt;chr&gt;</th><th scope=col>&lt;chr&gt;</th><th scope=col>&lt;chr&gt;</th><th scope=col>&lt;chr&gt;</th><th scope=col>&lt;chr&gt;</th><th scope=col>&lt;dbl&gt;</th><th scope=col>&lt;dbl&gt;</th><th scope=col>&lt;dbl&gt;</th><th scope=col>&lt;dbl&gt;</th><th scope=col>&lt;dbl&gt;</th><th scope=col>&lt;dbl&gt;</th><th scope=col>&lt;dbl&gt;</th><th scope=col>&lt;dbl&gt;</th><th scope=col>&lt;lgl&gt;</th></tr>\n",
       "</thead>\n",
       "<tbody>\n",
       "\t<tr><th scope=row>1</th><td>chr2</td><td>201172085</td><td>rs67190025 </td><td>C</td><td>T  </td><td>chr2_201172085_rs67190025_C_T   </td><td>   21</td><td>   36</td><td>  307</td><td>  295</td><td>   2.920649</td><td>   5.006827</td><td>   9.546576</td><td>   9.17342</td><td>TRUE</td></tr>\n",
       "\t<tr><th scope=row>2</th><td>chr2</td><td>201172627</td><td>rs7580924  </td><td>G</td><td>C  </td><td>chr2_201172627_rs7580924_G_C    </td><td>  245</td><td>  263</td><td>  868</td><td> 1119</td><td>  34.074242</td><td>  36.577655</td><td>  26.991623</td><td>  34.79680</td><td>TRUE</td></tr>\n",
       "\t<tr><th scope=row>3</th><td>chr2</td><td>201185918</td><td>rs13028959 </td><td>C</td><td>A  </td><td>chr2_201185918_rs13028959_C_A   </td><td> 5321</td><td> 4688</td><td>19770</td><td>16641</td><td> 740.036900</td><td> 652.000186</td><td> 614.774649</td><td> 517.47420</td><td>TRUE</td></tr>\n",
       "\t<tr><th scope=row>4</th><td>chr2</td><td>201194503</td><td>rs112467613</td><td>C</td><td>CAA</td><td>chr2_201194503_rs112467613_C_CAA</td><td>21922</td><td>17420</td><td>79508</td><td>68046</td><td>3048.879708</td><td>2422.748131</td><td>2472.407829</td><td>2115.98158</td><td>TRUE</td></tr>\n",
       "\t<tr><th scope=row>5</th><td>chr3</td><td>38417344 </td><td>rs196378   </td><td>G</td><td>C  </td><td>chr3_38417344_rs196378_G_C      </td><td>  155</td><td>  138</td><td> 1087</td><td>  667</td><td>  21.557173</td><td>  19.192838</td><td>  33.801722</td><td>  20.74126</td><td>TRUE</td></tr>\n",
       "\t<tr><th scope=row>6</th><td>chr3</td><td>38417366 </td><td>rs169046   </td><td>T</td><td>C  </td><td>chr3_38417366_rs169046_T_C      </td><td>  277</td><td>  188</td><td> 1586</td><td> 1383</td><td>  38.524755</td><td>  26.146765</td><td>  49.318796</td><td>  43.00624</td><td>TRUE</td></tr>\n",
       "</tbody>\n",
       "</table>\n"
      ],
      "text/latex": [
       "A data.frame: 6 × 15\n",
       "\\begin{tabular}{r|lllllllllllllll}\n",
       "  & chrom & hg19\\_pos & snp & allele & mutation & testcre & V1\\_DNA\\_ref\\_count & V1\\_DNA\\_alt\\_count & V2\\_DNA\\_ref\\_count & V2\\_DNA\\_alt\\_count & V1\\_DNA\\_ref\\_CPM & V1\\_DNA\\_alt\\_CPM & V2\\_DNA\\_ref\\_CPM & V2\\_DNA\\_alt\\_CPM & DNA\\_CPM\\_QC\\\\\n",
       "  & <chr> & <chr> & <chr> & <chr> & <chr> & <chr> & <dbl> & <dbl> & <dbl> & <dbl> & <dbl> & <dbl> & <dbl> & <dbl> & <lgl>\\\\\n",
       "\\hline\n",
       "\t1 & chr2 & 201172085 & rs67190025  & C & T   & chr2\\_201172085\\_rs67190025\\_C\\_T    &    21 &    36 &   307 &   295 &    2.920649 &    5.006827 &    9.546576 &    9.17342 & TRUE\\\\\n",
       "\t2 & chr2 & 201172627 & rs7580924   & G & C   & chr2\\_201172627\\_rs7580924\\_G\\_C     &   245 &   263 &   868 &  1119 &   34.074242 &   36.577655 &   26.991623 &   34.79680 & TRUE\\\\\n",
       "\t3 & chr2 & 201185918 & rs13028959  & C & A   & chr2\\_201185918\\_rs13028959\\_C\\_A    &  5321 &  4688 & 19770 & 16641 &  740.036900 &  652.000186 &  614.774649 &  517.47420 & TRUE\\\\\n",
       "\t4 & chr2 & 201194503 & rs112467613 & C & CAA & chr2\\_201194503\\_rs112467613\\_C\\_CAA & 21922 & 17420 & 79508 & 68046 & 3048.879708 & 2422.748131 & 2472.407829 & 2115.98158 & TRUE\\\\\n",
       "\t5 & chr3 & 38417344  & rs196378    & G & C   & chr3\\_38417344\\_rs196378\\_G\\_C       &   155 &   138 &  1087 &   667 &   21.557173 &   19.192838 &   33.801722 &   20.74126 & TRUE\\\\\n",
       "\t6 & chr3 & 38417366  & rs169046    & T & C   & chr3\\_38417366\\_rs169046\\_T\\_C       &   277 &   188 &  1586 &  1383 &   38.524755 &   26.146765 &   49.318796 &   43.00624 & TRUE\\\\\n",
       "\\end{tabular}\n"
      ],
      "text/markdown": [
       "\n",
       "A data.frame: 6 × 15\n",
       "\n",
       "| <!--/--> | chrom &lt;chr&gt; | hg19_pos &lt;chr&gt; | snp &lt;chr&gt; | allele &lt;chr&gt; | mutation &lt;chr&gt; | testcre &lt;chr&gt; | V1_DNA_ref_count &lt;dbl&gt; | V1_DNA_alt_count &lt;dbl&gt; | V2_DNA_ref_count &lt;dbl&gt; | V2_DNA_alt_count &lt;dbl&gt; | V1_DNA_ref_CPM &lt;dbl&gt; | V1_DNA_alt_CPM &lt;dbl&gt; | V2_DNA_ref_CPM &lt;dbl&gt; | V2_DNA_alt_CPM &lt;dbl&gt; | DNA_CPM_QC &lt;lgl&gt; |\n",
       "|---|---|---|---|---|---|---|---|---|---|---|---|---|---|---|---|\n",
       "| 1 | chr2 | 201172085 | rs67190025  | C | T   | chr2_201172085_rs67190025_C_T    |    21 |    36 |   307 |   295 |    2.920649 |    5.006827 |    9.546576 |    9.17342 | TRUE |\n",
       "| 2 | chr2 | 201172627 | rs7580924   | G | C   | chr2_201172627_rs7580924_G_C     |   245 |   263 |   868 |  1119 |   34.074242 |   36.577655 |   26.991623 |   34.79680 | TRUE |\n",
       "| 3 | chr2 | 201185918 | rs13028959  | C | A   | chr2_201185918_rs13028959_C_A    |  5321 |  4688 | 19770 | 16641 |  740.036900 |  652.000186 |  614.774649 |  517.47420 | TRUE |\n",
       "| 4 | chr2 | 201194503 | rs112467613 | C | CAA | chr2_201194503_rs112467613_C_CAA | 21922 | 17420 | 79508 | 68046 | 3048.879708 | 2422.748131 | 2472.407829 | 2115.98158 | TRUE |\n",
       "| 5 | chr3 | 38417344  | rs196378    | G | C   | chr3_38417344_rs196378_G_C       |   155 |   138 |  1087 |   667 |   21.557173 |   19.192838 |   33.801722 |   20.74126 | TRUE |\n",
       "| 6 | chr3 | 38417366  | rs169046    | T | C   | chr3_38417366_rs169046_T_C       |   277 |   188 |  1586 |  1383 |   38.524755 |   26.146765 |   49.318796 |   43.00624 | TRUE |\n",
       "\n"
      ],
      "text/plain": [
       "  chrom hg19_pos  snp         allele mutation testcre                         \n",
       "1 chr2  201172085 rs67190025  C      T        chr2_201172085_rs67190025_C_T   \n",
       "2 chr2  201172627 rs7580924   G      C        chr2_201172627_rs7580924_G_C    \n",
       "3 chr2  201185918 rs13028959  C      A        chr2_201185918_rs13028959_C_A   \n",
       "4 chr2  201194503 rs112467613 C      CAA      chr2_201194503_rs112467613_C_CAA\n",
       "5 chr3  38417344  rs196378    G      C        chr3_38417344_rs196378_G_C      \n",
       "6 chr3  38417366  rs169046    T      C        chr3_38417366_rs169046_T_C      \n",
       "  V1_DNA_ref_count V1_DNA_alt_count V2_DNA_ref_count V2_DNA_alt_count\n",
       "1    21               36              307              295           \n",
       "2   245              263              868             1119           \n",
       "3  5321             4688            19770            16641           \n",
       "4 21922            17420            79508            68046           \n",
       "5   155              138             1087              667           \n",
       "6   277              188             1586             1383           \n",
       "  V1_DNA_ref_CPM V1_DNA_alt_CPM V2_DNA_ref_CPM V2_DNA_alt_CPM DNA_CPM_QC\n",
       "1    2.920649       5.006827       9.546576       9.17342     TRUE      \n",
       "2   34.074242      36.577655      26.991623      34.79680     TRUE      \n",
       "3  740.036900     652.000186     614.774649     517.47420     TRUE      \n",
       "4 3048.879708    2422.748131    2472.407829    2115.98158     TRUE      \n",
       "5   21.557173      19.192838      33.801722      20.74126     TRUE      \n",
       "6   38.524755      26.146765      49.318796      43.00624     TRUE      "
      ]
     },
     "metadata": {},
     "output_type": "display_data"
    }
   ],
   "source": [
    "head(master_pool)"
   ]
  },
  {
   "cell_type": "code",
   "execution_count": 19,
   "id": "c6d5be3d-1b63-4d8e-a832-c0ab364957e8",
   "metadata": {
    "execution": {
     "iopub.execute_input": "2025-03-21T00:46:50.441367Z",
     "iopub.status.busy": "2025-03-21T00:46:50.440334Z",
     "iopub.status.idle": "2025-03-21T00:46:50.451719Z",
     "shell.execute_reply": "2025-03-21T00:46:50.450441Z"
    }
   },
   "outputs": [],
   "source": [
    "# make position 1-based\n",
    "master_pool <- master_pool %>% mutate(hg19_pos = as.numeric(hg19_pos) + 1)"
   ]
  },
  {
   "cell_type": "code",
   "execution_count": 20,
   "id": "8c25c694-a374-42fa-93ab-980ab38a0a56",
   "metadata": {
    "execution": {
     "iopub.execute_input": "2025-03-21T00:46:50.455205Z",
     "iopub.status.busy": "2025-03-21T00:46:50.454148Z",
     "iopub.status.idle": "2025-03-21T00:46:50.481937Z",
     "shell.execute_reply": "2025-03-21T00:46:50.476711Z"
    },
    "scrolled": true
   },
   "outputs": [
    {
     "data": {
      "text/html": [
       "<table class=\"dataframe\">\n",
       "<caption>A data.frame: 6 × 15</caption>\n",
       "<thead>\n",
       "\t<tr><th></th><th scope=col>chrom</th><th scope=col>hg19_pos</th><th scope=col>snp</th><th scope=col>allele</th><th scope=col>mutation</th><th scope=col>testcre</th><th scope=col>V1_DNA_ref_count</th><th scope=col>V1_DNA_alt_count</th><th scope=col>V2_DNA_ref_count</th><th scope=col>V2_DNA_alt_count</th><th scope=col>V1_DNA_ref_CPM</th><th scope=col>V1_DNA_alt_CPM</th><th scope=col>V2_DNA_ref_CPM</th><th scope=col>V2_DNA_alt_CPM</th><th scope=col>DNA_CPM_QC</th></tr>\n",
       "\t<tr><th></th><th scope=col>&lt;chr&gt;</th><th scope=col>&lt;dbl&gt;</th><th scope=col>&lt;chr&gt;</th><th scope=col>&lt;chr&gt;</th><th scope=col>&lt;chr&gt;</th><th scope=col>&lt;chr&gt;</th><th scope=col>&lt;dbl&gt;</th><th scope=col>&lt;dbl&gt;</th><th scope=col>&lt;dbl&gt;</th><th scope=col>&lt;dbl&gt;</th><th scope=col>&lt;dbl&gt;</th><th scope=col>&lt;dbl&gt;</th><th scope=col>&lt;dbl&gt;</th><th scope=col>&lt;dbl&gt;</th><th scope=col>&lt;lgl&gt;</th></tr>\n",
       "</thead>\n",
       "<tbody>\n",
       "\t<tr><th scope=row>1</th><td>chr2</td><td>201172086</td><td>rs67190025 </td><td>C</td><td>T  </td><td>chr2_201172085_rs67190025_C_T   </td><td>   21</td><td>   36</td><td>  307</td><td>  295</td><td>   2.920649</td><td>   5.006827</td><td>   9.546576</td><td>   9.17342</td><td>TRUE</td></tr>\n",
       "\t<tr><th scope=row>2</th><td>chr2</td><td>201172628</td><td>rs7580924  </td><td>G</td><td>C  </td><td>chr2_201172627_rs7580924_G_C    </td><td>  245</td><td>  263</td><td>  868</td><td> 1119</td><td>  34.074242</td><td>  36.577655</td><td>  26.991623</td><td>  34.79680</td><td>TRUE</td></tr>\n",
       "\t<tr><th scope=row>3</th><td>chr2</td><td>201185919</td><td>rs13028959 </td><td>C</td><td>A  </td><td>chr2_201185918_rs13028959_C_A   </td><td> 5321</td><td> 4688</td><td>19770</td><td>16641</td><td> 740.036900</td><td> 652.000186</td><td> 614.774649</td><td> 517.47420</td><td>TRUE</td></tr>\n",
       "\t<tr><th scope=row>4</th><td>chr2</td><td>201194504</td><td>rs112467613</td><td>C</td><td>CAA</td><td>chr2_201194503_rs112467613_C_CAA</td><td>21922</td><td>17420</td><td>79508</td><td>68046</td><td>3048.879708</td><td>2422.748131</td><td>2472.407829</td><td>2115.98158</td><td>TRUE</td></tr>\n",
       "\t<tr><th scope=row>5</th><td>chr3</td><td> 38417345</td><td>rs196378   </td><td>G</td><td>C  </td><td>chr3_38417344_rs196378_G_C      </td><td>  155</td><td>  138</td><td> 1087</td><td>  667</td><td>  21.557173</td><td>  19.192838</td><td>  33.801722</td><td>  20.74126</td><td>TRUE</td></tr>\n",
       "\t<tr><th scope=row>6</th><td>chr3</td><td> 38417367</td><td>rs169046   </td><td>T</td><td>C  </td><td>chr3_38417366_rs169046_T_C      </td><td>  277</td><td>  188</td><td> 1586</td><td> 1383</td><td>  38.524755</td><td>  26.146765</td><td>  49.318796</td><td>  43.00624</td><td>TRUE</td></tr>\n",
       "</tbody>\n",
       "</table>\n"
      ],
      "text/latex": [
       "A data.frame: 6 × 15\n",
       "\\begin{tabular}{r|lllllllllllllll}\n",
       "  & chrom & hg19\\_pos & snp & allele & mutation & testcre & V1\\_DNA\\_ref\\_count & V1\\_DNA\\_alt\\_count & V2\\_DNA\\_ref\\_count & V2\\_DNA\\_alt\\_count & V1\\_DNA\\_ref\\_CPM & V1\\_DNA\\_alt\\_CPM & V2\\_DNA\\_ref\\_CPM & V2\\_DNA\\_alt\\_CPM & DNA\\_CPM\\_QC\\\\\n",
       "  & <chr> & <dbl> & <chr> & <chr> & <chr> & <chr> & <dbl> & <dbl> & <dbl> & <dbl> & <dbl> & <dbl> & <dbl> & <dbl> & <lgl>\\\\\n",
       "\\hline\n",
       "\t1 & chr2 & 201172086 & rs67190025  & C & T   & chr2\\_201172085\\_rs67190025\\_C\\_T    &    21 &    36 &   307 &   295 &    2.920649 &    5.006827 &    9.546576 &    9.17342 & TRUE\\\\\n",
       "\t2 & chr2 & 201172628 & rs7580924   & G & C   & chr2\\_201172627\\_rs7580924\\_G\\_C     &   245 &   263 &   868 &  1119 &   34.074242 &   36.577655 &   26.991623 &   34.79680 & TRUE\\\\\n",
       "\t3 & chr2 & 201185919 & rs13028959  & C & A   & chr2\\_201185918\\_rs13028959\\_C\\_A    &  5321 &  4688 & 19770 & 16641 &  740.036900 &  652.000186 &  614.774649 &  517.47420 & TRUE\\\\\n",
       "\t4 & chr2 & 201194504 & rs112467613 & C & CAA & chr2\\_201194503\\_rs112467613\\_C\\_CAA & 21922 & 17420 & 79508 & 68046 & 3048.879708 & 2422.748131 & 2472.407829 & 2115.98158 & TRUE\\\\\n",
       "\t5 & chr3 &  38417345 & rs196378    & G & C   & chr3\\_38417344\\_rs196378\\_G\\_C       &   155 &   138 &  1087 &   667 &   21.557173 &   19.192838 &   33.801722 &   20.74126 & TRUE\\\\\n",
       "\t6 & chr3 &  38417367 & rs169046    & T & C   & chr3\\_38417366\\_rs169046\\_T\\_C       &   277 &   188 &  1586 &  1383 &   38.524755 &   26.146765 &   49.318796 &   43.00624 & TRUE\\\\\n",
       "\\end{tabular}\n"
      ],
      "text/markdown": [
       "\n",
       "A data.frame: 6 × 15\n",
       "\n",
       "| <!--/--> | chrom &lt;chr&gt; | hg19_pos &lt;dbl&gt; | snp &lt;chr&gt; | allele &lt;chr&gt; | mutation &lt;chr&gt; | testcre &lt;chr&gt; | V1_DNA_ref_count &lt;dbl&gt; | V1_DNA_alt_count &lt;dbl&gt; | V2_DNA_ref_count &lt;dbl&gt; | V2_DNA_alt_count &lt;dbl&gt; | V1_DNA_ref_CPM &lt;dbl&gt; | V1_DNA_alt_CPM &lt;dbl&gt; | V2_DNA_ref_CPM &lt;dbl&gt; | V2_DNA_alt_CPM &lt;dbl&gt; | DNA_CPM_QC &lt;lgl&gt; |\n",
       "|---|---|---|---|---|---|---|---|---|---|---|---|---|---|---|---|\n",
       "| 1 | chr2 | 201172086 | rs67190025  | C | T   | chr2_201172085_rs67190025_C_T    |    21 |    36 |   307 |   295 |    2.920649 |    5.006827 |    9.546576 |    9.17342 | TRUE |\n",
       "| 2 | chr2 | 201172628 | rs7580924   | G | C   | chr2_201172627_rs7580924_G_C     |   245 |   263 |   868 |  1119 |   34.074242 |   36.577655 |   26.991623 |   34.79680 | TRUE |\n",
       "| 3 | chr2 | 201185919 | rs13028959  | C | A   | chr2_201185918_rs13028959_C_A    |  5321 |  4688 | 19770 | 16641 |  740.036900 |  652.000186 |  614.774649 |  517.47420 | TRUE |\n",
       "| 4 | chr2 | 201194504 | rs112467613 | C | CAA | chr2_201194503_rs112467613_C_CAA | 21922 | 17420 | 79508 | 68046 | 3048.879708 | 2422.748131 | 2472.407829 | 2115.98158 | TRUE |\n",
       "| 5 | chr3 |  38417345 | rs196378    | G | C   | chr3_38417344_rs196378_G_C       |   155 |   138 |  1087 |   667 |   21.557173 |   19.192838 |   33.801722 |   20.74126 | TRUE |\n",
       "| 6 | chr3 |  38417367 | rs169046    | T | C   | chr3_38417366_rs169046_T_C       |   277 |   188 |  1586 |  1383 |   38.524755 |   26.146765 |   49.318796 |   43.00624 | TRUE |\n",
       "\n"
      ],
      "text/plain": [
       "  chrom hg19_pos  snp         allele mutation testcre                         \n",
       "1 chr2  201172086 rs67190025  C      T        chr2_201172085_rs67190025_C_T   \n",
       "2 chr2  201172628 rs7580924   G      C        chr2_201172627_rs7580924_G_C    \n",
       "3 chr2  201185919 rs13028959  C      A        chr2_201185918_rs13028959_C_A   \n",
       "4 chr2  201194504 rs112467613 C      CAA      chr2_201194503_rs112467613_C_CAA\n",
       "5 chr3   38417345 rs196378    G      C        chr3_38417344_rs196378_G_C      \n",
       "6 chr3   38417367 rs169046    T      C        chr3_38417366_rs169046_T_C      \n",
       "  V1_DNA_ref_count V1_DNA_alt_count V2_DNA_ref_count V2_DNA_alt_count\n",
       "1    21               36              307              295           \n",
       "2   245              263              868             1119           \n",
       "3  5321             4688            19770            16641           \n",
       "4 21922            17420            79508            68046           \n",
       "5   155              138             1087              667           \n",
       "6   277              188             1586             1383           \n",
       "  V1_DNA_ref_CPM V1_DNA_alt_CPM V2_DNA_ref_CPM V2_DNA_alt_CPM DNA_CPM_QC\n",
       "1    2.920649       5.006827       9.546576       9.17342     TRUE      \n",
       "2   34.074242      36.577655      26.991623      34.79680     TRUE      \n",
       "3  740.036900     652.000186     614.774649     517.47420     TRUE      \n",
       "4 3048.879708    2422.748131    2472.407829    2115.98158     TRUE      \n",
       "5   21.557173      19.192838      33.801722      20.74126     TRUE      \n",
       "6   38.524755      26.146765      49.318796      43.00624     TRUE      "
      ]
     },
     "metadata": {},
     "output_type": "display_data"
    }
   ],
   "source": [
    "head(master_pool)"
   ]
  },
  {
   "cell_type": "code",
   "execution_count": 21,
   "id": "ce00e924-81b2-43ad-8404-696d5a24357d",
   "metadata": {
    "execution": {
     "iopub.execute_input": "2025-03-21T00:46:50.485419Z",
     "iopub.status.busy": "2025-03-21T00:46:50.484333Z",
     "iopub.status.idle": "2025-03-21T00:46:50.507961Z",
     "shell.execute_reply": "2025-03-21T00:46:50.506664Z"
    }
   },
   "outputs": [],
   "source": [
    "# save counts and CPM values for Pool\n",
    "write.table(master_pool, \"../results/pool2_dna_counts_cpm.txt\")"
   ]
  },
  {
   "cell_type": "code",
   "execution_count": null,
   "id": "4a2f7d91-7074-433d-af05-e2f807881062",
   "metadata": {},
   "outputs": [],
   "source": []
  }
 ],
 "metadata": {
  "kernelspec": {
   "display_name": "R",
   "language": "R",
   "name": "ir"
  },
  "language_info": {
   "codemirror_mode": "r",
   "file_extension": ".r",
   "mimetype": "text/x-r-source",
   "name": "R",
   "pygments_lexer": "r",
   "version": "4.3.3"
  }
 },
 "nbformat": 4,
 "nbformat_minor": 5
}
