{
 "cells": [
  {
   "cell_type": "markdown",
   "id": "82b6e23b-416a-432f-96ae-d1e010edb338",
   "metadata": {},
   "source": [
    "# MPRAnalyze Workflow for Preparing Count Data for Allelic Comparison"
   ]
  },
  {
   "cell_type": "code",
   "execution_count": 1,
   "id": "50aaf864-a372-4940-8a15-2ce6d5397043",
   "metadata": {
    "execution": {
     "iopub.execute_input": "2025-03-20T21:46:30.046089Z",
     "iopub.status.busy": "2025-03-20T21:46:30.037566Z",
     "iopub.status.idle": "2025-03-20T21:46:31.258722Z",
     "shell.execute_reply": "2025-03-20T21:46:31.257052Z"
    }
   },
   "outputs": [
    {
     "name": "stderr",
     "output_type": "stream",
     "text": [
      "── \u001b[1mAttaching core tidyverse packages\u001b[22m ──────────────────────── tidyverse 2.0.0 ──\n",
      "\u001b[32m✔\u001b[39m \u001b[34mdplyr    \u001b[39m 1.1.4     \u001b[32m✔\u001b[39m \u001b[34mreadr    \u001b[39m 2.1.5\n",
      "\u001b[32m✔\u001b[39m \u001b[34mforcats  \u001b[39m 1.0.0     \u001b[32m✔\u001b[39m \u001b[34mstringr  \u001b[39m 1.5.1\n",
      "\u001b[32m✔\u001b[39m \u001b[34mggplot2  \u001b[39m 3.5.1     \u001b[32m✔\u001b[39m \u001b[34mtibble   \u001b[39m 3.2.1\n",
      "\u001b[32m✔\u001b[39m \u001b[34mlubridate\u001b[39m 1.9.3     \u001b[32m✔\u001b[39m \u001b[34mtidyr    \u001b[39m 1.3.1\n",
      "\u001b[32m✔\u001b[39m \u001b[34mpurrr    \u001b[39m 1.0.2     \n",
      "── \u001b[1mConflicts\u001b[22m ────────────────────────────────────────── tidyverse_conflicts() ──\n",
      "\u001b[31m✖\u001b[39m \u001b[34mdplyr\u001b[39m::\u001b[32mfilter()\u001b[39m masks \u001b[34mstats\u001b[39m::filter()\n",
      "\u001b[31m✖\u001b[39m \u001b[34mdplyr\u001b[39m::\u001b[32mlag()\u001b[39m    masks \u001b[34mstats\u001b[39m::lag()\n",
      "\u001b[36mℹ\u001b[39m Use the conflicted package (\u001b[3m\u001b[34m<http://conflicted.r-lib.org/>\u001b[39m\u001b[23m) to force all conflicts to become errors\n"
     ]
    }
   ],
   "source": [
    "library(tidyverse)\n",
    "library(ggplot2)"
   ]
  },
  {
   "cell_type": "markdown",
   "id": "cbcf6c35-3752-4798-b621-d2dacc619c49",
   "metadata": {},
   "source": [
    "## Pool1"
   ]
  },
  {
   "cell_type": "code",
   "execution_count": 2,
   "id": "46e8176a-e44b-4270-83c3-063537b5a08e",
   "metadata": {
    "execution": {
     "iopub.execute_input": "2025-03-20T21:46:31.285042Z",
     "iopub.status.busy": "2025-03-20T21:46:31.261433Z",
     "iopub.status.idle": "2025-03-20T21:46:32.068929Z",
     "shell.execute_reply": "2025-03-20T21:46:32.067130Z"
    }
   },
   "outputs": [
    {
     "name": "stderr",
     "output_type": "stream",
     "text": [
      "\u001b[1mRows: \u001b[22m\u001b[34m50900\u001b[39m \u001b[1mColumns: \u001b[22m\u001b[34m16\u001b[39m\n",
      "\u001b[36m──\u001b[39m \u001b[1mColumn specification\u001b[22m \u001b[36m────────────────────────────────────────────────────────\u001b[39m\n",
      "\u001b[1mDelimiter:\u001b[22m \"\\t\"\n",
      "\u001b[31mchr\u001b[39m  (3): snp, testcre, barcode\n",
      "\u001b[32mdbl\u001b[39m (13): dna.r1, dna.r2, dna.r3, rna.r1, rna.r2, rna.r3, rna.r4, rna.r5, rn...\n",
      "\n",
      "\u001b[36mℹ\u001b[39m Use `spec()` to retrieve the full column specification for this data.\n",
      "\u001b[36mℹ\u001b[39m Specify the column types or set `show_col_types = FALSE` to quiet this message.\n",
      "\u001b[1mRows: \u001b[22m\u001b[34m50900\u001b[39m \u001b[1mColumns: \u001b[22m\u001b[34m16\u001b[39m\n",
      "\u001b[36m──\u001b[39m \u001b[1mColumn specification\u001b[22m \u001b[36m────────────────────────────────────────────────────────\u001b[39m\n",
      "\u001b[1mDelimiter:\u001b[22m \"\\t\"\n",
      "\u001b[31mchr\u001b[39m  (3): snp, testcre, barcode\n",
      "\u001b[32mdbl\u001b[39m (13): dna.r1, dna.r2, dna.r3, rna.r1, rna.r2, rna.r3, rna.r4, rna.r5, rn...\n",
      "\n",
      "\u001b[36mℹ\u001b[39m Use `spec()` to retrieve the full column specification for this data.\n",
      "\u001b[36mℹ\u001b[39m Specify the column types or set `show_col_types = FALSE` to quiet this message.\n"
     ]
    }
   ],
   "source": [
    "# read in dataset\n",
    "mpra_v1 <- read_tsv(\"../data/mpra_qtigc_pgl4v1_pool1.txt\")\n",
    "mpra_v2 <- read_tsv(\"../data/mpra_qtigc_pgl4v2_pool1.txt\")"
   ]
  },
  {
   "cell_type": "code",
   "execution_count": 3,
   "id": "d532685a-3d2a-4523-a508-5fffe3b3b0e7",
   "metadata": {
    "execution": {
     "iopub.execute_input": "2025-03-20T21:46:32.072654Z",
     "iopub.status.busy": "2025-03-20T21:46:32.071560Z",
     "iopub.status.idle": "2025-03-20T21:46:32.083376Z",
     "shell.execute_reply": "2025-03-20T21:46:32.082064Z"
    }
   },
   "outputs": [],
   "source": [
    "num_enhancers_v1 <- dim(mpra_v1)[1]\n",
    "num_enhancers_v2 <- dim(mpra_v2)[1]"
   ]
  },
  {
   "cell_type": "code",
   "execution_count": 4,
   "id": "b0471e88-2d1a-4311-b5a3-3939007a39be",
   "metadata": {
    "execution": {
     "iopub.execute_input": "2025-03-20T21:46:32.086980Z",
     "iopub.status.busy": "2025-03-20T21:46:32.085932Z",
     "iopub.status.idle": "2025-03-20T21:46:32.142215Z",
     "shell.execute_reply": "2025-03-20T21:46:32.140645Z"
    }
   },
   "outputs": [],
   "source": [
    "# format DNA counts for v1\n",
    "dna_counts_v1 <- mpra_v1 %>% select(-starts_with(\"rna\"), -barcode, -snp) %>% \n",
    "    mutate(row=rep(c(1:50), times=num_enhancers_v1/50)) %>% \n",
    "    pivot_wider(names_from=row, values_from=starts_with(\"dna\")) %>%\n",
    "    rename_with(~paste0(\"V1.\", .), -testcre)"
   ]
  },
  {
   "cell_type": "code",
   "execution_count": 5,
   "id": "1c91b37f-54d5-40ea-9b9d-e59bd0061e80",
   "metadata": {
    "execution": {
     "iopub.execute_input": "2025-03-20T21:46:32.146223Z",
     "iopub.status.busy": "2025-03-20T21:46:32.145069Z",
     "iopub.status.idle": "2025-03-20T21:46:32.180481Z",
     "shell.execute_reply": "2025-03-20T21:46:32.178994Z"
    }
   },
   "outputs": [],
   "source": [
    "# format DNA counts for v2\n",
    "dna_counts_v2 <- mpra_v2 %>% select(-starts_with(\"rna\"), -barcode, -snp) %>% \n",
    "    mutate(row=rep(c(1:50), times=num_enhancers_v2/50)) %>% \n",
    "    pivot_wider(names_from=row, values_from=starts_with(\"dna\")) %>%\n",
    "    rename_with(~paste0(\"V2.\", .), -testcre)"
   ]
  },
  {
   "cell_type": "code",
   "execution_count": 6,
   "id": "e8294a4f-cff6-4fa5-a2b2-16cae7067a8f",
   "metadata": {
    "execution": {
     "iopub.execute_input": "2025-03-20T21:46:32.184329Z",
     "iopub.status.busy": "2025-03-20T21:46:32.183238Z",
     "iopub.status.idle": "2025-03-20T21:46:32.250498Z",
     "shell.execute_reply": "2025-03-20T21:46:32.248975Z"
    }
   },
   "outputs": [],
   "source": [
    "# merge v1 and v2 DNA counts\n",
    "dna_counts <- dna_counts_v1 %>% inner_join(dna_counts_v2, by = \"testcre\") %>%\n",
    "    column_to_rownames(\"testcre\") %>% as.matrix()"
   ]
  },
  {
   "cell_type": "code",
   "execution_count": 7,
   "id": "80ff60a2-4f67-45ca-a9e4-1cd6817ce2ef",
   "metadata": {
    "execution": {
     "iopub.execute_input": "2025-03-20T21:46:32.254429Z",
     "iopub.status.busy": "2025-03-20T21:46:32.253275Z",
     "iopub.status.idle": "2025-03-20T21:46:32.278584Z",
     "shell.execute_reply": "2025-03-20T21:46:32.277199Z"
    }
   },
   "outputs": [
    {
     "data": {
      "text/html": [
       "<table class=\"dataframe\">\n",
       "<caption>A matrix: 6 × 300 of type dbl</caption>\n",
       "<thead>\n",
       "\t<tr><th></th><th scope=col>V1.dna.r1_1</th><th scope=col>V1.dna.r1_2</th><th scope=col>V1.dna.r1_3</th><th scope=col>V1.dna.r1_4</th><th scope=col>V1.dna.r1_5</th><th scope=col>V1.dna.r1_6</th><th scope=col>V1.dna.r1_7</th><th scope=col>V1.dna.r1_8</th><th scope=col>V1.dna.r1_9</th><th scope=col>V1.dna.r1_10</th><th scope=col>⋯</th><th scope=col>V2.dna.r3_41</th><th scope=col>V2.dna.r3_42</th><th scope=col>V2.dna.r3_43</th><th scope=col>V2.dna.r3_44</th><th scope=col>V2.dna.r3_45</th><th scope=col>V2.dna.r3_46</th><th scope=col>V2.dna.r3_47</th><th scope=col>V2.dna.r3_48</th><th scope=col>V2.dna.r3_49</th><th scope=col>V2.dna.r3_50</th></tr>\n",
       "</thead>\n",
       "<tbody>\n",
       "\t<tr><th scope=row>chr1_6147297_rs11583631_C_T_ref</th><td>0</td><td> 1</td><td>0</td><td>0</td><td> 0</td><td>0</td><td>0</td><td>0</td><td>0</td><td>7</td><td>⋯</td><td> 0</td><td> 0</td><td> 0</td><td>  5</td><td> 0</td><td> 0</td><td> 12</td><td> 0</td><td> 2</td><td> 0</td></tr>\n",
       "\t<tr><th scope=row>chr1_6147297_rs11583631_C_T_alt</th><td>0</td><td> 0</td><td>0</td><td>0</td><td> 0</td><td>1</td><td>2</td><td>0</td><td>0</td><td>0</td><td>⋯</td><td> 0</td><td> 0</td><td> 2</td><td>  0</td><td> 0</td><td> 0</td><td>  2</td><td>11</td><td> 0</td><td> 0</td></tr>\n",
       "\t<tr><th scope=row>chr1_6147340_rs11584419_A_C_ref</th><td>0</td><td> 0</td><td>0</td><td>0</td><td> 1</td><td>0</td><td>0</td><td>0</td><td>0</td><td>0</td><td>⋯</td><td> 2</td><td> 0</td><td> 1</td><td>  0</td><td> 5</td><td> 0</td><td>  0</td><td> 0</td><td> 0</td><td> 0</td></tr>\n",
       "\t<tr><th scope=row>chr1_6147340_rs11584419_A_C_alt</th><td>2</td><td> 0</td><td>0</td><td>0</td><td> 0</td><td>2</td><td>0</td><td>0</td><td>0</td><td>0</td><td>⋯</td><td> 0</td><td> 0</td><td> 0</td><td>  3</td><td> 0</td><td> 0</td><td>  0</td><td> 0</td><td> 0</td><td> 0</td></tr>\n",
       "\t<tr><th scope=row>chr1_6157296_rs749435_T_C_ref</th><td>0</td><td>22</td><td>5</td><td>5</td><td> 2</td><td>8</td><td>0</td><td>3</td><td>2</td><td>4</td><td>⋯</td><td> 4</td><td>16</td><td>14</td><td> 21</td><td> 4</td><td>41</td><td>222</td><td> 0</td><td>40</td><td>47</td></tr>\n",
       "\t<tr><th scope=row>chr1_6157296_rs749435_T_C_alt</th><td>7</td><td>10</td><td>2</td><td>1</td><td>38</td><td>2</td><td>4</td><td>2</td><td>4</td><td>9</td><td>⋯</td><td>12</td><td>16</td><td>14</td><td>127</td><td>71</td><td>15</td><td>  8</td><td> 5</td><td>17</td><td>15</td></tr>\n",
       "</tbody>\n",
       "</table>\n"
      ],
      "text/latex": [
       "A matrix: 6 × 300 of type dbl\n",
       "\\begin{tabular}{r|lllllllllllllllllllll}\n",
       "  & V1.dna.r1\\_1 & V1.dna.r1\\_2 & V1.dna.r1\\_3 & V1.dna.r1\\_4 & V1.dna.r1\\_5 & V1.dna.r1\\_6 & V1.dna.r1\\_7 & V1.dna.r1\\_8 & V1.dna.r1\\_9 & V1.dna.r1\\_10 & ⋯ & V2.dna.r3\\_41 & V2.dna.r3\\_42 & V2.dna.r3\\_43 & V2.dna.r3\\_44 & V2.dna.r3\\_45 & V2.dna.r3\\_46 & V2.dna.r3\\_47 & V2.dna.r3\\_48 & V2.dna.r3\\_49 & V2.dna.r3\\_50\\\\\n",
       "\\hline\n",
       "\tchr1\\_6147297\\_rs11583631\\_C\\_T\\_ref & 0 &  1 & 0 & 0 &  0 & 0 & 0 & 0 & 0 & 7 & ⋯ &  0 &  0 &  0 &   5 &  0 &  0 &  12 &  0 &  2 &  0\\\\\n",
       "\tchr1\\_6147297\\_rs11583631\\_C\\_T\\_alt & 0 &  0 & 0 & 0 &  0 & 1 & 2 & 0 & 0 & 0 & ⋯ &  0 &  0 &  2 &   0 &  0 &  0 &   2 & 11 &  0 &  0\\\\\n",
       "\tchr1\\_6147340\\_rs11584419\\_A\\_C\\_ref & 0 &  0 & 0 & 0 &  1 & 0 & 0 & 0 & 0 & 0 & ⋯ &  2 &  0 &  1 &   0 &  5 &  0 &   0 &  0 &  0 &  0\\\\\n",
       "\tchr1\\_6147340\\_rs11584419\\_A\\_C\\_alt & 2 &  0 & 0 & 0 &  0 & 2 & 0 & 0 & 0 & 0 & ⋯ &  0 &  0 &  0 &   3 &  0 &  0 &   0 &  0 &  0 &  0\\\\\n",
       "\tchr1\\_6157296\\_rs749435\\_T\\_C\\_ref & 0 & 22 & 5 & 5 &  2 & 8 & 0 & 3 & 2 & 4 & ⋯ &  4 & 16 & 14 &  21 &  4 & 41 & 222 &  0 & 40 & 47\\\\\n",
       "\tchr1\\_6157296\\_rs749435\\_T\\_C\\_alt & 7 & 10 & 2 & 1 & 38 & 2 & 4 & 2 & 4 & 9 & ⋯ & 12 & 16 & 14 & 127 & 71 & 15 &   8 &  5 & 17 & 15\\\\\n",
       "\\end{tabular}\n"
      ],
      "text/markdown": [
       "\n",
       "A matrix: 6 × 300 of type dbl\n",
       "\n",
       "| <!--/--> | V1.dna.r1_1 | V1.dna.r1_2 | V1.dna.r1_3 | V1.dna.r1_4 | V1.dna.r1_5 | V1.dna.r1_6 | V1.dna.r1_7 | V1.dna.r1_8 | V1.dna.r1_9 | V1.dna.r1_10 | ⋯ | V2.dna.r3_41 | V2.dna.r3_42 | V2.dna.r3_43 | V2.dna.r3_44 | V2.dna.r3_45 | V2.dna.r3_46 | V2.dna.r3_47 | V2.dna.r3_48 | V2.dna.r3_49 | V2.dna.r3_50 |\n",
       "|---|---|---|---|---|---|---|---|---|---|---|---|---|---|---|---|---|---|---|---|---|---|\n",
       "| chr1_6147297_rs11583631_C_T_ref | 0 |  1 | 0 | 0 |  0 | 0 | 0 | 0 | 0 | 7 | ⋯ |  0 |  0 |  0 |   5 |  0 |  0 |  12 |  0 |  2 |  0 |\n",
       "| chr1_6147297_rs11583631_C_T_alt | 0 |  0 | 0 | 0 |  0 | 1 | 2 | 0 | 0 | 0 | ⋯ |  0 |  0 |  2 |   0 |  0 |  0 |   2 | 11 |  0 |  0 |\n",
       "| chr1_6147340_rs11584419_A_C_ref | 0 |  0 | 0 | 0 |  1 | 0 | 0 | 0 | 0 | 0 | ⋯ |  2 |  0 |  1 |   0 |  5 |  0 |   0 |  0 |  0 |  0 |\n",
       "| chr1_6147340_rs11584419_A_C_alt | 2 |  0 | 0 | 0 |  0 | 2 | 0 | 0 | 0 | 0 | ⋯ |  0 |  0 |  0 |   3 |  0 |  0 |   0 |  0 |  0 |  0 |\n",
       "| chr1_6157296_rs749435_T_C_ref | 0 | 22 | 5 | 5 |  2 | 8 | 0 | 3 | 2 | 4 | ⋯ |  4 | 16 | 14 |  21 |  4 | 41 | 222 |  0 | 40 | 47 |\n",
       "| chr1_6157296_rs749435_T_C_alt | 7 | 10 | 2 | 1 | 38 | 2 | 4 | 2 | 4 | 9 | ⋯ | 12 | 16 | 14 | 127 | 71 | 15 |   8 |  5 | 17 | 15 |\n",
       "\n"
      ],
      "text/plain": [
       "                                V1.dna.r1_1 V1.dna.r1_2 V1.dna.r1_3 V1.dna.r1_4\n",
       "chr1_6147297_rs11583631_C_T_ref 0            1          0           0          \n",
       "chr1_6147297_rs11583631_C_T_alt 0            0          0           0          \n",
       "chr1_6147340_rs11584419_A_C_ref 0            0          0           0          \n",
       "chr1_6147340_rs11584419_A_C_alt 2            0          0           0          \n",
       "chr1_6157296_rs749435_T_C_ref   0           22          5           5          \n",
       "chr1_6157296_rs749435_T_C_alt   7           10          2           1          \n",
       "                                V1.dna.r1_5 V1.dna.r1_6 V1.dna.r1_7 V1.dna.r1_8\n",
       "chr1_6147297_rs11583631_C_T_ref  0          0           0           0          \n",
       "chr1_6147297_rs11583631_C_T_alt  0          1           2           0          \n",
       "chr1_6147340_rs11584419_A_C_ref  1          0           0           0          \n",
       "chr1_6147340_rs11584419_A_C_alt  0          2           0           0          \n",
       "chr1_6157296_rs749435_T_C_ref    2          8           0           3          \n",
       "chr1_6157296_rs749435_T_C_alt   38          2           4           2          \n",
       "                                V1.dna.r1_9 V1.dna.r1_10 ⋯ V2.dna.r3_41\n",
       "chr1_6147297_rs11583631_C_T_ref 0           7            ⋯  0          \n",
       "chr1_6147297_rs11583631_C_T_alt 0           0            ⋯  0          \n",
       "chr1_6147340_rs11584419_A_C_ref 0           0            ⋯  2          \n",
       "chr1_6147340_rs11584419_A_C_alt 0           0            ⋯  0          \n",
       "chr1_6157296_rs749435_T_C_ref   2           4            ⋯  4          \n",
       "chr1_6157296_rs749435_T_C_alt   4           9            ⋯ 12          \n",
       "                                V2.dna.r3_42 V2.dna.r3_43 V2.dna.r3_44\n",
       "chr1_6147297_rs11583631_C_T_ref  0            0             5         \n",
       "chr1_6147297_rs11583631_C_T_alt  0            2             0         \n",
       "chr1_6147340_rs11584419_A_C_ref  0            1             0         \n",
       "chr1_6147340_rs11584419_A_C_alt  0            0             3         \n",
       "chr1_6157296_rs749435_T_C_ref   16           14            21         \n",
       "chr1_6157296_rs749435_T_C_alt   16           14           127         \n",
       "                                V2.dna.r3_45 V2.dna.r3_46 V2.dna.r3_47\n",
       "chr1_6147297_rs11583631_C_T_ref  0            0            12         \n",
       "chr1_6147297_rs11583631_C_T_alt  0            0             2         \n",
       "chr1_6147340_rs11584419_A_C_ref  5            0             0         \n",
       "chr1_6147340_rs11584419_A_C_alt  0            0             0         \n",
       "chr1_6157296_rs749435_T_C_ref    4           41           222         \n",
       "chr1_6157296_rs749435_T_C_alt   71           15             8         \n",
       "                                V2.dna.r3_48 V2.dna.r3_49 V2.dna.r3_50\n",
       "chr1_6147297_rs11583631_C_T_ref  0            2            0          \n",
       "chr1_6147297_rs11583631_C_T_alt 11            0            0          \n",
       "chr1_6147340_rs11584419_A_C_ref  0            0            0          \n",
       "chr1_6147340_rs11584419_A_C_alt  0            0            0          \n",
       "chr1_6157296_rs749435_T_C_ref    0           40           47          \n",
       "chr1_6157296_rs749435_T_C_alt    5           17           15          "
      ]
     },
     "metadata": {},
     "output_type": "display_data"
    }
   ],
   "source": [
    "head(dna_counts)"
   ]
  },
  {
   "cell_type": "code",
   "execution_count": 8,
   "id": "d3662f42-d3f0-4027-9e4b-f16cd93a2683",
   "metadata": {
    "execution": {
     "iopub.execute_input": "2025-03-20T21:46:32.289356Z",
     "iopub.status.busy": "2025-03-20T21:46:32.281157Z",
     "iopub.status.idle": "2025-03-20T21:46:32.345501Z",
     "shell.execute_reply": "2025-03-20T21:46:32.343936Z"
    }
   },
   "outputs": [],
   "source": [
    "# format RNA counts\n",
    "rna_counts_v1 <- mpra_v1 %>% select(-starts_with(\"dna\"), -barcode, -snp) %>% \n",
    "    mutate(row=rep(c(1:50), times=num_enhancers_v1/50)) %>% \n",
    "    pivot_wider(names_from=row, values_from=starts_with(\"rna\")) %>%\n",
    "    rename_with(~paste0(\"V1.\", .), -testcre)"
   ]
  },
  {
   "cell_type": "code",
   "execution_count": 9,
   "id": "d9819997-3b8a-4978-b894-a1de824716de",
   "metadata": {
    "execution": {
     "iopub.execute_input": "2025-03-20T21:46:32.349444Z",
     "iopub.status.busy": "2025-03-20T21:46:32.348326Z",
     "iopub.status.idle": "2025-03-20T21:46:32.417113Z",
     "shell.execute_reply": "2025-03-20T21:46:32.415562Z"
    }
   },
   "outputs": [],
   "source": [
    "# format RNA counts\n",
    "rna_counts_v2 <- mpra_v2 %>% select(-starts_with(\"dna\"), -barcode, -snp) %>% \n",
    "    mutate(row=rep(c(1:50), times=num_enhancers_v2/50)) %>% \n",
    "    pivot_wider(names_from=row, values_from=starts_with(\"rna\")) %>%\n",
    "    rename_with(~paste0(\"V2.\", .), -testcre)"
   ]
  },
  {
   "cell_type": "code",
   "execution_count": 10,
   "id": "1e676b50-568f-40ad-a3ea-3d9d5d9b38c3",
   "metadata": {
    "execution": {
     "iopub.execute_input": "2025-03-20T21:46:32.421121Z",
     "iopub.status.busy": "2025-03-20T21:46:32.419965Z",
     "iopub.status.idle": "2025-03-20T21:46:32.557675Z",
     "shell.execute_reply": "2025-03-20T21:46:32.556209Z"
    }
   },
   "outputs": [],
   "source": [
    "# merge v1 and v2 RNA counts\n",
    "rna_counts <- rna_counts_v1 %>% inner_join(rna_counts_v2, by = \"testcre\") %>%\n",
    "    column_to_rownames(\"testcre\") %>% as.matrix()"
   ]
  },
  {
   "cell_type": "code",
   "execution_count": 11,
   "id": "265119d1-7ef7-4115-8597-479ab273d81a",
   "metadata": {
    "execution": {
     "iopub.execute_input": "2025-03-20T21:46:32.561454Z",
     "iopub.status.busy": "2025-03-20T21:46:32.560372Z",
     "iopub.status.idle": "2025-03-20T21:46:32.575274Z",
     "shell.execute_reply": "2025-03-20T21:46:32.573737Z"
    }
   },
   "outputs": [],
   "source": [
    "# split row names from DNA counts into enhancer information\n",
    "dna_enc_names <- data.frame(do.call(rbind, strsplit(rownames(dna_counts), \"_\")))\n",
    "colnames(dna_enc_names) <- c(\"chrom\", \"pos\", \"snp\", \"allele\", \"mutation\", \"alleletype\")"
   ]
  },
  {
   "cell_type": "code",
   "execution_count": 12,
   "id": "670ccb4a-fb5d-4048-bc4b-c1d76b27534f",
   "metadata": {
    "execution": {
     "iopub.execute_input": "2025-03-20T21:46:32.578801Z",
     "iopub.status.busy": "2025-03-20T21:46:32.577785Z",
     "iopub.status.idle": "2025-03-20T21:46:32.853826Z",
     "shell.execute_reply": "2025-03-20T21:46:32.851712Z"
    }
   },
   "outputs": [],
   "source": [
    "# expand dna counts to have ref and alt counts on same rows for each enhancer\n",
    "dna_counts_allelic <- as.data.frame(dna_counts) %>% \n",
    "    mutate(dna_enc_names) %>% \n",
    "    pivot_wider(names_from=alleletype, values_from=contains('dna')) %>% \n",
    "    unite(enhancer, chrom, pos, snp, allele, mutation, sep='_') %>%\n",
    "    column_to_rownames('enhancer')"
   ]
  },
  {
   "cell_type": "code",
   "execution_count": 13,
   "id": "b0772f1a-5cc3-487f-b8a4-6960a6ba103e",
   "metadata": {
    "execution": {
     "iopub.execute_input": "2025-03-20T21:46:32.858221Z",
     "iopub.status.busy": "2025-03-20T21:46:32.856991Z",
     "iopub.status.idle": "2025-03-20T21:46:32.873889Z",
     "shell.execute_reply": "2025-03-20T21:46:32.872269Z"
    }
   },
   "outputs": [],
   "source": [
    "# split row names from RNA counts into enhancer information\n",
    "rna_enc_names <- data.frame(do.call(rbind, strsplit(rownames(rna_counts), \"_\")))\n",
    "colnames(rna_enc_names) <- c(\"chrom\", \"pos\", \"snp\", \"allele\", \"mutation\", \"alleletype\")"
   ]
  },
  {
   "cell_type": "code",
   "execution_count": 14,
   "id": "96763eab-e52d-42f2-9347-12fd357975de",
   "metadata": {
    "execution": {
     "iopub.execute_input": "2025-03-20T21:46:32.877962Z",
     "iopub.status.busy": "2025-03-20T21:46:32.876630Z",
     "iopub.status.idle": "2025-03-20T21:46:33.810843Z",
     "shell.execute_reply": "2025-03-20T21:46:33.809209Z"
    }
   },
   "outputs": [],
   "source": [
    "# expand rna counts to have ref and alt counts on same rows for each enhancer\n",
    "rna_counts_allelic <- as.data.frame(rna_counts) %>% \n",
    "    mutate(rna_enc_names) %>% \n",
    "    pivot_wider(names_from=alleletype, values_from=contains('rna')) %>% \n",
    "    unite(enhancer, chrom, pos, snp, allele, mutation, sep='_') %>%\n",
    "    column_to_rownames('enhancer')"
   ]
  },
  {
   "cell_type": "code",
   "execution_count": 15,
   "id": "846a5a5f-66f6-4fd1-8507-79aca894ad7b",
   "metadata": {
    "execution": {
     "iopub.execute_input": "2025-03-20T21:46:33.814721Z",
     "iopub.status.busy": "2025-03-20T21:46:33.813580Z",
     "iopub.status.idle": "2025-03-20T21:46:34.095974Z",
     "shell.execute_reply": "2025-03-20T21:46:34.094381Z"
    }
   },
   "outputs": [],
   "source": [
    "# save DNA allelic counts\n",
    "write.table(dna_counts_allelic, '../data/pool1_dna_counts_allelic.txt')"
   ]
  },
  {
   "cell_type": "code",
   "execution_count": 16,
   "id": "f292d909-974e-410c-95ac-c37d70b85bc4",
   "metadata": {
    "execution": {
     "iopub.execute_input": "2025-03-20T21:46:34.099922Z",
     "iopub.status.busy": "2025-03-20T21:46:34.098802Z",
     "iopub.status.idle": "2025-03-20T21:46:35.540360Z",
     "shell.execute_reply": "2025-03-20T21:46:35.537658Z"
    }
   },
   "outputs": [],
   "source": [
    "# save RNA allelic counts\n",
    "write.table(rna_counts_allelic, '../data/pool1_rna_counts_allelic.txt')"
   ]
  },
  {
   "cell_type": "markdown",
   "id": "a3e6834c-e84a-4eb9-b49f-85a80ebfa5f1",
   "metadata": {},
   "source": [
    "## Pool2"
   ]
  },
  {
   "cell_type": "code",
   "execution_count": 17,
   "id": "a391f548-710c-4375-be53-bd8303806ddf",
   "metadata": {
    "execution": {
     "iopub.execute_input": "2025-03-20T21:46:35.557024Z",
     "iopub.status.busy": "2025-03-20T21:46:35.543814Z",
     "iopub.status.idle": "2025-03-20T21:46:36.955115Z",
     "shell.execute_reply": "2025-03-20T21:46:36.952904Z"
    }
   },
   "outputs": [
    {
     "name": "stderr",
     "output_type": "stream",
     "text": [
      "\u001b[1mRows: \u001b[22m\u001b[34m50900\u001b[39m \u001b[1mColumns: \u001b[22m\u001b[34m16\u001b[39m\n",
      "\u001b[36m──\u001b[39m \u001b[1mColumn specification\u001b[22m \u001b[36m────────────────────────────────────────────────────────\u001b[39m\n",
      "\u001b[1mDelimiter:\u001b[22m \"\\t\"\n",
      "\u001b[31mchr\u001b[39m  (3): snp, testcre, barcode\n",
      "\u001b[32mdbl\u001b[39m (13): dna.r1, dna.r2, dna.r3, rna.r1, rna.r2, rna.r3, rna.r4, rna.r5, rn...\n",
      "\n",
      "\u001b[36mℹ\u001b[39m Use `spec()` to retrieve the full column specification for this data.\n",
      "\u001b[36mℹ\u001b[39m Specify the column types or set `show_col_types = FALSE` to quiet this message.\n",
      "\u001b[1mRows: \u001b[22m\u001b[34m50900\u001b[39m \u001b[1mColumns: \u001b[22m\u001b[34m16\u001b[39m\n",
      "\u001b[36m──\u001b[39m \u001b[1mColumn specification\u001b[22m \u001b[36m────────────────────────────────────────────────────────\u001b[39m\n",
      "\u001b[1mDelimiter:\u001b[22m \"\\t\"\n",
      "\u001b[31mchr\u001b[39m  (3): snp, testcre, barcode\n",
      "\u001b[32mdbl\u001b[39m (13): dna.r1, dna.r2, dna.r3, rna.r1, rna.r2, rna.r3, rna.r4, rna.r5, rn...\n",
      "\n",
      "\u001b[36mℹ\u001b[39m Use `spec()` to retrieve the full column specification for this data.\n",
      "\u001b[36mℹ\u001b[39m Specify the column types or set `show_col_types = FALSE` to quiet this message.\n"
     ]
    }
   ],
   "source": [
    "# read in dataset\n",
    "mpra_v1 <- read_tsv(\"../data/mpra_qtigc_pgl4v1_pool2.txt\")\n",
    "mpra_v2 <- read_tsv(\"../data/mpra_qtigc_pgl4v2_pool2.txt\")"
   ]
  },
  {
   "cell_type": "code",
   "execution_count": 18,
   "id": "a19895a9-1343-4335-ba4f-08d083ad7e8b",
   "metadata": {
    "execution": {
     "iopub.execute_input": "2025-03-20T21:46:36.959908Z",
     "iopub.status.busy": "2025-03-20T21:46:36.958238Z",
     "iopub.status.idle": "2025-03-20T21:46:36.978641Z",
     "shell.execute_reply": "2025-03-20T21:46:36.976529Z"
    }
   },
   "outputs": [],
   "source": [
    "num_enhancers_v1 <- dim(mpra_v1)[1]\n",
    "num_enhancers_v2 <- dim(mpra_v2)[1]"
   ]
  },
  {
   "cell_type": "code",
   "execution_count": 19,
   "id": "cd3ecd71-f777-4be5-b347-a0694fc391e4",
   "metadata": {
    "execution": {
     "iopub.execute_input": "2025-03-20T21:46:36.983989Z",
     "iopub.status.busy": "2025-03-20T21:46:36.982324Z",
     "iopub.status.idle": "2025-03-20T21:46:37.038880Z",
     "shell.execute_reply": "2025-03-20T21:46:37.035668Z"
    }
   },
   "outputs": [],
   "source": [
    "# format DNA counts for v1\n",
    "dna_counts_v1 <- mpra_v1 %>% select(-starts_with(\"rna\"), -barcode, -snp) %>% \n",
    "    mutate(row=rep(c(1:50), times=num_enhancers_v1/50)) %>% \n",
    "    pivot_wider(names_from=row, values_from=starts_with(\"dna\")) %>%\n",
    "    rename_with(~paste0(\"V1.\", .), -testcre)"
   ]
  },
  {
   "cell_type": "code",
   "execution_count": 20,
   "id": "e45d3b88-065f-4e9d-9c1d-fa3f43ae624b",
   "metadata": {
    "execution": {
     "iopub.execute_input": "2025-03-20T21:46:37.044229Z",
     "iopub.status.busy": "2025-03-20T21:46:37.042450Z",
     "iopub.status.idle": "2025-03-20T21:46:37.104081Z",
     "shell.execute_reply": "2025-03-20T21:46:37.102106Z"
    }
   },
   "outputs": [],
   "source": [
    "# format DNA counts for v2\n",
    "dna_counts_v2 <- mpra_v2 %>% select(-starts_with(\"rna\"), -barcode, -snp) %>% \n",
    "    mutate(row=rep(c(1:50), times=num_enhancers_v2/50)) %>% \n",
    "    pivot_wider(names_from=row, values_from=starts_with(\"dna\")) %>%\n",
    "    rename_with(~paste0(\"V2.\", .), -testcre)"
   ]
  },
  {
   "cell_type": "code",
   "execution_count": 21,
   "id": "566a036c-a65a-41ab-a64d-8b10eec3c9e8",
   "metadata": {
    "execution": {
     "iopub.execute_input": "2025-03-20T21:46:37.108829Z",
     "iopub.status.busy": "2025-03-20T21:46:37.107253Z",
     "iopub.status.idle": "2025-03-20T21:46:37.135215Z",
     "shell.execute_reply": "2025-03-20T21:46:37.133086Z"
    }
   },
   "outputs": [],
   "source": [
    "# merge v1 and v2 DNA counts\n",
    "dna_counts <- dna_counts_v1 %>% inner_join(dna_counts_v2, by = \"testcre\") %>%\n",
    "    column_to_rownames(\"testcre\") %>% as.matrix()"
   ]
  },
  {
   "cell_type": "code",
   "execution_count": 22,
   "id": "fdc914bc-759e-4581-b0d7-7c309829b3d9",
   "metadata": {
    "execution": {
     "iopub.execute_input": "2025-03-20T21:46:37.139616Z",
     "iopub.status.busy": "2025-03-20T21:46:37.138039Z",
     "iopub.status.idle": "2025-03-20T21:46:37.173285Z",
     "shell.execute_reply": "2025-03-20T21:46:37.171311Z"
    }
   },
   "outputs": [
    {
     "data": {
      "text/html": [
       "<table class=\"dataframe\">\n",
       "<caption>A matrix: 6 × 300 of type dbl</caption>\n",
       "<thead>\n",
       "\t<tr><th></th><th scope=col>V1.dna.r1_1</th><th scope=col>V1.dna.r1_2</th><th scope=col>V1.dna.r1_3</th><th scope=col>V1.dna.r1_4</th><th scope=col>V1.dna.r1_5</th><th scope=col>V1.dna.r1_6</th><th scope=col>V1.dna.r1_7</th><th scope=col>V1.dna.r1_8</th><th scope=col>V1.dna.r1_9</th><th scope=col>V1.dna.r1_10</th><th scope=col>⋯</th><th scope=col>V2.dna.r3_41</th><th scope=col>V2.dna.r3_42</th><th scope=col>V2.dna.r3_43</th><th scope=col>V2.dna.r3_44</th><th scope=col>V2.dna.r3_45</th><th scope=col>V2.dna.r3_46</th><th scope=col>V2.dna.r3_47</th><th scope=col>V2.dna.r3_48</th><th scope=col>V2.dna.r3_49</th><th scope=col>V2.dna.r3_50</th></tr>\n",
       "</thead>\n",
       "<tbody>\n",
       "\t<tr><th scope=row>chr2_201172085_rs67190025_C_T_ref</th><td> 0</td><td> 3</td><td> 0</td><td> 0</td><td> 0</td><td> 0</td><td> 0</td><td> 0</td><td> 0</td><td> 0</td><td>⋯</td><td>  0</td><td> 0</td><td> 0</td><td>  0</td><td>  0</td><td>  0</td><td>  7</td><td> 0</td><td>  4</td><td>  9</td></tr>\n",
       "\t<tr><th scope=row>chr2_201172085_rs67190025_C_T_alt</th><td> 0</td><td> 0</td><td> 0</td><td> 0</td><td> 0</td><td> 0</td><td> 0</td><td> 0</td><td> 0</td><td> 0</td><td>⋯</td><td>  0</td><td> 0</td><td> 0</td><td>  0</td><td>  1</td><td>  0</td><td>  0</td><td> 9</td><td>  0</td><td>  0</td></tr>\n",
       "\t<tr><th scope=row>chr2_201172627_rs7580924_G_C_ref</th><td> 0</td><td> 0</td><td> 0</td><td> 6</td><td> 1</td><td> 0</td><td> 6</td><td> 1</td><td> 5</td><td> 0</td><td>⋯</td><td>  2</td><td> 4</td><td> 4</td><td>  0</td><td>  0</td><td> 24</td><td>  2</td><td> 9</td><td> 10</td><td>  0</td></tr>\n",
       "\t<tr><th scope=row>chr2_201172627_rs7580924_G_C_alt</th><td> 0</td><td> 6</td><td> 0</td><td> 0</td><td> 0</td><td> 0</td><td> 2</td><td> 0</td><td> 0</td><td> 0</td><td>⋯</td><td> 17</td><td> 0</td><td>10</td><td>  0</td><td>  8</td><td> 13</td><td>  4</td><td> 1</td><td>  1</td><td>  0</td></tr>\n",
       "\t<tr><th scope=row>chr2_201185918_rs13028959_C_A_ref</th><td>47</td><td>64</td><td>34</td><td>52</td><td>21</td><td>36</td><td> 2</td><td>13</td><td>73</td><td>32</td><td>⋯</td><td> 30</td><td>53</td><td>50</td><td>135</td><td> 20</td><td>170</td><td>299</td><td>85</td><td>661</td><td> 34</td></tr>\n",
       "\t<tr><th scope=row>chr2_201185918_rs13028959_C_A_alt</th><td>21</td><td>39</td><td>29</td><td> 8</td><td>14</td><td>25</td><td>24</td><td>27</td><td>45</td><td>15</td><td>⋯</td><td>440</td><td>18</td><td>86</td><td> 41</td><td>226</td><td>106</td><td>270</td><td>98</td><td> 59</td><td>191</td></tr>\n",
       "</tbody>\n",
       "</table>\n"
      ],
      "text/latex": [
       "A matrix: 6 × 300 of type dbl\n",
       "\\begin{tabular}{r|lllllllllllllllllllll}\n",
       "  & V1.dna.r1\\_1 & V1.dna.r1\\_2 & V1.dna.r1\\_3 & V1.dna.r1\\_4 & V1.dna.r1\\_5 & V1.dna.r1\\_6 & V1.dna.r1\\_7 & V1.dna.r1\\_8 & V1.dna.r1\\_9 & V1.dna.r1\\_10 & ⋯ & V2.dna.r3\\_41 & V2.dna.r3\\_42 & V2.dna.r3\\_43 & V2.dna.r3\\_44 & V2.dna.r3\\_45 & V2.dna.r3\\_46 & V2.dna.r3\\_47 & V2.dna.r3\\_48 & V2.dna.r3\\_49 & V2.dna.r3\\_50\\\\\n",
       "\\hline\n",
       "\tchr2\\_201172085\\_rs67190025\\_C\\_T\\_ref &  0 &  3 &  0 &  0 &  0 &  0 &  0 &  0 &  0 &  0 & ⋯ &   0 &  0 &  0 &   0 &   0 &   0 &   7 &  0 &   4 &   9\\\\\n",
       "\tchr2\\_201172085\\_rs67190025\\_C\\_T\\_alt &  0 &  0 &  0 &  0 &  0 &  0 &  0 &  0 &  0 &  0 & ⋯ &   0 &  0 &  0 &   0 &   1 &   0 &   0 &  9 &   0 &   0\\\\\n",
       "\tchr2\\_201172627\\_rs7580924\\_G\\_C\\_ref &  0 &  0 &  0 &  6 &  1 &  0 &  6 &  1 &  5 &  0 & ⋯ &   2 &  4 &  4 &   0 &   0 &  24 &   2 &  9 &  10 &   0\\\\\n",
       "\tchr2\\_201172627\\_rs7580924\\_G\\_C\\_alt &  0 &  6 &  0 &  0 &  0 &  0 &  2 &  0 &  0 &  0 & ⋯ &  17 &  0 & 10 &   0 &   8 &  13 &   4 &  1 &   1 &   0\\\\\n",
       "\tchr2\\_201185918\\_rs13028959\\_C\\_A\\_ref & 47 & 64 & 34 & 52 & 21 & 36 &  2 & 13 & 73 & 32 & ⋯ &  30 & 53 & 50 & 135 &  20 & 170 & 299 & 85 & 661 &  34\\\\\n",
       "\tchr2\\_201185918\\_rs13028959\\_C\\_A\\_alt & 21 & 39 & 29 &  8 & 14 & 25 & 24 & 27 & 45 & 15 & ⋯ & 440 & 18 & 86 &  41 & 226 & 106 & 270 & 98 &  59 & 191\\\\\n",
       "\\end{tabular}\n"
      ],
      "text/markdown": [
       "\n",
       "A matrix: 6 × 300 of type dbl\n",
       "\n",
       "| <!--/--> | V1.dna.r1_1 | V1.dna.r1_2 | V1.dna.r1_3 | V1.dna.r1_4 | V1.dna.r1_5 | V1.dna.r1_6 | V1.dna.r1_7 | V1.dna.r1_8 | V1.dna.r1_9 | V1.dna.r1_10 | ⋯ | V2.dna.r3_41 | V2.dna.r3_42 | V2.dna.r3_43 | V2.dna.r3_44 | V2.dna.r3_45 | V2.dna.r3_46 | V2.dna.r3_47 | V2.dna.r3_48 | V2.dna.r3_49 | V2.dna.r3_50 |\n",
       "|---|---|---|---|---|---|---|---|---|---|---|---|---|---|---|---|---|---|---|---|---|---|\n",
       "| chr2_201172085_rs67190025_C_T_ref |  0 |  3 |  0 |  0 |  0 |  0 |  0 |  0 |  0 |  0 | ⋯ |   0 |  0 |  0 |   0 |   0 |   0 |   7 |  0 |   4 |   9 |\n",
       "| chr2_201172085_rs67190025_C_T_alt |  0 |  0 |  0 |  0 |  0 |  0 |  0 |  0 |  0 |  0 | ⋯ |   0 |  0 |  0 |   0 |   1 |   0 |   0 |  9 |   0 |   0 |\n",
       "| chr2_201172627_rs7580924_G_C_ref |  0 |  0 |  0 |  6 |  1 |  0 |  6 |  1 |  5 |  0 | ⋯ |   2 |  4 |  4 |   0 |   0 |  24 |   2 |  9 |  10 |   0 |\n",
       "| chr2_201172627_rs7580924_G_C_alt |  0 |  6 |  0 |  0 |  0 |  0 |  2 |  0 |  0 |  0 | ⋯ |  17 |  0 | 10 |   0 |   8 |  13 |   4 |  1 |   1 |   0 |\n",
       "| chr2_201185918_rs13028959_C_A_ref | 47 | 64 | 34 | 52 | 21 | 36 |  2 | 13 | 73 | 32 | ⋯ |  30 | 53 | 50 | 135 |  20 | 170 | 299 | 85 | 661 |  34 |\n",
       "| chr2_201185918_rs13028959_C_A_alt | 21 | 39 | 29 |  8 | 14 | 25 | 24 | 27 | 45 | 15 | ⋯ | 440 | 18 | 86 |  41 | 226 | 106 | 270 | 98 |  59 | 191 |\n",
       "\n"
      ],
      "text/plain": [
       "                                  V1.dna.r1_1 V1.dna.r1_2 V1.dna.r1_3\n",
       "chr2_201172085_rs67190025_C_T_ref  0           3           0         \n",
       "chr2_201172085_rs67190025_C_T_alt  0           0           0         \n",
       "chr2_201172627_rs7580924_G_C_ref   0           0           0         \n",
       "chr2_201172627_rs7580924_G_C_alt   0           6           0         \n",
       "chr2_201185918_rs13028959_C_A_ref 47          64          34         \n",
       "chr2_201185918_rs13028959_C_A_alt 21          39          29         \n",
       "                                  V1.dna.r1_4 V1.dna.r1_5 V1.dna.r1_6\n",
       "chr2_201172085_rs67190025_C_T_ref  0           0           0         \n",
       "chr2_201172085_rs67190025_C_T_alt  0           0           0         \n",
       "chr2_201172627_rs7580924_G_C_ref   6           1           0         \n",
       "chr2_201172627_rs7580924_G_C_alt   0           0           0         \n",
       "chr2_201185918_rs13028959_C_A_ref 52          21          36         \n",
       "chr2_201185918_rs13028959_C_A_alt  8          14          25         \n",
       "                                  V1.dna.r1_7 V1.dna.r1_8 V1.dna.r1_9\n",
       "chr2_201172085_rs67190025_C_T_ref  0           0           0         \n",
       "chr2_201172085_rs67190025_C_T_alt  0           0           0         \n",
       "chr2_201172627_rs7580924_G_C_ref   6           1           5         \n",
       "chr2_201172627_rs7580924_G_C_alt   2           0           0         \n",
       "chr2_201185918_rs13028959_C_A_ref  2          13          73         \n",
       "chr2_201185918_rs13028959_C_A_alt 24          27          45         \n",
       "                                  V1.dna.r1_10 ⋯ V2.dna.r3_41 V2.dna.r3_42\n",
       "chr2_201172085_rs67190025_C_T_ref  0           ⋯   0           0          \n",
       "chr2_201172085_rs67190025_C_T_alt  0           ⋯   0           0          \n",
       "chr2_201172627_rs7580924_G_C_ref   0           ⋯   2           4          \n",
       "chr2_201172627_rs7580924_G_C_alt   0           ⋯  17           0          \n",
       "chr2_201185918_rs13028959_C_A_ref 32           ⋯  30          53          \n",
       "chr2_201185918_rs13028959_C_A_alt 15           ⋯ 440          18          \n",
       "                                  V2.dna.r3_43 V2.dna.r3_44 V2.dna.r3_45\n",
       "chr2_201172085_rs67190025_C_T_ref  0             0            0         \n",
       "chr2_201172085_rs67190025_C_T_alt  0             0            1         \n",
       "chr2_201172627_rs7580924_G_C_ref   4             0            0         \n",
       "chr2_201172627_rs7580924_G_C_alt  10             0            8         \n",
       "chr2_201185918_rs13028959_C_A_ref 50           135           20         \n",
       "chr2_201185918_rs13028959_C_A_alt 86            41          226         \n",
       "                                  V2.dna.r3_46 V2.dna.r3_47 V2.dna.r3_48\n",
       "chr2_201172085_rs67190025_C_T_ref   0            7           0          \n",
       "chr2_201172085_rs67190025_C_T_alt   0            0           9          \n",
       "chr2_201172627_rs7580924_G_C_ref   24            2           9          \n",
       "chr2_201172627_rs7580924_G_C_alt   13            4           1          \n",
       "chr2_201185918_rs13028959_C_A_ref 170          299          85          \n",
       "chr2_201185918_rs13028959_C_A_alt 106          270          98          \n",
       "                                  V2.dna.r3_49 V2.dna.r3_50\n",
       "chr2_201172085_rs67190025_C_T_ref   4            9         \n",
       "chr2_201172085_rs67190025_C_T_alt   0            0         \n",
       "chr2_201172627_rs7580924_G_C_ref   10            0         \n",
       "chr2_201172627_rs7580924_G_C_alt    1            0         \n",
       "chr2_201185918_rs13028959_C_A_ref 661           34         \n",
       "chr2_201185918_rs13028959_C_A_alt  59          191         "
      ]
     },
     "metadata": {},
     "output_type": "display_data"
    }
   ],
   "source": [
    "head(dna_counts)"
   ]
  },
  {
   "cell_type": "code",
   "execution_count": 23,
   "id": "a0bc629a-a2b3-40d0-88f5-ccfe7e7a1c12",
   "metadata": {
    "execution": {
     "iopub.execute_input": "2025-03-20T21:46:37.177982Z",
     "iopub.status.busy": "2025-03-20T21:46:37.176368Z",
     "iopub.status.idle": "2025-03-20T21:46:37.405144Z",
     "shell.execute_reply": "2025-03-20T21:46:37.402777Z"
    }
   },
   "outputs": [],
   "source": [
    "# format RNA counts\n",
    "rna_counts_v1 <- mpra_v1 %>% select(-starts_with(\"dna\"), -barcode, -snp) %>% \n",
    "    mutate(row=rep(c(1:50), times=num_enhancers_v1/50)) %>% \n",
    "    pivot_wider(names_from=row, values_from=starts_with(\"rna\")) %>%\n",
    "    rename_with(~paste0(\"V1.\", .), -testcre)"
   ]
  },
  {
   "cell_type": "code",
   "execution_count": 24,
   "id": "12ad9360-9876-4739-b046-bf28bba96df3",
   "metadata": {
    "execution": {
     "iopub.execute_input": "2025-03-20T21:46:37.409780Z",
     "iopub.status.busy": "2025-03-20T21:46:37.408146Z",
     "iopub.status.idle": "2025-03-20T21:46:37.521214Z",
     "shell.execute_reply": "2025-03-20T21:46:37.519008Z"
    }
   },
   "outputs": [],
   "source": [
    "# format RNA counts\n",
    "rna_counts_v2 <- mpra_v2 %>% select(-starts_with(\"dna\"), -barcode, -snp) %>% \n",
    "    mutate(row=rep(c(1:50), times=num_enhancers_v2/50)) %>% \n",
    "    pivot_wider(names_from=row, values_from=starts_with(\"rna\")) %>%\n",
    "    rename_with(~paste0(\"V2.\", .), -testcre)"
   ]
  },
  {
   "cell_type": "code",
   "execution_count": 25,
   "id": "57a1bf17-6720-4ec2-8c86-23a6e350e49e",
   "metadata": {
    "execution": {
     "iopub.execute_input": "2025-03-20T21:46:37.526018Z",
     "iopub.status.busy": "2025-03-20T21:46:37.524366Z",
     "iopub.status.idle": "2025-03-20T21:46:37.555694Z",
     "shell.execute_reply": "2025-03-20T21:46:37.553231Z"
    }
   },
   "outputs": [],
   "source": [
    "# remove low quality replicate (v1:r2 and v2:r7)\n",
    "rna_counts_v1 <- rna_counts_v1 %>%\n",
    "    select(-c(starts_with(\"V1.rna.r2\")))\n",
    "\n",
    "rna_counts_v2 <- rna_counts_v2 %>%\n",
    "    select(-c(starts_with(\"V2.rna.r7\")))"
   ]
  },
  {
   "cell_type": "code",
   "execution_count": 26,
   "id": "e4e24d7c-f09b-4bf1-9b6d-33bbca75f3cd",
   "metadata": {
    "execution": {
     "iopub.execute_input": "2025-03-20T21:46:37.560487Z",
     "iopub.status.busy": "2025-03-20T21:46:37.558856Z",
     "iopub.status.idle": "2025-03-20T21:46:37.609038Z",
     "shell.execute_reply": "2025-03-20T21:46:37.606414Z"
    }
   },
   "outputs": [],
   "source": [
    "# merge v1 and v2 RNA counts\n",
    "rna_counts <- rna_counts_v1 %>% inner_join(rna_counts_v2, by = \"testcre\") %>%\n",
    "    column_to_rownames(\"testcre\") %>% as.matrix()"
   ]
  },
  {
   "cell_type": "code",
   "execution_count": 27,
   "id": "36a1da8f-c188-43b3-ac6c-2f35778932ed",
   "metadata": {
    "execution": {
     "iopub.execute_input": "2025-03-20T21:46:37.613938Z",
     "iopub.status.busy": "2025-03-20T21:46:37.612211Z",
     "iopub.status.idle": "2025-03-20T21:46:37.635076Z",
     "shell.execute_reply": "2025-03-20T21:46:37.632953Z"
    }
   },
   "outputs": [],
   "source": [
    "# split row names from DNA counts into enhancer information\n",
    "dna_enc_names <- data.frame(do.call(rbind, strsplit(rownames(dna_counts), \"_\")))\n",
    "colnames(dna_enc_names) <- c(\"chrom\", \"pos\", \"snp\", \"allele\", \"mutation\", \"alleletype\")"
   ]
  },
  {
   "cell_type": "code",
   "execution_count": 28,
   "id": "62792b5d-bb04-4e62-a45e-10550c841816",
   "metadata": {
    "execution": {
     "iopub.execute_input": "2025-03-20T21:46:37.640038Z",
     "iopub.status.busy": "2025-03-20T21:46:37.638243Z",
     "iopub.status.idle": "2025-03-20T21:46:38.174173Z",
     "shell.execute_reply": "2025-03-20T21:46:38.171865Z"
    }
   },
   "outputs": [],
   "source": [
    "# expand dna counts to have ref and alt counts on same rows for each enhancer\n",
    "dna_counts_allelic <- as.data.frame(dna_counts) %>% \n",
    "    mutate(dna_enc_names) %>% \n",
    "    pivot_wider(names_from=alleletype, values_from=contains('dna')) %>% \n",
    "    unite(enhancer, chrom, pos, snp, allele, mutation, sep='_') %>%\n",
    "    column_to_rownames('enhancer')"
   ]
  },
  {
   "cell_type": "code",
   "execution_count": 29,
   "id": "aac47a32-55eb-499c-b36d-5f3c503b8a2c",
   "metadata": {
    "execution": {
     "iopub.execute_input": "2025-03-20T21:46:38.178893Z",
     "iopub.status.busy": "2025-03-20T21:46:38.177261Z",
     "iopub.status.idle": "2025-03-20T21:46:38.203048Z",
     "shell.execute_reply": "2025-03-20T21:46:38.200840Z"
    }
   },
   "outputs": [],
   "source": [
    "# split row names from RNA counts into enhancer information\n",
    "rna_enc_names <- data.frame(do.call(rbind, strsplit(rownames(rna_counts), \"_\")))\n",
    "colnames(rna_enc_names) <- c(\"chrom\", \"pos\", \"snp\", \"allele\", \"mutation\", \"alleletype\")"
   ]
  },
  {
   "cell_type": "code",
   "execution_count": 30,
   "id": "a9e5db71-85f5-40b9-93b7-bf0abdff0067",
   "metadata": {
    "execution": {
     "iopub.execute_input": "2025-03-20T21:46:38.208359Z",
     "iopub.status.busy": "2025-03-20T21:46:38.206719Z",
     "iopub.status.idle": "2025-03-20T21:46:39.560065Z",
     "shell.execute_reply": "2025-03-20T21:46:39.557399Z"
    }
   },
   "outputs": [],
   "source": [
    "# expand rna counts to have ref and alt counts on same rows for each enhancer\n",
    "rna_counts_allelic <- as.data.frame(rna_counts) %>% \n",
    "    mutate(rna_enc_names) %>% \n",
    "    pivot_wider(names_from=alleletype, values_from=contains('rna')) %>% \n",
    "    unite(enhancer, chrom, pos, snp, allele, mutation, sep='_') %>%\n",
    "    column_to_rownames('enhancer')"
   ]
  },
  {
   "cell_type": "code",
   "execution_count": 31,
   "id": "a8f34ceb-0309-45e3-b026-3033b9cc2e28",
   "metadata": {
    "execution": {
     "iopub.execute_input": "2025-03-20T21:46:39.564793Z",
     "iopub.status.busy": "2025-03-20T21:46:39.563207Z",
     "iopub.status.idle": "2025-03-20T21:46:40.115859Z",
     "shell.execute_reply": "2025-03-20T21:46:40.112935Z"
    }
   },
   "outputs": [],
   "source": [
    "# save DNA allelic counts\n",
    "write.table(dna_counts_allelic, '../data/pool2_dna_counts_allelic.txt')"
   ]
  },
  {
   "cell_type": "code",
   "execution_count": 32,
   "id": "f36fe978-9931-478f-a63c-559161786c96",
   "metadata": {
    "execution": {
     "iopub.execute_input": "2025-03-20T21:46:40.123131Z",
     "iopub.status.busy": "2025-03-20T21:46:40.119141Z",
     "iopub.status.idle": "2025-03-20T21:46:41.987632Z",
     "shell.execute_reply": "2025-03-20T21:46:41.985269Z"
    }
   },
   "outputs": [],
   "source": [
    "# save RNA allelic counts\n",
    "write.table(rna_counts_allelic, '../data/pool2_rna_counts_allelic.txt')"
   ]
  },
  {
   "cell_type": "markdown",
   "id": "3bea76fd-b0e4-441d-93ed-824ceca9460b",
   "metadata": {},
   "source": [
    "---"
   ]
  },
  {
   "cell_type": "markdown",
   "id": "5afaf4ad-f9d5-43b5-bd9f-7ad7bc3aaf22",
   "metadata": {},
   "source": [
    "Note: we need to modify RNA annotation data for pool 2"
   ]
  },
  {
   "cell_type": "code",
   "execution_count": 33,
   "id": "f388476a-8d4d-4735-b004-52307d10813c",
   "metadata": {
    "execution": {
     "iopub.execute_input": "2025-03-20T21:46:41.992398Z",
     "iopub.status.busy": "2025-03-20T21:46:41.990756Z",
     "iopub.status.idle": "2025-03-20T21:46:42.018712Z",
     "shell.execute_reply": "2025-03-20T21:46:42.015383Z"
    }
   },
   "outputs": [],
   "source": [
    "rna_annot_allelic_p2 <- read.table('../data/merged_rna_annot_pool_allelic.txt')"
   ]
  },
  {
   "cell_type": "code",
   "execution_count": 34,
   "id": "2616842b-3c0c-4665-8717-9cfafa3b7338",
   "metadata": {
    "execution": {
     "iopub.execute_input": "2025-03-20T21:46:42.051001Z",
     "iopub.status.busy": "2025-03-20T21:46:42.049199Z",
     "iopub.status.idle": "2025-03-20T21:46:42.081604Z",
     "shell.execute_reply": "2025-03-20T21:46:42.079742Z"
    }
   },
   "outputs": [
    {
     "data": {
      "text/html": [
       "<table class=\"dataframe\">\n",
       "<caption>A data.frame: 6 × 6</caption>\n",
       "<thead>\n",
       "\t<tr><th></th><th scope=col>version</th><th scope=col>batch</th><th scope=col>barcode</th><th scope=col>alleletype</th><th scope=col>barcode_allelic</th><th scope=col>barcode_allelic_version</th></tr>\n",
       "\t<tr><th></th><th scope=col>&lt;chr&gt;</th><th scope=col>&lt;int&gt;</th><th scope=col>&lt;int&gt;</th><th scope=col>&lt;chr&gt;</th><th scope=col>&lt;chr&gt;</th><th scope=col>&lt;chr&gt;</th></tr>\n",
       "</thead>\n",
       "<tbody>\n",
       "\t<tr><th scope=row>V1:1:1:ref</th><td>V1</td><td>1</td><td>1</td><td>ref</td><td>1.ref</td><td>V1.1.ref</td></tr>\n",
       "\t<tr><th scope=row>V1:1:1:alt</th><td>V1</td><td>1</td><td>1</td><td>alt</td><td>1.alt</td><td>V1.1.alt</td></tr>\n",
       "\t<tr><th scope=row>V1:1:2:ref</th><td>V1</td><td>1</td><td>2</td><td>ref</td><td>2.ref</td><td>V1.2.ref</td></tr>\n",
       "\t<tr><th scope=row>V1:1:2:alt</th><td>V1</td><td>1</td><td>2</td><td>alt</td><td>2.alt</td><td>V1.2.alt</td></tr>\n",
       "\t<tr><th scope=row>V1:1:3:ref</th><td>V1</td><td>1</td><td>3</td><td>ref</td><td>3.ref</td><td>V1.3.ref</td></tr>\n",
       "\t<tr><th scope=row>V1:1:3:alt</th><td>V1</td><td>1</td><td>3</td><td>alt</td><td>3.alt</td><td>V1.3.alt</td></tr>\n",
       "</tbody>\n",
       "</table>\n"
      ],
      "text/latex": [
       "A data.frame: 6 × 6\n",
       "\\begin{tabular}{r|llllll}\n",
       "  & version & batch & barcode & alleletype & barcode\\_allelic & barcode\\_allelic\\_version\\\\\n",
       "  & <chr> & <int> & <int> & <chr> & <chr> & <chr>\\\\\n",
       "\\hline\n",
       "\tV1:1:1:ref & V1 & 1 & 1 & ref & 1.ref & V1.1.ref\\\\\n",
       "\tV1:1:1:alt & V1 & 1 & 1 & alt & 1.alt & V1.1.alt\\\\\n",
       "\tV1:1:2:ref & V1 & 1 & 2 & ref & 2.ref & V1.2.ref\\\\\n",
       "\tV1:1:2:alt & V1 & 1 & 2 & alt & 2.alt & V1.2.alt\\\\\n",
       "\tV1:1:3:ref & V1 & 1 & 3 & ref & 3.ref & V1.3.ref\\\\\n",
       "\tV1:1:3:alt & V1 & 1 & 3 & alt & 3.alt & V1.3.alt\\\\\n",
       "\\end{tabular}\n"
      ],
      "text/markdown": [
       "\n",
       "A data.frame: 6 × 6\n",
       "\n",
       "| <!--/--> | version &lt;chr&gt; | batch &lt;int&gt; | barcode &lt;int&gt; | alleletype &lt;chr&gt; | barcode_allelic &lt;chr&gt; | barcode_allelic_version &lt;chr&gt; |\n",
       "|---|---|---|---|---|---|---|\n",
       "| V1:1:1:ref | V1 | 1 | 1 | ref | 1.ref | V1.1.ref |\n",
       "| V1:1:1:alt | V1 | 1 | 1 | alt | 1.alt | V1.1.alt |\n",
       "| V1:1:2:ref | V1 | 1 | 2 | ref | 2.ref | V1.2.ref |\n",
       "| V1:1:2:alt | V1 | 1 | 2 | alt | 2.alt | V1.2.alt |\n",
       "| V1:1:3:ref | V1 | 1 | 3 | ref | 3.ref | V1.3.ref |\n",
       "| V1:1:3:alt | V1 | 1 | 3 | alt | 3.alt | V1.3.alt |\n",
       "\n"
      ],
      "text/plain": [
       "           version batch barcode alleletype barcode_allelic\n",
       "V1:1:1:ref V1      1     1       ref        1.ref          \n",
       "V1:1:1:alt V1      1     1       alt        1.alt          \n",
       "V1:1:2:ref V1      1     2       ref        2.ref          \n",
       "V1:1:2:alt V1      1     2       alt        2.alt          \n",
       "V1:1:3:ref V1      1     3       ref        3.ref          \n",
       "V1:1:3:alt V1      1     3       alt        3.alt          \n",
       "           barcode_allelic_version\n",
       "V1:1:1:ref V1.1.ref               \n",
       "V1:1:1:alt V1.1.alt               \n",
       "V1:1:2:ref V1.2.ref               \n",
       "V1:1:2:alt V1.2.alt               \n",
       "V1:1:3:ref V1.3.ref               \n",
       "V1:1:3:alt V1.3.alt               "
      ]
     },
     "metadata": {},
     "output_type": "display_data"
    }
   ],
   "source": [
    "head(rna_annot_allelic_p2)"
   ]
  },
  {
   "cell_type": "code",
   "execution_count": 35,
   "id": "1ae79769-d097-42df-98bf-0683993cc115",
   "metadata": {
    "execution": {
     "iopub.execute_input": "2025-03-20T21:46:42.085906Z",
     "iopub.status.busy": "2025-03-20T21:46:42.084372Z",
     "iopub.status.idle": "2025-03-20T21:46:42.112182Z",
     "shell.execute_reply": "2025-03-20T21:46:42.109816Z"
    }
   },
   "outputs": [],
   "source": [
    "rna_annot_allelic_p2 <- rna_annot_allelic_p2 %>%\n",
    "    mutate_if(rep(TRUE, ncol(rna_annot_allelic_p2)), as.factor)"
   ]
  },
  {
   "cell_type": "code",
   "execution_count": 36,
   "id": "60c8b035-97bd-4aab-b16c-d5fe0585fb5c",
   "metadata": {
    "execution": {
     "iopub.execute_input": "2025-03-20T21:46:42.116751Z",
     "iopub.status.busy": "2025-03-20T21:46:42.115191Z",
     "iopub.status.idle": "2025-03-20T21:46:42.145072Z",
     "shell.execute_reply": "2025-03-20T21:46:42.142021Z"
    }
   },
   "outputs": [
    {
     "data": {
      "text/html": [
       "<table class=\"dataframe\">\n",
       "<caption>A data.frame: 6 × 6</caption>\n",
       "<thead>\n",
       "\t<tr><th></th><th scope=col>version</th><th scope=col>batch</th><th scope=col>barcode</th><th scope=col>alleletype</th><th scope=col>barcode_allelic</th><th scope=col>barcode_allelic_version</th></tr>\n",
       "\t<tr><th></th><th scope=col>&lt;fct&gt;</th><th scope=col>&lt;fct&gt;</th><th scope=col>&lt;fct&gt;</th><th scope=col>&lt;fct&gt;</th><th scope=col>&lt;fct&gt;</th><th scope=col>&lt;fct&gt;</th></tr>\n",
       "</thead>\n",
       "<tbody>\n",
       "\t<tr><th scope=row>V1:1:1:ref</th><td>V1</td><td>1</td><td>1</td><td>ref</td><td>1.ref</td><td>V1.1.ref</td></tr>\n",
       "\t<tr><th scope=row>V1:1:1:alt</th><td>V1</td><td>1</td><td>1</td><td>alt</td><td>1.alt</td><td>V1.1.alt</td></tr>\n",
       "\t<tr><th scope=row>V1:1:2:ref</th><td>V1</td><td>1</td><td>2</td><td>ref</td><td>2.ref</td><td>V1.2.ref</td></tr>\n",
       "\t<tr><th scope=row>V1:1:2:alt</th><td>V1</td><td>1</td><td>2</td><td>alt</td><td>2.alt</td><td>V1.2.alt</td></tr>\n",
       "\t<tr><th scope=row>V1:1:3:ref</th><td>V1</td><td>1</td><td>3</td><td>ref</td><td>3.ref</td><td>V1.3.ref</td></tr>\n",
       "\t<tr><th scope=row>V1:1:3:alt</th><td>V1</td><td>1</td><td>3</td><td>alt</td><td>3.alt</td><td>V1.3.alt</td></tr>\n",
       "</tbody>\n",
       "</table>\n"
      ],
      "text/latex": [
       "A data.frame: 6 × 6\n",
       "\\begin{tabular}{r|llllll}\n",
       "  & version & batch & barcode & alleletype & barcode\\_allelic & barcode\\_allelic\\_version\\\\\n",
       "  & <fct> & <fct> & <fct> & <fct> & <fct> & <fct>\\\\\n",
       "\\hline\n",
       "\tV1:1:1:ref & V1 & 1 & 1 & ref & 1.ref & V1.1.ref\\\\\n",
       "\tV1:1:1:alt & V1 & 1 & 1 & alt & 1.alt & V1.1.alt\\\\\n",
       "\tV1:1:2:ref & V1 & 1 & 2 & ref & 2.ref & V1.2.ref\\\\\n",
       "\tV1:1:2:alt & V1 & 1 & 2 & alt & 2.alt & V1.2.alt\\\\\n",
       "\tV1:1:3:ref & V1 & 1 & 3 & ref & 3.ref & V1.3.ref\\\\\n",
       "\tV1:1:3:alt & V1 & 1 & 3 & alt & 3.alt & V1.3.alt\\\\\n",
       "\\end{tabular}\n"
      ],
      "text/markdown": [
       "\n",
       "A data.frame: 6 × 6\n",
       "\n",
       "| <!--/--> | version &lt;fct&gt; | batch &lt;fct&gt; | barcode &lt;fct&gt; | alleletype &lt;fct&gt; | barcode_allelic &lt;fct&gt; | barcode_allelic_version &lt;fct&gt; |\n",
       "|---|---|---|---|---|---|---|\n",
       "| V1:1:1:ref | V1 | 1 | 1 | ref | 1.ref | V1.1.ref |\n",
       "| V1:1:1:alt | V1 | 1 | 1 | alt | 1.alt | V1.1.alt |\n",
       "| V1:1:2:ref | V1 | 1 | 2 | ref | 2.ref | V1.2.ref |\n",
       "| V1:1:2:alt | V1 | 1 | 2 | alt | 2.alt | V1.2.alt |\n",
       "| V1:1:3:ref | V1 | 1 | 3 | ref | 3.ref | V1.3.ref |\n",
       "| V1:1:3:alt | V1 | 1 | 3 | alt | 3.alt | V1.3.alt |\n",
       "\n"
      ],
      "text/plain": [
       "           version batch barcode alleletype barcode_allelic\n",
       "V1:1:1:ref V1      1     1       ref        1.ref          \n",
       "V1:1:1:alt V1      1     1       alt        1.alt          \n",
       "V1:1:2:ref V1      1     2       ref        2.ref          \n",
       "V1:1:2:alt V1      1     2       alt        2.alt          \n",
       "V1:1:3:ref V1      1     3       ref        3.ref          \n",
       "V1:1:3:alt V1      1     3       alt        3.alt          \n",
       "           barcode_allelic_version\n",
       "V1:1:1:ref V1.1.ref               \n",
       "V1:1:1:alt V1.1.alt               \n",
       "V1:1:2:ref V1.2.ref               \n",
       "V1:1:2:alt V1.2.alt               \n",
       "V1:1:3:ref V1.3.ref               \n",
       "V1:1:3:alt V1.3.alt               "
      ]
     },
     "metadata": {},
     "output_type": "display_data"
    }
   ],
   "source": [
    "head(rna_annot_allelic_p2)"
   ]
  },
  {
   "cell_type": "code",
   "execution_count": 37,
   "id": "3b50c75f-f302-45ad-b634-3016f8d48066",
   "metadata": {
    "execution": {
     "iopub.execute_input": "2025-03-20T21:46:42.150038Z",
     "iopub.status.busy": "2025-03-20T21:46:42.148353Z",
     "iopub.status.idle": "2025-03-20T21:46:42.172691Z",
     "shell.execute_reply": "2025-03-20T21:46:42.170424Z"
    }
   },
   "outputs": [],
   "source": [
    "# adjust rna_annot accordingly\n",
    "rna_annot_allelic_p2 <- rna_annot_allelic_p2 %>%\n",
    "    filter(!(version==\"V1\" & batch == 2)) %>%\n",
    "    filter(!(version==\"V2\" & batch == 7))"
   ]
  },
  {
   "cell_type": "code",
   "execution_count": 38,
   "id": "206021c6-c35e-47e4-9d32-cfd24c88b40f",
   "metadata": {
    "execution": {
     "iopub.execute_input": "2025-03-20T21:46:42.177042Z",
     "iopub.status.busy": "2025-03-20T21:46:42.175605Z",
     "iopub.status.idle": "2025-03-20T21:46:42.206805Z",
     "shell.execute_reply": "2025-03-20T21:46:42.204567Z"
    }
   },
   "outputs": [],
   "source": [
    "write.table(rna_annot_allelic_p2, '../data/merged_rna_annot_pool_allelic_p2.txt')"
   ]
  },
  {
   "cell_type": "code",
   "execution_count": null,
   "id": "0e15ee8d-808d-4856-8b7a-583fa097f688",
   "metadata": {},
   "outputs": [],
   "source": []
  }
 ],
 "metadata": {
  "kernelspec": {
   "display_name": "R",
   "language": "R",
   "name": "ir"
  },
  "language_info": {
   "codemirror_mode": "r",
   "file_extension": ".r",
   "mimetype": "text/x-r-source",
   "name": "R",
   "pygments_lexer": "r",
   "version": "4.3.3"
  }
 },
 "nbformat": 4,
 "nbformat_minor": 5
}
