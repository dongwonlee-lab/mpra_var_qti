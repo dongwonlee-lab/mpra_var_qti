{
 "cells": [
  {
   "cell_type": "markdown",
   "id": "72767c92-393c-478d-985d-7cedc10501e1",
   "metadata": {},
   "source": [
    "# MPRA Find Significant Activity on All Versions and Pools"
   ]
  },
  {
   "cell_type": "code",
   "execution_count": 1,
   "id": "8a09186f-e4e9-408c-ac98-3799b3ace842",
   "metadata": {
    "execution": {
     "iopub.execute_input": "2025-03-21T00:47:01.699388Z",
     "iopub.status.busy": "2025-03-21T00:47:01.695375Z",
     "iopub.status.idle": "2025-03-21T00:47:17.319075Z",
     "shell.execute_reply": "2025-03-21T00:47:17.317709Z"
    }
   },
   "outputs": [
    {
     "name": "stderr",
     "output_type": "stream",
     "text": [
      "── \u001b[1mAttaching core tidyverse packages\u001b[22m ──────────────────────── tidyverse 2.0.0 ──\n",
      "\u001b[32m✔\u001b[39m \u001b[34mdplyr    \u001b[39m 1.1.4     \u001b[32m✔\u001b[39m \u001b[34mreadr    \u001b[39m 2.1.5\n",
      "\u001b[32m✔\u001b[39m \u001b[34mforcats  \u001b[39m 1.0.0     \u001b[32m✔\u001b[39m \u001b[34mstringr  \u001b[39m 1.5.1\n",
      "\u001b[32m✔\u001b[39m \u001b[34mggplot2  \u001b[39m 3.5.1     \u001b[32m✔\u001b[39m \u001b[34mtibble   \u001b[39m 3.2.1\n",
      "\u001b[32m✔\u001b[39m \u001b[34mlubridate\u001b[39m 1.9.3     \u001b[32m✔\u001b[39m \u001b[34mtidyr    \u001b[39m 1.3.1\n",
      "\u001b[32m✔\u001b[39m \u001b[34mpurrr    \u001b[39m 1.0.2     \n",
      "── \u001b[1mConflicts\u001b[22m ────────────────────────────────────────── tidyverse_conflicts() ──\n",
      "\u001b[31m✖\u001b[39m \u001b[34mdplyr\u001b[39m::\u001b[32mfilter()\u001b[39m masks \u001b[34mstats\u001b[39m::filter()\n",
      "\u001b[31m✖\u001b[39m \u001b[34mdplyr\u001b[39m::\u001b[32mlag()\u001b[39m    masks \u001b[34mstats\u001b[39m::lag()\n",
      "\u001b[36mℹ\u001b[39m Use the conflicted package (\u001b[3m\u001b[34m<http://conflicted.r-lib.org/>\u001b[39m\u001b[23m) to force all conflicts to become errors\n"
     ]
    }
   ],
   "source": [
    "library(MPRAnalyze)\n",
    "library(tidyverse)\n",
    "library(ggplot2)"
   ]
  },
  {
   "cell_type": "markdown",
   "id": "11bff255-cba8-415f-8946-f043dfd569f5",
   "metadata": {},
   "source": [
    "## Pool 1"
   ]
  },
  {
   "cell_type": "code",
   "execution_count": 2,
   "id": "19c0a437-e961-463a-af02-23ff5feed960",
   "metadata": {
    "execution": {
     "iopub.execute_input": "2025-03-21T00:47:17.343458Z",
     "iopub.status.busy": "2025-03-21T00:47:17.321760Z",
     "iopub.status.idle": "2025-03-21T00:47:17.382851Z",
     "shell.execute_reply": "2025-03-21T00:47:17.380871Z"
    }
   },
   "outputs": [],
   "source": [
    "# load MPRAObjects\n",
    "pool_alpha <- read.table(\"../results/pool1_mpranalyze_results.txt\")"
   ]
  },
  {
   "cell_type": "code",
   "execution_count": 3,
   "id": "5d9d8078-178c-499c-95d1-fc9bfb59deb5",
   "metadata": {
    "execution": {
     "iopub.execute_input": "2025-03-21T00:47:17.388200Z",
     "iopub.status.busy": "2025-03-21T00:47:17.386759Z",
     "iopub.status.idle": "2025-03-21T00:47:17.407394Z",
     "shell.execute_reply": "2025-03-21T00:47:17.406172Z"
    }
   },
   "outputs": [],
   "source": [
    "# load DNA CPM counts\n",
    "pool_cpm <- read.table(\"../results/pool1_dna_counts_cpm.txt\")"
   ]
  },
  {
   "cell_type": "code",
   "execution_count": 4,
   "id": "09c59791-7115-4a8c-9058-e76d85d3dfbe",
   "metadata": {
    "execution": {
     "iopub.execute_input": "2025-03-21T00:47:17.410917Z",
     "iopub.status.busy": "2025-03-21T00:47:17.409772Z",
     "iopub.status.idle": "2025-03-21T00:47:17.428563Z",
     "shell.execute_reply": "2025-03-21T00:47:17.427331Z"
    }
   },
   "outputs": [],
   "source": [
    "# load results from allelic significance\n",
    "pool_allelic <- read.table(\"../results/pool1_mpranalyze_allelic_results_merged.txt\", header=TRUE)"
   ]
  },
  {
   "cell_type": "code",
   "execution_count": 5,
   "id": "7962c92f-ac6c-4ffb-a46e-370851bcaa08",
   "metadata": {
    "execution": {
     "iopub.execute_input": "2025-03-21T00:47:17.431892Z",
     "iopub.status.busy": "2025-03-21T00:47:17.430892Z",
     "iopub.status.idle": "2025-03-21T00:47:17.452432Z",
     "shell.execute_reply": "2025-03-21T00:47:17.451216Z"
    }
   },
   "outputs": [
    {
     "data": {
      "text/html": [
       "<table class=\"dataframe\">\n",
       "<caption>A data.frame: 6 × 3</caption>\n",
       "<thead>\n",
       "\t<tr><th></th><th scope=col>snp</th><th scope=col>type</th><th scope=col>alpha</th></tr>\n",
       "\t<tr><th></th><th scope=col>&lt;chr&gt;</th><th scope=col>&lt;chr&gt;</th><th scope=col>&lt;dbl&gt;</th></tr>\n",
       "</thead>\n",
       "<tbody>\n",
       "\t<tr><th scope=row>1</th><td>rs11583631</td><td>ref</td><td>1.425401</td></tr>\n",
       "\t<tr><th scope=row>2</th><td>rs11583631</td><td>alt</td><td>1.328563</td></tr>\n",
       "\t<tr><th scope=row>3</th><td>rs11584419</td><td>ref</td><td>1.476491</td></tr>\n",
       "\t<tr><th scope=row>4</th><td>rs11584419</td><td>alt</td><td>1.412684</td></tr>\n",
       "\t<tr><th scope=row>5</th><td>rs749435  </td><td>ref</td><td>2.005698</td></tr>\n",
       "\t<tr><th scope=row>6</th><td>rs749435  </td><td>alt</td><td>2.140291</td></tr>\n",
       "</tbody>\n",
       "</table>\n"
      ],
      "text/latex": [
       "A data.frame: 6 × 3\n",
       "\\begin{tabular}{r|lll}\n",
       "  & snp & type & alpha\\\\\n",
       "  & <chr> & <chr> & <dbl>\\\\\n",
       "\\hline\n",
       "\t1 & rs11583631 & ref & 1.425401\\\\\n",
       "\t2 & rs11583631 & alt & 1.328563\\\\\n",
       "\t3 & rs11584419 & ref & 1.476491\\\\\n",
       "\t4 & rs11584419 & alt & 1.412684\\\\\n",
       "\t5 & rs749435   & ref & 2.005698\\\\\n",
       "\t6 & rs749435   & alt & 2.140291\\\\\n",
       "\\end{tabular}\n"
      ],
      "text/markdown": [
       "\n",
       "A data.frame: 6 × 3\n",
       "\n",
       "| <!--/--> | snp &lt;chr&gt; | type &lt;chr&gt; | alpha &lt;dbl&gt; |\n",
       "|---|---|---|---|\n",
       "| 1 | rs11583631 | ref | 1.425401 |\n",
       "| 2 | rs11583631 | alt | 1.328563 |\n",
       "| 3 | rs11584419 | ref | 1.476491 |\n",
       "| 4 | rs11584419 | alt | 1.412684 |\n",
       "| 5 | rs749435   | ref | 2.005698 |\n",
       "| 6 | rs749435   | alt | 2.140291 |\n",
       "\n"
      ],
      "text/plain": [
       "  snp        type alpha   \n",
       "1 rs11583631 ref  1.425401\n",
       "2 rs11583631 alt  1.328563\n",
       "3 rs11584419 ref  1.476491\n",
       "4 rs11584419 alt  1.412684\n",
       "5 rs749435   ref  2.005698\n",
       "6 rs749435   alt  2.140291"
      ]
     },
     "metadata": {},
     "output_type": "display_data"
    }
   ],
   "source": [
    "head(pool_alpha)"
   ]
  },
  {
   "cell_type": "code",
   "execution_count": 6,
   "id": "f75ad9de-0a5a-49fe-9c2a-34c65a5654f2",
   "metadata": {
    "execution": {
     "iopub.execute_input": "2025-03-21T00:47:17.456208Z",
     "iopub.status.busy": "2025-03-21T00:47:17.454962Z",
     "iopub.status.idle": "2025-03-21T00:47:17.482242Z",
     "shell.execute_reply": "2025-03-21T00:47:17.480814Z"
    }
   },
   "outputs": [
    {
     "data": {
      "text/html": [
       "<table class=\"dataframe\">\n",
       "<caption>A data.frame: 6 × 15</caption>\n",
       "<thead>\n",
       "\t<tr><th></th><th scope=col>chrom</th><th scope=col>hg19_pos</th><th scope=col>snp</th><th scope=col>allele</th><th scope=col>mutation</th><th scope=col>testcre</th><th scope=col>V1_DNA_ref_count</th><th scope=col>V1_DNA_alt_count</th><th scope=col>V2_DNA_ref_count</th><th scope=col>V2_DNA_alt_count</th><th scope=col>V1_DNA_ref_CPM</th><th scope=col>V1_DNA_alt_CPM</th><th scope=col>V2_DNA_ref_CPM</th><th scope=col>V2_DNA_alt_CPM</th><th scope=col>DNA_CPM_QC</th></tr>\n",
       "\t<tr><th></th><th scope=col>&lt;chr&gt;</th><th scope=col>&lt;int&gt;</th><th scope=col>&lt;chr&gt;</th><th scope=col>&lt;chr&gt;</th><th scope=col>&lt;chr&gt;</th><th scope=col>&lt;chr&gt;</th><th scope=col>&lt;int&gt;</th><th scope=col>&lt;int&gt;</th><th scope=col>&lt;int&gt;</th><th scope=col>&lt;int&gt;</th><th scope=col>&lt;dbl&gt;</th><th scope=col>&lt;dbl&gt;</th><th scope=col>&lt;dbl&gt;</th><th scope=col>&lt;dbl&gt;</th><th scope=col>&lt;lgl&gt;</th></tr>\n",
       "</thead>\n",
       "<tbody>\n",
       "\t<tr><th scope=row>1</th><td>chr1</td><td>6147298</td><td>rs11583631</td><td>C</td><td>T</td><td>chr1_6147297_rs11583631_C_T</td><td>  39</td><td>   36</td><td>  193</td><td>  234</td><td>   5.812979</td><td>   5.365827</td><td>   6.337149</td><td>   7.683383</td><td>FALSE</td></tr>\n",
       "\t<tr><th scope=row>2</th><td>chr1</td><td>6147341</td><td>rs11584419</td><td>A</td><td>C</td><td>chr1_6147340_rs11584419_A_C</td><td>  29</td><td>   43</td><td>  191</td><td>  368</td><td>   4.322472</td><td>   6.409182</td><td>   6.271479</td><td>  12.083269</td><td>FALSE</td></tr>\n",
       "\t<tr><th scope=row>3</th><td>chr1</td><td>6157297</td><td>rs749435  </td><td>T</td><td>C</td><td>chr1_6157296_rs749435_T_C  </td><td> 870</td><td>  899</td><td> 5367</td><td> 4969</td><td> 129.674157</td><td> 133.996629</td><td> 176.225288</td><td> 163.156969</td><td> TRUE</td></tr>\n",
       "\t<tr><th scope=row>4</th><td>chr1</td><td>6258794</td><td>rs3789524 </td><td>A</td><td>G</td><td>chr1_6258793_rs3789524_A_G </td><td>9743</td><td>14828</td><td>46568</td><td>70300</td><td>1452.201509</td><td>2210.124600</td><td>1529.058916</td><td>2308.298441</td><td> TRUE</td></tr>\n",
       "\t<tr><th scope=row>5</th><td>chr1</td><td>6259025</td><td>rs3789522 </td><td>C</td><td>T</td><td>chr1_6259024_rs3789522_C_T </td><td>7689</td><td> 6910</td><td>35203</td><td>29103</td><td>1146.051258</td><td>1029.940720</td><td>1155.889474</td><td> 955.596153</td><td> TRUE</td></tr>\n",
       "\t<tr><th scope=row>6</th><td>chr1</td><td>6260663</td><td>rs11121478</td><td>A</td><td>C</td><td>chr1_6260662_rs11121478_A_C</td><td> 128</td><td>   43</td><td>  952</td><td>  499</td><td>  19.078497</td><td>   6.409182</td><td>  31.258892</td><td>  16.384650</td><td> TRUE</td></tr>\n",
       "</tbody>\n",
       "</table>\n"
      ],
      "text/latex": [
       "A data.frame: 6 × 15\n",
       "\\begin{tabular}{r|lllllllllllllll}\n",
       "  & chrom & hg19\\_pos & snp & allele & mutation & testcre & V1\\_DNA\\_ref\\_count & V1\\_DNA\\_alt\\_count & V2\\_DNA\\_ref\\_count & V2\\_DNA\\_alt\\_count & V1\\_DNA\\_ref\\_CPM & V1\\_DNA\\_alt\\_CPM & V2\\_DNA\\_ref\\_CPM & V2\\_DNA\\_alt\\_CPM & DNA\\_CPM\\_QC\\\\\n",
       "  & <chr> & <int> & <chr> & <chr> & <chr> & <chr> & <int> & <int> & <int> & <int> & <dbl> & <dbl> & <dbl> & <dbl> & <lgl>\\\\\n",
       "\\hline\n",
       "\t1 & chr1 & 6147298 & rs11583631 & C & T & chr1\\_6147297\\_rs11583631\\_C\\_T &   39 &    36 &   193 &   234 &    5.812979 &    5.365827 &    6.337149 &    7.683383 & FALSE\\\\\n",
       "\t2 & chr1 & 6147341 & rs11584419 & A & C & chr1\\_6147340\\_rs11584419\\_A\\_C &   29 &    43 &   191 &   368 &    4.322472 &    6.409182 &    6.271479 &   12.083269 & FALSE\\\\\n",
       "\t3 & chr1 & 6157297 & rs749435   & T & C & chr1\\_6157296\\_rs749435\\_T\\_C   &  870 &   899 &  5367 &  4969 &  129.674157 &  133.996629 &  176.225288 &  163.156969 &  TRUE\\\\\n",
       "\t4 & chr1 & 6258794 & rs3789524  & A & G & chr1\\_6258793\\_rs3789524\\_A\\_G  & 9743 & 14828 & 46568 & 70300 & 1452.201509 & 2210.124600 & 1529.058916 & 2308.298441 &  TRUE\\\\\n",
       "\t5 & chr1 & 6259025 & rs3789522  & C & T & chr1\\_6259024\\_rs3789522\\_C\\_T  & 7689 &  6910 & 35203 & 29103 & 1146.051258 & 1029.940720 & 1155.889474 &  955.596153 &  TRUE\\\\\n",
       "\t6 & chr1 & 6260663 & rs11121478 & A & C & chr1\\_6260662\\_rs11121478\\_A\\_C &  128 &    43 &   952 &   499 &   19.078497 &    6.409182 &   31.258892 &   16.384650 &  TRUE\\\\\n",
       "\\end{tabular}\n"
      ],
      "text/markdown": [
       "\n",
       "A data.frame: 6 × 15\n",
       "\n",
       "| <!--/--> | chrom &lt;chr&gt; | hg19_pos &lt;int&gt; | snp &lt;chr&gt; | allele &lt;chr&gt; | mutation &lt;chr&gt; | testcre &lt;chr&gt; | V1_DNA_ref_count &lt;int&gt; | V1_DNA_alt_count &lt;int&gt; | V2_DNA_ref_count &lt;int&gt; | V2_DNA_alt_count &lt;int&gt; | V1_DNA_ref_CPM &lt;dbl&gt; | V1_DNA_alt_CPM &lt;dbl&gt; | V2_DNA_ref_CPM &lt;dbl&gt; | V2_DNA_alt_CPM &lt;dbl&gt; | DNA_CPM_QC &lt;lgl&gt; |\n",
       "|---|---|---|---|---|---|---|---|---|---|---|---|---|---|---|---|\n",
       "| 1 | chr1 | 6147298 | rs11583631 | C | T | chr1_6147297_rs11583631_C_T |   39 |    36 |   193 |   234 |    5.812979 |    5.365827 |    6.337149 |    7.683383 | FALSE |\n",
       "| 2 | chr1 | 6147341 | rs11584419 | A | C | chr1_6147340_rs11584419_A_C |   29 |    43 |   191 |   368 |    4.322472 |    6.409182 |    6.271479 |   12.083269 | FALSE |\n",
       "| 3 | chr1 | 6157297 | rs749435   | T | C | chr1_6157296_rs749435_T_C   |  870 |   899 |  5367 |  4969 |  129.674157 |  133.996629 |  176.225288 |  163.156969 |  TRUE |\n",
       "| 4 | chr1 | 6258794 | rs3789524  | A | G | chr1_6258793_rs3789524_A_G  | 9743 | 14828 | 46568 | 70300 | 1452.201509 | 2210.124600 | 1529.058916 | 2308.298441 |  TRUE |\n",
       "| 5 | chr1 | 6259025 | rs3789522  | C | T | chr1_6259024_rs3789522_C_T  | 7689 |  6910 | 35203 | 29103 | 1146.051258 | 1029.940720 | 1155.889474 |  955.596153 |  TRUE |\n",
       "| 6 | chr1 | 6260663 | rs11121478 | A | C | chr1_6260662_rs11121478_A_C |  128 |    43 |   952 |   499 |   19.078497 |    6.409182 |   31.258892 |   16.384650 |  TRUE |\n",
       "\n"
      ],
      "text/plain": [
       "  chrom hg19_pos snp        allele mutation testcre                    \n",
       "1 chr1  6147298  rs11583631 C      T        chr1_6147297_rs11583631_C_T\n",
       "2 chr1  6147341  rs11584419 A      C        chr1_6147340_rs11584419_A_C\n",
       "3 chr1  6157297  rs749435   T      C        chr1_6157296_rs749435_T_C  \n",
       "4 chr1  6258794  rs3789524  A      G        chr1_6258793_rs3789524_A_G \n",
       "5 chr1  6259025  rs3789522  C      T        chr1_6259024_rs3789522_C_T \n",
       "6 chr1  6260663  rs11121478 A      C        chr1_6260662_rs11121478_A_C\n",
       "  V1_DNA_ref_count V1_DNA_alt_count V2_DNA_ref_count V2_DNA_alt_count\n",
       "1   39                36              193              234           \n",
       "2   29                43              191              368           \n",
       "3  870               899             5367             4969           \n",
       "4 9743             14828            46568            70300           \n",
       "5 7689              6910            35203            29103           \n",
       "6  128                43              952              499           \n",
       "  V1_DNA_ref_CPM V1_DNA_alt_CPM V2_DNA_ref_CPM V2_DNA_alt_CPM DNA_CPM_QC\n",
       "1    5.812979       5.365827       6.337149       7.683383    FALSE     \n",
       "2    4.322472       6.409182       6.271479      12.083269    FALSE     \n",
       "3  129.674157     133.996629     176.225288     163.156969     TRUE     \n",
       "4 1452.201509    2210.124600    1529.058916    2308.298441     TRUE     \n",
       "5 1146.051258    1029.940720    1155.889474     955.596153     TRUE     \n",
       "6   19.078497       6.409182      31.258892      16.384650     TRUE     "
      ]
     },
     "metadata": {},
     "output_type": "display_data"
    }
   ],
   "source": [
    "head(pool_cpm)"
   ]
  },
  {
   "cell_type": "code",
   "execution_count": 7,
   "id": "01d47f32-4134-41ec-bd5c-af908a54aae2",
   "metadata": {
    "execution": {
     "iopub.execute_input": "2025-03-21T00:47:17.486124Z",
     "iopub.status.busy": "2025-03-21T00:47:17.484917Z",
     "iopub.status.idle": "2025-03-21T00:47:17.505183Z",
     "shell.execute_reply": "2025-03-21T00:47:17.503844Z"
    }
   },
   "outputs": [
    {
     "data": {
      "text/html": [
       "<table class=\"dataframe\">\n",
       "<caption>A data.frame: 6 × 4</caption>\n",
       "<thead>\n",
       "\t<tr><th></th><th scope=col>snp</th><th scope=col>logFC</th><th scope=col>lrt_pval</th><th scope=col>lrt_nlog10_pval</th></tr>\n",
       "\t<tr><th></th><th scope=col>&lt;chr&gt;</th><th scope=col>&lt;dbl&gt;</th><th scope=col>&lt;dbl&gt;</th><th scope=col>&lt;dbl&gt;</th></tr>\n",
       "</thead>\n",
       "<tbody>\n",
       "\t<tr><th scope=row>1</th><td>rs11583631</td><td>-0.04727376</td><td>6.748780e-01</td><td> 0.1707748</td></tr>\n",
       "\t<tr><th scope=row>2</th><td>rs11584419</td><td> 0.04456964</td><td>6.565204e-01</td><td> 0.1827518</td></tr>\n",
       "\t<tr><th scope=row>3</th><td>rs749435  </td><td>-0.06529871</td><td>8.405816e-02</td><td> 1.0754201</td></tr>\n",
       "\t<tr><th scope=row>4</th><td>rs3789524 </td><td> 0.04192126</td><td>1.242780e-03</td><td> 2.9056058</td></tr>\n",
       "\t<tr><th scope=row>5</th><td>rs3789522 </td><td>-0.16202368</td><td>2.199461e-19</td><td>18.6576837</td></tr>\n",
       "\t<tr><th scope=row>6</th><td>rs11121478</td><td>-0.17450039</td><td>3.369730e-02</td><td> 1.4724049</td></tr>\n",
       "</tbody>\n",
       "</table>\n"
      ],
      "text/latex": [
       "A data.frame: 6 × 4\n",
       "\\begin{tabular}{r|llll}\n",
       "  & snp & logFC & lrt\\_pval & lrt\\_nlog10\\_pval\\\\\n",
       "  & <chr> & <dbl> & <dbl> & <dbl>\\\\\n",
       "\\hline\n",
       "\t1 & rs11583631 & -0.04727376 & 6.748780e-01 &  0.1707748\\\\\n",
       "\t2 & rs11584419 &  0.04456964 & 6.565204e-01 &  0.1827518\\\\\n",
       "\t3 & rs749435   & -0.06529871 & 8.405816e-02 &  1.0754201\\\\\n",
       "\t4 & rs3789524  &  0.04192126 & 1.242780e-03 &  2.9056058\\\\\n",
       "\t5 & rs3789522  & -0.16202368 & 2.199461e-19 & 18.6576837\\\\\n",
       "\t6 & rs11121478 & -0.17450039 & 3.369730e-02 &  1.4724049\\\\\n",
       "\\end{tabular}\n"
      ],
      "text/markdown": [
       "\n",
       "A data.frame: 6 × 4\n",
       "\n",
       "| <!--/--> | snp &lt;chr&gt; | logFC &lt;dbl&gt; | lrt_pval &lt;dbl&gt; | lrt_nlog10_pval &lt;dbl&gt; |\n",
       "|---|---|---|---|---|\n",
       "| 1 | rs11583631 | -0.04727376 | 6.748780e-01 |  0.1707748 |\n",
       "| 2 | rs11584419 |  0.04456964 | 6.565204e-01 |  0.1827518 |\n",
       "| 3 | rs749435   | -0.06529871 | 8.405816e-02 |  1.0754201 |\n",
       "| 4 | rs3789524  |  0.04192126 | 1.242780e-03 |  2.9056058 |\n",
       "| 5 | rs3789522  | -0.16202368 | 2.199461e-19 | 18.6576837 |\n",
       "| 6 | rs11121478 | -0.17450039 | 3.369730e-02 |  1.4724049 |\n",
       "\n"
      ],
      "text/plain": [
       "  snp        logFC       lrt_pval     lrt_nlog10_pval\n",
       "1 rs11583631 -0.04727376 6.748780e-01  0.1707748     \n",
       "2 rs11584419  0.04456964 6.565204e-01  0.1827518     \n",
       "3 rs749435   -0.06529871 8.405816e-02  1.0754201     \n",
       "4 rs3789524   0.04192126 1.242780e-03  2.9056058     \n",
       "5 rs3789522  -0.16202368 2.199461e-19 18.6576837     \n",
       "6 rs11121478 -0.17450039 3.369730e-02  1.4724049     "
      ]
     },
     "metadata": {},
     "output_type": "display_data"
    }
   ],
   "source": [
    "head(pool_allelic)"
   ]
  },
  {
   "cell_type": "code",
   "execution_count": 8,
   "id": "f595d79f-e3b3-49cf-a4a3-6b7412d1cbe2",
   "metadata": {
    "execution": {
     "iopub.execute_input": "2025-03-21T00:47:17.509084Z",
     "iopub.status.busy": "2025-03-21T00:47:17.507879Z",
     "iopub.status.idle": "2025-03-21T00:47:17.527498Z",
     "shell.execute_reply": "2025-03-21T00:47:17.526108Z"
    }
   },
   "outputs": [
    {
     "data": {
      "text/html": [
       "<table class=\"dataframe\">\n",
       "<caption>A data.frame: 6 × 3</caption>\n",
       "<thead>\n",
       "\t<tr><th></th><th scope=col>snp</th><th scope=col>type</th><th scope=col>alpha</th></tr>\n",
       "\t<tr><th></th><th scope=col>&lt;chr&gt;</th><th scope=col>&lt;chr&gt;</th><th scope=col>&lt;dbl&gt;</th></tr>\n",
       "</thead>\n",
       "<tbody>\n",
       "\t<tr><th scope=row>1</th><td>rs11583631</td><td>ref</td><td>1.425401</td></tr>\n",
       "\t<tr><th scope=row>2</th><td>rs11583631</td><td>alt</td><td>1.328563</td></tr>\n",
       "\t<tr><th scope=row>3</th><td>rs11584419</td><td>ref</td><td>1.476491</td></tr>\n",
       "\t<tr><th scope=row>4</th><td>rs11584419</td><td>alt</td><td>1.412684</td></tr>\n",
       "\t<tr><th scope=row>5</th><td>rs749435  </td><td>ref</td><td>2.005698</td></tr>\n",
       "\t<tr><th scope=row>6</th><td>rs749435  </td><td>alt</td><td>2.140291</td></tr>\n",
       "</tbody>\n",
       "</table>\n"
      ],
      "text/latex": [
       "A data.frame: 6 × 3\n",
       "\\begin{tabular}{r|lll}\n",
       "  & snp & type & alpha\\\\\n",
       "  & <chr> & <chr> & <dbl>\\\\\n",
       "\\hline\n",
       "\t1 & rs11583631 & ref & 1.425401\\\\\n",
       "\t2 & rs11583631 & alt & 1.328563\\\\\n",
       "\t3 & rs11584419 & ref & 1.476491\\\\\n",
       "\t4 & rs11584419 & alt & 1.412684\\\\\n",
       "\t5 & rs749435   & ref & 2.005698\\\\\n",
       "\t6 & rs749435   & alt & 2.140291\\\\\n",
       "\\end{tabular}\n"
      ],
      "text/markdown": [
       "\n",
       "A data.frame: 6 × 3\n",
       "\n",
       "| <!--/--> | snp &lt;chr&gt; | type &lt;chr&gt; | alpha &lt;dbl&gt; |\n",
       "|---|---|---|---|\n",
       "| 1 | rs11583631 | ref | 1.425401 |\n",
       "| 2 | rs11583631 | alt | 1.328563 |\n",
       "| 3 | rs11584419 | ref | 1.476491 |\n",
       "| 4 | rs11584419 | alt | 1.412684 |\n",
       "| 5 | rs749435   | ref | 2.005698 |\n",
       "| 6 | rs749435   | alt | 2.140291 |\n",
       "\n"
      ],
      "text/plain": [
       "  snp        type alpha   \n",
       "1 rs11583631 ref  1.425401\n",
       "2 rs11583631 alt  1.328563\n",
       "3 rs11584419 ref  1.476491\n",
       "4 rs11584419 alt  1.412684\n",
       "5 rs749435   ref  2.005698\n",
       "6 rs749435   alt  2.140291"
      ]
     },
     "metadata": {},
     "output_type": "display_data"
    }
   ],
   "source": [
    "head(pool_alpha)"
   ]
  },
  {
   "cell_type": "code",
   "execution_count": 9,
   "id": "2e3ddaa5-ea68-4698-bc2d-d94f23bbbb20",
   "metadata": {
    "execution": {
     "iopub.execute_input": "2025-03-21T00:47:17.531356Z",
     "iopub.status.busy": "2025-03-21T00:47:17.530140Z",
     "iopub.status.idle": "2025-03-21T00:47:17.548534Z",
     "shell.execute_reply": "2025-03-21T00:47:17.547147Z"
    }
   },
   "outputs": [],
   "source": [
    "# log-transform alpha values\n",
    "pool_alpha <- pool_alpha %>% mutate(log2a = log2(alpha))"
   ]
  },
  {
   "cell_type": "code",
   "execution_count": 10,
   "id": "31060ab6-04cb-40c1-9edc-32ee8c44dfe1",
   "metadata": {
    "execution": {
     "iopub.execute_input": "2025-03-21T00:47:17.552419Z",
     "iopub.status.busy": "2025-03-21T00:47:17.551207Z",
     "iopub.status.idle": "2025-03-21T00:47:17.563663Z",
     "shell.execute_reply": "2025-03-21T00:47:17.562358Z"
    }
   },
   "outputs": [],
   "source": [
    "# calculate z-score with alpha\n",
    "pool_alpha <- pool_alpha %>% mutate(zscore = (log2a - mean(log2a)) / sd(log2a))"
   ]
  },
  {
   "cell_type": "code",
   "execution_count": 11,
   "id": "da618017-4991-4506-85c0-8285002b6f29",
   "metadata": {
    "execution": {
     "iopub.execute_input": "2025-03-21T00:47:17.567523Z",
     "iopub.status.busy": "2025-03-21T00:47:17.566320Z",
     "iopub.status.idle": "2025-03-21T00:47:17.587045Z",
     "shell.execute_reply": "2025-03-21T00:47:17.585695Z"
    }
   },
   "outputs": [
    {
     "data": {
      "text/html": [
       "<table class=\"dataframe\">\n",
       "<caption>A data.frame: 6 × 5</caption>\n",
       "<thead>\n",
       "\t<tr><th></th><th scope=col>snp</th><th scope=col>type</th><th scope=col>alpha</th><th scope=col>log2a</th><th scope=col>zscore</th></tr>\n",
       "\t<tr><th></th><th scope=col>&lt;chr&gt;</th><th scope=col>&lt;chr&gt;</th><th scope=col>&lt;dbl&gt;</th><th scope=col>&lt;dbl&gt;</th><th scope=col>&lt;dbl&gt;</th></tr>\n",
       "</thead>\n",
       "<tbody>\n",
       "\t<tr><th scope=row>1</th><td>rs11583631</td><td>ref</td><td>1.425401</td><td>0.5113677</td><td>-0.098448693</td></tr>\n",
       "\t<tr><th scope=row>2</th><td>rs11583631</td><td>alt</td><td>1.328563</td><td>0.4098670</td><td>-0.304637789</td></tr>\n",
       "\t<tr><th scope=row>3</th><td>rs11584419</td><td>ref</td><td>1.476491</td><td>0.5621723</td><td> 0.004756118</td></tr>\n",
       "\t<tr><th scope=row>4</th><td>rs11584419</td><td>alt</td><td>1.412684</td><td>0.4984384</td><td>-0.124713388</td></tr>\n",
       "\t<tr><th scope=row>5</th><td>rs749435  </td><td>ref</td><td>2.005698</td><td>1.0041041</td><td> 0.902498810</td></tr>\n",
       "\t<tr><th scope=row>6</th><td>rs749435  </td><td>alt</td><td>2.140291</td><td>1.0978068</td><td> 1.092847129</td></tr>\n",
       "</tbody>\n",
       "</table>\n"
      ],
      "text/latex": [
       "A data.frame: 6 × 5\n",
       "\\begin{tabular}{r|lllll}\n",
       "  & snp & type & alpha & log2a & zscore\\\\\n",
       "  & <chr> & <chr> & <dbl> & <dbl> & <dbl>\\\\\n",
       "\\hline\n",
       "\t1 & rs11583631 & ref & 1.425401 & 0.5113677 & -0.098448693\\\\\n",
       "\t2 & rs11583631 & alt & 1.328563 & 0.4098670 & -0.304637789\\\\\n",
       "\t3 & rs11584419 & ref & 1.476491 & 0.5621723 &  0.004756118\\\\\n",
       "\t4 & rs11584419 & alt & 1.412684 & 0.4984384 & -0.124713388\\\\\n",
       "\t5 & rs749435   & ref & 2.005698 & 1.0041041 &  0.902498810\\\\\n",
       "\t6 & rs749435   & alt & 2.140291 & 1.0978068 &  1.092847129\\\\\n",
       "\\end{tabular}\n"
      ],
      "text/markdown": [
       "\n",
       "A data.frame: 6 × 5\n",
       "\n",
       "| <!--/--> | snp &lt;chr&gt; | type &lt;chr&gt; | alpha &lt;dbl&gt; | log2a &lt;dbl&gt; | zscore &lt;dbl&gt; |\n",
       "|---|---|---|---|---|---|\n",
       "| 1 | rs11583631 | ref | 1.425401 | 0.5113677 | -0.098448693 |\n",
       "| 2 | rs11583631 | alt | 1.328563 | 0.4098670 | -0.304637789 |\n",
       "| 3 | rs11584419 | ref | 1.476491 | 0.5621723 |  0.004756118 |\n",
       "| 4 | rs11584419 | alt | 1.412684 | 0.4984384 | -0.124713388 |\n",
       "| 5 | rs749435   | ref | 2.005698 | 1.0041041 |  0.902498810 |\n",
       "| 6 | rs749435   | alt | 2.140291 | 1.0978068 |  1.092847129 |\n",
       "\n"
      ],
      "text/plain": [
       "  snp        type alpha    log2a     zscore      \n",
       "1 rs11583631 ref  1.425401 0.5113677 -0.098448693\n",
       "2 rs11583631 alt  1.328563 0.4098670 -0.304637789\n",
       "3 rs11584419 ref  1.476491 0.5621723  0.004756118\n",
       "4 rs11584419 alt  1.412684 0.4984384 -0.124713388\n",
       "5 rs749435   ref  2.005698 1.0041041  0.902498810\n",
       "6 rs749435   alt  2.140291 1.0978068  1.092847129"
      ]
     },
     "metadata": {},
     "output_type": "display_data"
    }
   ],
   "source": [
    "head(pool_alpha)"
   ]
  },
  {
   "cell_type": "code",
   "execution_count": 12,
   "id": "c9540c7f-7a76-4afe-a462-414235a27cf6",
   "metadata": {
    "execution": {
     "iopub.execute_input": "2025-03-21T00:47:17.590897Z",
     "iopub.status.busy": "2025-03-21T00:47:17.589708Z",
     "iopub.status.idle": "2025-03-21T00:47:17.628686Z",
     "shell.execute_reply": "2025-03-21T00:47:17.627169Z"
    }
   },
   "outputs": [],
   "source": [
    "# widen table to separate alleletypes and find enhancer significance\n",
    "pool_alpha_w <- pool_alpha %>% \n",
    "    pivot_wider(names_from=type, values_from=c(alpha, log2a, zscore))"
   ]
  },
  {
   "cell_type": "code",
   "execution_count": 13,
   "id": "c35ac8f9-6381-4233-9df7-923ccaaee5a9",
   "metadata": {
    "execution": {
     "iopub.execute_input": "2025-03-21T00:47:17.632681Z",
     "iopub.status.busy": "2025-03-21T00:47:17.631472Z",
     "iopub.status.idle": "2025-03-21T00:47:17.644329Z",
     "shell.execute_reply": "2025-03-21T00:47:17.642943Z"
    }
   },
   "outputs": [],
   "source": [
    "# select relevant columns from DNA CPM counts\n",
    "pool_cpm <- pool_cpm %>% select(snp, DNA_CPM_QC)"
   ]
  },
  {
   "cell_type": "code",
   "execution_count": 14,
   "id": "5c8186ad-484d-472c-9f61-2ee3ff600db8",
   "metadata": {
    "execution": {
     "iopub.execute_input": "2025-03-21T00:47:17.648175Z",
     "iopub.status.busy": "2025-03-21T00:47:17.646977Z",
     "iopub.status.idle": "2025-03-21T00:47:17.666002Z",
     "shell.execute_reply": "2025-03-21T00:47:17.664660Z"
    }
   },
   "outputs": [
    {
     "data": {
      "text/html": [
       "<table class=\"dataframe\">\n",
       "<caption>A data.frame: 6 × 2</caption>\n",
       "<thead>\n",
       "\t<tr><th></th><th scope=col>snp</th><th scope=col>DNA_CPM_QC</th></tr>\n",
       "\t<tr><th></th><th scope=col>&lt;chr&gt;</th><th scope=col>&lt;lgl&gt;</th></tr>\n",
       "</thead>\n",
       "<tbody>\n",
       "\t<tr><th scope=row>1</th><td>rs11583631</td><td>FALSE</td></tr>\n",
       "\t<tr><th scope=row>2</th><td>rs11584419</td><td>FALSE</td></tr>\n",
       "\t<tr><th scope=row>3</th><td>rs749435  </td><td> TRUE</td></tr>\n",
       "\t<tr><th scope=row>4</th><td>rs3789524 </td><td> TRUE</td></tr>\n",
       "\t<tr><th scope=row>5</th><td>rs3789522 </td><td> TRUE</td></tr>\n",
       "\t<tr><th scope=row>6</th><td>rs11121478</td><td> TRUE</td></tr>\n",
       "</tbody>\n",
       "</table>\n"
      ],
      "text/latex": [
       "A data.frame: 6 × 2\n",
       "\\begin{tabular}{r|ll}\n",
       "  & snp & DNA\\_CPM\\_QC\\\\\n",
       "  & <chr> & <lgl>\\\\\n",
       "\\hline\n",
       "\t1 & rs11583631 & FALSE\\\\\n",
       "\t2 & rs11584419 & FALSE\\\\\n",
       "\t3 & rs749435   &  TRUE\\\\\n",
       "\t4 & rs3789524  &  TRUE\\\\\n",
       "\t5 & rs3789522  &  TRUE\\\\\n",
       "\t6 & rs11121478 &  TRUE\\\\\n",
       "\\end{tabular}\n"
      ],
      "text/markdown": [
       "\n",
       "A data.frame: 6 × 2\n",
       "\n",
       "| <!--/--> | snp &lt;chr&gt; | DNA_CPM_QC &lt;lgl&gt; |\n",
       "|---|---|---|\n",
       "| 1 | rs11583631 | FALSE |\n",
       "| 2 | rs11584419 | FALSE |\n",
       "| 3 | rs749435   |  TRUE |\n",
       "| 4 | rs3789524  |  TRUE |\n",
       "| 5 | rs3789522  |  TRUE |\n",
       "| 6 | rs11121478 |  TRUE |\n",
       "\n"
      ],
      "text/plain": [
       "  snp        DNA_CPM_QC\n",
       "1 rs11583631 FALSE     \n",
       "2 rs11584419 FALSE     \n",
       "3 rs749435    TRUE     \n",
       "4 rs3789524   TRUE     \n",
       "5 rs3789522   TRUE     \n",
       "6 rs11121478  TRUE     "
      ]
     },
     "metadata": {},
     "output_type": "display_data"
    }
   ],
   "source": [
    "head(pool_cpm)"
   ]
  },
  {
   "cell_type": "code",
   "execution_count": 15,
   "id": "46ba769d-3827-4ec4-8f09-b4b2f158bb76",
   "metadata": {
    "execution": {
     "iopub.execute_input": "2025-03-21T00:47:17.669881Z",
     "iopub.status.busy": "2025-03-21T00:47:17.668685Z",
     "iopub.status.idle": "2025-03-21T00:47:17.684098Z",
     "shell.execute_reply": "2025-03-21T00:47:17.682736Z"
    }
   },
   "outputs": [],
   "source": [
    "# add DNA CPM classifications to v1 pool1 table\n",
    "pool_alpha_w <- pool_alpha_w %>% left_join(pool_cpm, by = c(\"snp\"))"
   ]
  },
  {
   "cell_type": "code",
   "execution_count": 16,
   "id": "9b298b6b-d3f7-4a5f-bbb1-f4de5617a6e0",
   "metadata": {
    "execution": {
     "iopub.execute_input": "2025-03-21T00:47:17.687972Z",
     "iopub.status.busy": "2025-03-21T00:47:17.686755Z",
     "iopub.status.idle": "2025-03-21T00:47:17.714895Z",
     "shell.execute_reply": "2025-03-21T00:47:17.713505Z"
    }
   },
   "outputs": [
    {
     "data": {
      "text/html": [
       "<table class=\"dataframe\">\n",
       "<caption>A tibble: 6 × 8</caption>\n",
       "<thead>\n",
       "\t<tr><th scope=col>snp</th><th scope=col>alpha_ref</th><th scope=col>alpha_alt</th><th scope=col>log2a_ref</th><th scope=col>log2a_alt</th><th scope=col>zscore_ref</th><th scope=col>zscore_alt</th><th scope=col>DNA_CPM_QC</th></tr>\n",
       "\t<tr><th scope=col>&lt;chr&gt;</th><th scope=col>&lt;dbl&gt;</th><th scope=col>&lt;dbl&gt;</th><th scope=col>&lt;dbl&gt;</th><th scope=col>&lt;dbl&gt;</th><th scope=col>&lt;dbl&gt;</th><th scope=col>&lt;dbl&gt;</th><th scope=col>&lt;lgl&gt;</th></tr>\n",
       "</thead>\n",
       "<tbody>\n",
       "\t<tr><td>rs11583631</td><td>1.425401</td><td>1.328563</td><td>0.5113677</td><td>0.4098670</td><td>-0.098448693</td><td>-0.30463779</td><td>FALSE</td></tr>\n",
       "\t<tr><td>rs11584419</td><td>1.476491</td><td>1.412684</td><td>0.5621723</td><td>0.4984384</td><td> 0.004756118</td><td>-0.12471339</td><td>FALSE</td></tr>\n",
       "\t<tr><td>rs749435  </td><td>2.005698</td><td>2.140291</td><td>1.0041041</td><td>1.0978068</td><td> 0.902498810</td><td> 1.09284713</td><td> TRUE</td></tr>\n",
       "\t<tr><td>rs3789524 </td><td>1.422514</td><td>1.491660</td><td>0.5084428</td><td>0.5769184</td><td>-0.104390459</td><td> 0.03471129</td><td> TRUE</td></tr>\n",
       "\t<tr><td>rs3789522 </td><td>1.602634</td><td>1.360524</td><td>0.6804446</td><td>0.4441627</td><td> 0.245015024</td><td>-0.23496934</td><td> TRUE</td></tr>\n",
       "\t<tr><td>rs11121478</td><td>1.132672</td><td>1.146398</td><td>0.1797297</td><td>0.1971084</td><td>-0.772140080</td><td>-0.73683690</td><td> TRUE</td></tr>\n",
       "</tbody>\n",
       "</table>\n"
      ],
      "text/latex": [
       "A tibble: 6 × 8\n",
       "\\begin{tabular}{llllllll}\n",
       " snp & alpha\\_ref & alpha\\_alt & log2a\\_ref & log2a\\_alt & zscore\\_ref & zscore\\_alt & DNA\\_CPM\\_QC\\\\\n",
       " <chr> & <dbl> & <dbl> & <dbl> & <dbl> & <dbl> & <dbl> & <lgl>\\\\\n",
       "\\hline\n",
       "\t rs11583631 & 1.425401 & 1.328563 & 0.5113677 & 0.4098670 & -0.098448693 & -0.30463779 & FALSE\\\\\n",
       "\t rs11584419 & 1.476491 & 1.412684 & 0.5621723 & 0.4984384 &  0.004756118 & -0.12471339 & FALSE\\\\\n",
       "\t rs749435   & 2.005698 & 2.140291 & 1.0041041 & 1.0978068 &  0.902498810 &  1.09284713 &  TRUE\\\\\n",
       "\t rs3789524  & 1.422514 & 1.491660 & 0.5084428 & 0.5769184 & -0.104390459 &  0.03471129 &  TRUE\\\\\n",
       "\t rs3789522  & 1.602634 & 1.360524 & 0.6804446 & 0.4441627 &  0.245015024 & -0.23496934 &  TRUE\\\\\n",
       "\t rs11121478 & 1.132672 & 1.146398 & 0.1797297 & 0.1971084 & -0.772140080 & -0.73683690 &  TRUE\\\\\n",
       "\\end{tabular}\n"
      ],
      "text/markdown": [
       "\n",
       "A tibble: 6 × 8\n",
       "\n",
       "| snp &lt;chr&gt; | alpha_ref &lt;dbl&gt; | alpha_alt &lt;dbl&gt; | log2a_ref &lt;dbl&gt; | log2a_alt &lt;dbl&gt; | zscore_ref &lt;dbl&gt; | zscore_alt &lt;dbl&gt; | DNA_CPM_QC &lt;lgl&gt; |\n",
       "|---|---|---|---|---|---|---|---|\n",
       "| rs11583631 | 1.425401 | 1.328563 | 0.5113677 | 0.4098670 | -0.098448693 | -0.30463779 | FALSE |\n",
       "| rs11584419 | 1.476491 | 1.412684 | 0.5621723 | 0.4984384 |  0.004756118 | -0.12471339 | FALSE |\n",
       "| rs749435   | 2.005698 | 2.140291 | 1.0041041 | 1.0978068 |  0.902498810 |  1.09284713 |  TRUE |\n",
       "| rs3789524  | 1.422514 | 1.491660 | 0.5084428 | 0.5769184 | -0.104390459 |  0.03471129 |  TRUE |\n",
       "| rs3789522  | 1.602634 | 1.360524 | 0.6804446 | 0.4441627 |  0.245015024 | -0.23496934 |  TRUE |\n",
       "| rs11121478 | 1.132672 | 1.146398 | 0.1797297 | 0.1971084 | -0.772140080 | -0.73683690 |  TRUE |\n",
       "\n"
      ],
      "text/plain": [
       "  snp        alpha_ref alpha_alt log2a_ref log2a_alt zscore_ref   zscore_alt \n",
       "1 rs11583631 1.425401  1.328563  0.5113677 0.4098670 -0.098448693 -0.30463779\n",
       "2 rs11584419 1.476491  1.412684  0.5621723 0.4984384  0.004756118 -0.12471339\n",
       "3 rs749435   2.005698  2.140291  1.0041041 1.0978068  0.902498810  1.09284713\n",
       "4 rs3789524  1.422514  1.491660  0.5084428 0.5769184 -0.104390459  0.03471129\n",
       "5 rs3789522  1.602634  1.360524  0.6804446 0.4441627  0.245015024 -0.23496934\n",
       "6 rs11121478 1.132672  1.146398  0.1797297 0.1971084 -0.772140080 -0.73683690\n",
       "  DNA_CPM_QC\n",
       "1 FALSE     \n",
       "2 FALSE     \n",
       "3  TRUE     \n",
       "4  TRUE     \n",
       "5  TRUE     \n",
       "6  TRUE     "
      ]
     },
     "metadata": {},
     "output_type": "display_data"
    }
   ],
   "source": [
    "head(pool_alpha_w)"
   ]
  },
  {
   "cell_type": "code",
   "execution_count": 17,
   "id": "18f80693-aec2-4c3a-b776-b07e9fe1fdd4",
   "metadata": {
    "execution": {
     "iopub.execute_input": "2025-03-21T00:47:17.718934Z",
     "iopub.status.busy": "2025-03-21T00:47:17.717725Z",
     "iopub.status.idle": "2025-03-21T00:47:17.732793Z",
     "shell.execute_reply": "2025-03-21T00:47:17.731445Z"
    }
   },
   "outputs": [],
   "source": [
    "# classify variants that are enhancers\n",
    "pool_enhancer <- pool_alpha_w %>% filter(DNA_CPM_QC) %>% mutate(is_enhancer=(zscore_ref > 0 | zscore_alt > 0))"
   ]
  },
  {
   "cell_type": "code",
   "execution_count": 18,
   "id": "333f541e-f71b-4aae-af27-936416fd4083",
   "metadata": {
    "execution": {
     "iopub.execute_input": "2025-03-21T00:47:17.736654Z",
     "iopub.status.busy": "2025-03-21T00:47:17.735457Z",
     "iopub.status.idle": "2025-03-21T00:47:17.793245Z",
     "shell.execute_reply": "2025-03-21T00:47:17.791741Z"
    }
   },
   "outputs": [
    {
     "name": "stderr",
     "output_type": "stream",
     "text": [
      "\u001b[1m\u001b[22mJoining with `by = join_by(snp, alpha_ref, alpha_alt, log2a_ref, log2a_alt,\n",
      "zscore_ref, zscore_alt, DNA_CPM_QC)`\n"
     ]
    }
   ],
   "source": [
    "# join enhancer classifications with overall table\n",
    "pool <- pool_alpha_w %>% left_join(pool_enhancer)"
   ]
  },
  {
   "cell_type": "code",
   "execution_count": 19,
   "id": "c99829f8-4b64-46f4-bc43-97aa06103e8b",
   "metadata": {
    "execution": {
     "iopub.execute_input": "2025-03-21T00:47:17.797216Z",
     "iopub.status.busy": "2025-03-21T00:47:17.795998Z",
     "iopub.status.idle": "2025-03-21T00:47:17.825889Z",
     "shell.execute_reply": "2025-03-21T00:47:17.824338Z"
    }
   },
   "outputs": [
    {
     "data": {
      "text/html": [
       "<table class=\"dataframe\">\n",
       "<caption>A tibble: 6 × 9</caption>\n",
       "<thead>\n",
       "\t<tr><th scope=col>snp</th><th scope=col>alpha_ref</th><th scope=col>alpha_alt</th><th scope=col>log2a_ref</th><th scope=col>log2a_alt</th><th scope=col>zscore_ref</th><th scope=col>zscore_alt</th><th scope=col>DNA_CPM_QC</th><th scope=col>is_enhancer</th></tr>\n",
       "\t<tr><th scope=col>&lt;chr&gt;</th><th scope=col>&lt;dbl&gt;</th><th scope=col>&lt;dbl&gt;</th><th scope=col>&lt;dbl&gt;</th><th scope=col>&lt;dbl&gt;</th><th scope=col>&lt;dbl&gt;</th><th scope=col>&lt;dbl&gt;</th><th scope=col>&lt;lgl&gt;</th><th scope=col>&lt;lgl&gt;</th></tr>\n",
       "</thead>\n",
       "<tbody>\n",
       "\t<tr><td>rs11583631</td><td>1.425401</td><td>1.328563</td><td>0.5113677</td><td>0.4098670</td><td>-0.098448693</td><td>-0.30463779</td><td>FALSE</td><td>   NA</td></tr>\n",
       "\t<tr><td>rs11584419</td><td>1.476491</td><td>1.412684</td><td>0.5621723</td><td>0.4984384</td><td> 0.004756118</td><td>-0.12471339</td><td>FALSE</td><td>   NA</td></tr>\n",
       "\t<tr><td>rs749435  </td><td>2.005698</td><td>2.140291</td><td>1.0041041</td><td>1.0978068</td><td> 0.902498810</td><td> 1.09284713</td><td> TRUE</td><td> TRUE</td></tr>\n",
       "\t<tr><td>rs3789524 </td><td>1.422514</td><td>1.491660</td><td>0.5084428</td><td>0.5769184</td><td>-0.104390459</td><td> 0.03471129</td><td> TRUE</td><td> TRUE</td></tr>\n",
       "\t<tr><td>rs3789522 </td><td>1.602634</td><td>1.360524</td><td>0.6804446</td><td>0.4441627</td><td> 0.245015024</td><td>-0.23496934</td><td> TRUE</td><td> TRUE</td></tr>\n",
       "\t<tr><td>rs11121478</td><td>1.132672</td><td>1.146398</td><td>0.1797297</td><td>0.1971084</td><td>-0.772140080</td><td>-0.73683690</td><td> TRUE</td><td>FALSE</td></tr>\n",
       "</tbody>\n",
       "</table>\n"
      ],
      "text/latex": [
       "A tibble: 6 × 9\n",
       "\\begin{tabular}{lllllllll}\n",
       " snp & alpha\\_ref & alpha\\_alt & log2a\\_ref & log2a\\_alt & zscore\\_ref & zscore\\_alt & DNA\\_CPM\\_QC & is\\_enhancer\\\\\n",
       " <chr> & <dbl> & <dbl> & <dbl> & <dbl> & <dbl> & <dbl> & <lgl> & <lgl>\\\\\n",
       "\\hline\n",
       "\t rs11583631 & 1.425401 & 1.328563 & 0.5113677 & 0.4098670 & -0.098448693 & -0.30463779 & FALSE &    NA\\\\\n",
       "\t rs11584419 & 1.476491 & 1.412684 & 0.5621723 & 0.4984384 &  0.004756118 & -0.12471339 & FALSE &    NA\\\\\n",
       "\t rs749435   & 2.005698 & 2.140291 & 1.0041041 & 1.0978068 &  0.902498810 &  1.09284713 &  TRUE &  TRUE\\\\\n",
       "\t rs3789524  & 1.422514 & 1.491660 & 0.5084428 & 0.5769184 & -0.104390459 &  0.03471129 &  TRUE &  TRUE\\\\\n",
       "\t rs3789522  & 1.602634 & 1.360524 & 0.6804446 & 0.4441627 &  0.245015024 & -0.23496934 &  TRUE &  TRUE\\\\\n",
       "\t rs11121478 & 1.132672 & 1.146398 & 0.1797297 & 0.1971084 & -0.772140080 & -0.73683690 &  TRUE & FALSE\\\\\n",
       "\\end{tabular}\n"
      ],
      "text/markdown": [
       "\n",
       "A tibble: 6 × 9\n",
       "\n",
       "| snp &lt;chr&gt; | alpha_ref &lt;dbl&gt; | alpha_alt &lt;dbl&gt; | log2a_ref &lt;dbl&gt; | log2a_alt &lt;dbl&gt; | zscore_ref &lt;dbl&gt; | zscore_alt &lt;dbl&gt; | DNA_CPM_QC &lt;lgl&gt; | is_enhancer &lt;lgl&gt; |\n",
       "|---|---|---|---|---|---|---|---|---|\n",
       "| rs11583631 | 1.425401 | 1.328563 | 0.5113677 | 0.4098670 | -0.098448693 | -0.30463779 | FALSE |    NA |\n",
       "| rs11584419 | 1.476491 | 1.412684 | 0.5621723 | 0.4984384 |  0.004756118 | -0.12471339 | FALSE |    NA |\n",
       "| rs749435   | 2.005698 | 2.140291 | 1.0041041 | 1.0978068 |  0.902498810 |  1.09284713 |  TRUE |  TRUE |\n",
       "| rs3789524  | 1.422514 | 1.491660 | 0.5084428 | 0.5769184 | -0.104390459 |  0.03471129 |  TRUE |  TRUE |\n",
       "| rs3789522  | 1.602634 | 1.360524 | 0.6804446 | 0.4441627 |  0.245015024 | -0.23496934 |  TRUE |  TRUE |\n",
       "| rs11121478 | 1.132672 | 1.146398 | 0.1797297 | 0.1971084 | -0.772140080 | -0.73683690 |  TRUE | FALSE |\n",
       "\n"
      ],
      "text/plain": [
       "  snp        alpha_ref alpha_alt log2a_ref log2a_alt zscore_ref   zscore_alt \n",
       "1 rs11583631 1.425401  1.328563  0.5113677 0.4098670 -0.098448693 -0.30463779\n",
       "2 rs11584419 1.476491  1.412684  0.5621723 0.4984384  0.004756118 -0.12471339\n",
       "3 rs749435   2.005698  2.140291  1.0041041 1.0978068  0.902498810  1.09284713\n",
       "4 rs3789524  1.422514  1.491660  0.5084428 0.5769184 -0.104390459  0.03471129\n",
       "5 rs3789522  1.602634  1.360524  0.6804446 0.4441627  0.245015024 -0.23496934\n",
       "6 rs11121478 1.132672  1.146398  0.1797297 0.1971084 -0.772140080 -0.73683690\n",
       "  DNA_CPM_QC is_enhancer\n",
       "1 FALSE         NA      \n",
       "2 FALSE         NA      \n",
       "3  TRUE       TRUE      \n",
       "4  TRUE       TRUE      \n",
       "5  TRUE       TRUE      \n",
       "6  TRUE      FALSE      "
      ]
     },
     "metadata": {},
     "output_type": "display_data"
    }
   ],
   "source": [
    "head(pool)"
   ]
  },
  {
   "cell_type": "code",
   "execution_count": 20,
   "id": "24e41345-b865-40e2-a4d1-7ad6841e372b",
   "metadata": {
    "execution": {
     "iopub.execute_input": "2025-03-21T00:47:17.829814Z",
     "iopub.status.busy": "2025-03-21T00:47:17.828608Z",
     "iopub.status.idle": "2025-03-21T00:47:17.845184Z",
     "shell.execute_reply": "2025-03-21T00:47:17.843817Z"
    }
   },
   "outputs": [],
   "source": [
    "# extract allelic p-values\n",
    "pool <- pool %>% left_join(select(pool_allelic, c(snp, logFC, lrt_pval)), by = \"snp\") %>%\n",
    "    rename(pval_allelic = lrt_pval)"
   ]
  },
  {
   "cell_type": "code",
   "execution_count": 21,
   "id": "5ca50f90-fa64-422b-a959-0b4a1af90594",
   "metadata": {
    "execution": {
     "iopub.execute_input": "2025-03-21T00:47:17.849055Z",
     "iopub.status.busy": "2025-03-21T00:47:17.847848Z",
     "iopub.status.idle": "2025-03-21T00:47:17.879411Z",
     "shell.execute_reply": "2025-03-21T00:47:17.878005Z"
    }
   },
   "outputs": [
    {
     "data": {
      "text/html": [
       "<table class=\"dataframe\">\n",
       "<caption>A tibble: 6 × 11</caption>\n",
       "<thead>\n",
       "\t<tr><th scope=col>snp</th><th scope=col>alpha_ref</th><th scope=col>alpha_alt</th><th scope=col>log2a_ref</th><th scope=col>log2a_alt</th><th scope=col>zscore_ref</th><th scope=col>zscore_alt</th><th scope=col>DNA_CPM_QC</th><th scope=col>is_enhancer</th><th scope=col>logFC</th><th scope=col>pval_allelic</th></tr>\n",
       "\t<tr><th scope=col>&lt;chr&gt;</th><th scope=col>&lt;dbl&gt;</th><th scope=col>&lt;dbl&gt;</th><th scope=col>&lt;dbl&gt;</th><th scope=col>&lt;dbl&gt;</th><th scope=col>&lt;dbl&gt;</th><th scope=col>&lt;dbl&gt;</th><th scope=col>&lt;lgl&gt;</th><th scope=col>&lt;lgl&gt;</th><th scope=col>&lt;dbl&gt;</th><th scope=col>&lt;dbl&gt;</th></tr>\n",
       "</thead>\n",
       "<tbody>\n",
       "\t<tr><td>rs11583631</td><td>1.425401</td><td>1.328563</td><td>0.5113677</td><td>0.4098670</td><td>-0.098448693</td><td>-0.30463779</td><td>FALSE</td><td>   NA</td><td>-0.04727376</td><td>6.748780e-01</td></tr>\n",
       "\t<tr><td>rs11584419</td><td>1.476491</td><td>1.412684</td><td>0.5621723</td><td>0.4984384</td><td> 0.004756118</td><td>-0.12471339</td><td>FALSE</td><td>   NA</td><td> 0.04456964</td><td>6.565204e-01</td></tr>\n",
       "\t<tr><td>rs749435  </td><td>2.005698</td><td>2.140291</td><td>1.0041041</td><td>1.0978068</td><td> 0.902498810</td><td> 1.09284713</td><td> TRUE</td><td> TRUE</td><td>-0.06529871</td><td>8.405816e-02</td></tr>\n",
       "\t<tr><td>rs3789524 </td><td>1.422514</td><td>1.491660</td><td>0.5084428</td><td>0.5769184</td><td>-0.104390459</td><td> 0.03471129</td><td> TRUE</td><td> TRUE</td><td> 0.04192126</td><td>1.242780e-03</td></tr>\n",
       "\t<tr><td>rs3789522 </td><td>1.602634</td><td>1.360524</td><td>0.6804446</td><td>0.4441627</td><td> 0.245015024</td><td>-0.23496934</td><td> TRUE</td><td> TRUE</td><td>-0.16202368</td><td>2.199461e-19</td></tr>\n",
       "\t<tr><td>rs11121478</td><td>1.132672</td><td>1.146398</td><td>0.1797297</td><td>0.1971084</td><td>-0.772140080</td><td>-0.73683690</td><td> TRUE</td><td>FALSE</td><td>-0.17450039</td><td>3.369730e-02</td></tr>\n",
       "</tbody>\n",
       "</table>\n"
      ],
      "text/latex": [
       "A tibble: 6 × 11\n",
       "\\begin{tabular}{lllllllllll}\n",
       " snp & alpha\\_ref & alpha\\_alt & log2a\\_ref & log2a\\_alt & zscore\\_ref & zscore\\_alt & DNA\\_CPM\\_QC & is\\_enhancer & logFC & pval\\_allelic\\\\\n",
       " <chr> & <dbl> & <dbl> & <dbl> & <dbl> & <dbl> & <dbl> & <lgl> & <lgl> & <dbl> & <dbl>\\\\\n",
       "\\hline\n",
       "\t rs11583631 & 1.425401 & 1.328563 & 0.5113677 & 0.4098670 & -0.098448693 & -0.30463779 & FALSE &    NA & -0.04727376 & 6.748780e-01\\\\\n",
       "\t rs11584419 & 1.476491 & 1.412684 & 0.5621723 & 0.4984384 &  0.004756118 & -0.12471339 & FALSE &    NA &  0.04456964 & 6.565204e-01\\\\\n",
       "\t rs749435   & 2.005698 & 2.140291 & 1.0041041 & 1.0978068 &  0.902498810 &  1.09284713 &  TRUE &  TRUE & -0.06529871 & 8.405816e-02\\\\\n",
       "\t rs3789524  & 1.422514 & 1.491660 & 0.5084428 & 0.5769184 & -0.104390459 &  0.03471129 &  TRUE &  TRUE &  0.04192126 & 1.242780e-03\\\\\n",
       "\t rs3789522  & 1.602634 & 1.360524 & 0.6804446 & 0.4441627 &  0.245015024 & -0.23496934 &  TRUE &  TRUE & -0.16202368 & 2.199461e-19\\\\\n",
       "\t rs11121478 & 1.132672 & 1.146398 & 0.1797297 & 0.1971084 & -0.772140080 & -0.73683690 &  TRUE & FALSE & -0.17450039 & 3.369730e-02\\\\\n",
       "\\end{tabular}\n"
      ],
      "text/markdown": [
       "\n",
       "A tibble: 6 × 11\n",
       "\n",
       "| snp &lt;chr&gt; | alpha_ref &lt;dbl&gt; | alpha_alt &lt;dbl&gt; | log2a_ref &lt;dbl&gt; | log2a_alt &lt;dbl&gt; | zscore_ref &lt;dbl&gt; | zscore_alt &lt;dbl&gt; | DNA_CPM_QC &lt;lgl&gt; | is_enhancer &lt;lgl&gt; | logFC &lt;dbl&gt; | pval_allelic &lt;dbl&gt; |\n",
       "|---|---|---|---|---|---|---|---|---|---|---|\n",
       "| rs11583631 | 1.425401 | 1.328563 | 0.5113677 | 0.4098670 | -0.098448693 | -0.30463779 | FALSE |    NA | -0.04727376 | 6.748780e-01 |\n",
       "| rs11584419 | 1.476491 | 1.412684 | 0.5621723 | 0.4984384 |  0.004756118 | -0.12471339 | FALSE |    NA |  0.04456964 | 6.565204e-01 |\n",
       "| rs749435   | 2.005698 | 2.140291 | 1.0041041 | 1.0978068 |  0.902498810 |  1.09284713 |  TRUE |  TRUE | -0.06529871 | 8.405816e-02 |\n",
       "| rs3789524  | 1.422514 | 1.491660 | 0.5084428 | 0.5769184 | -0.104390459 |  0.03471129 |  TRUE |  TRUE |  0.04192126 | 1.242780e-03 |\n",
       "| rs3789522  | 1.602634 | 1.360524 | 0.6804446 | 0.4441627 |  0.245015024 | -0.23496934 |  TRUE |  TRUE | -0.16202368 | 2.199461e-19 |\n",
       "| rs11121478 | 1.132672 | 1.146398 | 0.1797297 | 0.1971084 | -0.772140080 | -0.73683690 |  TRUE | FALSE | -0.17450039 | 3.369730e-02 |\n",
       "\n"
      ],
      "text/plain": [
       "  snp        alpha_ref alpha_alt log2a_ref log2a_alt zscore_ref   zscore_alt \n",
       "1 rs11583631 1.425401  1.328563  0.5113677 0.4098670 -0.098448693 -0.30463779\n",
       "2 rs11584419 1.476491  1.412684  0.5621723 0.4984384  0.004756118 -0.12471339\n",
       "3 rs749435   2.005698  2.140291  1.0041041 1.0978068  0.902498810  1.09284713\n",
       "4 rs3789524  1.422514  1.491660  0.5084428 0.5769184 -0.104390459  0.03471129\n",
       "5 rs3789522  1.602634  1.360524  0.6804446 0.4441627  0.245015024 -0.23496934\n",
       "6 rs11121478 1.132672  1.146398  0.1797297 0.1971084 -0.772140080 -0.73683690\n",
       "  DNA_CPM_QC is_enhancer logFC       pval_allelic\n",
       "1 FALSE         NA       -0.04727376 6.748780e-01\n",
       "2 FALSE         NA        0.04456964 6.565204e-01\n",
       "3  TRUE       TRUE       -0.06529871 8.405816e-02\n",
       "4  TRUE       TRUE        0.04192126 1.242780e-03\n",
       "5  TRUE       TRUE       -0.16202368 2.199461e-19\n",
       "6  TRUE      FALSE       -0.17450039 3.369730e-02"
      ]
     },
     "metadata": {},
     "output_type": "display_data"
    }
   ],
   "source": [
    "head(pool)"
   ]
  },
  {
   "cell_type": "code",
   "execution_count": 22,
   "id": "46ff29cf-8733-4a00-ac38-53a52628ec30",
   "metadata": {
    "execution": {
     "iopub.execute_input": "2025-03-21T00:47:17.883314Z",
     "iopub.status.busy": "2025-03-21T00:47:17.882101Z",
     "iopub.status.idle": "2025-03-21T00:47:17.897830Z",
     "shell.execute_reply": "2025-03-21T00:47:17.896495Z"
    }
   },
   "outputs": [],
   "source": [
    "# calculate FDR for only enhancers\n",
    "pool_enc <- pool %>% filter(is_enhancer == TRUE) %>% \n",
    "    mutate(fdr_allelic=p.adjust(pval_allelic, method = \"BH\")) %>% select(snp, fdr_allelic)"
   ]
  },
  {
   "cell_type": "code",
   "execution_count": 23,
   "id": "1aa27d7c-66da-4ed2-ab4b-6037cd139f98",
   "metadata": {
    "execution": {
     "iopub.execute_input": "2025-03-21T00:47:17.901699Z",
     "iopub.status.busy": "2025-03-21T00:47:17.900504Z",
     "iopub.status.idle": "2025-03-21T00:47:17.913559Z",
     "shell.execute_reply": "2025-03-21T00:47:17.912190Z"
    }
   },
   "outputs": [],
   "source": [
    "# add FDR values to table\n",
    "pool <- pool %>% left_join(pool_enc, by = 'snp')"
   ]
  },
  {
   "cell_type": "code",
   "execution_count": 24,
   "id": "b7d798a4-5493-463a-98b4-ea35c9435db8",
   "metadata": {
    "execution": {
     "iopub.execute_input": "2025-03-21T00:47:17.917544Z",
     "iopub.status.busy": "2025-03-21T00:47:17.916199Z",
     "iopub.status.idle": "2025-03-21T00:47:17.949623Z",
     "shell.execute_reply": "2025-03-21T00:47:17.948194Z"
    }
   },
   "outputs": [
    {
     "data": {
      "text/html": [
       "<table class=\"dataframe\">\n",
       "<caption>A tibble: 6 × 12</caption>\n",
       "<thead>\n",
       "\t<tr><th scope=col>snp</th><th scope=col>alpha_ref</th><th scope=col>alpha_alt</th><th scope=col>log2a_ref</th><th scope=col>log2a_alt</th><th scope=col>zscore_ref</th><th scope=col>zscore_alt</th><th scope=col>DNA_CPM_QC</th><th scope=col>is_enhancer</th><th scope=col>logFC</th><th scope=col>pval_allelic</th><th scope=col>fdr_allelic</th></tr>\n",
       "\t<tr><th scope=col>&lt;chr&gt;</th><th scope=col>&lt;dbl&gt;</th><th scope=col>&lt;dbl&gt;</th><th scope=col>&lt;dbl&gt;</th><th scope=col>&lt;dbl&gt;</th><th scope=col>&lt;dbl&gt;</th><th scope=col>&lt;dbl&gt;</th><th scope=col>&lt;lgl&gt;</th><th scope=col>&lt;lgl&gt;</th><th scope=col>&lt;dbl&gt;</th><th scope=col>&lt;dbl&gt;</th><th scope=col>&lt;dbl&gt;</th></tr>\n",
       "</thead>\n",
       "<tbody>\n",
       "\t<tr><td>rs11583631</td><td>1.425401</td><td>1.328563</td><td>0.5113677</td><td>0.4098670</td><td>-0.098448693</td><td>-0.30463779</td><td>FALSE</td><td>   NA</td><td>-0.04727376</td><td>6.748780e-01</td><td>          NA</td></tr>\n",
       "\t<tr><td>rs11584419</td><td>1.476491</td><td>1.412684</td><td>0.5621723</td><td>0.4984384</td><td> 0.004756118</td><td>-0.12471339</td><td>FALSE</td><td>   NA</td><td> 0.04456964</td><td>6.565204e-01</td><td>          NA</td></tr>\n",
       "\t<tr><td>rs749435  </td><td>2.005698</td><td>2.140291</td><td>1.0041041</td><td>1.0978068</td><td> 0.902498810</td><td> 1.09284713</td><td> TRUE</td><td> TRUE</td><td>-0.06529871</td><td>8.405816e-02</td><td>1.350025e-01</td></tr>\n",
       "\t<tr><td>rs3789524 </td><td>1.422514</td><td>1.491660</td><td>0.5084428</td><td>0.5769184</td><td>-0.104390459</td><td> 0.03471129</td><td> TRUE</td><td> TRUE</td><td> 0.04192126</td><td>1.242780e-03</td><td>3.609169e-03</td></tr>\n",
       "\t<tr><td>rs3789522 </td><td>1.602634</td><td>1.360524</td><td>0.6804446</td><td>0.4441627</td><td> 0.245015024</td><td>-0.23496934</td><td> TRUE</td><td> TRUE</td><td>-0.16202368</td><td>2.199461e-19</td><td>3.108571e-18</td></tr>\n",
       "\t<tr><td>rs11121478</td><td>1.132672</td><td>1.146398</td><td>0.1797297</td><td>0.1971084</td><td>-0.772140080</td><td>-0.73683690</td><td> TRUE</td><td>FALSE</td><td>-0.17450039</td><td>3.369730e-02</td><td>          NA</td></tr>\n",
       "</tbody>\n",
       "</table>\n"
      ],
      "text/latex": [
       "A tibble: 6 × 12\n",
       "\\begin{tabular}{llllllllllll}\n",
       " snp & alpha\\_ref & alpha\\_alt & log2a\\_ref & log2a\\_alt & zscore\\_ref & zscore\\_alt & DNA\\_CPM\\_QC & is\\_enhancer & logFC & pval\\_allelic & fdr\\_allelic\\\\\n",
       " <chr> & <dbl> & <dbl> & <dbl> & <dbl> & <dbl> & <dbl> & <lgl> & <lgl> & <dbl> & <dbl> & <dbl>\\\\\n",
       "\\hline\n",
       "\t rs11583631 & 1.425401 & 1.328563 & 0.5113677 & 0.4098670 & -0.098448693 & -0.30463779 & FALSE &    NA & -0.04727376 & 6.748780e-01 &           NA\\\\\n",
       "\t rs11584419 & 1.476491 & 1.412684 & 0.5621723 & 0.4984384 &  0.004756118 & -0.12471339 & FALSE &    NA &  0.04456964 & 6.565204e-01 &           NA\\\\\n",
       "\t rs749435   & 2.005698 & 2.140291 & 1.0041041 & 1.0978068 &  0.902498810 &  1.09284713 &  TRUE &  TRUE & -0.06529871 & 8.405816e-02 & 1.350025e-01\\\\\n",
       "\t rs3789524  & 1.422514 & 1.491660 & 0.5084428 & 0.5769184 & -0.104390459 &  0.03471129 &  TRUE &  TRUE &  0.04192126 & 1.242780e-03 & 3.609169e-03\\\\\n",
       "\t rs3789522  & 1.602634 & 1.360524 & 0.6804446 & 0.4441627 &  0.245015024 & -0.23496934 &  TRUE &  TRUE & -0.16202368 & 2.199461e-19 & 3.108571e-18\\\\\n",
       "\t rs11121478 & 1.132672 & 1.146398 & 0.1797297 & 0.1971084 & -0.772140080 & -0.73683690 &  TRUE & FALSE & -0.17450039 & 3.369730e-02 &           NA\\\\\n",
       "\\end{tabular}\n"
      ],
      "text/markdown": [
       "\n",
       "A tibble: 6 × 12\n",
       "\n",
       "| snp &lt;chr&gt; | alpha_ref &lt;dbl&gt; | alpha_alt &lt;dbl&gt; | log2a_ref &lt;dbl&gt; | log2a_alt &lt;dbl&gt; | zscore_ref &lt;dbl&gt; | zscore_alt &lt;dbl&gt; | DNA_CPM_QC &lt;lgl&gt; | is_enhancer &lt;lgl&gt; | logFC &lt;dbl&gt; | pval_allelic &lt;dbl&gt; | fdr_allelic &lt;dbl&gt; |\n",
       "|---|---|---|---|---|---|---|---|---|---|---|---|\n",
       "| rs11583631 | 1.425401 | 1.328563 | 0.5113677 | 0.4098670 | -0.098448693 | -0.30463779 | FALSE |    NA | -0.04727376 | 6.748780e-01 |           NA |\n",
       "| rs11584419 | 1.476491 | 1.412684 | 0.5621723 | 0.4984384 |  0.004756118 | -0.12471339 | FALSE |    NA |  0.04456964 | 6.565204e-01 |           NA |\n",
       "| rs749435   | 2.005698 | 2.140291 | 1.0041041 | 1.0978068 |  0.902498810 |  1.09284713 |  TRUE |  TRUE | -0.06529871 | 8.405816e-02 | 1.350025e-01 |\n",
       "| rs3789524  | 1.422514 | 1.491660 | 0.5084428 | 0.5769184 | -0.104390459 |  0.03471129 |  TRUE |  TRUE |  0.04192126 | 1.242780e-03 | 3.609169e-03 |\n",
       "| rs3789522  | 1.602634 | 1.360524 | 0.6804446 | 0.4441627 |  0.245015024 | -0.23496934 |  TRUE |  TRUE | -0.16202368 | 2.199461e-19 | 3.108571e-18 |\n",
       "| rs11121478 | 1.132672 | 1.146398 | 0.1797297 | 0.1971084 | -0.772140080 | -0.73683690 |  TRUE | FALSE | -0.17450039 | 3.369730e-02 |           NA |\n",
       "\n"
      ],
      "text/plain": [
       "  snp        alpha_ref alpha_alt log2a_ref log2a_alt zscore_ref   zscore_alt \n",
       "1 rs11583631 1.425401  1.328563  0.5113677 0.4098670 -0.098448693 -0.30463779\n",
       "2 rs11584419 1.476491  1.412684  0.5621723 0.4984384  0.004756118 -0.12471339\n",
       "3 rs749435   2.005698  2.140291  1.0041041 1.0978068  0.902498810  1.09284713\n",
       "4 rs3789524  1.422514  1.491660  0.5084428 0.5769184 -0.104390459  0.03471129\n",
       "5 rs3789522  1.602634  1.360524  0.6804446 0.4441627  0.245015024 -0.23496934\n",
       "6 rs11121478 1.132672  1.146398  0.1797297 0.1971084 -0.772140080 -0.73683690\n",
       "  DNA_CPM_QC is_enhancer logFC       pval_allelic fdr_allelic \n",
       "1 FALSE         NA       -0.04727376 6.748780e-01           NA\n",
       "2 FALSE         NA        0.04456964 6.565204e-01           NA\n",
       "3  TRUE       TRUE       -0.06529871 8.405816e-02 1.350025e-01\n",
       "4  TRUE       TRUE        0.04192126 1.242780e-03 3.609169e-03\n",
       "5  TRUE       TRUE       -0.16202368 2.199461e-19 3.108571e-18\n",
       "6  TRUE      FALSE       -0.17450039 3.369730e-02           NA"
      ]
     },
     "metadata": {},
     "output_type": "display_data"
    }
   ],
   "source": [
    "head(pool)"
   ]
  },
  {
   "cell_type": "code",
   "execution_count": 25,
   "id": "47bd0a3b-3998-479d-87d2-204a59952400",
   "metadata": {
    "execution": {
     "iopub.execute_input": "2025-03-21T00:47:17.953532Z",
     "iopub.status.busy": "2025-03-21T00:47:17.952322Z",
     "iopub.status.idle": "2025-03-21T00:47:17.966731Z",
     "shell.execute_reply": "2025-03-21T00:47:17.965349Z"
    }
   },
   "outputs": [
    {
     "data": {
      "text/html": [
       "85"
      ],
      "text/latex": [
       "85"
      ],
      "text/markdown": [
       "85"
      ],
      "text/plain": [
       "[1] 85"
      ]
     },
     "metadata": {},
     "output_type": "display_data"
    }
   ],
   "source": [
    "# find number of elements that are significant with FDR <= 0.05\n",
    "sum(pool$fdr_allelic<=0.01, na.rm=TRUE)"
   ]
  },
  {
   "cell_type": "code",
   "execution_count": 26,
   "id": "bb030b08-c013-4635-a67d-bbc3ba0b7205",
   "metadata": {
    "execution": {
     "iopub.execute_input": "2025-03-21T00:47:17.970584Z",
     "iopub.status.busy": "2025-03-21T00:47:17.969391Z",
     "iopub.status.idle": "2025-03-21T00:47:18.002804Z",
     "shell.execute_reply": "2025-03-21T00:47:18.001435Z"
    }
   },
   "outputs": [],
   "source": [
    "# find allelic significance\n",
    "pool_all <- pool %>% filter(is_enhancer) %>% mutate(is_allelic = (fdr_allelic <= 0.01) & (abs(logFC)>=log(1.1)))\n",
    "pool1 <- pool %>% left_join(select(pool_all, c(snp, is_allelic)), by = \"snp\")"
   ]
  },
  {
   "cell_type": "code",
   "execution_count": 27,
   "id": "1f6f8e42-6308-4592-87cf-1de78da87ea1",
   "metadata": {
    "execution": {
     "iopub.execute_input": "2025-03-21T00:47:18.006217Z",
     "iopub.status.busy": "2025-03-21T00:47:18.005243Z",
     "iopub.status.idle": "2025-03-21T00:47:18.031170Z",
     "shell.execute_reply": "2025-03-21T00:47:18.029978Z"
    }
   },
   "outputs": [],
   "source": [
    "# save enhancer and allelic significance results\n",
    "write.table(pool1, \"../results/pool1_final_result.txt\", \n",
    "            sep=\"\\t\", quote = FALSE, row.names = FALSE, col.names = TRUE)"
   ]
  },
  {
   "cell_type": "markdown",
   "id": "b45fd7b4-155d-4cd5-89c2-1dbf021150b2",
   "metadata": {},
   "source": [
    "## Pool 2"
   ]
  },
  {
   "cell_type": "code",
   "execution_count": 28,
   "id": "8e14a552-c056-45f1-b2c0-f8c8d2223845",
   "metadata": {
    "execution": {
     "iopub.execute_input": "2025-03-21T00:47:18.034484Z",
     "iopub.status.busy": "2025-03-21T00:47:18.033517Z",
     "iopub.status.idle": "2025-03-21T00:47:18.066091Z",
     "shell.execute_reply": "2025-03-21T00:47:18.064610Z"
    }
   },
   "outputs": [],
   "source": [
    "# load MPRAObjects\n",
    "pool_alpha <- read.table(\"../results/pool2_mpranalyze_results.txt\")"
   ]
  },
  {
   "cell_type": "code",
   "execution_count": 29,
   "id": "759ee2f3-5e78-41c4-8b6b-1ef98764eecf",
   "metadata": {
    "execution": {
     "iopub.execute_input": "2025-03-21T00:47:18.070143Z",
     "iopub.status.busy": "2025-03-21T00:47:18.068942Z",
     "iopub.status.idle": "2025-03-21T00:47:18.089559Z",
     "shell.execute_reply": "2025-03-21T00:47:18.088374Z"
    }
   },
   "outputs": [],
   "source": [
    "# load DNA CPM counts\n",
    "pool_cpm <- read.table(\"../results/pool2_dna_counts_cpm.txt\")"
   ]
  },
  {
   "cell_type": "code",
   "execution_count": 30,
   "id": "a8b7bb18-355e-42e7-bce1-4c2952b12a0a",
   "metadata": {
    "execution": {
     "iopub.execute_input": "2025-03-21T00:47:18.092837Z",
     "iopub.status.busy": "2025-03-21T00:47:18.091853Z",
     "iopub.status.idle": "2025-03-21T00:47:18.109007Z",
     "shell.execute_reply": "2025-03-21T00:47:18.107841Z"
    }
   },
   "outputs": [],
   "source": [
    "# load results from allelic significance\n",
    "pool_allelic <- read.table(\"../results/pool2_mpranalyze_allelic_results_merged.txt\", header=TRUE)"
   ]
  },
  {
   "cell_type": "code",
   "execution_count": 31,
   "id": "d5e3b39e-509c-451f-bf9b-dcc4d873d64d",
   "metadata": {
    "execution": {
     "iopub.execute_input": "2025-03-21T00:47:18.112281Z",
     "iopub.status.busy": "2025-03-21T00:47:18.111299Z",
     "iopub.status.idle": "2025-03-21T00:47:18.128443Z",
     "shell.execute_reply": "2025-03-21T00:47:18.127116Z"
    }
   },
   "outputs": [
    {
     "data": {
      "text/html": [
       "<table class=\"dataframe\">\n",
       "<caption>A data.frame: 6 × 3</caption>\n",
       "<thead>\n",
       "\t<tr><th></th><th scope=col>snp</th><th scope=col>type</th><th scope=col>alpha</th></tr>\n",
       "\t<tr><th></th><th scope=col>&lt;chr&gt;</th><th scope=col>&lt;chr&gt;</th><th scope=col>&lt;dbl&gt;</th></tr>\n",
       "</thead>\n",
       "<tbody>\n",
       "\t<tr><th scope=row>1</th><td>rs67190025</td><td>ref</td><td>1.0790228</td></tr>\n",
       "\t<tr><th scope=row>2</th><td>rs67190025</td><td>alt</td><td>1.1311419</td></tr>\n",
       "\t<tr><th scope=row>3</th><td>rs7580924 </td><td>ref</td><td>1.0332542</td></tr>\n",
       "\t<tr><th scope=row>4</th><td>rs7580924 </td><td>alt</td><td>0.8341374</td></tr>\n",
       "\t<tr><th scope=row>5</th><td>rs13028959</td><td>ref</td><td>0.9788775</td></tr>\n",
       "\t<tr><th scope=row>6</th><td>rs13028959</td><td>alt</td><td>0.9754385</td></tr>\n",
       "</tbody>\n",
       "</table>\n"
      ],
      "text/latex": [
       "A data.frame: 6 × 3\n",
       "\\begin{tabular}{r|lll}\n",
       "  & snp & type & alpha\\\\\n",
       "  & <chr> & <chr> & <dbl>\\\\\n",
       "\\hline\n",
       "\t1 & rs67190025 & ref & 1.0790228\\\\\n",
       "\t2 & rs67190025 & alt & 1.1311419\\\\\n",
       "\t3 & rs7580924  & ref & 1.0332542\\\\\n",
       "\t4 & rs7580924  & alt & 0.8341374\\\\\n",
       "\t5 & rs13028959 & ref & 0.9788775\\\\\n",
       "\t6 & rs13028959 & alt & 0.9754385\\\\\n",
       "\\end{tabular}\n"
      ],
      "text/markdown": [
       "\n",
       "A data.frame: 6 × 3\n",
       "\n",
       "| <!--/--> | snp &lt;chr&gt; | type &lt;chr&gt; | alpha &lt;dbl&gt; |\n",
       "|---|---|---|---|\n",
       "| 1 | rs67190025 | ref | 1.0790228 |\n",
       "| 2 | rs67190025 | alt | 1.1311419 |\n",
       "| 3 | rs7580924  | ref | 1.0332542 |\n",
       "| 4 | rs7580924  | alt | 0.8341374 |\n",
       "| 5 | rs13028959 | ref | 0.9788775 |\n",
       "| 6 | rs13028959 | alt | 0.9754385 |\n",
       "\n"
      ],
      "text/plain": [
       "  snp        type alpha    \n",
       "1 rs67190025 ref  1.0790228\n",
       "2 rs67190025 alt  1.1311419\n",
       "3 rs7580924  ref  1.0332542\n",
       "4 rs7580924  alt  0.8341374\n",
       "5 rs13028959 ref  0.9788775\n",
       "6 rs13028959 alt  0.9754385"
      ]
     },
     "metadata": {},
     "output_type": "display_data"
    }
   ],
   "source": [
    "head(pool_alpha)"
   ]
  },
  {
   "cell_type": "code",
   "execution_count": 32,
   "id": "8e30f30a-3a03-4da4-8504-328d6088fe8e",
   "metadata": {
    "execution": {
     "iopub.execute_input": "2025-03-21T00:47:18.131726Z",
     "iopub.status.busy": "2025-03-21T00:47:18.130743Z",
     "iopub.status.idle": "2025-03-21T00:47:18.153567Z",
     "shell.execute_reply": "2025-03-21T00:47:18.152389Z"
    }
   },
   "outputs": [
    {
     "data": {
      "text/html": [
       "<table class=\"dataframe\">\n",
       "<caption>A data.frame: 6 × 15</caption>\n",
       "<thead>\n",
       "\t<tr><th></th><th scope=col>chrom</th><th scope=col>hg19_pos</th><th scope=col>snp</th><th scope=col>allele</th><th scope=col>mutation</th><th scope=col>testcre</th><th scope=col>V1_DNA_ref_count</th><th scope=col>V1_DNA_alt_count</th><th scope=col>V2_DNA_ref_count</th><th scope=col>V2_DNA_alt_count</th><th scope=col>V1_DNA_ref_CPM</th><th scope=col>V1_DNA_alt_CPM</th><th scope=col>V2_DNA_ref_CPM</th><th scope=col>V2_DNA_alt_CPM</th><th scope=col>DNA_CPM_QC</th></tr>\n",
       "\t<tr><th></th><th scope=col>&lt;chr&gt;</th><th scope=col>&lt;int&gt;</th><th scope=col>&lt;chr&gt;</th><th scope=col>&lt;chr&gt;</th><th scope=col>&lt;chr&gt;</th><th scope=col>&lt;chr&gt;</th><th scope=col>&lt;int&gt;</th><th scope=col>&lt;int&gt;</th><th scope=col>&lt;int&gt;</th><th scope=col>&lt;int&gt;</th><th scope=col>&lt;dbl&gt;</th><th scope=col>&lt;dbl&gt;</th><th scope=col>&lt;dbl&gt;</th><th scope=col>&lt;dbl&gt;</th><th scope=col>&lt;lgl&gt;</th></tr>\n",
       "</thead>\n",
       "<tbody>\n",
       "\t<tr><th scope=row>1</th><td>chr2</td><td>201172086</td><td>rs67190025 </td><td>C</td><td>T  </td><td>chr2_201172085_rs67190025_C_T   </td><td>   21</td><td>   36</td><td>  307</td><td>  295</td><td>   2.920649</td><td>   5.006827</td><td>   9.546576</td><td>   9.17342</td><td>TRUE</td></tr>\n",
       "\t<tr><th scope=row>2</th><td>chr2</td><td>201172628</td><td>rs7580924  </td><td>G</td><td>C  </td><td>chr2_201172627_rs7580924_G_C    </td><td>  245</td><td>  263</td><td>  868</td><td> 1119</td><td>  34.074242</td><td>  36.577655</td><td>  26.991623</td><td>  34.79680</td><td>TRUE</td></tr>\n",
       "\t<tr><th scope=row>3</th><td>chr2</td><td>201185919</td><td>rs13028959 </td><td>C</td><td>A  </td><td>chr2_201185918_rs13028959_C_A   </td><td> 5321</td><td> 4688</td><td>19770</td><td>16641</td><td> 740.036900</td><td> 652.000186</td><td> 614.774649</td><td> 517.47420</td><td>TRUE</td></tr>\n",
       "\t<tr><th scope=row>4</th><td>chr2</td><td>201194504</td><td>rs112467613</td><td>C</td><td>CAA</td><td>chr2_201194503_rs112467613_C_CAA</td><td>21922</td><td>17420</td><td>79508</td><td>68046</td><td>3048.879708</td><td>2422.748131</td><td>2472.407829</td><td>2115.98158</td><td>TRUE</td></tr>\n",
       "\t<tr><th scope=row>5</th><td>chr3</td><td> 38417345</td><td>rs196378   </td><td>G</td><td>C  </td><td>chr3_38417344_rs196378_G_C      </td><td>  155</td><td>  138</td><td> 1087</td><td>  667</td><td>  21.557173</td><td>  19.192838</td><td>  33.801722</td><td>  20.74126</td><td>TRUE</td></tr>\n",
       "\t<tr><th scope=row>6</th><td>chr3</td><td> 38417367</td><td>rs169046   </td><td>T</td><td>C  </td><td>chr3_38417366_rs169046_T_C      </td><td>  277</td><td>  188</td><td> 1586</td><td> 1383</td><td>  38.524755</td><td>  26.146765</td><td>  49.318796</td><td>  43.00624</td><td>TRUE</td></tr>\n",
       "</tbody>\n",
       "</table>\n"
      ],
      "text/latex": [
       "A data.frame: 6 × 15\n",
       "\\begin{tabular}{r|lllllllllllllll}\n",
       "  & chrom & hg19\\_pos & snp & allele & mutation & testcre & V1\\_DNA\\_ref\\_count & V1\\_DNA\\_alt\\_count & V2\\_DNA\\_ref\\_count & V2\\_DNA\\_alt\\_count & V1\\_DNA\\_ref\\_CPM & V1\\_DNA\\_alt\\_CPM & V2\\_DNA\\_ref\\_CPM & V2\\_DNA\\_alt\\_CPM & DNA\\_CPM\\_QC\\\\\n",
       "  & <chr> & <int> & <chr> & <chr> & <chr> & <chr> & <int> & <int> & <int> & <int> & <dbl> & <dbl> & <dbl> & <dbl> & <lgl>\\\\\n",
       "\\hline\n",
       "\t1 & chr2 & 201172086 & rs67190025  & C & T   & chr2\\_201172085\\_rs67190025\\_C\\_T    &    21 &    36 &   307 &   295 &    2.920649 &    5.006827 &    9.546576 &    9.17342 & TRUE\\\\\n",
       "\t2 & chr2 & 201172628 & rs7580924   & G & C   & chr2\\_201172627\\_rs7580924\\_G\\_C     &   245 &   263 &   868 &  1119 &   34.074242 &   36.577655 &   26.991623 &   34.79680 & TRUE\\\\\n",
       "\t3 & chr2 & 201185919 & rs13028959  & C & A   & chr2\\_201185918\\_rs13028959\\_C\\_A    &  5321 &  4688 & 19770 & 16641 &  740.036900 &  652.000186 &  614.774649 &  517.47420 & TRUE\\\\\n",
       "\t4 & chr2 & 201194504 & rs112467613 & C & CAA & chr2\\_201194503\\_rs112467613\\_C\\_CAA & 21922 & 17420 & 79508 & 68046 & 3048.879708 & 2422.748131 & 2472.407829 & 2115.98158 & TRUE\\\\\n",
       "\t5 & chr3 &  38417345 & rs196378    & G & C   & chr3\\_38417344\\_rs196378\\_G\\_C       &   155 &   138 &  1087 &   667 &   21.557173 &   19.192838 &   33.801722 &   20.74126 & TRUE\\\\\n",
       "\t6 & chr3 &  38417367 & rs169046    & T & C   & chr3\\_38417366\\_rs169046\\_T\\_C       &   277 &   188 &  1586 &  1383 &   38.524755 &   26.146765 &   49.318796 &   43.00624 & TRUE\\\\\n",
       "\\end{tabular}\n"
      ],
      "text/markdown": [
       "\n",
       "A data.frame: 6 × 15\n",
       "\n",
       "| <!--/--> | chrom &lt;chr&gt; | hg19_pos &lt;int&gt; | snp &lt;chr&gt; | allele &lt;chr&gt; | mutation &lt;chr&gt; | testcre &lt;chr&gt; | V1_DNA_ref_count &lt;int&gt; | V1_DNA_alt_count &lt;int&gt; | V2_DNA_ref_count &lt;int&gt; | V2_DNA_alt_count &lt;int&gt; | V1_DNA_ref_CPM &lt;dbl&gt; | V1_DNA_alt_CPM &lt;dbl&gt; | V2_DNA_ref_CPM &lt;dbl&gt; | V2_DNA_alt_CPM &lt;dbl&gt; | DNA_CPM_QC &lt;lgl&gt; |\n",
       "|---|---|---|---|---|---|---|---|---|---|---|---|---|---|---|---|\n",
       "| 1 | chr2 | 201172086 | rs67190025  | C | T   | chr2_201172085_rs67190025_C_T    |    21 |    36 |   307 |   295 |    2.920649 |    5.006827 |    9.546576 |    9.17342 | TRUE |\n",
       "| 2 | chr2 | 201172628 | rs7580924   | G | C   | chr2_201172627_rs7580924_G_C     |   245 |   263 |   868 |  1119 |   34.074242 |   36.577655 |   26.991623 |   34.79680 | TRUE |\n",
       "| 3 | chr2 | 201185919 | rs13028959  | C | A   | chr2_201185918_rs13028959_C_A    |  5321 |  4688 | 19770 | 16641 |  740.036900 |  652.000186 |  614.774649 |  517.47420 | TRUE |\n",
       "| 4 | chr2 | 201194504 | rs112467613 | C | CAA | chr2_201194503_rs112467613_C_CAA | 21922 | 17420 | 79508 | 68046 | 3048.879708 | 2422.748131 | 2472.407829 | 2115.98158 | TRUE |\n",
       "| 5 | chr3 |  38417345 | rs196378    | G | C   | chr3_38417344_rs196378_G_C       |   155 |   138 |  1087 |   667 |   21.557173 |   19.192838 |   33.801722 |   20.74126 | TRUE |\n",
       "| 6 | chr3 |  38417367 | rs169046    | T | C   | chr3_38417366_rs169046_T_C       |   277 |   188 |  1586 |  1383 |   38.524755 |   26.146765 |   49.318796 |   43.00624 | TRUE |\n",
       "\n"
      ],
      "text/plain": [
       "  chrom hg19_pos  snp         allele mutation testcre                         \n",
       "1 chr2  201172086 rs67190025  C      T        chr2_201172085_rs67190025_C_T   \n",
       "2 chr2  201172628 rs7580924   G      C        chr2_201172627_rs7580924_G_C    \n",
       "3 chr2  201185919 rs13028959  C      A        chr2_201185918_rs13028959_C_A   \n",
       "4 chr2  201194504 rs112467613 C      CAA      chr2_201194503_rs112467613_C_CAA\n",
       "5 chr3   38417345 rs196378    G      C        chr3_38417344_rs196378_G_C      \n",
       "6 chr3   38417367 rs169046    T      C        chr3_38417366_rs169046_T_C      \n",
       "  V1_DNA_ref_count V1_DNA_alt_count V2_DNA_ref_count V2_DNA_alt_count\n",
       "1    21               36              307              295           \n",
       "2   245              263              868             1119           \n",
       "3  5321             4688            19770            16641           \n",
       "4 21922            17420            79508            68046           \n",
       "5   155              138             1087              667           \n",
       "6   277              188             1586             1383           \n",
       "  V1_DNA_ref_CPM V1_DNA_alt_CPM V2_DNA_ref_CPM V2_DNA_alt_CPM DNA_CPM_QC\n",
       "1    2.920649       5.006827       9.546576       9.17342     TRUE      \n",
       "2   34.074242      36.577655      26.991623      34.79680     TRUE      \n",
       "3  740.036900     652.000186     614.774649     517.47420     TRUE      \n",
       "4 3048.879708    2422.748131    2472.407829    2115.98158     TRUE      \n",
       "5   21.557173      19.192838      33.801722      20.74126     TRUE      \n",
       "6   38.524755      26.146765      49.318796      43.00624     TRUE      "
      ]
     },
     "metadata": {},
     "output_type": "display_data"
    }
   ],
   "source": [
    "head(pool_cpm)"
   ]
  },
  {
   "cell_type": "code",
   "execution_count": 33,
   "id": "5173cbfa-8cf3-4751-a14c-e9298d8e6ef5",
   "metadata": {
    "execution": {
     "iopub.execute_input": "2025-03-21T00:47:18.156845Z",
     "iopub.status.busy": "2025-03-21T00:47:18.155852Z",
     "iopub.status.idle": "2025-03-21T00:47:18.172906Z",
     "shell.execute_reply": "2025-03-21T00:47:18.171718Z"
    }
   },
   "outputs": [
    {
     "data": {
      "text/html": [
       "<table class=\"dataframe\">\n",
       "<caption>A data.frame: 6 × 4</caption>\n",
       "<thead>\n",
       "\t<tr><th></th><th scope=col>snp</th><th scope=col>logFC</th><th scope=col>lrt_pval</th><th scope=col>lrt_nlog10_pval</th></tr>\n",
       "\t<tr><th></th><th scope=col>&lt;chr&gt;</th><th scope=col>&lt;dbl&gt;</th><th scope=col>&lt;dbl&gt;</th><th scope=col>&lt;dbl&gt;</th></tr>\n",
       "</thead>\n",
       "<tbody>\n",
       "\t<tr><th scope=row>1</th><td>rs67190025 </td><td> 0.0433978350</td><td>6.931219e-01</td><td> 0.15919041</td></tr>\n",
       "\t<tr><th scope=row>2</th><td>rs7580924  </td><td>-0.0920718548</td><td>1.678202e-01</td><td> 0.77515582</td></tr>\n",
       "\t<tr><th scope=row>3</th><td>rs13028959 </td><td> 0.0006139366</td><td>8.018869e-01</td><td> 0.09588687</td></tr>\n",
       "\t<tr><th scope=row>4</th><td>rs112467613</td><td> 0.1170404404</td><td>2.861114e-29</td><td>28.54346476</td></tr>\n",
       "\t<tr><th scope=row>5</th><td>rs196378   </td><td>-0.0951442512</td><td>1.688483e-01</td><td> 0.77250318</td></tr>\n",
       "\t<tr><th scope=row>6</th><td>rs169046   </td><td> 0.3165248123</td><td>2.197575e-06</td><td> 5.65805630</td></tr>\n",
       "</tbody>\n",
       "</table>\n"
      ],
      "text/latex": [
       "A data.frame: 6 × 4\n",
       "\\begin{tabular}{r|llll}\n",
       "  & snp & logFC & lrt\\_pval & lrt\\_nlog10\\_pval\\\\\n",
       "  & <chr> & <dbl> & <dbl> & <dbl>\\\\\n",
       "\\hline\n",
       "\t1 & rs67190025  &  0.0433978350 & 6.931219e-01 &  0.15919041\\\\\n",
       "\t2 & rs7580924   & -0.0920718548 & 1.678202e-01 &  0.77515582\\\\\n",
       "\t3 & rs13028959  &  0.0006139366 & 8.018869e-01 &  0.09588687\\\\\n",
       "\t4 & rs112467613 &  0.1170404404 & 2.861114e-29 & 28.54346476\\\\\n",
       "\t5 & rs196378    & -0.0951442512 & 1.688483e-01 &  0.77250318\\\\\n",
       "\t6 & rs169046    &  0.3165248123 & 2.197575e-06 &  5.65805630\\\\\n",
       "\\end{tabular}\n"
      ],
      "text/markdown": [
       "\n",
       "A data.frame: 6 × 4\n",
       "\n",
       "| <!--/--> | snp &lt;chr&gt; | logFC &lt;dbl&gt; | lrt_pval &lt;dbl&gt; | lrt_nlog10_pval &lt;dbl&gt; |\n",
       "|---|---|---|---|---|\n",
       "| 1 | rs67190025  |  0.0433978350 | 6.931219e-01 |  0.15919041 |\n",
       "| 2 | rs7580924   | -0.0920718548 | 1.678202e-01 |  0.77515582 |\n",
       "| 3 | rs13028959  |  0.0006139366 | 8.018869e-01 |  0.09588687 |\n",
       "| 4 | rs112467613 |  0.1170404404 | 2.861114e-29 | 28.54346476 |\n",
       "| 5 | rs196378    | -0.0951442512 | 1.688483e-01 |  0.77250318 |\n",
       "| 6 | rs169046    |  0.3165248123 | 2.197575e-06 |  5.65805630 |\n",
       "\n"
      ],
      "text/plain": [
       "  snp         logFC         lrt_pval     lrt_nlog10_pval\n",
       "1 rs67190025   0.0433978350 6.931219e-01  0.15919041    \n",
       "2 rs7580924   -0.0920718548 1.678202e-01  0.77515582    \n",
       "3 rs13028959   0.0006139366 8.018869e-01  0.09588687    \n",
       "4 rs112467613  0.1170404404 2.861114e-29 28.54346476    \n",
       "5 rs196378    -0.0951442512 1.688483e-01  0.77250318    \n",
       "6 rs169046     0.3165248123 2.197575e-06  5.65805630    "
      ]
     },
     "metadata": {},
     "output_type": "display_data"
    }
   ],
   "source": [
    "head(pool_allelic)"
   ]
  },
  {
   "cell_type": "code",
   "execution_count": 34,
   "id": "5454b6bf-db5f-4946-a426-47820257c0f4",
   "metadata": {
    "execution": {
     "iopub.execute_input": "2025-03-21T00:47:18.176197Z",
     "iopub.status.busy": "2025-03-21T00:47:18.175202Z",
     "iopub.status.idle": "2025-03-21T00:47:18.191577Z",
     "shell.execute_reply": "2025-03-21T00:47:18.190395Z"
    }
   },
   "outputs": [
    {
     "data": {
      "text/html": [
       "<table class=\"dataframe\">\n",
       "<caption>A data.frame: 6 × 3</caption>\n",
       "<thead>\n",
       "\t<tr><th></th><th scope=col>snp</th><th scope=col>type</th><th scope=col>alpha</th></tr>\n",
       "\t<tr><th></th><th scope=col>&lt;chr&gt;</th><th scope=col>&lt;chr&gt;</th><th scope=col>&lt;dbl&gt;</th></tr>\n",
       "</thead>\n",
       "<tbody>\n",
       "\t<tr><th scope=row>1</th><td>rs67190025</td><td>ref</td><td>1.0790228</td></tr>\n",
       "\t<tr><th scope=row>2</th><td>rs67190025</td><td>alt</td><td>1.1311419</td></tr>\n",
       "\t<tr><th scope=row>3</th><td>rs7580924 </td><td>ref</td><td>1.0332542</td></tr>\n",
       "\t<tr><th scope=row>4</th><td>rs7580924 </td><td>alt</td><td>0.8341374</td></tr>\n",
       "\t<tr><th scope=row>5</th><td>rs13028959</td><td>ref</td><td>0.9788775</td></tr>\n",
       "\t<tr><th scope=row>6</th><td>rs13028959</td><td>alt</td><td>0.9754385</td></tr>\n",
       "</tbody>\n",
       "</table>\n"
      ],
      "text/latex": [
       "A data.frame: 6 × 3\n",
       "\\begin{tabular}{r|lll}\n",
       "  & snp & type & alpha\\\\\n",
       "  & <chr> & <chr> & <dbl>\\\\\n",
       "\\hline\n",
       "\t1 & rs67190025 & ref & 1.0790228\\\\\n",
       "\t2 & rs67190025 & alt & 1.1311419\\\\\n",
       "\t3 & rs7580924  & ref & 1.0332542\\\\\n",
       "\t4 & rs7580924  & alt & 0.8341374\\\\\n",
       "\t5 & rs13028959 & ref & 0.9788775\\\\\n",
       "\t6 & rs13028959 & alt & 0.9754385\\\\\n",
       "\\end{tabular}\n"
      ],
      "text/markdown": [
       "\n",
       "A data.frame: 6 × 3\n",
       "\n",
       "| <!--/--> | snp &lt;chr&gt; | type &lt;chr&gt; | alpha &lt;dbl&gt; |\n",
       "|---|---|---|---|\n",
       "| 1 | rs67190025 | ref | 1.0790228 |\n",
       "| 2 | rs67190025 | alt | 1.1311419 |\n",
       "| 3 | rs7580924  | ref | 1.0332542 |\n",
       "| 4 | rs7580924  | alt | 0.8341374 |\n",
       "| 5 | rs13028959 | ref | 0.9788775 |\n",
       "| 6 | rs13028959 | alt | 0.9754385 |\n",
       "\n"
      ],
      "text/plain": [
       "  snp        type alpha    \n",
       "1 rs67190025 ref  1.0790228\n",
       "2 rs67190025 alt  1.1311419\n",
       "3 rs7580924  ref  1.0332542\n",
       "4 rs7580924  alt  0.8341374\n",
       "5 rs13028959 ref  0.9788775\n",
       "6 rs13028959 alt  0.9754385"
      ]
     },
     "metadata": {},
     "output_type": "display_data"
    }
   ],
   "source": [
    "head(pool_alpha)"
   ]
  },
  {
   "cell_type": "code",
   "execution_count": 35,
   "id": "81b50e49-f1c2-4999-a5b1-00819a86b464",
   "metadata": {
    "execution": {
     "iopub.execute_input": "2025-03-21T00:47:18.194844Z",
     "iopub.status.busy": "2025-03-21T00:47:18.193870Z",
     "iopub.status.idle": "2025-03-21T00:47:18.204531Z",
     "shell.execute_reply": "2025-03-21T00:47:18.203356Z"
    }
   },
   "outputs": [],
   "source": [
    "# log-transform alpha values\n",
    "pool_alpha <- pool_alpha %>% mutate(log2a = log2(alpha))"
   ]
  },
  {
   "cell_type": "code",
   "execution_count": 36,
   "id": "c3b9b8a9-b700-469c-94a3-992c45368566",
   "metadata": {
    "execution": {
     "iopub.execute_input": "2025-03-21T00:47:18.207802Z",
     "iopub.status.busy": "2025-03-21T00:47:18.206810Z",
     "iopub.status.idle": "2025-03-21T00:47:18.217382Z",
     "shell.execute_reply": "2025-03-21T00:47:18.216204Z"
    }
   },
   "outputs": [],
   "source": [
    "# calculate z-score with alpha\n",
    "pool_alpha <- pool_alpha %>% mutate(zscore = (log2a - mean(log2a)) / sd(log2a))"
   ]
  },
  {
   "cell_type": "code",
   "execution_count": 37,
   "id": "372f7022-d87c-47b4-b557-4cefcd00aaf7",
   "metadata": {
    "execution": {
     "iopub.execute_input": "2025-03-21T00:47:18.220824Z",
     "iopub.status.busy": "2025-03-21T00:47:18.219838Z",
     "iopub.status.idle": "2025-03-21T00:47:18.237578Z",
     "shell.execute_reply": "2025-03-21T00:47:18.236389Z"
    }
   },
   "outputs": [
    {
     "data": {
      "text/html": [
       "<table class=\"dataframe\">\n",
       "<caption>A data.frame: 6 × 5</caption>\n",
       "<thead>\n",
       "\t<tr><th></th><th scope=col>snp</th><th scope=col>type</th><th scope=col>alpha</th><th scope=col>log2a</th><th scope=col>zscore</th></tr>\n",
       "\t<tr><th></th><th scope=col>&lt;chr&gt;</th><th scope=col>&lt;chr&gt;</th><th scope=col>&lt;dbl&gt;</th><th scope=col>&lt;dbl&gt;</th><th scope=col>&lt;dbl&gt;</th></tr>\n",
       "</thead>\n",
       "<tbody>\n",
       "\t<tr><th scope=row>1</th><td>rs67190025</td><td>ref</td><td>1.0790228</td><td> 0.10972531</td><td> 0.14461201</td></tr>\n",
       "\t<tr><th scope=row>2</th><td>rs67190025</td><td>alt</td><td>1.1311419</td><td> 0.17777993</td><td> 0.32379097</td></tr>\n",
       "\t<tr><th scope=row>3</th><td>rs7580924 </td><td>ref</td><td>1.0332542</td><td> 0.04719521</td><td>-0.02002163</td></tr>\n",
       "\t<tr><th scope=row>4</th><td>rs7580924 </td><td>alt</td><td>0.8341374</td><td>-0.26164312</td><td>-0.83315286</td></tr>\n",
       "\t<tr><th scope=row>5</th><td>rs13028959</td><td>ref</td><td>0.9788775</td><td>-0.03079980</td><td>-0.22537238</td></tr>\n",
       "\t<tr><th scope=row>6</th><td>rs13028959</td><td>alt</td><td>0.9754385</td><td>-0.03587719</td><td>-0.23874048</td></tr>\n",
       "</tbody>\n",
       "</table>\n"
      ],
      "text/latex": [
       "A data.frame: 6 × 5\n",
       "\\begin{tabular}{r|lllll}\n",
       "  & snp & type & alpha & log2a & zscore\\\\\n",
       "  & <chr> & <chr> & <dbl> & <dbl> & <dbl>\\\\\n",
       "\\hline\n",
       "\t1 & rs67190025 & ref & 1.0790228 &  0.10972531 &  0.14461201\\\\\n",
       "\t2 & rs67190025 & alt & 1.1311419 &  0.17777993 &  0.32379097\\\\\n",
       "\t3 & rs7580924  & ref & 1.0332542 &  0.04719521 & -0.02002163\\\\\n",
       "\t4 & rs7580924  & alt & 0.8341374 & -0.26164312 & -0.83315286\\\\\n",
       "\t5 & rs13028959 & ref & 0.9788775 & -0.03079980 & -0.22537238\\\\\n",
       "\t6 & rs13028959 & alt & 0.9754385 & -0.03587719 & -0.23874048\\\\\n",
       "\\end{tabular}\n"
      ],
      "text/markdown": [
       "\n",
       "A data.frame: 6 × 5\n",
       "\n",
       "| <!--/--> | snp &lt;chr&gt; | type &lt;chr&gt; | alpha &lt;dbl&gt; | log2a &lt;dbl&gt; | zscore &lt;dbl&gt; |\n",
       "|---|---|---|---|---|---|\n",
       "| 1 | rs67190025 | ref | 1.0790228 |  0.10972531 |  0.14461201 |\n",
       "| 2 | rs67190025 | alt | 1.1311419 |  0.17777993 |  0.32379097 |\n",
       "| 3 | rs7580924  | ref | 1.0332542 |  0.04719521 | -0.02002163 |\n",
       "| 4 | rs7580924  | alt | 0.8341374 | -0.26164312 | -0.83315286 |\n",
       "| 5 | rs13028959 | ref | 0.9788775 | -0.03079980 | -0.22537238 |\n",
       "| 6 | rs13028959 | alt | 0.9754385 | -0.03587719 | -0.23874048 |\n",
       "\n"
      ],
      "text/plain": [
       "  snp        type alpha     log2a       zscore     \n",
       "1 rs67190025 ref  1.0790228  0.10972531  0.14461201\n",
       "2 rs67190025 alt  1.1311419  0.17777993  0.32379097\n",
       "3 rs7580924  ref  1.0332542  0.04719521 -0.02002163\n",
       "4 rs7580924  alt  0.8341374 -0.26164312 -0.83315286\n",
       "5 rs13028959 ref  0.9788775 -0.03079980 -0.22537238\n",
       "6 rs13028959 alt  0.9754385 -0.03587719 -0.23874048"
      ]
     },
     "metadata": {},
     "output_type": "display_data"
    }
   ],
   "source": [
    "head(pool_alpha)"
   ]
  },
  {
   "cell_type": "code",
   "execution_count": 38,
   "id": "3dd70c4b-2306-4e58-b85a-5925cf4cb486",
   "metadata": {
    "execution": {
     "iopub.execute_input": "2025-03-21T00:47:18.240881Z",
     "iopub.status.busy": "2025-03-21T00:47:18.239888Z",
     "iopub.status.idle": "2025-03-21T00:47:18.257183Z",
     "shell.execute_reply": "2025-03-21T00:47:18.256007Z"
    }
   },
   "outputs": [],
   "source": [
    "# widen table to separate alleletypes and find enhancer significance\n",
    "pool_alpha_w <- pool_alpha %>% \n",
    "    pivot_wider(names_from=type, values_from=c(alpha, log2a, zscore))"
   ]
  },
  {
   "cell_type": "code",
   "execution_count": 39,
   "id": "2e7bb766-e2f2-4fad-8b7d-3d7d7de33a22",
   "metadata": {
    "execution": {
     "iopub.execute_input": "2025-03-21T00:47:18.260441Z",
     "iopub.status.busy": "2025-03-21T00:47:18.259471Z",
     "iopub.status.idle": "2025-03-21T00:47:18.270022Z",
     "shell.execute_reply": "2025-03-21T00:47:18.268855Z"
    }
   },
   "outputs": [],
   "source": [
    "# select relevant columns from DNA CPM counts\n",
    "pool_cpm <- pool_cpm %>% select(snp, DNA_CPM_QC)"
   ]
  },
  {
   "cell_type": "code",
   "execution_count": 40,
   "id": "cd354b86-d1e6-42be-8730-e3a27a2399d7",
   "metadata": {
    "execution": {
     "iopub.execute_input": "2025-03-21T00:47:18.273276Z",
     "iopub.status.busy": "2025-03-21T00:47:18.272302Z",
     "iopub.status.idle": "2025-03-21T00:47:18.288339Z",
     "shell.execute_reply": "2025-03-21T00:47:18.287122Z"
    }
   },
   "outputs": [
    {
     "data": {
      "text/html": [
       "<table class=\"dataframe\">\n",
       "<caption>A data.frame: 6 × 2</caption>\n",
       "<thead>\n",
       "\t<tr><th></th><th scope=col>snp</th><th scope=col>DNA_CPM_QC</th></tr>\n",
       "\t<tr><th></th><th scope=col>&lt;chr&gt;</th><th scope=col>&lt;lgl&gt;</th></tr>\n",
       "</thead>\n",
       "<tbody>\n",
       "\t<tr><th scope=row>1</th><td>rs67190025 </td><td>TRUE</td></tr>\n",
       "\t<tr><th scope=row>2</th><td>rs7580924  </td><td>TRUE</td></tr>\n",
       "\t<tr><th scope=row>3</th><td>rs13028959 </td><td>TRUE</td></tr>\n",
       "\t<tr><th scope=row>4</th><td>rs112467613</td><td>TRUE</td></tr>\n",
       "\t<tr><th scope=row>5</th><td>rs196378   </td><td>TRUE</td></tr>\n",
       "\t<tr><th scope=row>6</th><td>rs169046   </td><td>TRUE</td></tr>\n",
       "</tbody>\n",
       "</table>\n"
      ],
      "text/latex": [
       "A data.frame: 6 × 2\n",
       "\\begin{tabular}{r|ll}\n",
       "  & snp & DNA\\_CPM\\_QC\\\\\n",
       "  & <chr> & <lgl>\\\\\n",
       "\\hline\n",
       "\t1 & rs67190025  & TRUE\\\\\n",
       "\t2 & rs7580924   & TRUE\\\\\n",
       "\t3 & rs13028959  & TRUE\\\\\n",
       "\t4 & rs112467613 & TRUE\\\\\n",
       "\t5 & rs196378    & TRUE\\\\\n",
       "\t6 & rs169046    & TRUE\\\\\n",
       "\\end{tabular}\n"
      ],
      "text/markdown": [
       "\n",
       "A data.frame: 6 × 2\n",
       "\n",
       "| <!--/--> | snp &lt;chr&gt; | DNA_CPM_QC &lt;lgl&gt; |\n",
       "|---|---|---|\n",
       "| 1 | rs67190025  | TRUE |\n",
       "| 2 | rs7580924   | TRUE |\n",
       "| 3 | rs13028959  | TRUE |\n",
       "| 4 | rs112467613 | TRUE |\n",
       "| 5 | rs196378    | TRUE |\n",
       "| 6 | rs169046    | TRUE |\n",
       "\n"
      ],
      "text/plain": [
       "  snp         DNA_CPM_QC\n",
       "1 rs67190025  TRUE      \n",
       "2 rs7580924   TRUE      \n",
       "3 rs13028959  TRUE      \n",
       "4 rs112467613 TRUE      \n",
       "5 rs196378    TRUE      \n",
       "6 rs169046    TRUE      "
      ]
     },
     "metadata": {},
     "output_type": "display_data"
    }
   ],
   "source": [
    "head(pool_cpm)"
   ]
  },
  {
   "cell_type": "code",
   "execution_count": 41,
   "id": "779f8505-a2f7-45a9-ac09-22d26234a135",
   "metadata": {
    "execution": {
     "iopub.execute_input": "2025-03-21T00:47:18.291694Z",
     "iopub.status.busy": "2025-03-21T00:47:18.290642Z",
     "iopub.status.idle": "2025-03-21T00:47:18.302065Z",
     "shell.execute_reply": "2025-03-21T00:47:18.300845Z"
    }
   },
   "outputs": [],
   "source": [
    "# add DNA CPM classifications to v1 pool1 table\n",
    "pool_alpha_w <- pool_alpha_w %>% left_join(pool_cpm, by = c(\"snp\"))"
   ]
  },
  {
   "cell_type": "code",
   "execution_count": 42,
   "id": "e74d131f-0bed-4e8c-b165-e3e18012773c",
   "metadata": {
    "execution": {
     "iopub.execute_input": "2025-03-21T00:47:18.305432Z",
     "iopub.status.busy": "2025-03-21T00:47:18.304411Z",
     "iopub.status.idle": "2025-03-21T00:47:18.328777Z",
     "shell.execute_reply": "2025-03-21T00:47:18.327521Z"
    }
   },
   "outputs": [
    {
     "data": {
      "text/html": [
       "<table class=\"dataframe\">\n",
       "<caption>A tibble: 6 × 8</caption>\n",
       "<thead>\n",
       "\t<tr><th scope=col>snp</th><th scope=col>alpha_ref</th><th scope=col>alpha_alt</th><th scope=col>log2a_ref</th><th scope=col>log2a_alt</th><th scope=col>zscore_ref</th><th scope=col>zscore_alt</th><th scope=col>DNA_CPM_QC</th></tr>\n",
       "\t<tr><th scope=col>&lt;chr&gt;</th><th scope=col>&lt;dbl&gt;</th><th scope=col>&lt;dbl&gt;</th><th scope=col>&lt;dbl&gt;</th><th scope=col>&lt;dbl&gt;</th><th scope=col>&lt;dbl&gt;</th><th scope=col>&lt;dbl&gt;</th><th scope=col>&lt;lgl&gt;</th></tr>\n",
       "</thead>\n",
       "<tbody>\n",
       "\t<tr><td>rs67190025 </td><td>1.0790228</td><td>1.1311419</td><td> 0.10972531</td><td> 0.17777993</td><td> 0.14461201</td><td> 0.32379097</td><td>TRUE</td></tr>\n",
       "\t<tr><td>rs7580924  </td><td>1.0332542</td><td>0.8341374</td><td> 0.04719521</td><td>-0.26164312</td><td>-0.02002163</td><td>-0.83315286</td><td>TRUE</td></tr>\n",
       "\t<tr><td>rs13028959 </td><td>0.9788775</td><td>0.9754385</td><td>-0.03079980</td><td>-0.03587719</td><td>-0.22537238</td><td>-0.23874048</td><td>TRUE</td></tr>\n",
       "\t<tr><td>rs112467613</td><td>0.9637650</td><td>1.0645680</td><td>-0.05324668</td><td> 0.09026808</td><td>-0.28447210</td><td> 0.09338364</td><td>TRUE</td></tr>\n",
       "\t<tr><td>rs196378   </td><td>1.3289014</td><td>1.2821125</td><td> 0.41023406</td><td> 0.35852281</td><td> 0.93581252</td><td> 0.79966352</td><td>TRUE</td></tr>\n",
       "\t<tr><td>rs169046   </td><td>1.3480345</td><td>1.6999456</td><td> 0.43085739</td><td> 0.76548860</td><td> 0.99011108</td><td> 1.87115163</td><td>TRUE</td></tr>\n",
       "</tbody>\n",
       "</table>\n"
      ],
      "text/latex": [
       "A tibble: 6 × 8\n",
       "\\begin{tabular}{llllllll}\n",
       " snp & alpha\\_ref & alpha\\_alt & log2a\\_ref & log2a\\_alt & zscore\\_ref & zscore\\_alt & DNA\\_CPM\\_QC\\\\\n",
       " <chr> & <dbl> & <dbl> & <dbl> & <dbl> & <dbl> & <dbl> & <lgl>\\\\\n",
       "\\hline\n",
       "\t rs67190025  & 1.0790228 & 1.1311419 &  0.10972531 &  0.17777993 &  0.14461201 &  0.32379097 & TRUE\\\\\n",
       "\t rs7580924   & 1.0332542 & 0.8341374 &  0.04719521 & -0.26164312 & -0.02002163 & -0.83315286 & TRUE\\\\\n",
       "\t rs13028959  & 0.9788775 & 0.9754385 & -0.03079980 & -0.03587719 & -0.22537238 & -0.23874048 & TRUE\\\\\n",
       "\t rs112467613 & 0.9637650 & 1.0645680 & -0.05324668 &  0.09026808 & -0.28447210 &  0.09338364 & TRUE\\\\\n",
       "\t rs196378    & 1.3289014 & 1.2821125 &  0.41023406 &  0.35852281 &  0.93581252 &  0.79966352 & TRUE\\\\\n",
       "\t rs169046    & 1.3480345 & 1.6999456 &  0.43085739 &  0.76548860 &  0.99011108 &  1.87115163 & TRUE\\\\\n",
       "\\end{tabular}\n"
      ],
      "text/markdown": [
       "\n",
       "A tibble: 6 × 8\n",
       "\n",
       "| snp &lt;chr&gt; | alpha_ref &lt;dbl&gt; | alpha_alt &lt;dbl&gt; | log2a_ref &lt;dbl&gt; | log2a_alt &lt;dbl&gt; | zscore_ref &lt;dbl&gt; | zscore_alt &lt;dbl&gt; | DNA_CPM_QC &lt;lgl&gt; |\n",
       "|---|---|---|---|---|---|---|---|\n",
       "| rs67190025  | 1.0790228 | 1.1311419 |  0.10972531 |  0.17777993 |  0.14461201 |  0.32379097 | TRUE |\n",
       "| rs7580924   | 1.0332542 | 0.8341374 |  0.04719521 | -0.26164312 | -0.02002163 | -0.83315286 | TRUE |\n",
       "| rs13028959  | 0.9788775 | 0.9754385 | -0.03079980 | -0.03587719 | -0.22537238 | -0.23874048 | TRUE |\n",
       "| rs112467613 | 0.9637650 | 1.0645680 | -0.05324668 |  0.09026808 | -0.28447210 |  0.09338364 | TRUE |\n",
       "| rs196378    | 1.3289014 | 1.2821125 |  0.41023406 |  0.35852281 |  0.93581252 |  0.79966352 | TRUE |\n",
       "| rs169046    | 1.3480345 | 1.6999456 |  0.43085739 |  0.76548860 |  0.99011108 |  1.87115163 | TRUE |\n",
       "\n"
      ],
      "text/plain": [
       "  snp         alpha_ref alpha_alt log2a_ref   log2a_alt   zscore_ref \n",
       "1 rs67190025  1.0790228 1.1311419  0.10972531  0.17777993  0.14461201\n",
       "2 rs7580924   1.0332542 0.8341374  0.04719521 -0.26164312 -0.02002163\n",
       "3 rs13028959  0.9788775 0.9754385 -0.03079980 -0.03587719 -0.22537238\n",
       "4 rs112467613 0.9637650 1.0645680 -0.05324668  0.09026808 -0.28447210\n",
       "5 rs196378    1.3289014 1.2821125  0.41023406  0.35852281  0.93581252\n",
       "6 rs169046    1.3480345 1.6999456  0.43085739  0.76548860  0.99011108\n",
       "  zscore_alt  DNA_CPM_QC\n",
       "1  0.32379097 TRUE      \n",
       "2 -0.83315286 TRUE      \n",
       "3 -0.23874048 TRUE      \n",
       "4  0.09338364 TRUE      \n",
       "5  0.79966352 TRUE      \n",
       "6  1.87115163 TRUE      "
      ]
     },
     "metadata": {},
     "output_type": "display_data"
    }
   ],
   "source": [
    "head(pool_alpha_w)"
   ]
  },
  {
   "cell_type": "code",
   "execution_count": 43,
   "id": "0f64bfd8-f299-42a4-95a0-c9b9fa5ae4a0",
   "metadata": {
    "execution": {
     "iopub.execute_input": "2025-03-21T00:47:18.332353Z",
     "iopub.status.busy": "2025-03-21T00:47:18.331324Z",
     "iopub.status.idle": "2025-03-21T00:47:18.343394Z",
     "shell.execute_reply": "2025-03-21T00:47:18.342155Z"
    }
   },
   "outputs": [],
   "source": [
    "# classify variants that are enhancers\n",
    "pool_enhancer <- pool_alpha_w %>% filter(DNA_CPM_QC) %>% mutate(is_enhancer=(zscore_ref > 0 | zscore_alt > 0))"
   ]
  },
  {
   "cell_type": "code",
   "execution_count": 44,
   "id": "66e9bd5b-fe37-4845-96ef-34e97f19d523",
   "metadata": {
    "execution": {
     "iopub.execute_input": "2025-03-21T00:47:18.346738Z",
     "iopub.status.busy": "2025-03-21T00:47:18.345713Z",
     "iopub.status.idle": "2025-03-21T00:47:18.371274Z",
     "shell.execute_reply": "2025-03-21T00:47:18.370023Z"
    }
   },
   "outputs": [
    {
     "name": "stderr",
     "output_type": "stream",
     "text": [
      "\u001b[1m\u001b[22mJoining with `by = join_by(snp, alpha_ref, alpha_alt, log2a_ref, log2a_alt,\n",
      "zscore_ref, zscore_alt, DNA_CPM_QC)`\n"
     ]
    }
   ],
   "source": [
    "# join enhancer classifications with overall table\n",
    "pool <- pool_alpha_w %>% left_join(pool_enhancer)"
   ]
  },
  {
   "cell_type": "code",
   "execution_count": 45,
   "id": "875509c2-ec3b-419d-9413-822e2683340e",
   "metadata": {
    "execution": {
     "iopub.execute_input": "2025-03-21T00:47:18.374664Z",
     "iopub.status.busy": "2025-03-21T00:47:18.373629Z",
     "iopub.status.idle": "2025-03-21T00:47:18.398751Z",
     "shell.execute_reply": "2025-03-21T00:47:18.397515Z"
    }
   },
   "outputs": [
    {
     "data": {
      "text/html": [
       "<table class=\"dataframe\">\n",
       "<caption>A tibble: 6 × 9</caption>\n",
       "<thead>\n",
       "\t<tr><th scope=col>snp</th><th scope=col>alpha_ref</th><th scope=col>alpha_alt</th><th scope=col>log2a_ref</th><th scope=col>log2a_alt</th><th scope=col>zscore_ref</th><th scope=col>zscore_alt</th><th scope=col>DNA_CPM_QC</th><th scope=col>is_enhancer</th></tr>\n",
       "\t<tr><th scope=col>&lt;chr&gt;</th><th scope=col>&lt;dbl&gt;</th><th scope=col>&lt;dbl&gt;</th><th scope=col>&lt;dbl&gt;</th><th scope=col>&lt;dbl&gt;</th><th scope=col>&lt;dbl&gt;</th><th scope=col>&lt;dbl&gt;</th><th scope=col>&lt;lgl&gt;</th><th scope=col>&lt;lgl&gt;</th></tr>\n",
       "</thead>\n",
       "<tbody>\n",
       "\t<tr><td>rs67190025 </td><td>1.0790228</td><td>1.1311419</td><td> 0.10972531</td><td> 0.17777993</td><td> 0.14461201</td><td> 0.32379097</td><td>TRUE</td><td> TRUE</td></tr>\n",
       "\t<tr><td>rs7580924  </td><td>1.0332542</td><td>0.8341374</td><td> 0.04719521</td><td>-0.26164312</td><td>-0.02002163</td><td>-0.83315286</td><td>TRUE</td><td>FALSE</td></tr>\n",
       "\t<tr><td>rs13028959 </td><td>0.9788775</td><td>0.9754385</td><td>-0.03079980</td><td>-0.03587719</td><td>-0.22537238</td><td>-0.23874048</td><td>TRUE</td><td>FALSE</td></tr>\n",
       "\t<tr><td>rs112467613</td><td>0.9637650</td><td>1.0645680</td><td>-0.05324668</td><td> 0.09026808</td><td>-0.28447210</td><td> 0.09338364</td><td>TRUE</td><td> TRUE</td></tr>\n",
       "\t<tr><td>rs196378   </td><td>1.3289014</td><td>1.2821125</td><td> 0.41023406</td><td> 0.35852281</td><td> 0.93581252</td><td> 0.79966352</td><td>TRUE</td><td> TRUE</td></tr>\n",
       "\t<tr><td>rs169046   </td><td>1.3480345</td><td>1.6999456</td><td> 0.43085739</td><td> 0.76548860</td><td> 0.99011108</td><td> 1.87115163</td><td>TRUE</td><td> TRUE</td></tr>\n",
       "</tbody>\n",
       "</table>\n"
      ],
      "text/latex": [
       "A tibble: 6 × 9\n",
       "\\begin{tabular}{lllllllll}\n",
       " snp & alpha\\_ref & alpha\\_alt & log2a\\_ref & log2a\\_alt & zscore\\_ref & zscore\\_alt & DNA\\_CPM\\_QC & is\\_enhancer\\\\\n",
       " <chr> & <dbl> & <dbl> & <dbl> & <dbl> & <dbl> & <dbl> & <lgl> & <lgl>\\\\\n",
       "\\hline\n",
       "\t rs67190025  & 1.0790228 & 1.1311419 &  0.10972531 &  0.17777993 &  0.14461201 &  0.32379097 & TRUE &  TRUE\\\\\n",
       "\t rs7580924   & 1.0332542 & 0.8341374 &  0.04719521 & -0.26164312 & -0.02002163 & -0.83315286 & TRUE & FALSE\\\\\n",
       "\t rs13028959  & 0.9788775 & 0.9754385 & -0.03079980 & -0.03587719 & -0.22537238 & -0.23874048 & TRUE & FALSE\\\\\n",
       "\t rs112467613 & 0.9637650 & 1.0645680 & -0.05324668 &  0.09026808 & -0.28447210 &  0.09338364 & TRUE &  TRUE\\\\\n",
       "\t rs196378    & 1.3289014 & 1.2821125 &  0.41023406 &  0.35852281 &  0.93581252 &  0.79966352 & TRUE &  TRUE\\\\\n",
       "\t rs169046    & 1.3480345 & 1.6999456 &  0.43085739 &  0.76548860 &  0.99011108 &  1.87115163 & TRUE &  TRUE\\\\\n",
       "\\end{tabular}\n"
      ],
      "text/markdown": [
       "\n",
       "A tibble: 6 × 9\n",
       "\n",
       "| snp &lt;chr&gt; | alpha_ref &lt;dbl&gt; | alpha_alt &lt;dbl&gt; | log2a_ref &lt;dbl&gt; | log2a_alt &lt;dbl&gt; | zscore_ref &lt;dbl&gt; | zscore_alt &lt;dbl&gt; | DNA_CPM_QC &lt;lgl&gt; | is_enhancer &lt;lgl&gt; |\n",
       "|---|---|---|---|---|---|---|---|---|\n",
       "| rs67190025  | 1.0790228 | 1.1311419 |  0.10972531 |  0.17777993 |  0.14461201 |  0.32379097 | TRUE |  TRUE |\n",
       "| rs7580924   | 1.0332542 | 0.8341374 |  0.04719521 | -0.26164312 | -0.02002163 | -0.83315286 | TRUE | FALSE |\n",
       "| rs13028959  | 0.9788775 | 0.9754385 | -0.03079980 | -0.03587719 | -0.22537238 | -0.23874048 | TRUE | FALSE |\n",
       "| rs112467613 | 0.9637650 | 1.0645680 | -0.05324668 |  0.09026808 | -0.28447210 |  0.09338364 | TRUE |  TRUE |\n",
       "| rs196378    | 1.3289014 | 1.2821125 |  0.41023406 |  0.35852281 |  0.93581252 |  0.79966352 | TRUE |  TRUE |\n",
       "| rs169046    | 1.3480345 | 1.6999456 |  0.43085739 |  0.76548860 |  0.99011108 |  1.87115163 | TRUE |  TRUE |\n",
       "\n"
      ],
      "text/plain": [
       "  snp         alpha_ref alpha_alt log2a_ref   log2a_alt   zscore_ref \n",
       "1 rs67190025  1.0790228 1.1311419  0.10972531  0.17777993  0.14461201\n",
       "2 rs7580924   1.0332542 0.8341374  0.04719521 -0.26164312 -0.02002163\n",
       "3 rs13028959  0.9788775 0.9754385 -0.03079980 -0.03587719 -0.22537238\n",
       "4 rs112467613 0.9637650 1.0645680 -0.05324668  0.09026808 -0.28447210\n",
       "5 rs196378    1.3289014 1.2821125  0.41023406  0.35852281  0.93581252\n",
       "6 rs169046    1.3480345 1.6999456  0.43085739  0.76548860  0.99011108\n",
       "  zscore_alt  DNA_CPM_QC is_enhancer\n",
       "1  0.32379097 TRUE        TRUE      \n",
       "2 -0.83315286 TRUE       FALSE      \n",
       "3 -0.23874048 TRUE       FALSE      \n",
       "4  0.09338364 TRUE        TRUE      \n",
       "5  0.79966352 TRUE        TRUE      \n",
       "6  1.87115163 TRUE        TRUE      "
      ]
     },
     "metadata": {},
     "output_type": "display_data"
    }
   ],
   "source": [
    "head(pool)"
   ]
  },
  {
   "cell_type": "code",
   "execution_count": 46,
   "id": "7699bc0c-bac1-44f6-a878-57d3f863a638",
   "metadata": {
    "execution": {
     "iopub.execute_input": "2025-03-21T00:47:18.402148Z",
     "iopub.status.busy": "2025-03-21T00:47:18.401122Z",
     "iopub.status.idle": "2025-03-21T00:47:18.415306Z",
     "shell.execute_reply": "2025-03-21T00:47:18.414065Z"
    }
   },
   "outputs": [],
   "source": [
    "# extract allelic p-values\n",
    "pool <- pool %>% left_join(select(pool_allelic, c(snp, logFC, lrt_pval)), by = \"snp\") %>%\n",
    "    rename(pval_allelic = lrt_pval)"
   ]
  },
  {
   "cell_type": "code",
   "execution_count": 47,
   "id": "7668c79a-7fe5-4512-b760-aed7f4757fe5",
   "metadata": {
    "execution": {
     "iopub.execute_input": "2025-03-21T00:47:18.418712Z",
     "iopub.status.busy": "2025-03-21T00:47:18.417656Z",
     "iopub.status.idle": "2025-03-21T00:47:18.445360Z",
     "shell.execute_reply": "2025-03-21T00:47:18.444101Z"
    }
   },
   "outputs": [
    {
     "data": {
      "text/html": [
       "<table class=\"dataframe\">\n",
       "<caption>A tibble: 6 × 11</caption>\n",
       "<thead>\n",
       "\t<tr><th scope=col>snp</th><th scope=col>alpha_ref</th><th scope=col>alpha_alt</th><th scope=col>log2a_ref</th><th scope=col>log2a_alt</th><th scope=col>zscore_ref</th><th scope=col>zscore_alt</th><th scope=col>DNA_CPM_QC</th><th scope=col>is_enhancer</th><th scope=col>logFC</th><th scope=col>pval_allelic</th></tr>\n",
       "\t<tr><th scope=col>&lt;chr&gt;</th><th scope=col>&lt;dbl&gt;</th><th scope=col>&lt;dbl&gt;</th><th scope=col>&lt;dbl&gt;</th><th scope=col>&lt;dbl&gt;</th><th scope=col>&lt;dbl&gt;</th><th scope=col>&lt;dbl&gt;</th><th scope=col>&lt;lgl&gt;</th><th scope=col>&lt;lgl&gt;</th><th scope=col>&lt;dbl&gt;</th><th scope=col>&lt;dbl&gt;</th></tr>\n",
       "</thead>\n",
       "<tbody>\n",
       "\t<tr><td>rs67190025 </td><td>1.0790228</td><td>1.1311419</td><td> 0.10972531</td><td> 0.17777993</td><td> 0.14461201</td><td> 0.32379097</td><td>TRUE</td><td> TRUE</td><td> 0.0433978350</td><td>6.931219e-01</td></tr>\n",
       "\t<tr><td>rs7580924  </td><td>1.0332542</td><td>0.8341374</td><td> 0.04719521</td><td>-0.26164312</td><td>-0.02002163</td><td>-0.83315286</td><td>TRUE</td><td>FALSE</td><td>-0.0920718548</td><td>1.678202e-01</td></tr>\n",
       "\t<tr><td>rs13028959 </td><td>0.9788775</td><td>0.9754385</td><td>-0.03079980</td><td>-0.03587719</td><td>-0.22537238</td><td>-0.23874048</td><td>TRUE</td><td>FALSE</td><td> 0.0006139366</td><td>8.018869e-01</td></tr>\n",
       "\t<tr><td>rs112467613</td><td>0.9637650</td><td>1.0645680</td><td>-0.05324668</td><td> 0.09026808</td><td>-0.28447210</td><td> 0.09338364</td><td>TRUE</td><td> TRUE</td><td> 0.1170404404</td><td>2.861114e-29</td></tr>\n",
       "\t<tr><td>rs196378   </td><td>1.3289014</td><td>1.2821125</td><td> 0.41023406</td><td> 0.35852281</td><td> 0.93581252</td><td> 0.79966352</td><td>TRUE</td><td> TRUE</td><td>-0.0951442512</td><td>1.688483e-01</td></tr>\n",
       "\t<tr><td>rs169046   </td><td>1.3480345</td><td>1.6999456</td><td> 0.43085739</td><td> 0.76548860</td><td> 0.99011108</td><td> 1.87115163</td><td>TRUE</td><td> TRUE</td><td> 0.3165248123</td><td>2.197575e-06</td></tr>\n",
       "</tbody>\n",
       "</table>\n"
      ],
      "text/latex": [
       "A tibble: 6 × 11\n",
       "\\begin{tabular}{lllllllllll}\n",
       " snp & alpha\\_ref & alpha\\_alt & log2a\\_ref & log2a\\_alt & zscore\\_ref & zscore\\_alt & DNA\\_CPM\\_QC & is\\_enhancer & logFC & pval\\_allelic\\\\\n",
       " <chr> & <dbl> & <dbl> & <dbl> & <dbl> & <dbl> & <dbl> & <lgl> & <lgl> & <dbl> & <dbl>\\\\\n",
       "\\hline\n",
       "\t rs67190025  & 1.0790228 & 1.1311419 &  0.10972531 &  0.17777993 &  0.14461201 &  0.32379097 & TRUE &  TRUE &  0.0433978350 & 6.931219e-01\\\\\n",
       "\t rs7580924   & 1.0332542 & 0.8341374 &  0.04719521 & -0.26164312 & -0.02002163 & -0.83315286 & TRUE & FALSE & -0.0920718548 & 1.678202e-01\\\\\n",
       "\t rs13028959  & 0.9788775 & 0.9754385 & -0.03079980 & -0.03587719 & -0.22537238 & -0.23874048 & TRUE & FALSE &  0.0006139366 & 8.018869e-01\\\\\n",
       "\t rs112467613 & 0.9637650 & 1.0645680 & -0.05324668 &  0.09026808 & -0.28447210 &  0.09338364 & TRUE &  TRUE &  0.1170404404 & 2.861114e-29\\\\\n",
       "\t rs196378    & 1.3289014 & 1.2821125 &  0.41023406 &  0.35852281 &  0.93581252 &  0.79966352 & TRUE &  TRUE & -0.0951442512 & 1.688483e-01\\\\\n",
       "\t rs169046    & 1.3480345 & 1.6999456 &  0.43085739 &  0.76548860 &  0.99011108 &  1.87115163 & TRUE &  TRUE &  0.3165248123 & 2.197575e-06\\\\\n",
       "\\end{tabular}\n"
      ],
      "text/markdown": [
       "\n",
       "A tibble: 6 × 11\n",
       "\n",
       "| snp &lt;chr&gt; | alpha_ref &lt;dbl&gt; | alpha_alt &lt;dbl&gt; | log2a_ref &lt;dbl&gt; | log2a_alt &lt;dbl&gt; | zscore_ref &lt;dbl&gt; | zscore_alt &lt;dbl&gt; | DNA_CPM_QC &lt;lgl&gt; | is_enhancer &lt;lgl&gt; | logFC &lt;dbl&gt; | pval_allelic &lt;dbl&gt; |\n",
       "|---|---|---|---|---|---|---|---|---|---|---|\n",
       "| rs67190025  | 1.0790228 | 1.1311419 |  0.10972531 |  0.17777993 |  0.14461201 |  0.32379097 | TRUE |  TRUE |  0.0433978350 | 6.931219e-01 |\n",
       "| rs7580924   | 1.0332542 | 0.8341374 |  0.04719521 | -0.26164312 | -0.02002163 | -0.83315286 | TRUE | FALSE | -0.0920718548 | 1.678202e-01 |\n",
       "| rs13028959  | 0.9788775 | 0.9754385 | -0.03079980 | -0.03587719 | -0.22537238 | -0.23874048 | TRUE | FALSE |  0.0006139366 | 8.018869e-01 |\n",
       "| rs112467613 | 0.9637650 | 1.0645680 | -0.05324668 |  0.09026808 | -0.28447210 |  0.09338364 | TRUE |  TRUE |  0.1170404404 | 2.861114e-29 |\n",
       "| rs196378    | 1.3289014 | 1.2821125 |  0.41023406 |  0.35852281 |  0.93581252 |  0.79966352 | TRUE |  TRUE | -0.0951442512 | 1.688483e-01 |\n",
       "| rs169046    | 1.3480345 | 1.6999456 |  0.43085739 |  0.76548860 |  0.99011108 |  1.87115163 | TRUE |  TRUE |  0.3165248123 | 2.197575e-06 |\n",
       "\n"
      ],
      "text/plain": [
       "  snp         alpha_ref alpha_alt log2a_ref   log2a_alt   zscore_ref \n",
       "1 rs67190025  1.0790228 1.1311419  0.10972531  0.17777993  0.14461201\n",
       "2 rs7580924   1.0332542 0.8341374  0.04719521 -0.26164312 -0.02002163\n",
       "3 rs13028959  0.9788775 0.9754385 -0.03079980 -0.03587719 -0.22537238\n",
       "4 rs112467613 0.9637650 1.0645680 -0.05324668  0.09026808 -0.28447210\n",
       "5 rs196378    1.3289014 1.2821125  0.41023406  0.35852281  0.93581252\n",
       "6 rs169046    1.3480345 1.6999456  0.43085739  0.76548860  0.99011108\n",
       "  zscore_alt  DNA_CPM_QC is_enhancer logFC         pval_allelic\n",
       "1  0.32379097 TRUE        TRUE        0.0433978350 6.931219e-01\n",
       "2 -0.83315286 TRUE       FALSE       -0.0920718548 1.678202e-01\n",
       "3 -0.23874048 TRUE       FALSE        0.0006139366 8.018869e-01\n",
       "4  0.09338364 TRUE        TRUE        0.1170404404 2.861114e-29\n",
       "5  0.79966352 TRUE        TRUE       -0.0951442512 1.688483e-01\n",
       "6  1.87115163 TRUE        TRUE        0.3165248123 2.197575e-06"
      ]
     },
     "metadata": {},
     "output_type": "display_data"
    }
   ],
   "source": [
    "head(pool)"
   ]
  },
  {
   "cell_type": "code",
   "execution_count": 48,
   "id": "6e7298b2-44ef-4c15-90c8-cc841774a5a8",
   "metadata": {
    "execution": {
     "iopub.execute_input": "2025-03-21T00:47:18.448770Z",
     "iopub.status.busy": "2025-03-21T00:47:18.447732Z",
     "iopub.status.idle": "2025-03-21T00:47:18.461443Z",
     "shell.execute_reply": "2025-03-21T00:47:18.460196Z"
    }
   },
   "outputs": [],
   "source": [
    "# calculate FDR for only enhancers\n",
    "pool_enc <- pool %>% filter(is_enhancer == TRUE) %>% \n",
    "    mutate(fdr_allelic=p.adjust(pval_allelic, method = \"BH\")) %>% select(snp, fdr_allelic)"
   ]
  },
  {
   "cell_type": "code",
   "execution_count": 49,
   "id": "0c49f6b4-1158-4012-aeb5-d4543ad5c53f",
   "metadata": {
    "execution": {
     "iopub.execute_input": "2025-03-21T00:47:18.464847Z",
     "iopub.status.busy": "2025-03-21T00:47:18.463791Z",
     "iopub.status.idle": "2025-03-21T00:47:18.475370Z",
     "shell.execute_reply": "2025-03-21T00:47:18.474128Z"
    }
   },
   "outputs": [],
   "source": [
    "# add FDR values to table\n",
    "pool <- pool %>% left_join(pool_enc, by = 'snp')"
   ]
  },
  {
   "cell_type": "code",
   "execution_count": 50,
   "id": "7cb84232-633c-466c-a844-ff0efca96235",
   "metadata": {
    "execution": {
     "iopub.execute_input": "2025-03-21T00:47:18.478780Z",
     "iopub.status.busy": "2025-03-21T00:47:18.477723Z",
     "iopub.status.idle": "2025-03-21T00:47:18.505993Z",
     "shell.execute_reply": "2025-03-21T00:47:18.504751Z"
    }
   },
   "outputs": [
    {
     "data": {
      "text/html": [
       "<table class=\"dataframe\">\n",
       "<caption>A tibble: 6 × 12</caption>\n",
       "<thead>\n",
       "\t<tr><th scope=col>snp</th><th scope=col>alpha_ref</th><th scope=col>alpha_alt</th><th scope=col>log2a_ref</th><th scope=col>log2a_alt</th><th scope=col>zscore_ref</th><th scope=col>zscore_alt</th><th scope=col>DNA_CPM_QC</th><th scope=col>is_enhancer</th><th scope=col>logFC</th><th scope=col>pval_allelic</th><th scope=col>fdr_allelic</th></tr>\n",
       "\t<tr><th scope=col>&lt;chr&gt;</th><th scope=col>&lt;dbl&gt;</th><th scope=col>&lt;dbl&gt;</th><th scope=col>&lt;dbl&gt;</th><th scope=col>&lt;dbl&gt;</th><th scope=col>&lt;dbl&gt;</th><th scope=col>&lt;dbl&gt;</th><th scope=col>&lt;lgl&gt;</th><th scope=col>&lt;lgl&gt;</th><th scope=col>&lt;dbl&gt;</th><th scope=col>&lt;dbl&gt;</th><th scope=col>&lt;dbl&gt;</th></tr>\n",
       "</thead>\n",
       "<tbody>\n",
       "\t<tr><td>rs67190025 </td><td>1.0790228</td><td>1.1311419</td><td> 0.10972531</td><td> 0.17777993</td><td> 0.14461201</td><td> 0.32379097</td><td>TRUE</td><td> TRUE</td><td> 0.0433978350</td><td>6.931219e-01</td><td>7.994920e-01</td></tr>\n",
       "\t<tr><td>rs7580924  </td><td>1.0332542</td><td>0.8341374</td><td> 0.04719521</td><td>-0.26164312</td><td>-0.02002163</td><td>-0.83315286</td><td>TRUE</td><td>FALSE</td><td>-0.0920718548</td><td>1.678202e-01</td><td>          NA</td></tr>\n",
       "\t<tr><td>rs13028959 </td><td>0.9788775</td><td>0.9754385</td><td>-0.03079980</td><td>-0.03587719</td><td>-0.22537238</td><td>-0.23874048</td><td>TRUE</td><td>FALSE</td><td> 0.0006139366</td><td>8.018869e-01</td><td>          NA</td></tr>\n",
       "\t<tr><td>rs112467613</td><td>0.9637650</td><td>1.0645680</td><td>-0.05324668</td><td> 0.09026808</td><td>-0.28447210</td><td> 0.09338364</td><td>TRUE</td><td> TRUE</td><td> 0.1170404404</td><td>2.861114e-29</td><td>9.523424e-28</td></tr>\n",
       "\t<tr><td>rs196378   </td><td>1.3289014</td><td>1.2821125</td><td> 0.41023406</td><td> 0.35852281</td><td> 0.93581252</td><td> 0.79966352</td><td>TRUE</td><td> TRUE</td><td>-0.0951442512</td><td>1.688483e-01</td><td>2.676304e-01</td></tr>\n",
       "\t<tr><td>rs169046   </td><td>1.3480345</td><td>1.6999456</td><td> 0.43085739</td><td> 0.76548860</td><td> 0.99011108</td><td> 1.87115163</td><td>TRUE</td><td> TRUE</td><td> 0.3165248123</td><td>2.197575e-06</td><td>1.219131e-05</td></tr>\n",
       "</tbody>\n",
       "</table>\n"
      ],
      "text/latex": [
       "A tibble: 6 × 12\n",
       "\\begin{tabular}{llllllllllll}\n",
       " snp & alpha\\_ref & alpha\\_alt & log2a\\_ref & log2a\\_alt & zscore\\_ref & zscore\\_alt & DNA\\_CPM\\_QC & is\\_enhancer & logFC & pval\\_allelic & fdr\\_allelic\\\\\n",
       " <chr> & <dbl> & <dbl> & <dbl> & <dbl> & <dbl> & <dbl> & <lgl> & <lgl> & <dbl> & <dbl> & <dbl>\\\\\n",
       "\\hline\n",
       "\t rs67190025  & 1.0790228 & 1.1311419 &  0.10972531 &  0.17777993 &  0.14461201 &  0.32379097 & TRUE &  TRUE &  0.0433978350 & 6.931219e-01 & 7.994920e-01\\\\\n",
       "\t rs7580924   & 1.0332542 & 0.8341374 &  0.04719521 & -0.26164312 & -0.02002163 & -0.83315286 & TRUE & FALSE & -0.0920718548 & 1.678202e-01 &           NA\\\\\n",
       "\t rs13028959  & 0.9788775 & 0.9754385 & -0.03079980 & -0.03587719 & -0.22537238 & -0.23874048 & TRUE & FALSE &  0.0006139366 & 8.018869e-01 &           NA\\\\\n",
       "\t rs112467613 & 0.9637650 & 1.0645680 & -0.05324668 &  0.09026808 & -0.28447210 &  0.09338364 & TRUE &  TRUE &  0.1170404404 & 2.861114e-29 & 9.523424e-28\\\\\n",
       "\t rs196378    & 1.3289014 & 1.2821125 &  0.41023406 &  0.35852281 &  0.93581252 &  0.79966352 & TRUE &  TRUE & -0.0951442512 & 1.688483e-01 & 2.676304e-01\\\\\n",
       "\t rs169046    & 1.3480345 & 1.6999456 &  0.43085739 &  0.76548860 &  0.99011108 &  1.87115163 & TRUE &  TRUE &  0.3165248123 & 2.197575e-06 & 1.219131e-05\\\\\n",
       "\\end{tabular}\n"
      ],
      "text/markdown": [
       "\n",
       "A tibble: 6 × 12\n",
       "\n",
       "| snp &lt;chr&gt; | alpha_ref &lt;dbl&gt; | alpha_alt &lt;dbl&gt; | log2a_ref &lt;dbl&gt; | log2a_alt &lt;dbl&gt; | zscore_ref &lt;dbl&gt; | zscore_alt &lt;dbl&gt; | DNA_CPM_QC &lt;lgl&gt; | is_enhancer &lt;lgl&gt; | logFC &lt;dbl&gt; | pval_allelic &lt;dbl&gt; | fdr_allelic &lt;dbl&gt; |\n",
       "|---|---|---|---|---|---|---|---|---|---|---|---|\n",
       "| rs67190025  | 1.0790228 | 1.1311419 |  0.10972531 |  0.17777993 |  0.14461201 |  0.32379097 | TRUE |  TRUE |  0.0433978350 | 6.931219e-01 | 7.994920e-01 |\n",
       "| rs7580924   | 1.0332542 | 0.8341374 |  0.04719521 | -0.26164312 | -0.02002163 | -0.83315286 | TRUE | FALSE | -0.0920718548 | 1.678202e-01 |           NA |\n",
       "| rs13028959  | 0.9788775 | 0.9754385 | -0.03079980 | -0.03587719 | -0.22537238 | -0.23874048 | TRUE | FALSE |  0.0006139366 | 8.018869e-01 |           NA |\n",
       "| rs112467613 | 0.9637650 | 1.0645680 | -0.05324668 |  0.09026808 | -0.28447210 |  0.09338364 | TRUE |  TRUE |  0.1170404404 | 2.861114e-29 | 9.523424e-28 |\n",
       "| rs196378    | 1.3289014 | 1.2821125 |  0.41023406 |  0.35852281 |  0.93581252 |  0.79966352 | TRUE |  TRUE | -0.0951442512 | 1.688483e-01 | 2.676304e-01 |\n",
       "| rs169046    | 1.3480345 | 1.6999456 |  0.43085739 |  0.76548860 |  0.99011108 |  1.87115163 | TRUE |  TRUE |  0.3165248123 | 2.197575e-06 | 1.219131e-05 |\n",
       "\n"
      ],
      "text/plain": [
       "  snp         alpha_ref alpha_alt log2a_ref   log2a_alt   zscore_ref \n",
       "1 rs67190025  1.0790228 1.1311419  0.10972531  0.17777993  0.14461201\n",
       "2 rs7580924   1.0332542 0.8341374  0.04719521 -0.26164312 -0.02002163\n",
       "3 rs13028959  0.9788775 0.9754385 -0.03079980 -0.03587719 -0.22537238\n",
       "4 rs112467613 0.9637650 1.0645680 -0.05324668  0.09026808 -0.28447210\n",
       "5 rs196378    1.3289014 1.2821125  0.41023406  0.35852281  0.93581252\n",
       "6 rs169046    1.3480345 1.6999456  0.43085739  0.76548860  0.99011108\n",
       "  zscore_alt  DNA_CPM_QC is_enhancer logFC         pval_allelic fdr_allelic \n",
       "1  0.32379097 TRUE        TRUE        0.0433978350 6.931219e-01 7.994920e-01\n",
       "2 -0.83315286 TRUE       FALSE       -0.0920718548 1.678202e-01           NA\n",
       "3 -0.23874048 TRUE       FALSE        0.0006139366 8.018869e-01           NA\n",
       "4  0.09338364 TRUE        TRUE        0.1170404404 2.861114e-29 9.523424e-28\n",
       "5  0.79966352 TRUE        TRUE       -0.0951442512 1.688483e-01 2.676304e-01\n",
       "6  1.87115163 TRUE        TRUE        0.3165248123 2.197575e-06 1.219131e-05"
      ]
     },
     "metadata": {},
     "output_type": "display_data"
    }
   ],
   "source": [
    "head(pool)"
   ]
  },
  {
   "cell_type": "code",
   "execution_count": 51,
   "id": "94abf77f-c7bc-4d09-ac7e-6f4bea14d325",
   "metadata": {
    "execution": {
     "iopub.execute_input": "2025-03-21T00:47:18.509402Z",
     "iopub.status.busy": "2025-03-21T00:47:18.508378Z",
     "iopub.status.idle": "2025-03-21T00:47:18.520573Z",
     "shell.execute_reply": "2025-03-21T00:47:18.519262Z"
    }
   },
   "outputs": [
    {
     "data": {
      "text/html": [
       "83"
      ],
      "text/latex": [
       "83"
      ],
      "text/markdown": [
       "83"
      ],
      "text/plain": [
       "[1] 83"
      ]
     },
     "metadata": {},
     "output_type": "display_data"
    }
   ],
   "source": [
    "# find number of elements that are significant with FDR <= 0.05\n",
    "sum(pool$fdr_allelic<=0.01, na.rm=TRUE)"
   ]
  },
  {
   "cell_type": "code",
   "execution_count": 52,
   "id": "cac49909-57b3-4729-8019-6955ab8bef58",
   "metadata": {
    "execution": {
     "iopub.execute_input": "2025-03-21T00:47:18.524062Z",
     "iopub.status.busy": "2025-03-21T00:47:18.523019Z",
     "iopub.status.idle": "2025-03-21T00:47:18.539813Z",
     "shell.execute_reply": "2025-03-21T00:47:18.538587Z"
    }
   },
   "outputs": [],
   "source": [
    "# find allelic significance\n",
    "pool_all <- pool %>% filter(is_enhancer) %>% mutate(is_allelic = (fdr_allelic <= 0.01) & (abs(logFC)>=log(1.1)))\n",
    "pool2 <- pool %>% left_join(select(pool_all, c(snp, is_allelic)), by = \"snp\")"
   ]
  },
  {
   "cell_type": "code",
   "execution_count": 53,
   "id": "cc17dda6-65ca-4a83-bfa9-aee8b3ec15b0",
   "metadata": {
    "execution": {
     "iopub.execute_input": "2025-03-21T00:47:18.543212Z",
     "iopub.status.busy": "2025-03-21T00:47:18.542172Z",
     "iopub.status.idle": "2025-03-21T00:47:18.571487Z",
     "shell.execute_reply": "2025-03-21T00:47:18.570230Z"
    }
   },
   "outputs": [
    {
     "data": {
      "text/html": [
       "<table class=\"dataframe\">\n",
       "<caption>A tibble: 6 × 13</caption>\n",
       "<thead>\n",
       "\t<tr><th scope=col>snp</th><th scope=col>alpha_ref</th><th scope=col>alpha_alt</th><th scope=col>log2a_ref</th><th scope=col>log2a_alt</th><th scope=col>zscore_ref</th><th scope=col>zscore_alt</th><th scope=col>DNA_CPM_QC</th><th scope=col>is_enhancer</th><th scope=col>logFC</th><th scope=col>pval_allelic</th><th scope=col>fdr_allelic</th><th scope=col>is_allelic</th></tr>\n",
       "\t<tr><th scope=col>&lt;chr&gt;</th><th scope=col>&lt;dbl&gt;</th><th scope=col>&lt;dbl&gt;</th><th scope=col>&lt;dbl&gt;</th><th scope=col>&lt;dbl&gt;</th><th scope=col>&lt;dbl&gt;</th><th scope=col>&lt;dbl&gt;</th><th scope=col>&lt;lgl&gt;</th><th scope=col>&lt;lgl&gt;</th><th scope=col>&lt;dbl&gt;</th><th scope=col>&lt;dbl&gt;</th><th scope=col>&lt;dbl&gt;</th><th scope=col>&lt;lgl&gt;</th></tr>\n",
       "</thead>\n",
       "<tbody>\n",
       "\t<tr><td>rs67190025 </td><td>1.0790228</td><td>1.1311419</td><td> 0.10972531</td><td> 0.17777993</td><td> 0.14461201</td><td> 0.32379097</td><td>TRUE</td><td> TRUE</td><td> 0.0433978350</td><td>6.931219e-01</td><td>7.994920e-01</td><td>FALSE</td></tr>\n",
       "\t<tr><td>rs7580924  </td><td>1.0332542</td><td>0.8341374</td><td> 0.04719521</td><td>-0.26164312</td><td>-0.02002163</td><td>-0.83315286</td><td>TRUE</td><td>FALSE</td><td>-0.0920718548</td><td>1.678202e-01</td><td>          NA</td><td>   NA</td></tr>\n",
       "\t<tr><td>rs13028959 </td><td>0.9788775</td><td>0.9754385</td><td>-0.03079980</td><td>-0.03587719</td><td>-0.22537238</td><td>-0.23874048</td><td>TRUE</td><td>FALSE</td><td> 0.0006139366</td><td>8.018869e-01</td><td>          NA</td><td>   NA</td></tr>\n",
       "\t<tr><td>rs112467613</td><td>0.9637650</td><td>1.0645680</td><td>-0.05324668</td><td> 0.09026808</td><td>-0.28447210</td><td> 0.09338364</td><td>TRUE</td><td> TRUE</td><td> 0.1170404404</td><td>2.861114e-29</td><td>9.523424e-28</td><td> TRUE</td></tr>\n",
       "\t<tr><td>rs196378   </td><td>1.3289014</td><td>1.2821125</td><td> 0.41023406</td><td> 0.35852281</td><td> 0.93581252</td><td> 0.79966352</td><td>TRUE</td><td> TRUE</td><td>-0.0951442512</td><td>1.688483e-01</td><td>2.676304e-01</td><td>FALSE</td></tr>\n",
       "\t<tr><td>rs169046   </td><td>1.3480345</td><td>1.6999456</td><td> 0.43085739</td><td> 0.76548860</td><td> 0.99011108</td><td> 1.87115163</td><td>TRUE</td><td> TRUE</td><td> 0.3165248123</td><td>2.197575e-06</td><td>1.219131e-05</td><td> TRUE</td></tr>\n",
       "</tbody>\n",
       "</table>\n"
      ],
      "text/latex": [
       "A tibble: 6 × 13\n",
       "\\begin{tabular}{lllllllllllll}\n",
       " snp & alpha\\_ref & alpha\\_alt & log2a\\_ref & log2a\\_alt & zscore\\_ref & zscore\\_alt & DNA\\_CPM\\_QC & is\\_enhancer & logFC & pval\\_allelic & fdr\\_allelic & is\\_allelic\\\\\n",
       " <chr> & <dbl> & <dbl> & <dbl> & <dbl> & <dbl> & <dbl> & <lgl> & <lgl> & <dbl> & <dbl> & <dbl> & <lgl>\\\\\n",
       "\\hline\n",
       "\t rs67190025  & 1.0790228 & 1.1311419 &  0.10972531 &  0.17777993 &  0.14461201 &  0.32379097 & TRUE &  TRUE &  0.0433978350 & 6.931219e-01 & 7.994920e-01 & FALSE\\\\\n",
       "\t rs7580924   & 1.0332542 & 0.8341374 &  0.04719521 & -0.26164312 & -0.02002163 & -0.83315286 & TRUE & FALSE & -0.0920718548 & 1.678202e-01 &           NA &    NA\\\\\n",
       "\t rs13028959  & 0.9788775 & 0.9754385 & -0.03079980 & -0.03587719 & -0.22537238 & -0.23874048 & TRUE & FALSE &  0.0006139366 & 8.018869e-01 &           NA &    NA\\\\\n",
       "\t rs112467613 & 0.9637650 & 1.0645680 & -0.05324668 &  0.09026808 & -0.28447210 &  0.09338364 & TRUE &  TRUE &  0.1170404404 & 2.861114e-29 & 9.523424e-28 &  TRUE\\\\\n",
       "\t rs196378    & 1.3289014 & 1.2821125 &  0.41023406 &  0.35852281 &  0.93581252 &  0.79966352 & TRUE &  TRUE & -0.0951442512 & 1.688483e-01 & 2.676304e-01 & FALSE\\\\\n",
       "\t rs169046    & 1.3480345 & 1.6999456 &  0.43085739 &  0.76548860 &  0.99011108 &  1.87115163 & TRUE &  TRUE &  0.3165248123 & 2.197575e-06 & 1.219131e-05 &  TRUE\\\\\n",
       "\\end{tabular}\n"
      ],
      "text/markdown": [
       "\n",
       "A tibble: 6 × 13\n",
       "\n",
       "| snp &lt;chr&gt; | alpha_ref &lt;dbl&gt; | alpha_alt &lt;dbl&gt; | log2a_ref &lt;dbl&gt; | log2a_alt &lt;dbl&gt; | zscore_ref &lt;dbl&gt; | zscore_alt &lt;dbl&gt; | DNA_CPM_QC &lt;lgl&gt; | is_enhancer &lt;lgl&gt; | logFC &lt;dbl&gt; | pval_allelic &lt;dbl&gt; | fdr_allelic &lt;dbl&gt; | is_allelic &lt;lgl&gt; |\n",
       "|---|---|---|---|---|---|---|---|---|---|---|---|---|\n",
       "| rs67190025  | 1.0790228 | 1.1311419 |  0.10972531 |  0.17777993 |  0.14461201 |  0.32379097 | TRUE |  TRUE |  0.0433978350 | 6.931219e-01 | 7.994920e-01 | FALSE |\n",
       "| rs7580924   | 1.0332542 | 0.8341374 |  0.04719521 | -0.26164312 | -0.02002163 | -0.83315286 | TRUE | FALSE | -0.0920718548 | 1.678202e-01 |           NA |    NA |\n",
       "| rs13028959  | 0.9788775 | 0.9754385 | -0.03079980 | -0.03587719 | -0.22537238 | -0.23874048 | TRUE | FALSE |  0.0006139366 | 8.018869e-01 |           NA |    NA |\n",
       "| rs112467613 | 0.9637650 | 1.0645680 | -0.05324668 |  0.09026808 | -0.28447210 |  0.09338364 | TRUE |  TRUE |  0.1170404404 | 2.861114e-29 | 9.523424e-28 |  TRUE |\n",
       "| rs196378    | 1.3289014 | 1.2821125 |  0.41023406 |  0.35852281 |  0.93581252 |  0.79966352 | TRUE |  TRUE | -0.0951442512 | 1.688483e-01 | 2.676304e-01 | FALSE |\n",
       "| rs169046    | 1.3480345 | 1.6999456 |  0.43085739 |  0.76548860 |  0.99011108 |  1.87115163 | TRUE |  TRUE |  0.3165248123 | 2.197575e-06 | 1.219131e-05 |  TRUE |\n",
       "\n"
      ],
      "text/plain": [
       "  snp         alpha_ref alpha_alt log2a_ref   log2a_alt   zscore_ref \n",
       "1 rs67190025  1.0790228 1.1311419  0.10972531  0.17777993  0.14461201\n",
       "2 rs7580924   1.0332542 0.8341374  0.04719521 -0.26164312 -0.02002163\n",
       "3 rs13028959  0.9788775 0.9754385 -0.03079980 -0.03587719 -0.22537238\n",
       "4 rs112467613 0.9637650 1.0645680 -0.05324668  0.09026808 -0.28447210\n",
       "5 rs196378    1.3289014 1.2821125  0.41023406  0.35852281  0.93581252\n",
       "6 rs169046    1.3480345 1.6999456  0.43085739  0.76548860  0.99011108\n",
       "  zscore_alt  DNA_CPM_QC is_enhancer logFC         pval_allelic fdr_allelic \n",
       "1  0.32379097 TRUE        TRUE        0.0433978350 6.931219e-01 7.994920e-01\n",
       "2 -0.83315286 TRUE       FALSE       -0.0920718548 1.678202e-01           NA\n",
       "3 -0.23874048 TRUE       FALSE        0.0006139366 8.018869e-01           NA\n",
       "4  0.09338364 TRUE        TRUE        0.1170404404 2.861114e-29 9.523424e-28\n",
       "5  0.79966352 TRUE        TRUE       -0.0951442512 1.688483e-01 2.676304e-01\n",
       "6  1.87115163 TRUE        TRUE        0.3165248123 2.197575e-06 1.219131e-05\n",
       "  is_allelic\n",
       "1 FALSE     \n",
       "2    NA     \n",
       "3    NA     \n",
       "4  TRUE     \n",
       "5 FALSE     \n",
       "6  TRUE     "
      ]
     },
     "metadata": {},
     "output_type": "display_data"
    }
   ],
   "source": [
    "head(pool2)"
   ]
  },
  {
   "cell_type": "code",
   "execution_count": 54,
   "id": "560dc6c3-518e-4765-b387-e23bb2c17c12",
   "metadata": {
    "execution": {
     "iopub.execute_input": "2025-03-21T00:47:18.574905Z",
     "iopub.status.busy": "2025-03-21T00:47:18.573851Z",
     "iopub.status.idle": "2025-03-21T00:47:18.604014Z",
     "shell.execute_reply": "2025-03-21T00:47:18.602668Z"
    }
   },
   "outputs": [],
   "source": [
    "# save enhancer and allelic significance results\n",
    "write.table(pool2, \"../results/pool2_final_result.txt\", \n",
    "            sep=\"\\t\", quote = FALSE, row.names = FALSE, col.names = TRUE)"
   ]
  },
  {
   "cell_type": "code",
   "execution_count": null,
   "id": "a08ba5ea-9f3c-4ee4-be8a-48d805e8bf29",
   "metadata": {},
   "outputs": [],
   "source": []
  }
 ],
 "metadata": {
  "kernelspec": {
   "display_name": "R",
   "language": "R",
   "name": "ir"
  },
  "language_info": {
   "codemirror_mode": "r",
   "file_extension": ".r",
   "mimetype": "text/x-r-source",
   "name": "R",
   "pygments_lexer": "r",
   "version": "4.3.3"
  }
 },
 "nbformat": 4,
 "nbformat_minor": 5
}
