{
 "cells": [
  {
   "cell_type": "markdown",
   "id": "9f625296-57ba-49b5-a76e-31abfb2c58ec",
   "metadata": {},
   "source": [
    "# MPRAnalyze Prepare Annotation Data"
   ]
  },
  {
   "cell_type": "code",
   "execution_count": 1,
   "id": "372742e5-ab68-4d36-ac6c-cec07e087e37",
   "metadata": {
    "execution": {
     "iopub.execute_input": "2025-03-20T21:39:53.756816Z",
     "iopub.status.busy": "2025-03-20T21:39:53.752344Z",
     "iopub.status.idle": "2025-03-20T21:39:55.139261Z",
     "shell.execute_reply": "2025-03-20T21:39:55.137153Z"
    }
   },
   "outputs": [
    {
     "name": "stderr",
     "output_type": "stream",
     "text": [
      "── \u001b[1mAttaching core tidyverse packages\u001b[22m ──────────────────────── tidyverse 2.0.0 ──\n",
      "\u001b[32m✔\u001b[39m \u001b[34mdplyr    \u001b[39m 1.1.4     \u001b[32m✔\u001b[39m \u001b[34mreadr    \u001b[39m 2.1.5\n",
      "\u001b[32m✔\u001b[39m \u001b[34mforcats  \u001b[39m 1.0.0     \u001b[32m✔\u001b[39m \u001b[34mstringr  \u001b[39m 1.5.1\n",
      "\u001b[32m✔\u001b[39m \u001b[34mggplot2  \u001b[39m 3.5.1     \u001b[32m✔\u001b[39m \u001b[34mtibble   \u001b[39m 3.2.1\n",
      "\u001b[32m✔\u001b[39m \u001b[34mlubridate\u001b[39m 1.9.3     \u001b[32m✔\u001b[39m \u001b[34mtidyr    \u001b[39m 1.3.1\n",
      "\u001b[32m✔\u001b[39m \u001b[34mpurrr    \u001b[39m 1.0.2     \n",
      "── \u001b[1mConflicts\u001b[22m ────────────────────────────────────────── tidyverse_conflicts() ──\n",
      "\u001b[31m✖\u001b[39m \u001b[34mdplyr\u001b[39m::\u001b[32mfilter()\u001b[39m masks \u001b[34mstats\u001b[39m::filter()\n",
      "\u001b[31m✖\u001b[39m \u001b[34mdplyr\u001b[39m::\u001b[32mlag()\u001b[39m    masks \u001b[34mstats\u001b[39m::lag()\n",
      "\u001b[36mℹ\u001b[39m Use the conflicted package (\u001b[3m\u001b[34m<http://conflicted.r-lib.org/>\u001b[39m\u001b[23m) to force all conflicts to become errors\n"
     ]
    }
   ],
   "source": [
    "library(tidyverse)"
   ]
  },
  {
   "cell_type": "code",
   "execution_count": 2,
   "id": "f3a56e64-ee9c-4153-b1ea-f2813d4dae56",
   "metadata": {
    "execution": {
     "iopub.execute_input": "2025-03-20T21:39:55.179718Z",
     "iopub.status.busy": "2025-03-20T21:39:55.141842Z",
     "iopub.status.idle": "2025-03-20T21:39:55.205932Z",
     "shell.execute_reply": "2025-03-20T21:39:55.203717Z"
    },
    "scrolled": true
   },
   "outputs": [],
   "source": [
    "# annotations for DNA data\n",
    "dna_annot <- data.frame(version = factor(rep(c(\"V1\", \"V2\"), each=150)), batch = factor(rep(c(21:26), each=50)), \n",
    "                        barcode = factor(rep(c(1:50), times=3))) %>% \n",
    "                        unite(\"label\", version, batch, barcode, sep=\":\", remove=FALSE) %>% \n",
    "                        column_to_rownames(\"label\")"
   ]
  },
  {
   "cell_type": "code",
   "execution_count": 3,
   "id": "c91c7b6f-97d2-452e-915c-506ace349297",
   "metadata": {
    "execution": {
     "iopub.execute_input": "2025-03-20T21:39:55.210358Z",
     "iopub.status.busy": "2025-03-20T21:39:55.208785Z",
     "iopub.status.idle": "2025-03-20T21:39:55.236278Z",
     "shell.execute_reply": "2025-03-20T21:39:55.233952Z"
    }
   },
   "outputs": [],
   "source": [
    "# annotations for RNA data\n",
    "rna_annot_pool <- data.frame(version = factor(rep(c(\"V1\", \"V2\"), each=500)), batch = factor(rep(c(1:20), each=50)), \n",
    "                        barcode = factor(rep(c(1:50), times=10))) %>% \n",
    "                        unite(\"label\", version, batch, barcode, sep=\":\", remove=FALSE) %>% \n",
    "                        column_to_rownames(\"label\")"
   ]
  },
  {
   "cell_type": "code",
   "execution_count": 4,
   "id": "383c8cb6-5c54-4036-8266-c5484145ba05",
   "metadata": {
    "execution": {
     "iopub.execute_input": "2025-03-20T21:39:55.241301Z",
     "iopub.status.busy": "2025-03-20T21:39:55.239528Z",
     "iopub.status.idle": "2025-03-20T21:39:55.261440Z",
     "shell.execute_reply": "2025-03-20T21:39:55.259188Z"
    }
   },
   "outputs": [],
   "source": [
    "# save DNA annotations\n",
    "write.table(dna_annot, '../data/dna_annot.txt')"
   ]
  },
  {
   "cell_type": "code",
   "execution_count": 5,
   "id": "d001b5f0-b566-43ad-8b83-d4893e106276",
   "metadata": {
    "execution": {
     "iopub.execute_input": "2025-03-20T21:39:55.266159Z",
     "iopub.status.busy": "2025-03-20T21:39:55.264513Z",
     "iopub.status.idle": "2025-03-20T21:39:55.286478Z",
     "shell.execute_reply": "2025-03-20T21:39:55.284463Z"
    }
   },
   "outputs": [],
   "source": [
    "# save RNA annotations\n",
    "write.table(rna_annot_pool, '../data/rna_annot_pool.txt', sep = \"\\t\")"
   ]
  },
  {
   "cell_type": "code",
   "execution_count": 6,
   "id": "7d9cee8f-f910-450f-9c07-3205cf7a1146",
   "metadata": {
    "execution": {
     "iopub.execute_input": "2025-03-20T21:39:55.290835Z",
     "iopub.status.busy": "2025-03-20T21:39:55.289336Z",
     "iopub.status.idle": "2025-03-20T21:39:55.303250Z",
     "shell.execute_reply": "2025-03-20T21:39:55.301927Z"
    }
   },
   "outputs": [],
   "source": [
    "# get size of DNA and RNA counts\n",
    "size_dna <- 600\n",
    "size_rna <- 2000"
   ]
  },
  {
   "cell_type": "code",
   "execution_count": 7,
   "id": "a0732a59-b0cb-42a0-a042-9b09bae0426f",
   "metadata": {
    "execution": {
     "iopub.execute_input": "2025-03-20T21:39:55.306378Z",
     "iopub.status.busy": "2025-03-20T21:39:55.305296Z",
     "iopub.status.idle": "2025-03-20T21:39:55.319108Z",
     "shell.execute_reply": "2025-03-20T21:39:55.317252Z"
    }
   },
   "outputs": [],
   "source": [
    "# make DNA annotations for allelic comparison\n",
    "dna_annot_allelic <- data.frame(version = factor(rep(c(\"V1\", \"V2\"), each=size_dna/2)), \n",
    "                                batch = factor(rep(c(11:13), each=100)), \n",
    "                                barcode = factor(rep(c(1:50), each=2, times=(size_dna/100))), \n",
    "                                alleletype = factor(rep(c('ref', 'alt'), times=(size_dna/2)))) %>% \n",
    "                        unite(\"label\", version, batch, barcode, alleletype, sep=\":\", remove=FALSE) %>% \n",
    "                        column_to_rownames(\"label\")"
   ]
  },
  {
   "cell_type": "code",
   "execution_count": 8,
   "id": "c5a41d49-a918-4033-b53b-d99edd6b1264",
   "metadata": {
    "execution": {
     "iopub.execute_input": "2025-03-20T21:39:55.322254Z",
     "iopub.status.busy": "2025-03-20T21:39:55.321166Z",
     "iopub.status.idle": "2025-03-20T21:39:55.337190Z",
     "shell.execute_reply": "2025-03-20T21:39:55.335803Z"
    }
   },
   "outputs": [],
   "source": [
    "# find interaction between barcodes and allele types\n",
    "dna_annot_allelic$barcode_allelic <- interaction(dna_annot_allelic$barcode, dna_annot_allelic$alleletype)\n",
    "dna_annot_allelic$barcode_allelic_version <- interaction(dna_annot_allelic$version, dna_annot_allelic$barcode_allelic)"
   ]
  },
  {
   "cell_type": "code",
   "execution_count": 9,
   "id": "f8d843a4-7b86-4998-aaa3-597e808fc658",
   "metadata": {
    "execution": {
     "iopub.execute_input": "2025-03-20T21:39:55.340320Z",
     "iopub.status.busy": "2025-03-20T21:39:55.339228Z",
     "iopub.status.idle": "2025-03-20T21:39:55.352897Z",
     "shell.execute_reply": "2025-03-20T21:39:55.351556Z"
    }
   },
   "outputs": [],
   "source": [
    "# make RNA annotations for allelic comparison\n",
    "rna_annot_allelic_pool <- data.frame(version = factor(rep(c(\"V1\", \"V2\"), each=size_rna/2)), \n",
    "                                batch = factor(rep(c(1:10), each=100)), \n",
    "                                barcode = factor(rep(c(1:50), each=2, times=(size_rna/100))), \n",
    "                                alleletype = factor(rep(c('ref', 'alt'), times=(size_rna/2)))) %>% \n",
    "                        unite(\"label\", version, batch, barcode, alleletype, sep=\":\", remove=FALSE) %>% \n",
    "                        column_to_rownames(\"label\")"
   ]
  },
  {
   "cell_type": "code",
   "execution_count": 10,
   "id": "1def874a-38cb-4764-a9a2-07f51905bb3a",
   "metadata": {
    "execution": {
     "iopub.execute_input": "2025-03-20T21:39:55.355986Z",
     "iopub.status.busy": "2025-03-20T21:39:55.354899Z",
     "iopub.status.idle": "2025-03-20T21:39:55.366209Z",
     "shell.execute_reply": "2025-03-20T21:39:55.364927Z"
    }
   },
   "outputs": [],
   "source": [
    "# find interaction between barcodes, allele types, and versions\n",
    "rna_annot_allelic_pool$barcode_allelic <- interaction(rna_annot_allelic_pool$barcode, rna_annot_allelic_pool$alleletype)\n",
    "rna_annot_allelic_pool$barcode_allelic_version <- interaction(rna_annot_allelic_pool$version, rna_annot_allelic_pool$barcode_allelic)"
   ]
  },
  {
   "cell_type": "code",
   "execution_count": 11,
   "id": "77589224-3dda-48a1-a039-062d08f4a24e",
   "metadata": {
    "execution": {
     "iopub.execute_input": "2025-03-20T21:39:55.369250Z",
     "iopub.status.busy": "2025-03-20T21:39:55.368221Z",
     "iopub.status.idle": "2025-03-20T21:39:55.384909Z",
     "shell.execute_reply": "2025-03-20T21:39:55.383470Z"
    }
   },
   "outputs": [],
   "source": [
    "# save DNA allelic annotations\n",
    "write.table(dna_annot_allelic, '../data/merged_dna_annot_allelic.txt')"
   ]
  },
  {
   "cell_type": "code",
   "execution_count": 12,
   "id": "2d516c53-76f2-4387-abcf-90f08a1662d8",
   "metadata": {
    "execution": {
     "iopub.execute_input": "2025-03-20T21:39:55.388119Z",
     "iopub.status.busy": "2025-03-20T21:39:55.386991Z",
     "iopub.status.idle": "2025-03-20T21:39:55.411322Z",
     "shell.execute_reply": "2025-03-20T21:39:55.405570Z"
    }
   },
   "outputs": [],
   "source": [
    "# save RNA allelic annotations\n",
    "write.table(rna_annot_allelic_pool, '../data/merged_rna_annot_pool_allelic.txt')"
   ]
  },
  {
   "cell_type": "code",
   "execution_count": null,
   "id": "12f300f9-d89a-4faa-8ac9-93040c9625f3",
   "metadata": {},
   "outputs": [],
   "source": []
  }
 ],
 "metadata": {
  "kernelspec": {
   "display_name": "R",
   "language": "R",
   "name": "ir"
  },
  "language_info": {
   "codemirror_mode": "r",
   "file_extension": ".r",
   "mimetype": "text/x-r-source",
   "name": "R",
   "pygments_lexer": "r",
   "version": "4.3.3"
  }
 },
 "nbformat": 4,
 "nbformat_minor": 5
}
